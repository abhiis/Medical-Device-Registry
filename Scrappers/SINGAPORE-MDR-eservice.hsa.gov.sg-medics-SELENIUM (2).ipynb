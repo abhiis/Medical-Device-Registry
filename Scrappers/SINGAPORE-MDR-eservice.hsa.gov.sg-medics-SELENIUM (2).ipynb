{
 "cells": [
  {
   "cell_type": "markdown",
   "metadata": {},
   "source": [
    "### SG Medical Device Data"
   ]
  },
  {
   "cell_type": "markdown",
   "metadata": {},
   "source": [
    "https://eservice.hsa.gov.sg/medics/md/mdEnquiry.do"
   ]
  },
  {
   "cell_type": "markdown",
   "metadata": {},
   "source": [
    "https://eservice.hsa.gov.sg/medics/md/mdEnquiry.do?action=getAllDevices&_ga=2.192127402.1803903920.1554265549-551332391.1551944793"
   ]
  },
  {
   "cell_type": "markdown",
   "metadata": {},
   "source": [
    "#### This webscraper uses Selenium webdriver"
   ]
  },
  {
   "cell_type": "code",
   "execution_count": 4,
   "metadata": {},
   "outputs": [],
   "source": [
    "from bs4 import BeautifulSoup\n",
    "import requests\n",
    "import pandas as pd\n",
    "import time\n",
    "from selenium.webdriver.support.select import Select\n",
    "from selenium import webdriver\n",
    "from selenium.webdriver.chrome.service import Service\n",
    "from selenium.webdriver.common.by import By\n",
    "from selenium.webdriver.chrome.options import Options\n",
    "from random import randint\n",
    "import urllib.parse\n",
    "import warnings\n",
    "warnings.filterwarnings('ignore')\n",
    "headers = {\"Accept-Language\" : \"en-US,en;q=0.5\"}\n",
    "import ssl\n",
    "ssl._create_default_https_context = ssl._create_unverified_context\n",
    "from selenium.common.exceptions import NoSuchElementException, ElementNotVisibleException\n",
    "from selenium.webdriver.support.ui import WebDriverWait\n",
    "from selenium.webdriver.support import expected_conditions as EC\n",
    "import time"
   ]
  },
  {
   "cell_type": "code",
   "execution_count": 6,
   "metadata": {},
   "outputs": [],
   "source": [
    "import requests\n",
    "from bs4 import BeautifulSoup\n",
    "import pandas as pd"
   ]
  },
  {
   "cell_type": "code",
   "execution_count": 7,
   "metadata": {},
   "outputs": [],
   "source": [
    "url = 'https://eservice.hsa.gov.sg/medics/md/mdEnquiry.do'"
   ]
  },
  {
   "cell_type": "code",
   "execution_count": 8,
   "metadata": {},
   "outputs": [],
   "source": [
    "page = requests.get(url)"
   ]
  },
  {
   "cell_type": "code",
   "execution_count": 9,
   "metadata": {},
   "outputs": [
    {
     "data": {
      "text/plain": [
       "<Response [200]>"
      ]
     },
     "execution_count": 9,
     "metadata": {},
     "output_type": "execute_result"
    }
   ],
   "source": [
    "page"
   ]
  },
  {
   "cell_type": "code",
   "execution_count": 14,
   "metadata": {},
   "outputs": [],
   "source": [
    "website1 = 'https://eservice.hsa.gov.sg/medics/md/mdEnquiry.do?action=getAllDevices&_ga=2.192127402.1803903920.1554265549-551332391.1551944793'\n",
    "# chrome_options = Options()\n",
    "# chrome_options.add_argument(\"--lang=en\");\n",
    "# chrome_options.add_experimental_option('excludeSwitches', ['enable-logging'])\n",
    "# prefs = {\n",
    "#         \"translate_whitelists\": {'sg':'en'},\n",
    "#        \"translate\":{\"enabled\":\"True\"}}\n",
    "# chrome_options.add_experimental_option(\"prefs\", prefs)\n",
    "driver = webdriver.Chrome('C:\\webdrivers\\chromedriver.exe')\n",
    "time.sleep(10)\n",
    "driver.get(website1)\n",
    "time.sleep(10)"
   ]
  },
  {
   "cell_type": "code",
   "execution_count": 13,
   "metadata": {},
   "outputs": [],
   "source": [
    "#driver.quit()"
   ]
  },
  {
   "cell_type": "markdown",
   "metadata": {},
   "source": [
    "#### NEXT"
   ]
  },
  {
   "cell_type": "code",
   "execution_count": 16,
   "metadata": {},
   "outputs": [],
   "source": [
    "driver.find_element(By.LINK_TEXT , '[next]').click()"
   ]
  },
  {
   "cell_type": "markdown",
   "metadata": {},
   "source": [
    "#### Product URL"
   ]
  },
  {
   "cell_type": "code",
   "execution_count": null,
   "metadata": {},
   "outputs": [],
   "source": [
    "Product_url_raw = driver.find_element(By.XPATH , \"//table[@class = 'fmTbl']/tbody/tr[2]/td/a\").get_attribute('href')\n"
   ]
  },
  {
   "cell_type": "code",
   "execution_count": 63,
   "metadata": {},
   "outputs": [],
   "source": [
    "base_url = \"https://eservice.hsa.gov.sg/medics/md/mdEnquiry.do?action=getDeviceInfo&devId=\""
   ]
  },
  {
   "cell_type": "code",
   "execution_count": 52,
   "metadata": {},
   "outputs": [
    {
     "data": {
      "text/plain": [
       "'javascript:openWindow(\"getDeviceInfo\",\"C5024512375C-23\")'"
      ]
     },
     "execution_count": 52,
     "metadata": {},
     "output_type": "execute_result"
    }
   ],
   "source": [
    "Product_url_raw"
   ]
  },
  {
   "cell_type": "code",
   "execution_count": 61,
   "metadata": {},
   "outputs": [
    {
     "data": {
      "text/plain": [
       "['javascript:openWindow(', 'getDeviceInfo', ',', 'C5024512375C-23', ')']"
      ]
     },
     "execution_count": 61,
     "metadata": {},
     "output_type": "execute_result"
    }
   ],
   "source": [
    "Product_url_raw.split('\"')"
   ]
  },
  {
   "cell_type": "code",
   "execution_count": 59,
   "metadata": {},
   "outputs": [
    {
     "data": {
      "text/plain": [
       "'C5024512375C-23'"
      ]
     },
     "execution_count": 59,
     "metadata": {},
     "output_type": "execute_result"
    }
   ],
   "source": [
    "Product_url_raw.split('\"')[-2]"
   ]
  },
  {
   "cell_type": "code",
   "execution_count": 62,
   "metadata": {},
   "outputs": [],
   "source": [
    "Product_url_raw = Product_url_raw.split('\"')[-2]"
   ]
  },
  {
   "cell_type": "code",
   "execution_count": 64,
   "metadata": {},
   "outputs": [],
   "source": [
    "Product_url = base_url + Product_url_raw"
   ]
  },
  {
   "cell_type": "code",
   "execution_count": 65,
   "metadata": {},
   "outputs": [
    {
     "data": {
      "text/plain": [
       "'https://eservice.hsa.gov.sg/medics/md/mdEnquiry.do?action=getDeviceInfo&devId=C5024512375C-23'"
      ]
     },
     "execution_count": 65,
     "metadata": {},
     "output_type": "execute_result"
    }
   ],
   "source": [
    "Product_url"
   ]
  },
  {
   "cell_type": "code",
   "execution_count": 66,
   "metadata": {},
   "outputs": [],
   "source": [
    "driver.get(Product_url)"
   ]
  },
  {
   "cell_type": "markdown",
   "metadata": {},
   "source": [
    "#### Headings"
   ]
  },
  {
   "cell_type": "markdown",
   "metadata": {},
   "source": [
    "- Device Name\n",
    "- Description\n",
    "- Medical Speciality Area\n",
    "- Medical Device Class\n",
    "- Device Registration Number\n",
    "- Registration Date\n",
    "- Device System Info\n",
    "- Product Owner\n",
    "- Registrant\n",
    "- Model Name\n",
    "- Identifier\n",
    "- Place of Manufacture"
   ]
  },
  {
   "cell_type": "code",
   "execution_count": 97,
   "metadata": {},
   "outputs": [],
   "source": [
    "#driver.get('https://eservice.hsa.gov.sg/medics/md/mdEnquiry.do?action=getDeviceInfo&devId=C5024512375C-23')"
   ]
  },
  {
   "cell_type": "code",
   "execution_count": 100,
   "metadata": {},
   "outputs": [],
   "source": [
    "Description_table = driver.find_elements(By.XPATH , \"//table[@class='fmTbl']/tbody/tr\")"
   ]
  },
  {
   "cell_type": "code",
   "execution_count": 101,
   "metadata": {},
   "outputs": [
    {
     "name": "stdout",
     "output_type": "stream",
     "text": [
      "Device Name: 1ST SURGICONCEPT SPRING THREAD® ELASTIC SUTURE WITH COGS [1st SurgiConcept]\n",
      "Description: Mild to moderate ptosis of the face according to the reference and chosen implantation technique by the practitioner.\n",
      "Medical Specialty Area: General & Plastic Surgery\n",
      "Medical Device Class: Class C medical device\n",
      "Device Registration No: DE0507681\n",
      "Registration Date: 12/01/2023\n",
      "Change Notification Approval Date: Not Applicable\n",
      "Device System Info: [Sterile Medical Device], • Elastic suture with cogs, nonabsorbable, sterile • Medical device made of a multifilament PET core, coated with implantable silicone designing cogs • Sterilised by Ethylene Oxide\n",
      " \n",
      "Product Owner\n",
      "1. 1st SurgiConcept  [1st SurgiConcept] 96, rue du Pont Rompu, BP.90440, 59203 Tourcoing Cedex, Tourcoing, FRANCE\n",
      "Registrant\n",
      "1. PARVUS (S) PTE. LTD.  231 MOUNTBATTEN ROAD, MOUNTBATTEN CENTRE, #01-07, SINGAPORE 397999\n",
      "Models\n",
      "Close\n",
      " \n",
      "Note: All device listings on the Singapore Medical Device Register (SMDR) are active. Class A medical devices are not registered in the SMDR. To retrieve Class A medical devices, please visit Class A Medical Device Database.\n"
     ]
    }
   ],
   "source": [
    "for i in Description_table:\n",
    "    print(i.text)"
   ]
  },
  {
   "cell_type": "markdown",
   "metadata": {},
   "source": [
    "#### Device Name"
   ]
  },
  {
   "cell_type": "code",
   "execution_count": 111,
   "metadata": {},
   "outputs": [
    {
     "name": "stdout",
     "output_type": "stream",
     "text": [
      "Device Name: 1ST SURGICONCEPT SPRING THREAD® ELASTIC SUTURE WITH COGS [1st SurgiConcept]\n",
      "1ST SURGICONCEPT SPRING THREAD® ELASTIC SUTURE WITH COGS [1st SurgiConcept]\n"
     ]
    }
   ],
   "source": [
    "for i in Description_table:\n",
    "    if i.text.startswith('Device Name:'):\n",
    "        print(i.text)\n",
    "        Devicename = i.text.replace('Device Name: ' , '')\n",
    "        print(Devicename)"
   ]
  },
  {
   "cell_type": "markdown",
   "metadata": {},
   "source": [
    "#### Description"
   ]
  },
  {
   "cell_type": "code",
   "execution_count": 112,
   "metadata": {},
   "outputs": [
    {
     "name": "stdout",
     "output_type": "stream",
     "text": [
      "Description: Mild to moderate ptosis of the face according to the reference and chosen implantation technique by the practitioner.\n",
      "Mild to moderate ptosis of the face according to the reference and chosen implantation technique by the practitioner.\n"
     ]
    }
   ],
   "source": [
    "for i in Description_table:\n",
    "    if i.text.startswith('Description:'):\n",
    "        print(i.text)\n",
    "        Description = i.text.replace('Description: ' , '')\n",
    "        print(Description)"
   ]
  },
  {
   "cell_type": "markdown",
   "metadata": {},
   "source": [
    "#### Medical Speciality Area"
   ]
  },
  {
   "cell_type": "code",
   "execution_count": 114,
   "metadata": {},
   "outputs": [
    {
     "name": "stdout",
     "output_type": "stream",
     "text": [
      "Medical Specialty Area: General & Plastic Surgery\n",
      "General & Plastic Surgery\n"
     ]
    }
   ],
   "source": [
    "for i in Description_table:\n",
    "    if i.text.startswith('Medical Specialty Area:'):\n",
    "        print(i.text)\n",
    "        MSA = i.text.replace('Medical Specialty Area: ' , '')\n",
    "        print(MSA)"
   ]
  },
  {
   "cell_type": "markdown",
   "metadata": {},
   "source": [
    "#### Medical Device Class"
   ]
  },
  {
   "cell_type": "code",
   "execution_count": 115,
   "metadata": {},
   "outputs": [
    {
     "name": "stdout",
     "output_type": "stream",
     "text": [
      "Medical Device Class: Class C medical device\n",
      "Class C medical device\n"
     ]
    }
   ],
   "source": [
    "for i in Description_table:\n",
    "    if i.text.startswith('Medical Device Class:'):\n",
    "        print(i.text)\n",
    "        MDC = i.text.replace('Medical Device Class: ' , '')\n",
    "        print(MDC)"
   ]
  },
  {
   "cell_type": "markdown",
   "metadata": {},
   "source": [
    "#### Device Registration Number"
   ]
  },
  {
   "cell_type": "code",
   "execution_count": 116,
   "metadata": {},
   "outputs": [
    {
     "name": "stdout",
     "output_type": "stream",
     "text": [
      "Device Registration No: DE0507681\n",
      "DE0507681\n"
     ]
    }
   ],
   "source": [
    "for i in Description_table:\n",
    "    if i.text.startswith('Device Registration No:'):\n",
    "        print(i.text)\n",
    "        DRN = i.text.replace('Device Registration No: ' , '')\n",
    "        print(DRN)"
   ]
  },
  {
   "cell_type": "markdown",
   "metadata": {},
   "source": [
    "#### Registration Date"
   ]
  },
  {
   "cell_type": "code",
   "execution_count": 117,
   "metadata": {},
   "outputs": [
    {
     "name": "stdout",
     "output_type": "stream",
     "text": [
      "Registration Date: 12/01/2023\n",
      "12/01/2023\n"
     ]
    }
   ],
   "source": [
    "for i in Description_table:\n",
    "    if i.text.startswith('Registration Date:'):\n",
    "        print(i.text)\n",
    "        RDT = i.text.replace('Registration Date: ' , '')\n",
    "        print(RDT)"
   ]
  },
  {
   "cell_type": "markdown",
   "metadata": {},
   "source": [
    "#### Device System Info"
   ]
  },
  {
   "cell_type": "code",
   "execution_count": 118,
   "metadata": {},
   "outputs": [
    {
     "name": "stdout",
     "output_type": "stream",
     "text": [
      "Device System Info: [Sterile Medical Device], • Elastic suture with cogs, nonabsorbable, sterile • Medical device made of a multifilament PET core, coated with implantable silicone designing cogs • Sterilised by Ethylene Oxide\n",
      "[Sterile Medical Device], • Elastic suture with cogs, nonabsorbable, sterile • Medical device made of a multifilament PET core, coated with implantable silicone designing cogs • Sterilised by Ethylene Oxide\n"
     ]
    }
   ],
   "source": [
    "for i in Description_table:\n",
    "    if i.text.startswith('Device System Info:'):\n",
    "        print(i.text)\n",
    "        DSI = i.text.replace('Device System Info: ' , '')\n",
    "        print(DSI)"
   ]
  },
  {
   "cell_type": "markdown",
   "metadata": {},
   "source": [
    "#### Product Owner"
   ]
  },
  {
   "cell_type": "code",
   "execution_count": 81,
   "metadata": {},
   "outputs": [
    {
     "data": {
      "text/plain": [
       "'1. 1st SurgiConcept  [1st SurgiConcept] 96, rue du Pont Rompu, BP.90440, 59203 Tourcoing Cedex, Tourcoing, FRANCE'"
      ]
     },
     "execution_count": 81,
     "metadata": {},
     "output_type": "execute_result"
    }
   ],
   "source": [
    "driver.find_element(By.XPATH , \"//table[4][@class='fmTbl']/tbody/tr/td\").text"
   ]
  },
  {
   "cell_type": "markdown",
   "metadata": {},
   "source": [
    "#### Registrant"
   ]
  },
  {
   "cell_type": "code",
   "execution_count": 83,
   "metadata": {},
   "outputs": [
    {
     "data": {
      "text/plain": [
       "'1. PARVUS (S) PTE. LTD.  231 MOUNTBATTEN ROAD, MOUNTBATTEN CENTRE, #01-07, SINGAPORE 397999'"
      ]
     },
     "execution_count": 83,
     "metadata": {},
     "output_type": "execute_result"
    }
   ],
   "source": [
    "driver.find_element(By.XPATH , \"//table[6][@class='fmTbl']/tbody/tr/td\").text"
   ]
  },
  {
   "cell_type": "markdown",
   "metadata": {},
   "source": [
    "#### Model Name from Table"
   ]
  },
  {
   "cell_type": "markdown",
   "metadata": {},
   "source": [
    "depends on the number of Rows of the table"
   ]
  },
  {
   "cell_type": "code",
   "execution_count": 91,
   "metadata": {},
   "outputs": [
    {
     "data": {
      "text/plain": [
       "'Spring Thread® Face Thread FL 6-300 FRANCE'"
      ]
     },
     "execution_count": 91,
     "metadata": {},
     "output_type": "execute_result"
    }
   ],
   "source": [
    "driver.find_element(By.XPATH , \"//table[@border='1']/tbody/tr[2]\").text[2:]"
   ]
  },
  {
   "cell_type": "code",
   "execution_count": 92,
   "metadata": {},
   "outputs": [
    {
     "data": {
      "text/plain": [
       "'Spring Thread® Face Thread / Needle FA 6-300 FRANCE'"
      ]
     },
     "execution_count": 92,
     "metadata": {},
     "output_type": "execute_result"
    }
   ],
   "source": [
    "driver.find_element(By.XPATH , \"//table[@border='1']/tbody/tr[3]\").text[2:]"
   ]
  },
  {
   "cell_type": "markdown",
   "metadata": {},
   "source": [
    "### Qty_list"
   ]
  },
  {
   "attachments": {
    "image.png": {
     "image/png": "[encoded data removed]"
    }
   },
   "cell_type": "markdown",
   "metadata": {},
   "source": [
    "![image.png](attachment:image.png)"
   ]
  },
  {
   "cell_type": "code",
   "execution_count": 119,
   "metadata": {},
   "outputs": [],
   "source": [
    "Qty_list = driver.find_elements(By.XPATH , \"//table[@border='1']/tbody/tr\")"
   ]
  },
  {
   "cell_type": "code",
   "execution_count": 120,
   "metadata": {},
   "outputs": [
    {
     "data": {
      "text/plain": [
       "3"
      ]
     },
     "execution_count": 120,
     "metadata": {},
     "output_type": "execute_result"
    }
   ],
   "source": [
    "len(Qty_list)"
   ]
  },
  {
   "cell_type": "markdown",
   "metadata": {},
   "source": [
    "### Click on BACK "
   ]
  },
  {
   "cell_type": "code",
   "execution_count": 93,
   "metadata": {},
   "outputs": [],
   "source": [
    "driver.back()"
   ]
  },
  {
   "cell_type": "code",
   "execution_count": 94,
   "metadata": {},
   "outputs": [],
   "source": [
    "#takes 5 secs approx"
   ]
  },
  {
   "cell_type": "markdown",
   "metadata": {},
   "source": [
    "### MAIN Web Scraping"
   ]
  },
  {
   "cell_type": "code",
   "execution_count": 123,
   "metadata": {},
   "outputs": [],
   "source": [
    "base_url = \"https://eservice.hsa.gov.sg/medics/md/mdEnquiry.do?action=getDeviceInfo&devId=\""
   ]
  },
  {
   "cell_type": "code",
   "execution_count": 233,
   "metadata": {},
   "outputs": [],
   "source": [
    "driver.quit()"
   ]
  },
  {
   "cell_type": "code",
   "execution_count": 234,
   "metadata": {},
   "outputs": [],
   "source": [
    "website1 = 'https://eservice.hsa.gov.sg/medics/md/mdEnquiry.do?action=getAllDevices&_ga=2.192127402.1803903920.1554265549-551332391.1551944793'\n",
    "driver = webdriver.Chrome('C:\\webdrivers\\chromedriver.exe')\n",
    "time.sleep(10)\n",
    "driver.get(website1)\n",
    "time.sleep(10)"
   ]
  },
  {
   "cell_type": "markdown",
   "metadata": {},
   "source": [
    "#### Note : \n",
    "- \"counter\" stores the Page number from where you would like to start\n",
    "- So, edit the \"counter\" value , as needed\n",
    "- while counter < \"the number\" :::: the number should be the page number where you want to end"
   ]
  },
  {
   "cell_type": "code",
   "execution_count": 251,
   "metadata": {},
   "outputs": [],
   "source": [
    "Device_Name = []\n",
    "Description_list = []\n",
    "Medical_Specialty_Area = []\n",
    "Medical_Device_Class = []\n",
    "Device_Registration = []\n",
    "Registration_Date = []\n",
    "Device_System = []\n",
    "Product_Owner = []\n",
    "Registrant_list = []\n",
    "Model_list = []\n",
    "\n",
    "counter = 1951\n",
    "while counter < 1952:\n",
    "    Product_url_raw = driver.find_element(By.XPATH , \"//table[@class = 'fmTbl']/tbody/tr[2]/td/a\").get_attribute('href')\n",
    "    Product_url_raw = Product_url_raw.split('\"')[-2]\n",
    "    Product_url = base_url + Product_url_raw\n",
    "    time.sleep(4)\n",
    "    driver.get(Product_url)\n",
    "    \n",
    "    Qty_list = driver.find_elements(By.XPATH , \"//table[@border='1']/tbody/tr\")\n",
    "    length_Qty_list = len(Qty_list)\n",
    "    Description_table = driver.find_elements(By.XPATH , \"//table[@class='fmTbl']/tbody/tr\")\n",
    "    \n",
    "    for j in range(length_Qty_list-1):\n",
    "        \n",
    "        for i in Description_table:\n",
    "            if i.text.startswith('Device Name:'):\n",
    "                flagDevicename = 1\n",
    "                Devicename = i.text.replace('Device Name: ' , '')\n",
    "        if flagDevicename == 1:\n",
    "            Device_Name.append(Devicename)\n",
    "        else:\n",
    "            Device_Name.append('n/a')\n",
    "\n",
    "        for i in Description_table:\n",
    "            if i.text.startswith('Description:'):\n",
    "                flagDescription = 1\n",
    "                Description = i.text.replace('Description: ' , '')\n",
    "        if flagDescription == 1:\n",
    "            Description_list.append(Description)\n",
    "        else:\n",
    "            Description_list.append('n/a')\n",
    "\n",
    "        for i in Description_table:\n",
    "            if i.text.startswith('Medical Specialty Area:'):\n",
    "                flagMSA = 1\n",
    "                MSA = i.text.replace('Medical Specialty Area: ' , '')\n",
    "        if flagMSA == 1:\n",
    "            Medical_Specialty_Area.append(MSA)\n",
    "        else:\n",
    "            Medical_Specialty_Area.append('n/a')\n",
    "\n",
    "        for i in Description_table:\n",
    "            if i.text.startswith('Medical Device Class:'):\n",
    "                flagMDC = 1\n",
    "                MDC = i.text.replace('Medical Device Class: ' , '')\n",
    "        if flagMDC ==1:\n",
    "            Medical_Device_Class.append(MDC)\n",
    "        else:\n",
    "            Medical_Device_Class.append('n/a')\n",
    "\n",
    "        for i in Description_table:\n",
    "            if i.text.startswith('Device Registration No:'):\n",
    "                flagDRN = 1\n",
    "                DRN = i.text.replace('Device Registration No: ' , '')\n",
    "        if flagDRN == 1:\n",
    "            Device_Registration.append(DRN)\n",
    "        else:\n",
    "            Device_Registration.append('n/a')\n",
    "\n",
    "        for i in Description_table:\n",
    "            if i.text.startswith('Registration Date:'):\n",
    "                flagRDT = 1\n",
    "                RDT = i.text.replace('Registration Date: ' , '')\n",
    "        if flagRDT == 1:\n",
    "            Registration_Date.append(RDT)\n",
    "        else:\n",
    "            Registration_Date.append('n/a')\n",
    "\n",
    "        for i in Description_table:\n",
    "            if i.text.startswith('Device System Info:'):\n",
    "                flagDSI = 1\n",
    "                DSI = i.text.replace('Device System Info: ' , '')\n",
    "        if flagDSI == 1:\n",
    "            Device_System.append(DSI)\n",
    "        else:\n",
    "            Device_System.append('n/a')\n",
    "\n",
    "        ProductOwner = driver.find_element(By.XPATH , \"//table[4][@class='fmTbl']/tbody/tr/td\").text\n",
    "        try:\n",
    "            Product_Owner.append(ProductOwner)\n",
    "        except:\n",
    "            Product_Owner.append('n/a')\n",
    "\n",
    "        Registrant = driver.find_element(By.XPATH , \"//table[6][@class='fmTbl']/tbody/tr/td\").text\n",
    "        try:\n",
    "            Registrant_list.append(Registrant)\n",
    "        except:\n",
    "            Registrant_list.append('n/a')\n",
    "            \n",
    "    for i in range(2, len(Qty_list)+1):\n",
    "        ModelName = driver.find_element(By.XPATH , \"//table[@border='1']/tbody/tr[%i]\"%i).text[2:]\n",
    "        Model_list.append(ModelName)\n",
    "\n",
    "    \n",
    "    time.sleep(4)\n",
    "    driver.get(website1)\n",
    "    time.sleep(8)\n",
    "    driver.find_element(By.CLASS_NAME, \"txtNumInput\").clear()\n",
    "    driver.find_element(By.CLASS_NAME, \"txtNumInput\").send_keys(counter)\n",
    "    driver.find_element(By.NAME, \"Go\").click()\n",
    "    counter += 1"
   ]
  },
  {
   "cell_type": "code",
   "execution_count": 253,
   "metadata": {},
   "outputs": [
    {
     "data": {
      "text/plain": [
       "(176, 10)"
      ]
     },
     "execution_count": 253,
     "metadata": {},
     "output_type": "execute_result"
    }
   ],
   "source": [
    "SG_MDR.shape"
   ]
  },
  {
   "cell_type": "code",
   "execution_count": 252,
   "metadata": {},
   "outputs": [],
   "source": [
    "SG_MDR = pd.DataFrame({'Device_Name' : Device_Name, 'Description_list' : Description_list  ,\n",
    "                       'Medical_Specialty_Area' : Medical_Specialty_Area, 'Medical_Device_Class' : Medical_Device_Class  , \n",
    "                       'Device_Registration' : Device_Registration , 'Registration_Date' : Registration_Date , \n",
    "                       'Device_System' : Device_System,\n",
    "    'Product_Owner' :Product_Owner, 'Registrant_list' : Registrant_list ,  'Model_list' : Model_list}) "
   ]
  },
  {
   "cell_type": "code",
   "execution_count": 231,
   "metadata": {},
   "outputs": [
    {
     "data": {
      "text/html": [
       "<div>\n",
       "<style scoped>\n",
       "    .dataframe tbody tr th:only-of-type {\n",
       "        vertical-align: middle;\n",
       "    }\n",
       "\n",
       "    .dataframe tbody tr th {\n",
       "        vertical-align: top;\n",
       "    }\n",
       "\n",
       "    .dataframe thead th {\n",
       "        text-align: right;\n",
       "    }\n",
       "</style>\n",
       "<table border=\"1\" class=\"dataframe\">\n",
       "  <thead>\n",
       "    <tr style=\"text-align: right;\">\n",
       "      <th></th>\n",
       "      <th>Device_Name</th>\n",
       "      <th>Description_list</th>\n",
       "      <th>Medical_Specialty_Area</th>\n",
       "      <th>Medical_Device_Class</th>\n",
       "      <th>Device_Registration</th>\n",
       "      <th>Registration_Date</th>\n",
       "      <th>Device_System</th>\n",
       "      <th>Product_Owner</th>\n",
       "      <th>Registrant_list</th>\n",
       "      <th>Model_list</th>\n",
       "    </tr>\n",
       "  </thead>\n",
       "  <tbody>\n",
       "    <tr>\n",
       "      <th>0</th>\n",
       "      <td>Alcon Accurus® 800CS Surgical System and Acces...</td>\n",
       "      <td>Combined procedure machine capable of both vit...</td>\n",
       "      <td>Ophthalmology</td>\n",
       "      <td>Class C medical device</td>\n",
       "      <td>DE0001905</td>\n",
       "      <td>06/10/2005</td>\n",
       "      <td>[System or Procedure Pack], Compressor driven ...</td>\n",
       "      <td>1. Alcon Laboratories, Inc.  [Alcon] 6201 Sout...</td>\n",
       "      <td>1. ALCON PTE LTD  1 FUSIONOPOLIS WALK, SOLARIS...</td>\n",
       "      <td>Alcon Accurus 800CS 8065741008 -</td>\n",
       "    </tr>\n",
       "    <tr>\n",
       "      <th>1</th>\n",
       "      <td>Alcon Accurus® 800CS Surgical System and Acces...</td>\n",
       "      <td>Combined procedure machine capable of both vit...</td>\n",
       "      <td>Ophthalmology</td>\n",
       "      <td>Class C medical device</td>\n",
       "      <td>DE0001905</td>\n",
       "      <td>06/10/2005</td>\n",
       "      <td>[System or Procedure Pack], Compressor driven ...</td>\n",
       "      <td>1. Alcon Laboratories, Inc.  [Alcon] 6201 Sout...</td>\n",
       "      <td>1. ALCON PTE LTD  1 FUSIONOPOLIS WALK, SOLARIS...</td>\n",
       "      <td>ACCURUS® High Brightness Xenon Illuminator 806...</td>\n",
       "    </tr>\n",
       "    <tr>\n",
       "      <th>2</th>\n",
       "      <td>Alcon Accurus® 800CS Surgical System and Acces...</td>\n",
       "      <td>Combined procedure machine capable of both vit...</td>\n",
       "      <td>Ophthalmology</td>\n",
       "      <td>Class C medical device</td>\n",
       "      <td>DE0001905</td>\n",
       "      <td>06/10/2005</td>\n",
       "      <td>[System or Procedure Pack], Compressor driven ...</td>\n",
       "      <td>1. Alcon Laboratories, Inc.  [Alcon] 6201 Sout...</td>\n",
       "      <td>1. ALCON PTE LTD  1 FUSIONOPOLIS WALK, SOLARIS...</td>\n",
       "      <td>ACCURUS® Instrumentation Cart with Motorized I...</td>\n",
       "    </tr>\n",
       "    <tr>\n",
       "      <th>3</th>\n",
       "      <td>Alcon Accurus® 800CS Surgical System and Acces...</td>\n",
       "      <td>Combined procedure machine capable of both vit...</td>\n",
       "      <td>Ophthalmology</td>\n",
       "      <td>Class C medical device</td>\n",
       "      <td>DE0001905</td>\n",
       "      <td>06/10/2005</td>\n",
       "      <td>[System or Procedure Pack], Compressor driven ...</td>\n",
       "      <td>1. Alcon Laboratories, Inc.  [Alcon] 6201 Sout...</td>\n",
       "      <td>1. ALCON PTE LTD  1 FUSIONOPOLIS WALK, SOLARIS...</td>\n",
       "      <td>ACCURUS® Anterior Pak 8065740885 -</td>\n",
       "    </tr>\n",
       "    <tr>\n",
       "      <th>4</th>\n",
       "      <td>Alcon Accurus® 800CS Surgical System and Acces...</td>\n",
       "      <td>Combined procedure machine capable of both vit...</td>\n",
       "      <td>Ophthalmology</td>\n",
       "      <td>Class C medical device</td>\n",
       "      <td>DE0001905</td>\n",
       "      <td>06/10/2005</td>\n",
       "      <td>[System or Procedure Pack], Compressor driven ...</td>\n",
       "      <td>1. Alcon Laboratories, Inc.  [Alcon] 6201 Sout...</td>\n",
       "      <td>1. ALCON PTE LTD  1 FUSIONOPOLIS WALK, SOLARIS...</td>\n",
       "      <td>ACCURUS® Anterior Vitrectomy Probe 8065803650 -</td>\n",
       "    </tr>\n",
       "    <tr>\n",
       "      <th>...</th>\n",
       "      <td>...</td>\n",
       "      <td>...</td>\n",
       "      <td>...</td>\n",
       "      <td>...</td>\n",
       "      <td>...</td>\n",
       "      <td>...</td>\n",
       "      <td>...</td>\n",
       "      <td>...</td>\n",
       "      <td>...</td>\n",
       "      <td>...</td>\n",
       "    </tr>\n",
       "    <tr>\n",
       "      <th>11001</th>\n",
       "      <td>Cook Celect Platinum Vena Cava Filter Set [Cook]</td>\n",
       "      <td>The Cook Celect Platinum Filter implant is int...</td>\n",
       "      <td>Cardiovascular</td>\n",
       "      <td>Class D medical device</td>\n",
       "      <td>DE0014943</td>\n",
       "      <td>17/03/2014</td>\n",
       "      <td>[Sterile Medical Device], Vena cava filter,Ste...</td>\n",
       "      <td>1. William Cook Europe Aps  [Cook] Sandet 6, 4...</td>\n",
       "      <td>1. COOK SOUTH EAST ASIA PTE LTD  38 BEACH ROAD...</td>\n",
       "      <td>Cook Celect Platinum Vena Cava Filter Set for ...</td>\n",
       "    </tr>\n",
       "    <tr>\n",
       "      <th>11002</th>\n",
       "      <td>Cook Celect Platinum Vena Cava Filter Set [Cook]</td>\n",
       "      <td>The Cook Celect Platinum Filter implant is int...</td>\n",
       "      <td>Cardiovascular</td>\n",
       "      <td>Class D medical device</td>\n",
       "      <td>DE0014943</td>\n",
       "      <td>17/03/2014</td>\n",
       "      <td>[Sterile Medical Device], Vena cava filter,Ste...</td>\n",
       "      <td>1. William Cook Europe Aps  [Cook] Sandet 6, 4...</td>\n",
       "      <td>1. COOK SOUTH EAST ASIA PTE LTD  38 BEACH ROAD...</td>\n",
       "      <td>Cook Celect Platinum Vena Cava Filter Set for ...</td>\n",
       "    </tr>\n",
       "    <tr>\n",
       "      <th>11003</th>\n",
       "      <td>Cook Celect Platinum Vena Cava Filter Set [Cook]</td>\n",
       "      <td>The Cook Celect Platinum Filter implant is int...</td>\n",
       "      <td>Cardiovascular</td>\n",
       "      <td>Class D medical device</td>\n",
       "      <td>DE0014943</td>\n",
       "      <td>17/03/2014</td>\n",
       "      <td>[Sterile Medical Device], Vena cava filter,Ste...</td>\n",
       "      <td>1. William Cook Europe Aps  [Cook] Sandet 6, 4...</td>\n",
       "      <td>1. COOK SOUTH EAST ASIA PTE LTD  38 BEACH ROAD...</td>\n",
       "      <td>Cook Celect Platinum Vena Cava Filter Set for ...</td>\n",
       "    </tr>\n",
       "    <tr>\n",
       "      <th>11004</th>\n",
       "      <td>Cook Ciaglia Blue Rhino G2 Advanced Percutaneo...</td>\n",
       "      <td>The Ciaglia Blue Rhino G2 Advanced Percutaneou...</td>\n",
       "      <td>General Hospital</td>\n",
       "      <td>Class B medical device</td>\n",
       "      <td>DE0500441</td>\n",
       "      <td>08/07/2016</td>\n",
       "      <td>[Sterile Medical Device], Sterilized by Ethyle...</td>\n",
       "      <td>1. Cook Incorporated  [Cook Incorporated] 750 ...</td>\n",
       "      <td>1. COOK SOUTH EAST ASIA PTE LTD  38 BEACH ROAD...</td>\n",
       "      <td>Ciaglia Blue Rhino G2 C-PTIS-100-FLEX-HC-G UNI...</td>\n",
       "    </tr>\n",
       "    <tr>\n",
       "      <th>11005</th>\n",
       "      <td>Cook Ciaglia Blue Rhino G2 Advanced Percutaneo...</td>\n",
       "      <td>The Ciaglia Blue Rhino G2 Advanced Percutaneou...</td>\n",
       "      <td>General Hospital</td>\n",
       "      <td>Class B medical device</td>\n",
       "      <td>DE0500441</td>\n",
       "      <td>08/07/2016</td>\n",
       "      <td>[Sterile Medical Device], Sterilized by Ethyle...</td>\n",
       "      <td>1. Cook Incorporated  [Cook Incorporated] 750 ...</td>\n",
       "      <td>1. COOK SOUTH EAST ASIA PTE LTD  38 BEACH ROAD...</td>\n",
       "      <td>Ciaglia Blue Rhino G2 C-PTIS-100-HC-G UNITED S...</td>\n",
       "    </tr>\n",
       "  </tbody>\n",
       "</table>\n",
       "<p>11006 rows × 10 columns</p>\n",
       "</div>"
      ],
      "text/plain": [
       "                                             Device_Name  \\\n",
       "0      Alcon Accurus® 800CS Surgical System and Acces...   \n",
       "1      Alcon Accurus® 800CS Surgical System and Acces...   \n",
       "2      Alcon Accurus® 800CS Surgical System and Acces...   \n",
       "3      Alcon Accurus® 800CS Surgical System and Acces...   \n",
       "4      Alcon Accurus® 800CS Surgical System and Acces...   \n",
       "...                                                  ...   \n",
       "11001   Cook Celect Platinum Vena Cava Filter Set [Cook]   \n",
       "11002   Cook Celect Platinum Vena Cava Filter Set [Cook]   \n",
       "11003   Cook Celect Platinum Vena Cava Filter Set [Cook]   \n",
       "11004  Cook Ciaglia Blue Rhino G2 Advanced Percutaneo...   \n",
       "11005  Cook Ciaglia Blue Rhino G2 Advanced Percutaneo...   \n",
       "\n",
       "                                        Description_list  \\\n",
       "0      Combined procedure machine capable of both vit...   \n",
       "1      Combined procedure machine capable of both vit...   \n",
       "2      Combined procedure machine capable of both vit...   \n",
       "3      Combined procedure machine capable of both vit...   \n",
       "4      Combined procedure machine capable of both vit...   \n",
       "...                                                  ...   \n",
       "11001  The Cook Celect Platinum Filter implant is int...   \n",
       "11002  The Cook Celect Platinum Filter implant is int...   \n",
       "11003  The Cook Celect Platinum Filter implant is int...   \n",
       "11004  The Ciaglia Blue Rhino G2 Advanced Percutaneou...   \n",
       "11005  The Ciaglia Blue Rhino G2 Advanced Percutaneou...   \n",
       "\n",
       "      Medical_Specialty_Area    Medical_Device_Class Device_Registration  \\\n",
       "0              Ophthalmology  Class C medical device           DE0001905   \n",
       "1              Ophthalmology  Class C medical device           DE0001905   \n",
       "2              Ophthalmology  Class C medical device           DE0001905   \n",
       "3              Ophthalmology  Class C medical device           DE0001905   \n",
       "4              Ophthalmology  Class C medical device           DE0001905   \n",
       "...                      ...                     ...                 ...   \n",
       "11001         Cardiovascular  Class D medical device           DE0014943   \n",
       "11002         Cardiovascular  Class D medical device           DE0014943   \n",
       "11003         Cardiovascular  Class D medical device           DE0014943   \n",
       "11004       General Hospital  Class B medical device           DE0500441   \n",
       "11005       General Hospital  Class B medical device           DE0500441   \n",
       "\n",
       "      Registration_Date                                      Device_System  \\\n",
       "0            06/10/2005  [System or Procedure Pack], Compressor driven ...   \n",
       "1            06/10/2005  [System or Procedure Pack], Compressor driven ...   \n",
       "2            06/10/2005  [System or Procedure Pack], Compressor driven ...   \n",
       "3            06/10/2005  [System or Procedure Pack], Compressor driven ...   \n",
       "4            06/10/2005  [System or Procedure Pack], Compressor driven ...   \n",
       "...                 ...                                                ...   \n",
       "11001        17/03/2014  [Sterile Medical Device], Vena cava filter,Ste...   \n",
       "11002        17/03/2014  [Sterile Medical Device], Vena cava filter,Ste...   \n",
       "11003        17/03/2014  [Sterile Medical Device], Vena cava filter,Ste...   \n",
       "11004        08/07/2016  [Sterile Medical Device], Sterilized by Ethyle...   \n",
       "11005        08/07/2016  [Sterile Medical Device], Sterilized by Ethyle...   \n",
       "\n",
       "                                           Product_Owner  \\\n",
       "0      1. Alcon Laboratories, Inc.  [Alcon] 6201 Sout...   \n",
       "1      1. Alcon Laboratories, Inc.  [Alcon] 6201 Sout...   \n",
       "2      1. Alcon Laboratories, Inc.  [Alcon] 6201 Sout...   \n",
       "3      1. Alcon Laboratories, Inc.  [Alcon] 6201 Sout...   \n",
       "4      1. Alcon Laboratories, Inc.  [Alcon] 6201 Sout...   \n",
       "...                                                  ...   \n",
       "11001  1. William Cook Europe Aps  [Cook] Sandet 6, 4...   \n",
       "11002  1. William Cook Europe Aps  [Cook] Sandet 6, 4...   \n",
       "11003  1. William Cook Europe Aps  [Cook] Sandet 6, 4...   \n",
       "11004  1. Cook Incorporated  [Cook Incorporated] 750 ...   \n",
       "11005  1. Cook Incorporated  [Cook Incorporated] 750 ...   \n",
       "\n",
       "                                         Registrant_list  \\\n",
       "0      1. ALCON PTE LTD  1 FUSIONOPOLIS WALK, SOLARIS...   \n",
       "1      1. ALCON PTE LTD  1 FUSIONOPOLIS WALK, SOLARIS...   \n",
       "2      1. ALCON PTE LTD  1 FUSIONOPOLIS WALK, SOLARIS...   \n",
       "3      1. ALCON PTE LTD  1 FUSIONOPOLIS WALK, SOLARIS...   \n",
       "4      1. ALCON PTE LTD  1 FUSIONOPOLIS WALK, SOLARIS...   \n",
       "...                                                  ...   \n",
       "11001  1. COOK SOUTH EAST ASIA PTE LTD  38 BEACH ROAD...   \n",
       "11002  1. COOK SOUTH EAST ASIA PTE LTD  38 BEACH ROAD...   \n",
       "11003  1. COOK SOUTH EAST ASIA PTE LTD  38 BEACH ROAD...   \n",
       "11004  1. COOK SOUTH EAST ASIA PTE LTD  38 BEACH ROAD...   \n",
       "11005  1. COOK SOUTH EAST ASIA PTE LTD  38 BEACH ROAD...   \n",
       "\n",
       "                                              Model_list  \n",
       "0                       Alcon Accurus 800CS 8065741008 -  \n",
       "1      ACCURUS® High Brightness Xenon Illuminator 806...  \n",
       "2      ACCURUS® Instrumentation Cart with Motorized I...  \n",
       "3                     ACCURUS® Anterior Pak 8065740885 -  \n",
       "4        ACCURUS® Anterior Vitrectomy Probe 8065803650 -  \n",
       "...                                                  ...  \n",
       "11001  Cook Celect Platinum Vena Cava Filter Set for ...  \n",
       "11002  Cook Celect Platinum Vena Cava Filter Set for ...  \n",
       "11003  Cook Celect Platinum Vena Cava Filter Set for ...  \n",
       "11004  Ciaglia Blue Rhino G2 C-PTIS-100-FLEX-HC-G UNI...  \n",
       "11005  Ciaglia Blue Rhino G2 C-PTIS-100-HC-G UNITED S...  \n",
       "\n",
       "[11006 rows x 10 columns]"
      ]
     },
     "execution_count": 231,
     "metadata": {},
     "output_type": "execute_result"
    }
   ],
   "source": [
    "SG_MDR"
   ]
  },
  {
   "cell_type": "code",
   "execution_count": 254,
   "metadata": {},
   "outputs": [],
   "source": [
    "SG_MDR.to_excel('SG_MDR.xlsx', index = False)"
   ]
  },
  {
   "cell_type": "markdown",
   "metadata": {},
   "source": [
    "- Aisha Khalid\n",
    "- aisha.khalid@clearstate.com"
   ]
  }
 ],
 "metadata": {
  "kernelspec": {
   "display_name": "Python 3",
   "language": "python",
   "name": "python3"
  },
  "language_info": {
   "codemirror_mode": {
    "name": "ipython",
    "version": 3
   },
   "file_extension": ".py",
   "mimetype": "text/x-python",
   "name": "python",
   "nbconvert_exporter": "python",
   "pygments_lexer": "ipython3",
   "version": "3.8.3"
  }
 },
 "nbformat": 4,
 "nbformat_minor": 4
}
