{
 "cells": [
  {
   "cell_type": "code",
   "execution_count": 7,
   "id": "76a28415",
   "metadata": {},
   "outputs": [
    {
     "name": "stdout",
     "output_type": "stream",
     "text": [
      "Update found!\n",
      "Loading files...\n",
      "Applying update...\n",
      "Commiting Stage...\n",
      "Update Successful.\n",
      "Version: 10-01-2024\n"
     ]
    }
   ],
   "source": [
    "import pandas as pd\n",
    "from openpyxl import load_workbook\n",
    "import os, glob\n",
    "import warnings\n",
    "from datetime import datetime\n",
    "\n",
    "#Set dependencies\n",
    "current_folder = os.path.dirname(os.path.abspath(\"__file__\"))\n",
    "update_folder = current_folder+\"\\\\Update payload\"\n",
    "existing_DB = current_folder+\"\\\\Fetched data\"\n",
    "\n",
    "update_files = glob.glob(os.path.join(update_folder,\"*.*\"))\n",
    "update_timestamp = max([os.path.getctime(x) for x in update_files])\n",
    "update_payload_file = [x for x in update_files if os.path.getctime(x) == update_timestamp][0]\n",
    "\n",
    "stage_files = glob.glob(os.path.join(existing_DB,\"*.*\"))\n",
    "stage_timestamp = max([os.path.getctime(x) for x in stage_files])\n",
    "stage_file = [x for x in stage_files if os.path.getctime(x) == stage_timestamp][0]\n",
    "checkpoint = os.path.getctime(stage_file)\n",
    "\n",
    "\n",
    "#check update\n",
    "\n",
    "if update_timestamp > checkpoint:\n",
    "    print(\"Update found!\")\n",
    "    print(\"Loading files...\")\n",
    "    \n",
    "    #Load files\n",
    "    with warnings.catch_warnings(record=True):\n",
    "        warnings.simplefilter(\"always\")\n",
    "        update_payload = pd.read_excel(update_payload_file)\n",
    "        stage = pd.read_excel(stage_file)\n",
    "    print(\"Applying update...\")\n",
    "    stage = pd.concat([stage,update_payload])\n",
    "    print(\"Commiting Stage...\")\n",
    "    stage = stage.reset_index(drop=True).set_index('ARTG ID')\n",
    "    stage = stage.drop_duplicates()\n",
    "    stage.to_excel(existing_DB+'\\\\ARTG 1991 - '+str(datetime.fromtimestamp(update_timestamp).strftime(\"%d-%m-%Y\"))+\".xlsx\")\n",
    "    print(\"Update Successful.\")\n",
    "    print(f\"Version: {datetime.fromtimestamp(update_timestamp).strftime('%d-%m-%Y')}\")\n",
    "else:\n",
    "    print(f\"No updates available at the moment.\")"
   ]
  }
 ],
 "metadata": {
  "kernelspec": {
   "display_name": "Python 3 (ipykernel)",
   "language": "python",
   "name": "python3"
  },
  "language_info": {
   "codemirror_mode": {
    "name": "ipython",
    "version": 3
   },
   "file_extension": ".py",
   "mimetype": "text/x-python",
   "name": "python",
   "nbconvert_exporter": "python",
   "pygments_lexer": "ipython3",
   "version": "3.9.12"
  }
 },
 "nbformat": 4,
 "nbformat_minor": 5
}
