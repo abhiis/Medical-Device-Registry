{
 "cells": [
  {
   "cell_type": "code",
   "execution_count": 5,
   "id": "d09b72cb",
   "metadata": {},
   "outputs": [],
   "source": [
    "import pandas as pd, numpy as np\n",
    "import os\n",
    "from glob import glob\n",
    "source = \"Consolidation\\\\MDRv2 Datasets\""
   ]
  },
  {
   "cell_type": "code",
   "execution_count": null,
   "id": "d485447f",
   "metadata": {},
   "outputs": [],
   "source": [
    "# Source == AE == UAE MOHAP"
   ]
  },
  {
   "cell_type": "code",
   "execution_count": 6,
   "id": "aa166b8b",
   "metadata": {},
   "outputs": [],
   "source": [
    "# source ANMAT AR\n",
    "file = \"\\\\ANMAT AR MDR Jan24.xlsx\"\n",
    "anmat_ar = pd.read_excel(source+file)"
   ]
  },
  {
   "cell_type": "code",
   "execution_count": null,
   "id": "01f3251f",
   "metadata": {},
   "outputs": [],
   "source": [
    "# source AU ARTG 10-01-24"
   ]
  },
  {
   "cell_type": "code",
   "execution_count": null,
   "id": "9f383e01",
   "metadata": {},
   "outputs": [],
   "source": [
    "# source BR -- need datta -source not available -- source: https://consultas.anvisa.gov.br/#/saude/q/?nomeProduto=alinity"
   ]
  },
  {
   "cell_type": "code",
   "execution_count": null,
   "id": "13399872",
   "metadata": {},
   "outputs": [],
   "source": [
    "# source CAC - need data, Costa Rica - in excel, Cuba - in multiple pdfs, guatemala - no source"
   ]
  },
  {
   "cell_type": "code",
   "execution_count": null,
   "id": "cbc3cce6",
   "metadata": {},
   "outputs": [],
   "source": [
    "# source CDSCO IN - 4jan24"
   ]
  },
  {
   "cell_type": "code",
   "execution_count": null,
   "id": "644c35fa",
   "metadata": {},
   "outputs": [],
   "source": [
    "# source CL --need data No source data on medical devices"
   ]
  },
  {
   "cell_type": "code",
   "execution_count": null,
   "id": "f1d6cc42",
   "metadata": {},
   "outputs": [],
   "source": [
    "# source CN -- website is anti bot"
   ]
  },
  {
   "cell_type": "code",
   "execution_count": 3,
   "id": "94637612",
   "metadata": {},
   "outputs": [],
   "source": [
    "# source CO --need data \n",
    "# source CO --need data nternational Medical device database covers Colombia: \n",
    "# https://medicaldevices.icij.org/search?f%5Bcountry%5D=COL&m=device \n",
    "\n",
    "# This database is for medical devices which were either recalled, or had any event associated with them"
   ]
  },
  {
   "cell_type": "code",
   "execution_count": null,
   "id": "b5cee1a9",
   "metadata": {},
   "outputs": [],
   "source": [
    "# source DE --need data - Source behind a paywall"
   ]
  },
  {
   "cell_type": "code",
   "execution_count": null,
   "id": "f8e3ad0a",
   "metadata": {},
   "outputs": [],
   "source": [
    "# source DR --need data -- source unresponsive"
   ]
  },
  {
   "cell_type": "code",
   "execution_count": null,
   "id": "71322dd1",
   "metadata": {},
   "outputs": [],
   "source": [
    "# source EC --need data  - Source not available -- found a source, files downloaded in excel"
   ]
  },
  {
   "cell_type": "code",
   "execution_count": null,
   "id": "c6f47371",
   "metadata": {},
   "outputs": [],
   "source": [
    "# source ES --need data -- No source link"
   ]
  },
  {
   "cell_type": "code",
   "execution_count": null,
   "id": "990c4314",
   "metadata": {},
   "outputs": [],
   "source": [
    "# source EUDAMED -- update required"
   ]
  },
  {
   "cell_type": "code",
   "execution_count": null,
   "id": "37dcea85",
   "metadata": {},
   "outputs": [],
   "source": [
    "# source FDA PH -- 11/01/24"
   ]
  },
  {
   "cell_type": "code",
   "execution_count": null,
   "id": "ae59e1a9",
   "metadata": {},
   "outputs": [],
   "source": [
    "# source FDA TH -- need update"
   ]
  },
  {
   "cell_type": "code",
   "execution_count": null,
   "id": "141fd52c",
   "metadata": {},
   "outputs": [],
   "source": [
    "# source FDA US -- need update"
   ]
  },
  {
   "cell_type": "code",
   "execution_count": null,
   "id": "099d6e60",
   "metadata": {},
   "outputs": [],
   "source": [
    "# source FR --need data -- no source link "
   ]
  },
  {
   "cell_type": "code",
   "execution_count": null,
   "id": "cce70f44",
   "metadata": {},
   "outputs": [],
   "source": [
    "# source GB --need data -- Found Source. Got Data"
   ]
  },
  {
   "cell_type": "code",
   "execution_count": null,
   "id": "6614e63d",
   "metadata": {},
   "outputs": [],
   "source": [
    "# source ID --need data -- script ready,blocked for now\n",
    "source = \"MDRv2 Datasets\"\n",
    "file = \"ID Medical Device Register.xlsx\""
   ]
  },
  {
   "cell_type": "code",
   "execution_count": null,
   "id": "65a12045",
   "metadata": {},
   "outputs": [],
   "source": [
    "# source IT --need data -- downloadable excel"
   ]
  },
  {
   "cell_type": "code",
   "execution_count": null,
   "id": "c4036e2d",
   "metadata": {},
   "outputs": [],
   "source": [
    "# source JMTT -- need data -- Jamaica no source, Trinidad no source"
   ]
  },
  {
   "cell_type": "code",
   "execution_count": null,
   "id": "7a105845",
   "metadata": {},
   "outputs": [],
   "source": [
    "# source KR --need data -- downloadable excel if less than 1M rows, have for ivd import & ivd manufact."
   ]
  },
  {
   "cell_type": "code",
   "execution_count": null,
   "id": "ba7ffae7",
   "metadata": {},
   "outputs": [],
   "source": [
    "# source MDA MY 11/01/24"
   ]
  },
  {
   "cell_type": "code",
   "execution_count": null,
   "id": "eab04cf1",
   "metadata": {},
   "outputs": [],
   "source": [
    "# source MOHAP UAE / AE 111/01/24"
   ]
  },
  {
   "cell_type": "code",
   "execution_count": null,
   "id": "0bf8be63",
   "metadata": {},
   "outputs": [],
   "source": [
    "# source MX --need data -- downloaded as pdfs"
   ]
  },
  {
   "cell_type": "code",
   "execution_count": null,
   "id": "a7d653b7",
   "metadata": {},
   "outputs": [],
   "source": [
    "# source PE --need data -- source not available"
   ]
  },
  {
   "cell_type": "code",
   "execution_count": null,
   "id": "01cdb780",
   "metadata": {},
   "outputs": [],
   "source": [
    "# PMDA JP - 2022"
   ]
  },
  {
   "cell_type": "code",
   "execution_count": null,
   "id": "9be8e2fc",
   "metadata": {},
   "outputs": [],
   "source": [
    "# PN --need data -- found some data"
   ]
  },
  {
   "cell_type": "code",
   "execution_count": null,
   "id": "896fc847",
   "metadata": {},
   "outputs": [],
   "source": [
    "# PR --need data -- source not available"
   ]
  },
  {
   "cell_type": "code",
   "execution_count": null,
   "id": "d66370c1",
   "metadata": {},
   "outputs": [],
   "source": [
    "# PY --need data -- source not available"
   ]
  },
  {
   "cell_type": "code",
   "execution_count": null,
   "id": "a2ee2f72",
   "metadata": {},
   "outputs": [],
   "source": [
    "# source ROL --need data - Bo -- no data, uruguay - no data"
   ]
  },
  {
   "cell_type": "code",
   "execution_count": null,
   "id": "6ce18014",
   "metadata": {},
   "outputs": [],
   "source": [
    "# source SA -- need data - no source available"
   ]
  },
  {
   "cell_type": "code",
   "execution_count": null,
   "id": "07f77796",
   "metadata": {},
   "outputs": [],
   "source": [
    "## SG MDR - 29/1/24"
   ]
  },
  {
   "cell_type": "code",
   "execution_count": null,
   "id": "8eba27c7",
   "metadata": {},
   "outputs": [],
   "source": [
    "# source TW -- need data -- anti bot"
   ]
  },
  {
   "cell_type": "code",
   "execution_count": 2,
   "id": "3ff58119",
   "metadata": {},
   "outputs": [],
   "source": [
    "# source VN -- needs translations -- translated"
   ]
  }
 ],
 "metadata": {
  "kernelspec": {
   "display_name": "Python 3 (ipykernel)",
   "language": "python",
   "name": "python3"
  },
  "language_info": {
   "codemirror_mode": {
    "name": "ipython",
    "version": 3
   },
   "file_extension": ".py",
   "mimetype": "text/x-python",
   "name": "python",
   "nbconvert_exporter": "python",
   "pygments_lexer": "ipython3",
   "version": "3.9.12"
  }
 },
 "nbformat": 4,
 "nbformat_minor": 5
}
