{
 "cells": [
  {
   "cell_type": "code",
   "execution_count": 2,
   "id": "01fcf717",
   "metadata": {},
   "outputs": [],
   "source": [
    "import pandas as pd, numpy as np\n",
    "import os\n",
    "from glob import glob as g"
   ]
  },
  {
   "cell_type": "code",
   "execution_count": 14,
   "id": "0d660db6",
   "metadata": {},
   "outputs": [],
   "source": [
    "def split_dataframe(df, length):\n",
    "    # List to hold the split DataFrames\n",
    "    split_dfs = []\n",
    "    \n",
    "    # Calculate the number of splits needed\n",
    "    num_splits = len(df) // length + (1 if len(df) % length != 0 else 0)\n",
    "    \n",
    "    for i in range(num_splits):\n",
    "        # Calculate start and end indices for the current split\n",
    "        start_idx = i * length\n",
    "        end_idx = start_idx + length\n",
    "        \n",
    "        # Slice the DataFrame and add it to the list\n",
    "        split_dfs.append(df.iloc[start_idx:end_idx])\n",
    "    print(f\"Created {len(split_dfs)} chunks.\")\n",
    "    return split_dfs"
   ]
  },
  {
   "cell_type": "code",
   "execution_count": 4,
   "id": "920d995f",
   "metadata": {},
   "outputs": [],
   "source": [
    "## set source \n",
    "source = r'C:\\Users\\AbhishekSrivastava\\Desktop\\Workflow\\Python\\Dev\\Medical Devices Registry\\MDR Scripts\\AR'\n",
    "file = \"\\ANMAT_AR Full Extract_260124.xlsx\""
   ]
  },
  {
   "cell_type": "code",
   "execution_count": 15,
   "id": "c863e359",
   "metadata": {},
   "outputs": [],
   "source": [
    "payload = pd.read_excel(source+file)\n",
    "payload.shape"
   ]
  },
  {
   "cell_type": "code",
   "execution_count": 16,
   "id": "6e6ab29f",
   "metadata": {},
   "outputs": [
    {
     "name": "stdout",
     "output_type": "stream",
     "text": [
      "Created 41 chunks.\n"
     ]
    }
   ],
   "source": [
    "chunks = split_dataframe(payload, 750)"
   ]
  },
  {
   "cell_type": "code",
   "execution_count": 18,
   "id": "cdcce581",
   "metadata": {},
   "outputs": [
    {
     "name": "stdout",
     "output_type": "stream",
     "text": [
      "(750, 11)\n",
      "(750, 11)\n",
      "(750, 11)\n",
      "(750, 11)\n",
      "(750, 11)\n",
      "(750, 11)\n",
      "(750, 11)\n",
      "(750, 11)\n",
      "(750, 11)\n",
      "(750, 11)\n",
      "(750, 11)\n",
      "(750, 11)\n",
      "(750, 11)\n",
      "(750, 11)\n",
      "(750, 11)\n",
      "(750, 11)\n",
      "(750, 11)\n",
      "(750, 11)\n",
      "(750, 11)\n",
      "(750, 11)\n",
      "(750, 11)\n",
      "(750, 11)\n",
      "(750, 11)\n",
      "(750, 11)\n",
      "(750, 11)\n",
      "(750, 11)\n",
      "(750, 11)\n",
      "(750, 11)\n",
      "(750, 11)\n",
      "(750, 11)\n",
      "(750, 11)\n",
      "(750, 11)\n",
      "(750, 11)\n",
      "(750, 11)\n",
      "(750, 11)\n",
      "(750, 11)\n",
      "(750, 11)\n",
      "(750, 11)\n",
      "(750, 11)\n",
      "(750, 11)\n",
      "(419, 11)\n"
     ]
    }
   ],
   "source": [
    "for chunk in chunks:\n",
    "    print(chunk.shape)"
   ]
  },
  {
   "cell_type": "code",
   "execution_count": 20,
   "id": "a569c96e",
   "metadata": {},
   "outputs": [
    {
     "data": {
      "text/html": [
       "<div>\n",
       "<style scoped>\n",
       "    .dataframe tbody tr th:only-of-type {\n",
       "        vertical-align: middle;\n",
       "    }\n",
       "\n",
       "    .dataframe tbody tr th {\n",
       "        vertical-align: top;\n",
       "    }\n",
       "\n",
       "    .dataframe thead th {\n",
       "        text-align: right;\n",
       "    }\n",
       "</style>\n",
       "<table border=\"1\" class=\"dataframe\">\n",
       "  <thead>\n",
       "    <tr style=\"text-align: right;\">\n",
       "      <th></th>\n",
       "      <th>Unnamed: 0</th>\n",
       "      <th>Trámite</th>\n",
       "      <th>Fecha Fin</th>\n",
       "      <th>Razón Social</th>\n",
       "      <th>Nombre</th>\n",
       "      <th>Marca</th>\n",
       "      <th>Modelo/s</th>\n",
       "      <th>PM</th>\n",
       "      <th>Expediente</th>\n",
       "      <th>Dec/Cert</th>\n",
       "      <th>Disposición</th>\n",
       "    </tr>\n",
       "  </thead>\n",
       "  <tbody>\n",
       "    <tr>\n",
       "      <th>0</th>\n",
       "      <td>0</td>\n",
       "      <td>Registro Clase III-IV</td>\n",
       "      <td>25-01-2024</td>\n",
       "      <td>DROGUERIA MARTORANI S.A.</td>\n",
       "      <td>Apósito transparente I.V. reforzado con glucon...</td>\n",
       "      <td>IHT</td>\n",
       "      <td>Oper film ®protect CHG 7 x 8,5 cm (Ref: 003400...</td>\n",
       "      <td>928-552</td>\n",
       "      <td>1-0047-3110-005060-23-9</td>\n",
       "      <td>NaN</td>\n",
       "      <td>NaN</td>\n",
       "    </tr>\n",
       "    <tr>\n",
       "      <th>1</th>\n",
       "      <td>0</td>\n",
       "      <td>Registro Clase III-IV</td>\n",
       "      <td>25-01-2024</td>\n",
       "      <td>TESIS SRL</td>\n",
       "      <td>Válvula cardíaca biológica</td>\n",
       "      <td>Meril</td>\n",
       "      <td>Aórticos:\\nDDL19A; DDL21A; DDL23A; DDL25A; DDL...</td>\n",
       "      <td>867-44</td>\n",
       "      <td>1-0047-3110-005087-23-3</td>\n",
       "      <td>NaN</td>\n",
       "      <td>NaN</td>\n",
       "    </tr>\n",
       "  </tbody>\n",
       "</table>\n",
       "</div>"
      ],
      "text/plain": [
       "   Unnamed: 0                Trámite   Fecha Fin              Razón Social  \\\n",
       "0           0  Registro Clase III-IV  25-01-2024  DROGUERIA MARTORANI S.A.   \n",
       "1           0  Registro Clase III-IV  25-01-2024                 TESIS SRL   \n",
       "\n",
       "                                              Nombre  Marca  \\\n",
       "0  Apósito transparente I.V. reforzado con glucon...    IHT   \n",
       "1                         Válvula cardíaca biológica  Meril   \n",
       "\n",
       "                                            Modelo/s       PM  \\\n",
       "0  Oper film ®protect CHG 7 x 8,5 cm (Ref: 003400...  928-552   \n",
       "1  Aórticos:\\nDDL19A; DDL21A; DDL23A; DDL25A; DDL...   867-44   \n",
       "\n",
       "                Expediente  Dec/Cert  Disposición  \n",
       "0  1-0047-3110-005060-23-9       NaN          NaN  \n",
       "1  1-0047-3110-005087-23-3       NaN          NaN  "
      ]
     },
     "execution_count": 20,
     "metadata": {},
     "output_type": "execute_result"
    }
   ],
   "source": [
    "chunks[0].head(2)"
   ]
  },
  {
   "cell_type": "code",
   "execution_count": null,
   "id": "bb24051a",
   "metadata": {},
   "outputs": [],
   "source": [
    "## Translate one by one"
   ]
  },
  {
   "cell_type": "code",
   "execution_count": 23,
   "id": "ac0d3f39",
   "metadata": {},
   "outputs": [
    {
     "data": {
      "text/plain": [
       "Index(['Unnamed: 0', 'Trámite', 'Fecha Fin', 'Razón Social', 'Nombre', 'Marca',\n",
       "       'Modelo/s', 'PM', 'Expediente', 'Dec/Cert', 'Disposición'],\n",
       "      dtype='object')"
      ]
     },
     "execution_count": 23,
     "metadata": {},
     "output_type": "execute_result"
    }
   ],
   "source": [
    "cols = chunks[0].columns\n",
    "cols"
   ]
  },
  {
   "cell_type": "code",
   "execution_count": 22,
   "id": "90ba3e6f",
   "metadata": {},
   "outputs": [],
   "source": [
    "from googletrans import Translator\n",
    "translator = Translator()\n",
    "from functools import lru_cache\n",
    "\n",
    "@lru_cache(maxsize=None)\n",
    "def translate_to_en(text):\n",
    "    if pd.notna(text):\n",
    "        translated_text = translator.translate(str(text), dest='en').text\n",
    "        return translated_text\n",
    "    else:\n",
    "        return text"
   ]
  },
  {
   "cell_type": "code",
   "execution_count": 25,
   "id": "4e4e5fd5",
   "metadata": {},
   "outputs": [
    {
     "data": {
      "text/plain": [
       "['Unnamed: 0',\n",
       " 'Procedure',\n",
       " 'End date',\n",
       " 'Business name',\n",
       " 'Name',\n",
       " 'Brand',\n",
       " 'Models',\n",
       " 'PM',\n",
       " 'Office hour',\n",
       " 'Dec/Cert',\n",
       " 'Provision']"
      ]
     },
     "execution_count": 25,
     "metadata": {},
     "output_type": "execute_result"
    }
   ],
   "source": [
    "en_cols = [translate_to_en(x) for x in cols]\n",
    "en_cols"
   ]
  },
  {
   "cell_type": "code",
   "execution_count": 34,
   "id": "fd2522f0",
   "metadata": {},
   "outputs": [
    {
     "data": {
      "text/plain": [
       "535"
      ]
     },
     "execution_count": 34,
     "metadata": {},
     "output_type": "execute_result"
    }
   ],
   "source": [
    "len(chunks[0]['Marca'].unique())"
   ]
  },
  {
   "cell_type": "code",
   "execution_count": 35,
   "id": "f39b60c7",
   "metadata": {},
   "outputs": [
    {
     "data": {
      "text/plain": [
       "702"
      ]
     },
     "execution_count": 35,
     "metadata": {},
     "output_type": "execute_result"
    }
   ],
   "source": [
    "len(chunks[0]['Nombre'].unique())"
   ]
  },
  {
   "cell_type": "code",
   "execution_count": 30,
   "id": "50d276f7",
   "metadata": {},
   "outputs": [],
   "source": [
    "translated_chunks = []"
   ]
  },
  {
   "cell_type": "code",
   "execution_count": 29,
   "id": "23b4e75e",
   "metadata": {},
   "outputs": [],
   "source": [
    "import time"
   ]
  },
  {
   "cell_type": "code",
   "execution_count": null,
   "id": "72358bb7",
   "metadata": {},
   "outputs": [
    {
     "name": "stdout",
     "output_type": "stream",
     "text": [
      "Translating chunk: 0\n"
     ]
    }
   ],
   "source": [
    "for i, chunk in enumerate(chunks):\n",
    "    print(f\"Translating chunk: {i}\")\n",
    "    _s = time.time()\n",
    "    translated_chunk = chunk.copy()\n",
    "    translated_chunk.columns = en_cols\n",
    "    \n",
    "    translated_chunk['Business name'] = translated_chunk['Business name'].map(lambda x: translate_to_en(x))\n",
    "    translated_chunk['Name'] = translated_chunk['Name'].map(lambda x: translate_to_en(x))\n",
    "    translated_chunk['Models'] = translated_chunk['Models'].map(lambda x: translate_to_en(x))\n",
    "    translated_chunk['Brand'] = translated_chunk['Brand'].map(lambda x: translate_to_en(x))\n",
    "    translated_chunks.append(translated_chunk)\n",
    "    _e = time.time()\n",
    "    print(f\"Time Elasped: {round(_e - _s, 2)} seconds.\")"
   ]
  }
 ],
 "metadata": {
  "kernelspec": {
   "display_name": "Python 3 (ipykernel)",
   "language": "python",
   "name": "python3"
  },
  "language_info": {
   "codemirror_mode": {
    "name": "ipython",
    "version": 3
   },
   "file_extension": ".py",
   "mimetype": "text/x-python",
   "name": "python",
   "nbconvert_exporter": "python",
   "pygments_lexer": "ipython3",
   "version": "3.9.12"
  }
 },
 "nbformat": 4,
 "nbformat_minor": 5
}
