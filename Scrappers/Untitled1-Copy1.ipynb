{
 "cells": [
  {
   "cell_type": "code",
   "execution_count": 3,
   "id": "0391923b",
   "metadata": {
    "scrolled": true
   },
   "outputs": [
    {
     "name": "stdout",
     "output_type": "stream",
     "text": [
      "15000\t10\n",
      "15010\t10\n",
      "15020\t10\n",
      "15030\t10\n",
      "15040\t10\n",
      "15050\t10\n",
      "15060\t10\n",
      "15070\t10\n",
      "15080\t10\n",
      "15090\t10\n",
      "15100\t10\n",
      "15110\t10\n",
      "15120\t10\n",
      "15130\t10\n",
      "15140\t10\n",
      "15150\t10\n",
      "15160\t10\n",
      "15170\t10\n",
      "15180\t10\n",
      "15190\t10\n",
      "15200\t10\n",
      "15210\t10\n",
      "15220\t10\n",
      "15230\t10\n",
      "15240\t10\n",
      "15250\t10\n",
      "15260\t10\n",
      "15270\t10\n",
      "15280\t10\n",
      "15290\t10\n",
      "15300\t10\n",
      "15310\t10\n",
      "15320\t10\n",
      "15330\t10\n",
      "15340\t10\n",
      "15350\t10\n",
      "15360\t10\n",
      "15370\t10\n",
      "15380\t10\n",
      "15390\t"
     ]
    },
    {
     "ename": "IndexError",
     "evalue": "list index out of range",
     "output_type": "error",
     "traceback": [
      "\u001b[1;31m---------------------------------------------------------------------------\u001b[0m",
      "\u001b[1;31mIndexError\u001b[0m                                Traceback (most recent call last)",
      "Input \u001b[1;32mIn [3]\u001b[0m, in \u001b[0;36m<cell line: 6>\u001b[1;34m()\u001b[0m\n\u001b[0;32m     49\u001b[0m table \u001b[38;5;241m=\u001b[39m soup\u001b[38;5;241m.\u001b[39mfind_all(\u001b[38;5;124m'\u001b[39m\u001b[38;5;124mtable\u001b[39m\u001b[38;5;124m'\u001b[39m,{\u001b[38;5;124m\"\u001b[39m\u001b[38;5;124mclass\u001b[39m\u001b[38;5;124m\"\u001b[39m: \u001b[38;5;124m\"\u001b[39m\u001b[38;5;124mfmTbl\u001b[39m\u001b[38;5;124m\"\u001b[39m})\n\u001b[0;32m     50\u001b[0m devices \u001b[38;5;241m=\u001b[39m [t\u001b[38;5;241m.\u001b[39mfind_all(\u001b[38;5;124m'\u001b[39m\u001b[38;5;124ma\u001b[39m\u001b[38;5;124m'\u001b[39m) \u001b[38;5;28;01mfor\u001b[39;00m t \u001b[38;5;129;01min\u001b[39;00m table]\n\u001b[1;32m---> 51\u001b[0m hrefs \u001b[38;5;241m=\u001b[39m [h\u001b[38;5;241m.\u001b[39mget(\u001b[38;5;124m'\u001b[39m\u001b[38;5;124mhref\u001b[39m\u001b[38;5;124m'\u001b[39m)\u001b[38;5;241m.\u001b[39msplit(\u001b[38;5;124m'\u001b[39m\u001b[38;5;124m\"\u001b[39m\u001b[38;5;124m'\u001b[39m)[\u001b[38;5;241m-\u001b[39m\u001b[38;5;241m2\u001b[39m] \u001b[38;5;28;01mfor\u001b[39;00m h \u001b[38;5;129;01min\u001b[39;00m \u001b[43mdevices\u001b[49m\u001b[43m[\u001b[49m\u001b[38;5;241;43m0\u001b[39;49m\u001b[43m]\u001b[49m]\n\u001b[0;32m     52\u001b[0m [holder\u001b[38;5;241m.\u001b[39mappend(x) \u001b[38;5;28;01mfor\u001b[39;00m x \u001b[38;5;129;01min\u001b[39;00m hrefs]\n\u001b[0;32m     53\u001b[0m \u001b[38;5;28mprint\u001b[39m(\u001b[38;5;28mlen\u001b[39m(hrefs))\n",
      "\u001b[1;31mIndexError\u001b[0m: list index out of range"
     ]
    }
   ],
   "source": [
    "import requests\n",
    "from bs4 import BeautifulSoup\n",
    "holder = []\n",
    "\n",
    "total = 20000\n",
    "for i in range(15000,total, 10):\n",
    "    print(i, end=\"\\t\")\n",
    "    cookies = {\n",
    "        'dis-request-id': 'e1059b3a35173fc26b9401bae49ac1de',\n",
    "        'dis-timestamp': '2023-04-04T00:17:29-07:00',\n",
    "        'dis-remote-addr': '103.87.59.203',\n",
    "        '_ga': 'GA1.3.1498323092.1680592585',\n",
    "        '_gid': 'GA1.3.652060471.1680592585',\n",
    "        '_sp_id.d852': 'f7e63b79-5276-40ad-bd4e-b7ab157b8b30.1680592585.1.1680592588.1680592585.c2890bab-7550-4c88-9cc2-80bce15a519a',\n",
    "        'Cookie': '!5VFZ3iTFwyPi3bLapQqKkLgqNluWVMw8NDNm3a7gHk+lceoeCuFAu+tlIWzuGyweAaru5ILOvrrS2x4=',\n",
    "        'JSESSIONID': '7gZMHn8plJP6mC3LQU8D-In8vt65PtLHrm4q9w07GfRICvyeZdmi!-1249897684!1215967715',\n",
    "    }\n",
    "\n",
    "    headers = {\n",
    "        'Accept': 'text/html,application/xhtml+xml,application/xml;q=0.9,image/avif,image/webp,image/apng,*/*;q=0.8,application/signed-exchange;v=b3;q=0.7',\n",
    "        'Accept-Language': 'en-US,en;q=0.9',\n",
    "        'Cache-Control': 'max-age=0',\n",
    "        'Connection': 'keep-alive',\n",
    "        'Content-Type': 'application/x-www-form-urlencoded',\n",
    "        # 'Cookie': 'dis-request-id=e1059b3a35173fc26b9401bae49ac1de; dis-timestamp=2023-04-04T00:17:29-07:00; dis-remote-addr=103.87.59.203; _ga=GA1.3.1498323092.1680592585; _gid=GA1.3.652060471.1680592585; _sp_id.d852=f7e63b79-5276-40ad-bd4e-b7ab157b8b30.1680592585.1.1680592588.1680592585.c2890bab-7550-4c88-9cc2-80bce15a519a; Cookie=!5VFZ3iTFwyPi3bLapQqKkLgqNluWVMw8NDNm3a7gHk+lceoeCuFAu+tlIWzuGyweAaru5ILOvrrS2x4=; JSESSIONID=7gZMHn8plJP6mC3LQU8D-In8vt65PtLHrm4q9w07GfRICvyeZdmi!-1249897684!1215967715',\n",
    "        'Origin': 'null',\n",
    "        'Sec-Fetch-Dest': 'document',\n",
    "        'Sec-Fetch-Mode': 'navigate',\n",
    "        'Sec-Fetch-Site': 'same-origin',\n",
    "        'Sec-Fetch-User': '?1',\n",
    "        'Upgrade-Insecure-Requests': '1',\n",
    "        'User-Agent': 'Mozilla/5.0 (Windows NT 10.0; Win64; x64) AppleWebKit/537.36 (KHTML, like Gecko) Chrome/111.0.0.0 Safari/537.36',\n",
    "        'sec-ch-ua': '\"Google Chrome\";v=\"111\", \"Not(A:Brand\";v=\"8\", \"Chromium\";v=\"111\"',\n",
    "        'sec-ch-ua-mobile': '?0',\n",
    "        'sec-ch-ua-platform': '\"Windows\"',\n",
    "    }\n",
    "\n",
    "    data = {\n",
    "        'action': 'getAllDevices',\n",
    "        'devId': '',\n",
    "        'linkName': 'MED',\n",
    "        'topPageNo': 2000,\n",
    "        'pageNo': str(i),\n",
    "        'startsWith': '',\n",
    "    }\n",
    "\n",
    "    response = requests.post('https://eservice.hsa.gov.sg/medics/md/mdEnquiry.do', cookies=cookies, headers=headers, data=data)\n",
    "    soup = BeautifulSoup(response.text)\n",
    "    table = soup.find_all('table',{\"class\": \"fmTbl\"})\n",
    "    devices = [t.find_all('a') for t in table]\n",
    "    hrefs = [h.get('href').split('\"')[-2] for h in devices[0]]\n",
    "    [holder.append(x) for x in hrefs]\n",
    "    print(len(hrefs))"
   ]
  },
  {
   "cell_type": "code",
   "execution_count": null,
   "id": "a72587e8",
   "metadata": {},
   "outputs": [],
   "source": []
  }
 ],
 "metadata": {
  "kernelspec": {
   "display_name": "Python 3 (ipykernel)",
   "language": "python",
   "name": "python3"
  },
  "language_info": {
   "codemirror_mode": {
    "name": "ipython",
    "version": 3
   },
   "file_extension": ".py",
   "mimetype": "text/x-python",
   "name": "python",
   "nbconvert_exporter": "python",
   "pygments_lexer": "ipython3",
   "version": "3.9.12"
  }
 },
 "nbformat": 4,
 "nbformat_minor": 5
}
