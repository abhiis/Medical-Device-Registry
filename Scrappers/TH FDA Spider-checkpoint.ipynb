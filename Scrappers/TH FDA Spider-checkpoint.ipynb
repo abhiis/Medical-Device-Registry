{
 "cells": [
  {
   "cell_type": "markdown",
   "metadata": {},
   "source": [
    "### Thai - Registry : Scraping translated data"
   ]
  },
  {
   "cell_type": "markdown",
   "metadata": {},
   "source": [
    "### https://porta.fda.moph.go.th/FDA_SEARCH_ALL/MAIN/SEARCH_CENTER_MAIN.aspx"
   ]
  },
  {
   "cell_type": "code",
   "execution_count": 6,
   "metadata": {},
   "outputs": [
    {
     "ename": "ModuleNotFoundError",
     "evalue": "No module named 'chromedriver_autoinstaller'",
     "output_type": "error",
     "traceback": [
      "\u001b[1;31m---------------------------------------------------------------------------\u001b[0m",
      "\u001b[1;31mModuleNotFoundError\u001b[0m                       Traceback (most recent call last)",
      "Input \u001b[1;32mIn [6]\u001b[0m, in \u001b[0;36m<cell line: 21>\u001b[1;34m()\u001b[0m\n\u001b[0;32m     19\u001b[0m \u001b[38;5;28;01mfrom\u001b[39;00m \u001b[38;5;21;01mselenium\u001b[39;00m\u001b[38;5;21;01m.\u001b[39;00m\u001b[38;5;21;01mwebdriver\u001b[39;00m\u001b[38;5;21;01m.\u001b[39;00m\u001b[38;5;21;01msupport\u001b[39;00m \u001b[38;5;28;01mimport\u001b[39;00m expected_conditions \u001b[38;5;28;01mas\u001b[39;00m EC\n\u001b[0;32m     20\u001b[0m \u001b[38;5;28;01mimport\u001b[39;00m \u001b[38;5;21;01mtime\u001b[39;00m\n\u001b[1;32m---> 21\u001b[0m \u001b[38;5;28;01mimport\u001b[39;00m \u001b[38;5;21;01mchromedriver_autoinstaller\u001b[39;00m\n\u001b[0;32m     24\u001b[0m chromedriver_autoinstaller\u001b[38;5;241m.\u001b[39minstall()\n",
      "\u001b[1;31mModuleNotFoundError\u001b[0m: No module named 'chromedriver_autoinstaller'"
     ]
    }
   ],
   "source": [
    "from bs4 import BeautifulSoup\n",
    "import requests\n",
    "import pandas as pd\n",
    "import time\n",
    "from selenium.webdriver.support.select import Select\n",
    "from selenium import webdriver\n",
    "from selenium.webdriver.chrome.service import Service\n",
    "from selenium.webdriver.common.by import By\n",
    "from selenium.webdriver.chrome.options import Options\n",
    "from random import randint\n",
    "import urllib.parse\n",
    "import warnings\n",
    "warnings.filterwarnings('ignore')\n",
    "headers = {\"Accept-Language\" : \"en-US,en;q=0.5\"}\n",
    "import ssl\n",
    "ssl._create_default_https_context = ssl._create_unverified_context\n",
    "from selenium.common.exceptions import NoSuchElementException, ElementNotVisibleException\n",
    "from selenium.webdriver.support.ui import WebDriverWait\n",
    "from selenium.webdriver.support import expected_conditions as EC\n",
    "import time\n",
    "import chromedriver_autoinstaller\n",
    "\n",
    "\n",
    "chromedriver_autoinstaller.install()"
   ]
  },
  {
   "cell_type": "code",
   "execution_count": null,
   "metadata": {},
   "outputs": [],
   "source": []
  },
  {
   "cell_type": "code",
   "execution_count": 2,
   "metadata": {},
   "outputs": [],
   "source": [
    "website1 = \"https://porta.fda.moph.go.th/FDA_SEARCH_ALL/MAIN/SEARCH_CENTER_MAIN.aspx\""
   ]
  },
  {
   "cell_type": "code",
   "execution_count": 5,
   "metadata": {},
   "outputs": [
    {
     "ename": "WebDriverException",
     "evalue": "Message: 'chromedriver' executable needs to be in PATH. Please see https://chromedriver.chromium.org/home\n",
     "output_type": "error",
     "traceback": [
      "\u001b[1;31m---------------------------------------------------------------------------\u001b[0m",
      "\u001b[1;31mFileNotFoundError\u001b[0m                         Traceback (most recent call last)",
      "File \u001b[1;32m~\\Anaconda3\\lib\\site-packages\\selenium\\webdriver\\common\\service.py:71\u001b[0m, in \u001b[0;36mService.start\u001b[1;34m(self)\u001b[0m\n\u001b[0;32m     70\u001b[0m     cmd\u001b[38;5;241m.\u001b[39mextend(\u001b[38;5;28mself\u001b[39m\u001b[38;5;241m.\u001b[39mcommand_line_args())\n\u001b[1;32m---> 71\u001b[0m     \u001b[38;5;28mself\u001b[39m\u001b[38;5;241m.\u001b[39mprocess \u001b[38;5;241m=\u001b[39m \u001b[43msubprocess\u001b[49m\u001b[38;5;241;43m.\u001b[39;49m\u001b[43mPopen\u001b[49m\u001b[43m(\u001b[49m\u001b[43mcmd\u001b[49m\u001b[43m,\u001b[49m\u001b[43m \u001b[49m\u001b[43menv\u001b[49m\u001b[38;5;241;43m=\u001b[39;49m\u001b[38;5;28;43mself\u001b[39;49m\u001b[38;5;241;43m.\u001b[39;49m\u001b[43menv\u001b[49m\u001b[43m,\u001b[49m\n\u001b[0;32m     72\u001b[0m \u001b[43m                                    \u001b[49m\u001b[43mclose_fds\u001b[49m\u001b[38;5;241;43m=\u001b[39;49m\u001b[43msystem\u001b[49m\u001b[43m(\u001b[49m\u001b[43m)\u001b[49m\u001b[43m \u001b[49m\u001b[38;5;241;43m!=\u001b[39;49m\u001b[43m \u001b[49m\u001b[38;5;124;43m'\u001b[39;49m\u001b[38;5;124;43mWindows\u001b[39;49m\u001b[38;5;124;43m'\u001b[39;49m\u001b[43m,\u001b[49m\n\u001b[0;32m     73\u001b[0m \u001b[43m                                    \u001b[49m\u001b[43mstdout\u001b[49m\u001b[38;5;241;43m=\u001b[39;49m\u001b[38;5;28;43mself\u001b[39;49m\u001b[38;5;241;43m.\u001b[39;49m\u001b[43mlog_file\u001b[49m\u001b[43m,\u001b[49m\n\u001b[0;32m     74\u001b[0m \u001b[43m                                    \u001b[49m\u001b[43mstderr\u001b[49m\u001b[38;5;241;43m=\u001b[39;49m\u001b[38;5;28;43mself\u001b[39;49m\u001b[38;5;241;43m.\u001b[39;49m\u001b[43mlog_file\u001b[49m\u001b[43m,\u001b[49m\n\u001b[0;32m     75\u001b[0m \u001b[43m                                    \u001b[49m\u001b[43mstdin\u001b[49m\u001b[38;5;241;43m=\u001b[39;49m\u001b[43mPIPE\u001b[49m\u001b[43m,\u001b[49m\n\u001b[0;32m     76\u001b[0m \u001b[43m                                    \u001b[49m\u001b[43mcreationflags\u001b[49m\u001b[38;5;241;43m=\u001b[39;49m\u001b[38;5;28;43mself\u001b[39;49m\u001b[38;5;241;43m.\u001b[39;49m\u001b[43mcreationflags\u001b[49m\u001b[43m)\u001b[49m\n\u001b[0;32m     77\u001b[0m \u001b[38;5;28;01mexcept\u001b[39;00m \u001b[38;5;167;01mTypeError\u001b[39;00m:\n",
      "File \u001b[1;32m~\\Anaconda3\\lib\\subprocess.py:951\u001b[0m, in \u001b[0;36mPopen.__init__\u001b[1;34m(self, args, bufsize, executable, stdin, stdout, stderr, preexec_fn, close_fds, shell, cwd, env, universal_newlines, startupinfo, creationflags, restore_signals, start_new_session, pass_fds, user, group, extra_groups, encoding, errors, text, umask)\u001b[0m\n\u001b[0;32m    948\u001b[0m             \u001b[38;5;28mself\u001b[39m\u001b[38;5;241m.\u001b[39mstderr \u001b[38;5;241m=\u001b[39m io\u001b[38;5;241m.\u001b[39mTextIOWrapper(\u001b[38;5;28mself\u001b[39m\u001b[38;5;241m.\u001b[39mstderr,\n\u001b[0;32m    949\u001b[0m                     encoding\u001b[38;5;241m=\u001b[39mencoding, errors\u001b[38;5;241m=\u001b[39merrors)\n\u001b[1;32m--> 951\u001b[0m     \u001b[38;5;28;43mself\u001b[39;49m\u001b[38;5;241;43m.\u001b[39;49m\u001b[43m_execute_child\u001b[49m\u001b[43m(\u001b[49m\u001b[43margs\u001b[49m\u001b[43m,\u001b[49m\u001b[43m \u001b[49m\u001b[43mexecutable\u001b[49m\u001b[43m,\u001b[49m\u001b[43m \u001b[49m\u001b[43mpreexec_fn\u001b[49m\u001b[43m,\u001b[49m\u001b[43m \u001b[49m\u001b[43mclose_fds\u001b[49m\u001b[43m,\u001b[49m\n\u001b[0;32m    952\u001b[0m \u001b[43m                        \u001b[49m\u001b[43mpass_fds\u001b[49m\u001b[43m,\u001b[49m\u001b[43m \u001b[49m\u001b[43mcwd\u001b[49m\u001b[43m,\u001b[49m\u001b[43m \u001b[49m\u001b[43menv\u001b[49m\u001b[43m,\u001b[49m\n\u001b[0;32m    953\u001b[0m \u001b[43m                        \u001b[49m\u001b[43mstartupinfo\u001b[49m\u001b[43m,\u001b[49m\u001b[43m \u001b[49m\u001b[43mcreationflags\u001b[49m\u001b[43m,\u001b[49m\u001b[43m \u001b[49m\u001b[43mshell\u001b[49m\u001b[43m,\u001b[49m\n\u001b[0;32m    954\u001b[0m \u001b[43m                        \u001b[49m\u001b[43mp2cread\u001b[49m\u001b[43m,\u001b[49m\u001b[43m \u001b[49m\u001b[43mp2cwrite\u001b[49m\u001b[43m,\u001b[49m\n\u001b[0;32m    955\u001b[0m \u001b[43m                        \u001b[49m\u001b[43mc2pread\u001b[49m\u001b[43m,\u001b[49m\u001b[43m \u001b[49m\u001b[43mc2pwrite\u001b[49m\u001b[43m,\u001b[49m\n\u001b[0;32m    956\u001b[0m \u001b[43m                        \u001b[49m\u001b[43merrread\u001b[49m\u001b[43m,\u001b[49m\u001b[43m \u001b[49m\u001b[43merrwrite\u001b[49m\u001b[43m,\u001b[49m\n\u001b[0;32m    957\u001b[0m \u001b[43m                        \u001b[49m\u001b[43mrestore_signals\u001b[49m\u001b[43m,\u001b[49m\n\u001b[0;32m    958\u001b[0m \u001b[43m                        \u001b[49m\u001b[43mgid\u001b[49m\u001b[43m,\u001b[49m\u001b[43m \u001b[49m\u001b[43mgids\u001b[49m\u001b[43m,\u001b[49m\u001b[43m \u001b[49m\u001b[43muid\u001b[49m\u001b[43m,\u001b[49m\u001b[43m \u001b[49m\u001b[43mumask\u001b[49m\u001b[43m,\u001b[49m\n\u001b[0;32m    959\u001b[0m \u001b[43m                        \u001b[49m\u001b[43mstart_new_session\u001b[49m\u001b[43m)\u001b[49m\n\u001b[0;32m    960\u001b[0m \u001b[38;5;28;01mexcept\u001b[39;00m:\n\u001b[0;32m    961\u001b[0m     \u001b[38;5;66;03m# Cleanup if the child failed starting.\u001b[39;00m\n",
      "File \u001b[1;32m~\\Anaconda3\\lib\\subprocess.py:1420\u001b[0m, in \u001b[0;36mPopen._execute_child\u001b[1;34m(self, args, executable, preexec_fn, close_fds, pass_fds, cwd, env, startupinfo, creationflags, shell, p2cread, p2cwrite, c2pread, c2pwrite, errread, errwrite, unused_restore_signals, unused_gid, unused_gids, unused_uid, unused_umask, unused_start_new_session)\u001b[0m\n\u001b[0;32m   1419\u001b[0m \u001b[38;5;28;01mtry\u001b[39;00m:\n\u001b[1;32m-> 1420\u001b[0m     hp, ht, pid, tid \u001b[38;5;241m=\u001b[39m \u001b[43m_winapi\u001b[49m\u001b[38;5;241;43m.\u001b[39;49m\u001b[43mCreateProcess\u001b[49m\u001b[43m(\u001b[49m\u001b[43mexecutable\u001b[49m\u001b[43m,\u001b[49m\u001b[43m \u001b[49m\u001b[43margs\u001b[49m\u001b[43m,\u001b[49m\n\u001b[0;32m   1421\u001b[0m \u001b[43m                             \u001b[49m\u001b[38;5;66;43;03m# no special security\u001b[39;49;00m\n\u001b[0;32m   1422\u001b[0m \u001b[43m                             \u001b[49m\u001b[38;5;28;43;01mNone\u001b[39;49;00m\u001b[43m,\u001b[49m\u001b[43m \u001b[49m\u001b[38;5;28;43;01mNone\u001b[39;49;00m\u001b[43m,\u001b[49m\n\u001b[0;32m   1423\u001b[0m \u001b[43m                             \u001b[49m\u001b[38;5;28;43mint\u001b[39;49m\u001b[43m(\u001b[49m\u001b[38;5;129;43;01mnot\u001b[39;49;00m\u001b[43m \u001b[49m\u001b[43mclose_fds\u001b[49m\u001b[43m)\u001b[49m\u001b[43m,\u001b[49m\n\u001b[0;32m   1424\u001b[0m \u001b[43m                             \u001b[49m\u001b[43mcreationflags\u001b[49m\u001b[43m,\u001b[49m\n\u001b[0;32m   1425\u001b[0m \u001b[43m                             \u001b[49m\u001b[43menv\u001b[49m\u001b[43m,\u001b[49m\n\u001b[0;32m   1426\u001b[0m \u001b[43m                             \u001b[49m\u001b[43mcwd\u001b[49m\u001b[43m,\u001b[49m\n\u001b[0;32m   1427\u001b[0m \u001b[43m                             \u001b[49m\u001b[43mstartupinfo\u001b[49m\u001b[43m)\u001b[49m\n\u001b[0;32m   1428\u001b[0m \u001b[38;5;28;01mfinally\u001b[39;00m:\n\u001b[0;32m   1429\u001b[0m     \u001b[38;5;66;03m# Child is launched. Close the parent's copy of those pipe\u001b[39;00m\n\u001b[0;32m   1430\u001b[0m     \u001b[38;5;66;03m# handles that only the child should have open.  You need\u001b[39;00m\n\u001b[1;32m   (...)\u001b[0m\n\u001b[0;32m   1433\u001b[0m     \u001b[38;5;66;03m# pipe will not close when the child process exits and the\u001b[39;00m\n\u001b[0;32m   1434\u001b[0m     \u001b[38;5;66;03m# ReadFile will hang.\u001b[39;00m\n",
      "\u001b[1;31mFileNotFoundError\u001b[0m: [WinError 2] The system cannot find the file specified",
      "\nDuring handling of the above exception, another exception occurred:\n",
      "\u001b[1;31mWebDriverException\u001b[0m                        Traceback (most recent call last)",
      "Input \u001b[1;32mIn [5]\u001b[0m, in \u001b[0;36m<cell line: 8>\u001b[1;34m()\u001b[0m\n\u001b[0;32m      4\u001b[0m prefs \u001b[38;5;241m=\u001b[39m {\n\u001b[0;32m      5\u001b[0m         \u001b[38;5;124m\"\u001b[39m\u001b[38;5;124mtranslate_whitelists\u001b[39m\u001b[38;5;124m\"\u001b[39m: {\u001b[38;5;124m'\u001b[39m\u001b[38;5;124mth\u001b[39m\u001b[38;5;124m'\u001b[39m:\u001b[38;5;124m'\u001b[39m\u001b[38;5;124men\u001b[39m\u001b[38;5;124m'\u001b[39m},\n\u001b[0;32m      6\u001b[0m        \u001b[38;5;124m\"\u001b[39m\u001b[38;5;124mtranslate\u001b[39m\u001b[38;5;124m\"\u001b[39m:{\u001b[38;5;124m\"\u001b[39m\u001b[38;5;124menabled\u001b[39m\u001b[38;5;124m\"\u001b[39m:\u001b[38;5;124m\"\u001b[39m\u001b[38;5;124mtrue\u001b[39m\u001b[38;5;124m\"\u001b[39m}}\n\u001b[0;32m      7\u001b[0m chrome_options\u001b[38;5;241m.\u001b[39madd_experimental_option(\u001b[38;5;124m\"\u001b[39m\u001b[38;5;124mprefs\u001b[39m\u001b[38;5;124m\"\u001b[39m, prefs)\n\u001b[1;32m----> 8\u001b[0m driver \u001b[38;5;241m=\u001b[39m \u001b[43mwebdriver\u001b[49m\u001b[38;5;241;43m.\u001b[39;49m\u001b[43mChrome\u001b[49m\u001b[43m(\u001b[49m\u001b[43mchrome_options\u001b[49m\u001b[38;5;241;43m=\u001b[39;49m\u001b[43mchrome_options\u001b[49m\u001b[43m)\u001b[49m\n\u001b[0;32m      9\u001b[0m time\u001b[38;5;241m.\u001b[39msleep(\u001b[38;5;241m5\u001b[39m)\n\u001b[0;32m     10\u001b[0m driver\u001b[38;5;241m.\u001b[39mget(\u001b[38;5;124m'\u001b[39m\u001b[38;5;124mhttps://porta.fda.moph.go.th/FDA_SEARCH_ALL/MAIN/SEARCH_CENTER_MAIN.aspx\u001b[39m\u001b[38;5;124m'\u001b[39m)\n",
      "File \u001b[1;32m~\\Anaconda3\\lib\\site-packages\\selenium\\webdriver\\chrome\\webdriver.py:69\u001b[0m, in \u001b[0;36mWebDriver.__init__\u001b[1;34m(self, executable_path, port, options, service_args, desired_capabilities, service_log_path, chrome_options, service, keep_alive)\u001b[0m\n\u001b[0;32m     66\u001b[0m \u001b[38;5;28;01mif\u001b[39;00m \u001b[38;5;129;01mnot\u001b[39;00m service:\n\u001b[0;32m     67\u001b[0m     service \u001b[38;5;241m=\u001b[39m Service(executable_path, port, service_args, service_log_path)\n\u001b[1;32m---> 69\u001b[0m \u001b[38;5;28;43msuper\u001b[39;49m\u001b[43m(\u001b[49m\u001b[43m)\u001b[49m\u001b[38;5;241;43m.\u001b[39;49m\u001b[38;5;21;43m__init__\u001b[39;49m\u001b[43m(\u001b[49m\u001b[43mDesiredCapabilities\u001b[49m\u001b[38;5;241;43m.\u001b[39;49m\u001b[43mCHROME\u001b[49m\u001b[43m[\u001b[49m\u001b[38;5;124;43m'\u001b[39;49m\u001b[38;5;124;43mbrowserName\u001b[39;49m\u001b[38;5;124;43m'\u001b[39;49m\u001b[43m]\u001b[49m\u001b[43m,\u001b[49m\u001b[43m \u001b[49m\u001b[38;5;124;43m\"\u001b[39;49m\u001b[38;5;124;43mgoog\u001b[39;49m\u001b[38;5;124;43m\"\u001b[39;49m\u001b[43m,\u001b[49m\n\u001b[0;32m     70\u001b[0m \u001b[43m                 \u001b[49m\u001b[43mport\u001b[49m\u001b[43m,\u001b[49m\u001b[43m \u001b[49m\u001b[43moptions\u001b[49m\u001b[43m,\u001b[49m\n\u001b[0;32m     71\u001b[0m \u001b[43m                 \u001b[49m\u001b[43mservice_args\u001b[49m\u001b[43m,\u001b[49m\u001b[43m \u001b[49m\u001b[43mdesired_capabilities\u001b[49m\u001b[43m,\u001b[49m\n\u001b[0;32m     72\u001b[0m \u001b[43m                 \u001b[49m\u001b[43mservice_log_path\u001b[49m\u001b[43m,\u001b[49m\u001b[43m \u001b[49m\u001b[43mservice\u001b[49m\u001b[43m,\u001b[49m\u001b[43m \u001b[49m\u001b[43mkeep_alive\u001b[49m\u001b[43m)\u001b[49m\n",
      "File \u001b[1;32m~\\Anaconda3\\lib\\site-packages\\selenium\\webdriver\\chromium\\webdriver.py:89\u001b[0m, in \u001b[0;36mChromiumDriver.__init__\u001b[1;34m(self, browser_name, vendor_prefix, port, options, service_args, desired_capabilities, service_log_path, service, keep_alive)\u001b[0m\n\u001b[0;32m     86\u001b[0m     \u001b[38;5;28;01mraise\u001b[39;00m \u001b[38;5;167;01mAttributeError\u001b[39;00m(\u001b[38;5;124m'\u001b[39m\u001b[38;5;124mservice cannot be None\u001b[39m\u001b[38;5;124m'\u001b[39m)\n\u001b[0;32m     88\u001b[0m \u001b[38;5;28mself\u001b[39m\u001b[38;5;241m.\u001b[39mservice \u001b[38;5;241m=\u001b[39m service\n\u001b[1;32m---> 89\u001b[0m \u001b[38;5;28;43mself\u001b[39;49m\u001b[38;5;241;43m.\u001b[39;49m\u001b[43mservice\u001b[49m\u001b[38;5;241;43m.\u001b[39;49m\u001b[43mstart\u001b[49m\u001b[43m(\u001b[49m\u001b[43m)\u001b[49m\n\u001b[0;32m     91\u001b[0m \u001b[38;5;28;01mtry\u001b[39;00m:\n\u001b[0;32m     92\u001b[0m     \u001b[38;5;28msuper\u001b[39m()\u001b[38;5;241m.\u001b[39m\u001b[38;5;21m__init__\u001b[39m(\n\u001b[0;32m     93\u001b[0m         command_executor\u001b[38;5;241m=\u001b[39mChromiumRemoteConnection(\n\u001b[0;32m     94\u001b[0m             remote_server_addr\u001b[38;5;241m=\u001b[39m\u001b[38;5;28mself\u001b[39m\u001b[38;5;241m.\u001b[39mservice\u001b[38;5;241m.\u001b[39mservice_url,\n\u001b[0;32m     95\u001b[0m             browser_name\u001b[38;5;241m=\u001b[39mbrowser_name, vendor_prefix\u001b[38;5;241m=\u001b[39mvendor_prefix,\n\u001b[0;32m     96\u001b[0m             keep_alive\u001b[38;5;241m=\u001b[39mkeep_alive, ignore_proxy\u001b[38;5;241m=\u001b[39m_ignore_proxy),\n\u001b[0;32m     97\u001b[0m         options\u001b[38;5;241m=\u001b[39moptions)\n",
      "File \u001b[1;32m~\\Anaconda3\\lib\\site-packages\\selenium\\webdriver\\common\\service.py:81\u001b[0m, in \u001b[0;36mService.start\u001b[1;34m(self)\u001b[0m\n\u001b[0;32m     79\u001b[0m \u001b[38;5;28;01mexcept\u001b[39;00m \u001b[38;5;167;01mOSError\u001b[39;00m \u001b[38;5;28;01mas\u001b[39;00m err:\n\u001b[0;32m     80\u001b[0m     \u001b[38;5;28;01mif\u001b[39;00m err\u001b[38;5;241m.\u001b[39merrno \u001b[38;5;241m==\u001b[39m errno\u001b[38;5;241m.\u001b[39mENOENT:\n\u001b[1;32m---> 81\u001b[0m         \u001b[38;5;28;01mraise\u001b[39;00m WebDriverException(\n\u001b[0;32m     82\u001b[0m             \u001b[38;5;124m\"\u001b[39m\u001b[38;5;124m'\u001b[39m\u001b[38;5;132;01m{}\u001b[39;00m\u001b[38;5;124m'\u001b[39m\u001b[38;5;124m executable needs to be in PATH. \u001b[39m\u001b[38;5;132;01m{}\u001b[39;00m\u001b[38;5;124m\"\u001b[39m\u001b[38;5;241m.\u001b[39mformat(\n\u001b[0;32m     83\u001b[0m                 os\u001b[38;5;241m.\u001b[39mpath\u001b[38;5;241m.\u001b[39mbasename(\u001b[38;5;28mself\u001b[39m\u001b[38;5;241m.\u001b[39mpath), \u001b[38;5;28mself\u001b[39m\u001b[38;5;241m.\u001b[39mstart_error_message)\n\u001b[0;32m     84\u001b[0m         )\n\u001b[0;32m     85\u001b[0m     \u001b[38;5;28;01melif\u001b[39;00m err\u001b[38;5;241m.\u001b[39merrno \u001b[38;5;241m==\u001b[39m errno\u001b[38;5;241m.\u001b[39mEACCES:\n\u001b[0;32m     86\u001b[0m         \u001b[38;5;28;01mraise\u001b[39;00m WebDriverException(\n\u001b[0;32m     87\u001b[0m             \u001b[38;5;124m\"\u001b[39m\u001b[38;5;124m'\u001b[39m\u001b[38;5;132;01m{}\u001b[39;00m\u001b[38;5;124m'\u001b[39m\u001b[38;5;124m executable may have wrong permissions. \u001b[39m\u001b[38;5;132;01m{}\u001b[39;00m\u001b[38;5;124m\"\u001b[39m\u001b[38;5;241m.\u001b[39mformat(\n\u001b[0;32m     88\u001b[0m                 os\u001b[38;5;241m.\u001b[39mpath\u001b[38;5;241m.\u001b[39mbasename(\u001b[38;5;28mself\u001b[39m\u001b[38;5;241m.\u001b[39mpath), \u001b[38;5;28mself\u001b[39m\u001b[38;5;241m.\u001b[39mstart_error_message)\n\u001b[0;32m     89\u001b[0m         )\n",
      "\u001b[1;31mWebDriverException\u001b[0m: Message: 'chromedriver' executable needs to be in PATH. Please see https://chromedriver.chromium.org/home\n"
     ]
    }
   ],
   "source": [
    "chrome_options = Options()\n",
    "chrome_options.add_argument(\"--lang=en\");\n",
    "chrome_options.add_experimental_option('excludeSwitches', ['enable-logging'])\n",
    "prefs = {\n",
    "        \"translate_whitelists\": {'th':'en'},\n",
    "       \"translate\":{\"enabled\":\"true\"}}\n",
    "chrome_options.add_experimental_option(\"prefs\", prefs)\n",
    "driver = webdriver.Chrome(chrome_options=chrome_options)\n",
    "time.sleep(5)\n",
    "driver.get('https://porta.fda.moph.go.th/FDA_SEARCH_ALL/MAIN/SEARCH_CENTER_MAIN.aspx')\n",
    "time.sleep(5)\n",
    "\n",
    "driver.maximize_window()\n",
    "\n",
    "driver.find_element(By.XPATH , \"//div[@class = 'modal-content']/div[@class='modal-footer']/button[@class = 'btn btn-default']\").click()\n",
    "time.sleep(4)\n",
    "\n",
    "driver.find_element(By.XPATH , \"//div[@class = 'col-lg-2 col-md-2']/table/tbody/tr/td/input[@id = 'ContentPlaceHolder1_R_LIST']\").click()\n",
    "time.sleep(4)\n",
    "\n",
    "driver.find_element(By.ID , 'ContentPlaceHolder1_CheckBoxList1').find_element(By.XPATH , \"//tbody/tr[7]\").click()\n",
    "time.sleep(4)\n",
    "\n",
    "driver.execute_script(\"window.scrollTo(0, document.body.scrollHeight);\")\n",
    "time.sleep(3)"
   ]
  },
  {
   "cell_type": "code",
   "execution_count": 66,
   "metadata": {},
   "outputs": [],
   "source": [
    "#table = pd.read_html(website1)\n",
    "#print('Tables found:', len(table))\n",
    "#table[0]"
   ]
  },
  {
   "cell_type": "markdown",
   "metadata": {},
   "source": [
    "#### Product Types"
   ]
  },
  {
   "cell_type": "code",
   "execution_count": 4,
   "metadata": {},
   "outputs": [
    {
     "ename": "NameError",
     "evalue": "name 'driver' is not defined",
     "output_type": "error",
     "traceback": [
      "\u001b[1;31m---------------------------------------------------------------------------\u001b[0m",
      "\u001b[1;31mNameError\u001b[0m                                 Traceback (most recent call last)",
      "Input \u001b[1;32mIn [4]\u001b[0m, in \u001b[0;36m<cell line: 1>\u001b[1;34m()\u001b[0m\n\u001b[1;32m----> 1\u001b[0m \u001b[43mdriver\u001b[49m\u001b[38;5;241m.\u001b[39mfind_element(By\u001b[38;5;241m.\u001b[39mXPATH , \u001b[38;5;124m\"\u001b[39m\u001b[38;5;124m//table[@id=\u001b[39m\u001b[38;5;124m'\u001b[39m\u001b[38;5;124mContentPlaceHolder1_RadGrid1_ctl00\u001b[39m\u001b[38;5;124m'\u001b[39m\u001b[38;5;124m]/tbody/tr/td[2]\u001b[39m\u001b[38;5;124m\"\u001b[39m)\u001b[38;5;241m.\u001b[39mtext\n",
      "\u001b[1;31mNameError\u001b[0m: name 'driver' is not defined"
     ]
    }
   ],
   "source": [
    "driver.find_element(By.XPATH , \"//table[@id='ContentPlaceHolder1_RadGrid1_ctl00']/tbody/tr/td[2]\").text"
   ]
  },
  {
   "cell_type": "code",
   "execution_count": 77,
   "metadata": {},
   "outputs": [],
   "source": [
    "Product_types = driver.find_elements(By.XPATH , \"//table[@id='ContentPlaceHolder1_RadGrid1_ctl00']/tbody/tr/td[2]\")"
   ]
  },
  {
   "cell_type": "code",
   "execution_count": 79,
   "metadata": {},
   "outputs": [
    {
     "name": "stdout",
     "output_type": "stream",
     "text": [
      "medical equipment\n",
      "medical equipment\n",
      "medical equipment\n",
      "medical equipment\n",
      "medical equipment\n",
      "medical equipment\n",
      "medical equipment\n",
      "medical equipment\n",
      "medical equipment\n",
      "medical equipment\n"
     ]
    }
   ],
   "source": [
    "for i in Product_types:\n",
    "    print(i.text)"
   ]
  },
  {
   "cell_type": "markdown",
   "metadata": {},
   "source": [
    "#### CAT_NOS"
   ]
  },
  {
   "cell_type": "code",
   "execution_count": 80,
   "metadata": {},
   "outputs": [],
   "source": [
    "CAT_NOS = driver.find_elements(By.XPATH , \"//table[@id='ContentPlaceHolder1_RadGrid1_ctl00']/tbody/tr/td[3]\")"
   ]
  },
  {
   "cell_type": "code",
   "execution_count": 81,
   "metadata": {},
   "outputs": [
    {
     "name": "stdout",
     "output_type": "stream",
     "text": [
      "None50\n",
      "None182\n",
      "13-1641VASL\n",
      "13-1641VASL-3\n",
      "13-1641\n",
      "13-1641BPW\n",
      "13-1641VA\n",
      "13-1641VASL\n",
      "13-1641VASL-3\n",
      "13-1643\n"
     ]
    }
   ],
   "source": [
    "for i in CAT_NOS:\n",
    "    print(i.text)"
   ]
  },
  {
   "cell_type": "markdown",
   "metadata": {},
   "source": [
    "#### Certificate_Licenses"
   ]
  },
  {
   "cell_type": "code",
   "execution_count": 84,
   "metadata": {},
   "outputs": [],
   "source": [
    "Cert_Licenses = driver.find_elements(By.XPATH , \"//table[@id='ContentPlaceHolder1_RadGrid1_ctl00']/tbody/tr/td[5]\")"
   ]
  },
  {
   "cell_type": "code",
   "execution_count": 85,
   "metadata": {},
   "outputs": [
    {
     "name": "stdout",
     "output_type": "stream",
     "text": [
      "USA5805703\n",
      "USA5904658\n",
      "DEU5601076\n",
      "DEU5601076\n",
      "DEU5805277\n",
      "DEU5805277\n",
      "DEU5805277\n",
      "DEU5805277\n",
      "DEU5805277\n",
      "DEU5805277\n"
     ]
    }
   ],
   "source": [
    "for i in Cert_Licenses:\n",
    "    print(i.text)"
   ]
  },
  {
   "cell_type": "markdown",
   "metadata": {},
   "source": [
    "#### Product_Names"
   ]
  },
  {
   "cell_type": "code",
   "execution_count": 87,
   "metadata": {},
   "outputs": [],
   "source": [
    "Product_Names = driver.find_elements(By.XPATH , \"//table[@id='ContentPlaceHolder1_RadGrid1_ctl00']/tbody/tr/td[6]\")"
   ]
  },
  {
   "cell_type": "code",
   "execution_count": 88,
   "metadata": {},
   "outputs": [
    {
     "name": "stdout",
     "output_type": "stream",
     "text": [
      "AEC ELECTRONICS FOR DR generators\n",
      "AEC ELECTRONICS FOR DR generators\n",
      "AEC ELECTRONICS FOR DR generators\n",
      "AEC ELECTRONICS FOR DR generators DRX-ASCEND SYSTEM Accessories\n",
      "Bipolar cable for US-Generators\n",
      "Bipolar cable for US-Generators\n",
      "Bipolar cable for US-Generators\n",
      "Bipolar cable for US-Generators\n",
      "Bipolar cable for US-Generators\n",
      "Bipolar cable for US-Generators\n",
      "Bipolar cable for US-Generators\n",
      "Bipolar cable for US-Generators\n",
      "Bipolar cable for US-Generators\n",
      "Bipolar cable for US-Generators\n",
      "Bipolar cable for US-Generators\n",
      "Bipolar cable for US-Generators\n",
      "Bipolar cable for US-Generators\n",
      "Bipolar cable for US-Generators\n",
      "Bipolar cable for ERBE Generators\n",
      "Bipolar cable for ERBE Generators\n"
     ]
    }
   ],
   "source": [
    "for i in Product_Names:\n",
    "    print(i.text)"
   ]
  },
  {
   "cell_type": "markdown",
   "metadata": {},
   "source": [
    "#### trade_names"
   ]
  },
  {
   "cell_type": "code",
   "execution_count": 92,
   "metadata": {},
   "outputs": [],
   "source": [
    "trade_names = driver.find_elements(By.XPATH , \"//table[@id='ContentPlaceHolder1_RadGrid1_ctl00']/tbody/tr/td[7]\")"
   ]
  },
  {
   "cell_type": "code",
   "execution_count": 96,
   "metadata": {},
   "outputs": [
    {
     "name": "stdout",
     "output_type": "stream",
     "text": [
      " \n",
      "DRX-ASCEND SYSTEM Accessories\n",
      " \n",
      " \n",
      " \n",
      " \n",
      " \n",
      " \n",
      " \n",
      " \n"
     ]
    }
   ],
   "source": [
    "for i in trade_names:\n",
    "    print(i.text)"
   ]
  },
  {
   "cell_type": "code",
   "execution_count": 103,
   "metadata": {},
   "outputs": [],
   "source": [
    "Licensee_Names = driver.find_elements(By.XPATH , \"//table[@id='ContentPlaceHolder1_RadGrid1_ctl00']/tbody/tr/td[9]\")"
   ]
  },
  {
   "cell_type": "code",
   "execution_count": 104,
   "metadata": {},
   "outputs": [
    {
     "name": "stdout",
     "output_type": "stream",
     "text": [
      "Carestream Health (Thailand) Co., Ltd.\n",
      "Carestream Health (Thailand) Co., Ltd.\n",
      "Astras Medical Co., Ltd.\n",
      "Astras Medical Co., Ltd.\n",
      "Astras Medical Co., Ltd.\n",
      "Astras Medical Co., Ltd.\n",
      "Astras Medical Co., Ltd.\n",
      "Astras Medical Co., Ltd.\n",
      "Astras Medical Co., Ltd.\n",
      "Astras Medical Co., Ltd.\n"
     ]
    }
   ],
   "source": [
    "for i in Licensee_Names:\n",
    "    print(i.text)"
   ]
  },
  {
   "cell_type": "markdown",
   "metadata": {},
   "source": [
    "#### Product_details"
   ]
  },
  {
   "cell_type": "code",
   "execution_count": 108,
   "metadata": {},
   "outputs": [],
   "source": [
    "Product_details = driver.find_elements(By.XPATH , \"//table[@id='ContentPlaceHolder1_RadGrid1_ctl00']/tbody/tr/td[10]\")"
   ]
  },
  {
   "cell_type": "code",
   "execution_count": 109,
   "metadata": {},
   "outputs": [
    {
     "name": "stdout",
     "output_type": "stream",
     "text": [
      "AEC ELECTRONICS FOR DR GENERATORS\n",
      "AEC ELECTRONICS FOR DR GENERATORS\n",
      "Bipolar cable for US-Generators\n",
      "Bipolar cable for US-Generators\n",
      "Bipolar cable for US-Generators\n",
      "Bipolar cable for US-Generators\n",
      "Bipolar cable for US-Generators\n",
      "Bipolar cable for US-Generators\n",
      "Bipolar cable for US-Generators\n",
      "Bipolar cable for ERBE Generators\n"
     ]
    }
   ],
   "source": [
    "for i in Product_details:\n",
    "    print(i.text)"
   ]
  },
  {
   "cell_type": "markdown",
   "metadata": {},
   "source": [
    "#### New_Codes "
   ]
  },
  {
   "cell_type": "code",
   "execution_count": 111,
   "metadata": {},
   "outputs": [],
   "source": [
    "New_Codes = driver.find_elements(By.XPATH , \"//table[@id='ContentPlaceHolder1_RadGrid1_ctl00']/tbody/tr/td[11]\")"
   ]
  },
  {
   "cell_type": "code",
   "execution_count": 112,
   "metadata": {},
   "outputs": [
    {
     "name": "stdout",
     "output_type": "stream",
     "text": [
      "U1MC00010200727000004040C\n",
      "U1MC000102007320000259259C\n",
      "U1MC000102010340000133133C\n",
      "U1MC000102010340000134134C\n",
      "U1MC0001020103400017001700C\n",
      "U1MC0001020103400017011701C\n",
      "U1MC0001020103400017021702C\n",
      "U1MC0001020103400017031703C\n",
      "U1MC0001020103400017041704C\n",
      "U1MC0001020103400017071707C\n"
     ]
    }
   ],
   "source": [
    "for i in New_Codes:\n",
    "    print(i.text)"
   ]
  },
  {
   "cell_type": "markdown",
   "metadata": {},
   "source": [
    "#### Statuss"
   ]
  },
  {
   "cell_type": "code",
   "execution_count": 117,
   "metadata": {},
   "outputs": [],
   "source": [
    "Statuss = driver.find_elements(By.XPATH , \"//table[@id='ContentPlaceHolder1_RadGrid1_ctl00']/tbody/tr/td[15]\")"
   ]
  },
  {
   "cell_type": "code",
   "execution_count": 118,
   "metadata": {},
   "outputs": [
    {
     "name": "stdout",
     "output_type": "stream",
     "text": [
      "expire\n",
      "expire\n",
      "expire\n",
      "expire\n",
      "expire\n",
      "expire\n",
      "expire\n",
      "expire\n",
      "expire\n",
      "expire\n"
     ]
    }
   ],
   "source": [
    "for i in Statuss:\n",
    "    print(i.text)"
   ]
  },
  {
   "cell_type": "markdown",
   "metadata": {},
   "source": [
    "### For One Page"
   ]
  },
  {
   "cell_type": "code",
   "execution_count": 120,
   "metadata": {},
   "outputs": [],
   "source": [
    "Product_types = driver.find_elements(By.XPATH , \"//table[@id='ContentPlaceHolder1_RadGrid1_ctl00']/tbody/tr/td[2]\")\n",
    "CAT_NOS = driver.find_elements(By.XPATH , \"//table[@id='ContentPlaceHolder1_RadGrid1_ctl00']/tbody/tr/td[3]\")\n",
    "Cert_Licenses = driver.find_elements(By.XPATH , \"//table[@id='ContentPlaceHolder1_RadGrid1_ctl00']/tbody/tr/td[5]\")\n",
    "Product_Names = driver.find_elements(By.XPATH , \"//table[@id='ContentPlaceHolder1_RadGrid1_ctl00']/tbody/tr/td[6]\")\n",
    "trade_names = driver.find_elements(By.XPATH , \"//table[@id='ContentPlaceHolder1_RadGrid1_ctl00']/tbody/tr/td[7]\")\n",
    "Licensee_Names = driver.find_elements(By.XPATH , \"//table[@id='ContentPlaceHolder1_RadGrid1_ctl00']/tbody/tr/td[9]\")\n",
    "Product_details = driver.find_elements(By.XPATH , \"//table[@id='ContentPlaceHolder1_RadGrid1_ctl00']/tbody/tr/td[10]\")\n",
    "New_Codes = driver.find_elements(By.XPATH , \"//table[@id='ContentPlaceHolder1_RadGrid1_ctl00']/tbody/tr/td[11]\")\n",
    "Statuss = driver.find_elements(By.XPATH , \"//table[@id='ContentPlaceHolder1_RadGrid1_ctl00']/tbody/tr/td[15]\")\n",
    "\n",
    "Product_result = []\n",
    "\n",
    "for i in range(len(Product_types)):\n",
    "    temporary_data = {'Product_type': Product_types[i].text,\n",
    "                    'CAT_NO': CAT_NOS[i].text,\n",
    "                     'Cert_License' : Cert_Licenses[i].text,\n",
    "                     'Product_Name' : Product_Names[i].text,\n",
    "                     'trade_name' : trade_names[i].text,\n",
    "                     'Licensee_Name' : Licensee_Names[i].text,\n",
    "                     'Product_details' : Product_details[i].text,\n",
    "                     'New_Codes' : New_Codes[i].text,\n",
    "                     'Status' : Statuss[i].text}\n",
    "    Product_result.append(temporary_data)"
   ]
  },
  {
   "cell_type": "code",
   "execution_count": 121,
   "metadata": {},
   "outputs": [],
   "source": [
    "df_data= pd.DataFrame(Product_result)"
   ]
  },
  {
   "cell_type": "code",
   "execution_count": 122,
   "metadata": {},
   "outputs": [
    {
     "data": {
      "text/plain": [
       "(10, 9)"
      ]
     },
     "execution_count": 122,
     "metadata": {},
     "output_type": "execute_result"
    }
   ],
   "source": [
    "df_data.shape"
   ]
  },
  {
   "cell_type": "code",
   "execution_count": 123,
   "metadata": {},
   "outputs": [
    {
     "data": {
      "text/html": [
       "<div>\n",
       "<style scoped>\n",
       "    .dataframe tbody tr th:only-of-type {\n",
       "        vertical-align: middle;\n",
       "    }\n",
       "\n",
       "    .dataframe tbody tr th {\n",
       "        vertical-align: top;\n",
       "    }\n",
       "\n",
       "    .dataframe thead th {\n",
       "        text-align: right;\n",
       "    }\n",
       "</style>\n",
       "<table border=\"1\" class=\"dataframe\">\n",
       "  <thead>\n",
       "    <tr style=\"text-align: right;\">\n",
       "      <th></th>\n",
       "      <th>Product_type</th>\n",
       "      <th>CAT_NO</th>\n",
       "      <th>Cert_License</th>\n",
       "      <th>Product_Name</th>\n",
       "      <th>trade_name</th>\n",
       "      <th>Licensee_Name</th>\n",
       "      <th>Product_details</th>\n",
       "      <th>New_Codes</th>\n",
       "      <th>Status</th>\n",
       "    </tr>\n",
       "  </thead>\n",
       "  <tbody>\n",
       "    <tr>\n",
       "      <th>0</th>\n",
       "      <td>medical equipment</td>\n",
       "      <td>None50</td>\n",
       "      <td>USA5805703</td>\n",
       "      <td>AEC ELECTRONICS FOR DR generators\\nAEC ELECTRO...</td>\n",
       "      <td></td>\n",
       "      <td>Carestream Health (Thailand) Co., Ltd.</td>\n",
       "      <td>AEC ELECTRONICS FOR DR GENERATORS</td>\n",
       "      <td>U1MC00010200727000004040C</td>\n",
       "      <td>expire</td>\n",
       "    </tr>\n",
       "    <tr>\n",
       "      <th>1</th>\n",
       "      <td>medical equipment</td>\n",
       "      <td>None182</td>\n",
       "      <td>USA5904658</td>\n",
       "      <td>AEC ELECTRONICS FOR DR generators\\nAEC ELECTRO...</td>\n",
       "      <td>DRX-ASCEND SYSTEM Accessories</td>\n",
       "      <td>Carestream Health (Thailand) Co., Ltd.</td>\n",
       "      <td>AEC ELECTRONICS FOR DR GENERATORS</td>\n",
       "      <td>U1MC000102007320000259259C</td>\n",
       "      <td>expire</td>\n",
       "    </tr>\n",
       "    <tr>\n",
       "      <th>2</th>\n",
       "      <td>medical equipment</td>\n",
       "      <td>13-1641VASL</td>\n",
       "      <td>DEU5601076</td>\n",
       "      <td>Bipolar cable for US-Generators\\nBipolar cable...</td>\n",
       "      <td></td>\n",
       "      <td>Astras Medical Co., Ltd.</td>\n",
       "      <td>Bipolar cable for US-Generators</td>\n",
       "      <td>U1MC000102010340000133133C</td>\n",
       "      <td>expire</td>\n",
       "    </tr>\n",
       "    <tr>\n",
       "      <th>3</th>\n",
       "      <td>medical equipment</td>\n",
       "      <td>13-1641VASL-3</td>\n",
       "      <td>DEU5601076</td>\n",
       "      <td>Bipolar cable for US-Generators\\nBipolar cable...</td>\n",
       "      <td></td>\n",
       "      <td>Astras Medical Co., Ltd.</td>\n",
       "      <td>Bipolar cable for US-Generators</td>\n",
       "      <td>U1MC000102010340000134134C</td>\n",
       "      <td>expire</td>\n",
       "    </tr>\n",
       "    <tr>\n",
       "      <th>4</th>\n",
       "      <td>medical equipment</td>\n",
       "      <td>13-1641</td>\n",
       "      <td>DEU5805277</td>\n",
       "      <td>Bipolar cable for US-Generators\\nBipolar cable...</td>\n",
       "      <td></td>\n",
       "      <td>Astras Medical Co., Ltd.</td>\n",
       "      <td>Bipolar cable for US-Generators</td>\n",
       "      <td>U1MC0001020103400017001700C</td>\n",
       "      <td>expire</td>\n",
       "    </tr>\n",
       "    <tr>\n",
       "      <th>5</th>\n",
       "      <td>medical equipment</td>\n",
       "      <td>13-1641BPW</td>\n",
       "      <td>DEU5805277</td>\n",
       "      <td>Bipolar cable for US-Generators\\nBipolar cable...</td>\n",
       "      <td></td>\n",
       "      <td>Astras Medical Co., Ltd.</td>\n",
       "      <td>Bipolar cable for US-Generators</td>\n",
       "      <td>U1MC0001020103400017011701C</td>\n",
       "      <td>expire</td>\n",
       "    </tr>\n",
       "    <tr>\n",
       "      <th>6</th>\n",
       "      <td>medical equipment</td>\n",
       "      <td>13-1641VA</td>\n",
       "      <td>DEU5805277</td>\n",
       "      <td>Bipolar cable for US-Generators\\nBipolar cable...</td>\n",
       "      <td></td>\n",
       "      <td>Astras Medical Co., Ltd.</td>\n",
       "      <td>Bipolar cable for US-Generators</td>\n",
       "      <td>U1MC0001020103400017021702C</td>\n",
       "      <td>expire</td>\n",
       "    </tr>\n",
       "    <tr>\n",
       "      <th>7</th>\n",
       "      <td>medical equipment</td>\n",
       "      <td>13-1641VASL</td>\n",
       "      <td>DEU5805277</td>\n",
       "      <td>Bipolar cable for US-Generators\\nBipolar cable...</td>\n",
       "      <td></td>\n",
       "      <td>Astras Medical Co., Ltd.</td>\n",
       "      <td>Bipolar cable for US-Generators</td>\n",
       "      <td>U1MC0001020103400017031703C</td>\n",
       "      <td>expire</td>\n",
       "    </tr>\n",
       "    <tr>\n",
       "      <th>8</th>\n",
       "      <td>medical equipment</td>\n",
       "      <td>13-1641VASL-3</td>\n",
       "      <td>DEU5805277</td>\n",
       "      <td>Bipolar cable for US-Generators\\nBipolar cable...</td>\n",
       "      <td></td>\n",
       "      <td>Astras Medical Co., Ltd.</td>\n",
       "      <td>Bipolar cable for US-Generators</td>\n",
       "      <td>U1MC0001020103400017041704C</td>\n",
       "      <td>expire</td>\n",
       "    </tr>\n",
       "    <tr>\n",
       "      <th>9</th>\n",
       "      <td>medical equipment</td>\n",
       "      <td>13-1643</td>\n",
       "      <td>DEU5805277</td>\n",
       "      <td>Bipolar cable for ERBE Generators\\nBipolar cab...</td>\n",
       "      <td></td>\n",
       "      <td>Astras Medical Co., Ltd.</td>\n",
       "      <td>Bipolar cable for ERBE Generators</td>\n",
       "      <td>U1MC0001020103400017071707C</td>\n",
       "      <td>expire</td>\n",
       "    </tr>\n",
       "  </tbody>\n",
       "</table>\n",
       "</div>"
      ],
      "text/plain": [
       "        Product_type         CAT_NO Cert_License  \\\n",
       "0  medical equipment         None50   USA5805703   \n",
       "1  medical equipment        None182   USA5904658   \n",
       "2  medical equipment    13-1641VASL   DEU5601076   \n",
       "3  medical equipment  13-1641VASL-3   DEU5601076   \n",
       "4  medical equipment        13-1641   DEU5805277   \n",
       "5  medical equipment     13-1641BPW   DEU5805277   \n",
       "6  medical equipment      13-1641VA   DEU5805277   \n",
       "7  medical equipment    13-1641VASL   DEU5805277   \n",
       "8  medical equipment  13-1641VASL-3   DEU5805277   \n",
       "9  medical equipment        13-1643   DEU5805277   \n",
       "\n",
       "                                        Product_Name  \\\n",
       "0  AEC ELECTRONICS FOR DR generators\\nAEC ELECTRO...   \n",
       "1  AEC ELECTRONICS FOR DR generators\\nAEC ELECTRO...   \n",
       "2  Bipolar cable for US-Generators\\nBipolar cable...   \n",
       "3  Bipolar cable for US-Generators\\nBipolar cable...   \n",
       "4  Bipolar cable for US-Generators\\nBipolar cable...   \n",
       "5  Bipolar cable for US-Generators\\nBipolar cable...   \n",
       "6  Bipolar cable for US-Generators\\nBipolar cable...   \n",
       "7  Bipolar cable for US-Generators\\nBipolar cable...   \n",
       "8  Bipolar cable for US-Generators\\nBipolar cable...   \n",
       "9  Bipolar cable for ERBE Generators\\nBipolar cab...   \n",
       "\n",
       "                      trade_name                           Licensee_Name  \\\n",
       "0                                 Carestream Health (Thailand) Co., Ltd.   \n",
       "1  DRX-ASCEND SYSTEM Accessories  Carestream Health (Thailand) Co., Ltd.   \n",
       "2                                               Astras Medical Co., Ltd.   \n",
       "3                                               Astras Medical Co., Ltd.   \n",
       "4                                               Astras Medical Co., Ltd.   \n",
       "5                                               Astras Medical Co., Ltd.   \n",
       "6                                               Astras Medical Co., Ltd.   \n",
       "7                                               Astras Medical Co., Ltd.   \n",
       "8                                               Astras Medical Co., Ltd.   \n",
       "9                                               Astras Medical Co., Ltd.   \n",
       "\n",
       "                     Product_details                    New_Codes  Status  \n",
       "0  AEC ELECTRONICS FOR DR GENERATORS    U1MC00010200727000004040C  expire  \n",
       "1  AEC ELECTRONICS FOR DR GENERATORS   U1MC000102007320000259259C  expire  \n",
       "2    Bipolar cable for US-Generators   U1MC000102010340000133133C  expire  \n",
       "3    Bipolar cable for US-Generators   U1MC000102010340000134134C  expire  \n",
       "4    Bipolar cable for US-Generators  U1MC0001020103400017001700C  expire  \n",
       "5    Bipolar cable for US-Generators  U1MC0001020103400017011701C  expire  \n",
       "6    Bipolar cable for US-Generators  U1MC0001020103400017021702C  expire  \n",
       "7    Bipolar cable for US-Generators  U1MC0001020103400017031703C  expire  \n",
       "8    Bipolar cable for US-Generators  U1MC0001020103400017041704C  expire  \n",
       "9  Bipolar cable for ERBE Generators  U1MC0001020103400017071707C  expire  "
      ]
     },
     "execution_count": 123,
     "metadata": {},
     "output_type": "execute_result"
    }
   ],
   "source": [
    "df_data.head(10)"
   ]
  },
  {
   "cell_type": "markdown",
   "metadata": {},
   "source": [
    "#### Find the NEXT button for Multiple Pages"
   ]
  },
  {
   "cell_type": "code",
   "execution_count": 127,
   "metadata": {},
   "outputs": [],
   "source": [
    "NEXT = driver.find_element(By.XPATH , \"//div[@class='rgWrap rgArrPart2']/input[@class='rgPageNext']\").click()"
   ]
  },
  {
   "cell_type": "markdown",
   "metadata": {},
   "source": [
    "### For multiple Pages"
   ]
  },
  {
   "cell_type": "code",
   "execution_count": 113,
   "metadata": {},
   "outputs": [],
   "source": [
    "Product_result_Final = pd.DataFrame([])\n",
    "counter = 0\n",
    "while counter < 100:\n",
    "    \n",
    "    driver.execute_script(\"window.scrollTo(0, document.body.scrollHeight);\")\n",
    "    time.sleep(4)\n",
    "    Product_types = driver.find_elements(By.XPATH , \"//table[@id='ContentPlaceHolder1_RadGrid1_ctl00']/tbody/tr/td[2]\")\n",
    "    CAT_NOS = driver.find_elements(By.XPATH , \"//table[@id='ContentPlaceHolder1_RadGrid1_ctl00']/tbody/tr/td[3]\")\n",
    "    Cert_Licenses = driver.find_elements(By.XPATH , \"//table[@id='ContentPlaceHolder1_RadGrid1_ctl00']/tbody/tr/td[5]\")\n",
    "    Product_Names = driver.find_elements(By.XPATH , \"//table[@id='ContentPlaceHolder1_RadGrid1_ctl00']/tbody/tr/td[6]\")\n",
    "    trade_names = driver.find_elements(By.XPATH , \"//table[@id='ContentPlaceHolder1_RadGrid1_ctl00']/tbody/tr/td[7]\")\n",
    "    Licensee_Names = driver.find_elements(By.XPATH , \"//table[@id='ContentPlaceHolder1_RadGrid1_ctl00']/tbody/tr/td[9]\")\n",
    "    Product_details = driver.find_elements(By.XPATH , \"//table[@id='ContentPlaceHolder1_RadGrid1_ctl00']/tbody/tr/td[10]\")\n",
    "    New_Codes = driver.find_elements(By.XPATH , \"//table[@id='ContentPlaceHolder1_RadGrid1_ctl00']/tbody/tr/td[11]\")\n",
    "    Statuss = driver.find_elements(By.XPATH , \"//table[@id='ContentPlaceHolder1_RadGrid1_ctl00']/tbody/tr/td[15]\")\n",
    "\n",
    "    Product_result = []\n",
    "\n",
    "    for i in range(len(Product_types)):\n",
    "        temporary_data = {'Product_type': Product_types[i].text,\n",
    "                        'CAT_NO': CAT_NOS[i].text,\n",
    "                         'Cert_License' : Cert_Licenses[i].text,\n",
    "                         'Product_Name' : Product_Names[i].text,\n",
    "                         'trade_name' : trade_names[i].text,\n",
    "                         'Licensee_Name' : Licensee_Names[i].text,\n",
    "                         'Product_details' : Product_details[i].text,\n",
    "                         'New_Codes' : New_Codes[i].text,\n",
    "                         'Status' : Statuss[i].text}\n",
    "        Product_result.append(temporary_data)\n",
    "    df_data= pd.DataFrame(Product_result)\n",
    "    Product_result_Final = Product_result_Final.append(df_data , ignore_index = True)\n",
    "        \n",
    "    time.sleep(3)\n",
    "    driver.find_element(By.XPATH , \"//div[@class='rgWrap rgArrPart2']/input[@class='rgPageNext']\").click()\n",
    "    time.sleep(5)\n",
    "    counter += 1"
   ]
  },
  {
   "cell_type": "code",
   "execution_count": 146,
   "metadata": {},
   "outputs": [
    {
     "data": {
      "text/html": [
       "<div>\n",
       "<style scoped>\n",
       "    .dataframe tbody tr th:only-of-type {\n",
       "        vertical-align: middle;\n",
       "    }\n",
       "\n",
       "    .dataframe tbody tr th {\n",
       "        vertical-align: top;\n",
       "    }\n",
       "\n",
       "    .dataframe thead th {\n",
       "        text-align: right;\n",
       "    }\n",
       "</style>\n",
       "<table border=\"1\" class=\"dataframe\">\n",
       "  <thead>\n",
       "    <tr style=\"text-align: right;\">\n",
       "      <th></th>\n",
       "      <th>Product_type</th>\n",
       "      <th>CAT_NO</th>\n",
       "      <th>Cert_License</th>\n",
       "      <th>Product_Name</th>\n",
       "      <th>trade_name</th>\n",
       "      <th>Licensee_Name</th>\n",
       "      <th>Product_details</th>\n",
       "      <th>New_Codes</th>\n",
       "      <th>Status</th>\n",
       "    </tr>\n",
       "  </thead>\n",
       "  <tbody>\n",
       "    <tr>\n",
       "      <th>0</th>\n",
       "      <td>medical equipment</td>\n",
       "      <td>None50</td>\n",
       "      <td>USA5805703</td>\n",
       "      <td>AEC ELECTRONICS FOR DR generators\\nAEC ELECTRO...</td>\n",
       "      <td></td>\n",
       "      <td>Carestream Health (Thailand) Co., Ltd.</td>\n",
       "      <td>AEC ELECTRONICS FOR DR GENERATORS</td>\n",
       "      <td>U1MC00010200727000004040C</td>\n",
       "      <td>expire</td>\n",
       "    </tr>\n",
       "    <tr>\n",
       "      <th>1</th>\n",
       "      <td>medical equipment</td>\n",
       "      <td>None182</td>\n",
       "      <td>USA5904658</td>\n",
       "      <td>AEC ELECTRONICS FOR DR generators\\nAEC ELECTRO...</td>\n",
       "      <td>DRX-ASCEND SYSTEM Accessories</td>\n",
       "      <td>Carestream Health (Thailand) Co., Ltd.</td>\n",
       "      <td>AEC ELECTRONICS FOR DR GENERATORS</td>\n",
       "      <td>U1MC000102007320000259259C</td>\n",
       "      <td>expire</td>\n",
       "    </tr>\n",
       "    <tr>\n",
       "      <th>2</th>\n",
       "      <td>medical equipment</td>\n",
       "      <td>13-1641VASL</td>\n",
       "      <td>DEU5601076</td>\n",
       "      <td>Bipolar cable for US-Generators\\nBipolar cable...</td>\n",
       "      <td></td>\n",
       "      <td>Astras Medical Co., Ltd.</td>\n",
       "      <td>Bipolar cable for US-Generators</td>\n",
       "      <td>U1MC000102010340000133133C</td>\n",
       "      <td>expire</td>\n",
       "    </tr>\n",
       "  </tbody>\n",
       "</table>\n",
       "</div>"
      ],
      "text/plain": [
       "        Product_type       CAT_NO Cert_License  \\\n",
       "0  medical equipment       None50   USA5805703   \n",
       "1  medical equipment      None182   USA5904658   \n",
       "2  medical equipment  13-1641VASL   DEU5601076   \n",
       "\n",
       "                                        Product_Name  \\\n",
       "0  AEC ELECTRONICS FOR DR generators\\nAEC ELECTRO...   \n",
       "1  AEC ELECTRONICS FOR DR generators\\nAEC ELECTRO...   \n",
       "2  Bipolar cable for US-Generators\\nBipolar cable...   \n",
       "\n",
       "                      trade_name                           Licensee_Name  \\\n",
       "0                                 Carestream Health (Thailand) Co., Ltd.   \n",
       "1  DRX-ASCEND SYSTEM Accessories  Carestream Health (Thailand) Co., Ltd.   \n",
       "2                                               Astras Medical Co., Ltd.   \n",
       "\n",
       "                     Product_details                   New_Codes  Status  \n",
       "0  AEC ELECTRONICS FOR DR GENERATORS   U1MC00010200727000004040C  expire  \n",
       "1  AEC ELECTRONICS FOR DR GENERATORS  U1MC000102007320000259259C  expire  \n",
       "2    Bipolar cable for US-Generators  U1MC000102010340000133133C  expire  "
      ]
     },
     "execution_count": 146,
     "metadata": {},
     "output_type": "execute_result"
    }
   ],
   "source": [
    "Product_result_Final.head(3)"
   ]
  },
  {
   "cell_type": "code",
   "execution_count": 99,
   "metadata": {},
   "outputs": [
    {
     "data": {
      "text/plain": [
       "(495, 9)"
      ]
     },
     "execution_count": 99,
     "metadata": {},
     "output_type": "execute_result"
    }
   ],
   "source": [
    "Product_result_Final.shape"
   ]
  },
  {
   "cell_type": "code",
   "execution_count": 114,
   "metadata": {},
   "outputs": [],
   "source": [
    "Product_result_Final.to_excel('df_THAI.xlsx' , index = False)"
   ]
  },
  {
   "cell_type": "code",
   "execution_count": 46,
   "metadata": {},
   "outputs": [
    {
     "data": {
      "text/plain": [
       "0"
      ]
     },
     "execution_count": 46,
     "metadata": {},
     "output_type": "execute_result"
    }
   ],
   "source": [
    "Product_result_Final.duplicated().sum()"
   ]
  },
  {
   "cell_type": "code",
   "execution_count": 87,
   "metadata": {},
   "outputs": [],
   "source": [
    "driver.quit()"
   ]
  }
 ],
 "metadata": {
  "kernelspec": {
   "display_name": "Python 3 (ipykernel)",
   "language": "python",
   "name": "python3"
  },
  "language_info": {
   "codemirror_mode": {
    "name": "ipython",
    "version": 3
   },
   "file_extension": ".py",
   "mimetype": "text/x-python",
   "name": "python",
   "nbconvert_exporter": "python",
   "pygments_lexer": "ipython3",
   "version": "3.9.12"
  }
 },
 "nbformat": 4,
 "nbformat_minor": 4
}
