{
 "cells": [
  {
   "cell_type": "code",
   "execution_count": 32,
   "id": "3740bb6d",
   "metadata": {},
   "outputs": [],
   "source": [
    "import cookies as meta"
   ]
  },
  {
   "cell_type": "code",
   "execution_count": 38,
   "id": "448c4593",
   "metadata": {},
   "outputs": [
    {
     "data": {
      "text/plain": [
       "{'_ga': 'GA1.1.678707696.1669016845',\n",
       " 'PLAY_LANG': 'id',\n",
       " '_cfuvid': 'CNwjg9MTXEkC9orrBFA1M.XaVAscNZXdI17FzuPLCIc-1706562315455-0-604800000',\n",
       " 'cf_chl_3': '388559d85bd34b7',\n",
       " 'cf_clearance': 'kzph_zJuW_6CnPtN1JVnw4K_BHwO26NZh99AEygkNWE-1706564435-1-AaZZ1dswyd1VP5oFP7Hx4hbOzojgE5Dww406nS7XGQ96b6rSmgjiKoJmcNHa5DB7lB4obKt/xI4wPvA39OdU2Ow=',\n",
       " 'E_KATALOG_5_SESSION': '660c8c12f6a4fb40f57e59e771b1cb53f77016fd-___AT=7314a8c003dbd5121334ec2b97b2541e5eb912aa&___TS=1706568832103&___ID=39c69be9-63cb-47e2-8770-72f24c7ae80c',\n",
       " '_ga_K59543X46E': 'GS1.1.1706562428.4.1.1706565344.0.0.0'}"
      ]
     },
     "execution_count": 38,
     "metadata": {},
     "output_type": "execute_result"
    }
   ],
   "source": [
    "meta.cookies"
   ]
  },
  {
   "cell_type": "code",
   "execution_count": 39,
   "id": "0edf0508",
   "metadata": {},
   "outputs": [
    {
     "data": {
      "text/plain": [
       "{'authority': 'e-katalog.lkpp.go.id',\n",
       " 'accept': 'text/html,application/xhtml+xml,application/xml;q=0.9,image/avif,image/webp,image/apng,*/*;q=0.8,application/signed-exchange;v=b3;q=0.7',\n",
       " 'accept-language': 'en-US,en;q=0.9',\n",
       " 'referer': 'https://e-katalog.lkpp.go.id/id/search-produk?authenticityToken=7314a8c003dbd5121334ec2b97b2541e5eb912aa&q=abbott&prid=&pid=&gt=&lt=&mid=&kbid=&order=&cat=',\n",
       " 'sec-ch-ua': '\"Not_A Brand\";v=\"8\", \"Chromium\";v=\"120\", \"Google Chrome\";v=\"120\"',\n",
       " 'sec-ch-ua-arch': '\"x86\"',\n",
       " 'sec-ch-ua-bitness': '\"64\"',\n",
       " 'sec-ch-ua-full-version': '\"120.0.6099.225\"',\n",
       " 'sec-ch-ua-full-version-list': '\"Not_A Brand\";v=\"8.0.0.0\", \"Chromium\";v=\"120.0.6099.225\", \"Google Chrome\";v=\"120.0.6099.225\"',\n",
       " 'sec-ch-ua-mobile': '?0',\n",
       " 'sec-ch-ua-model': '\"\"',\n",
       " 'sec-ch-ua-platform': '\"Windows\"',\n",
       " 'sec-ch-ua-platform-version': '\"10.0.0\"',\n",
       " 'sec-fetch-dest': 'document',\n",
       " 'sec-fetch-mode': 'navigate',\n",
       " 'sec-fetch-site': 'same-origin',\n",
       " 'sec-fetch-user': '?1',\n",
       " 'upgrade-insecure-requests': '1',\n",
       " 'user-agent': 'Mozilla/5.0 (Windows NT 10.0; Win64; x64) AppleWebKit/537.36 (KHTML, like Gecko) Chrome/120.0.0.0 Safari/537.36'}"
      ]
     },
     "execution_count": 39,
     "metadata": {},
     "output_type": "execute_result"
    }
   ],
   "source": [
    "meta.headers"
   ]
  },
  {
   "cell_type": "code",
   "execution_count": 97,
   "id": "645ff592",
   "metadata": {},
   "outputs": [],
   "source": [
    "import requests\n",
    "\n",
    "cookies = {\n",
    "    '_ga': 'GA1.1.678707696.1669016845',\n",
    "    'PLAY_LANG': 'id',\n",
    "    '_cfuvid': 'CNwjg9MTXEkC9orrBFA1M.XaVAscNZXdI17FzuPLCIc-1706562315455-0-604800000',\n",
    "    'cf_chl_3': '97515dc00f5e3eb',\n",
    "    'E_KATALOG_5_SESSION': 'd529ac1e3991e25fc063f9fb0afaf75f9bc52165-___AT=7314a8c003dbd5121334ec2b97b2541e5eb912aa&___TS=1706570680973&___ID=39c69be9-63cb-47e2-8770-72f24c7ae80c',\n",
    "    '_ga_K59543X46E': 'GS1.1.1706562428.4.1.1706567192.0.0.0',\n",
    "    'cf_clearance': '0NZA1GEqlZW._RkiIS7u93Y.d.P10EL2K.EkOoFjEOw-1706567082-1-AQSfwg4cS5v6qcuLijtFgoXNb6Id2U6fxVropj7PtcFVmVKCN57UhsYeY2vvp2jQkSi8pKGnW9PqaUgMtfH9Wwk=',\n",
    "}\n",
    "\n",
    "headers = {\n",
    "    'authority': 'e-katalog.lkpp.go.id',\n",
    "    'accept': 'text/html,application/xhtml+xml,application/xml;q=0.9,image/avif,image/webp,image/apng,*/*;q=0.8,application/signed-exchange;v=b3;q=0.7',\n",
    "    'accept-language': 'en-US,en;q=0.9',\n",
    "    # 'cookie': '_ga=GA1.1.678707696.1669016845; PLAY_LANG=id; _cfuvid=CNwjg9MTXEkC9orrBFA1M.XaVAscNZXdI17FzuPLCIc-1706562315455-0-604800000; cf_chl_3=97515dc00f5e3eb; E_KATALOG_5_SESSION=d529ac1e3991e25fc063f9fb0afaf75f9bc52165-___AT=7314a8c003dbd5121334ec2b97b2541e5eb912aa&___TS=1706570680973&___ID=39c69be9-63cb-47e2-8770-72f24c7ae80c; _ga_K59543X46E=GS1.1.1706562428.4.1.1706567192.0.0.0; cf_clearance=0NZA1GEqlZW._RkiIS7u93Y.d.P10EL2K.EkOoFjEOw-1706567082-1-AQSfwg4cS5v6qcuLijtFgoXNb6Id2U6fxVropj7PtcFVmVKCN57UhsYeY2vvp2jQkSi8pKGnW9PqaUgMtfH9Wwk=',\n",
    "    'referer': 'https://e-katalog.lkpp.go.id/id/search-produk?authenticityToken=7314a8c003dbd5121334ec2b97b2541e5eb912aa&q=abbott&prid=&pid=&gt=&lt=&mid=&kbid=&order=&cat=',\n",
    "    'sec-ch-ua': '\"Not_A Brand\";v=\"8\", \"Chromium\";v=\"120\", \"Google Chrome\";v=\"120\"',\n",
    "    'sec-ch-ua-arch': '\"x86\"',\n",
    "    'sec-ch-ua-bitness': '\"64\"',\n",
    "    'sec-ch-ua-full-version': '\"120.0.6099.225\"',\n",
    "    'sec-ch-ua-full-version-list': '\"Not_A Brand\";v=\"8.0.0.0\", \"Chromium\";v=\"120.0.6099.225\", \"Google Chrome\";v=\"120.0.6099.225\"',\n",
    "    'sec-ch-ua-mobile': '?0',\n",
    "    'sec-ch-ua-model': '\"\"',\n",
    "    'sec-ch-ua-platform': '\"Windows\"',\n",
    "    'sec-ch-ua-platform-version': '\"10.0.0\"',\n",
    "    'sec-fetch-dest': 'document',\n",
    "    'sec-fetch-mode': 'navigate',\n",
    "    'sec-fetch-site': 'same-origin',\n",
    "    'sec-fetch-user': '?1',\n",
    "    'upgrade-insecure-requests': '1',\n",
    "    'user-agent': 'Mozilla/5.0 (Windows NT 10.0; Win64; x64) AppleWebKit/537.36 (KHTML, like Gecko) Chrome/120.0.0.0 Safari/537.36',\n",
    "}\n",
    "\n",
    "params = {\n",
    "    'authenticityToken': '7314a8c003dbd5121334ec2b97b2541e5eb912aa',\n",
    "    'q': 'medtronic',\n",
    "    'prid': '',\n",
    "    'pid': '',\n",
    "    'gt': '',\n",
    "    'lt': '',\n",
    "    'mid': '',\n",
    "    'kbid': '',\n",
    "    'order': '',\n",
    "    'cat': '',\n",
    "}\n",
    "\n",
    "response = requests.get('https://e-katalog.lkpp.go.id/id/search-produk', params=params, cookies=cookies, headers=headers)"
   ]
  },
  {
   "cell_type": "code",
   "execution_count": 98,
   "id": "fdcc1dc8",
   "metadata": {},
   "outputs": [
    {
     "data": {
      "text/plain": [
       "<Response [200]>"
      ]
     },
     "execution_count": 98,
     "metadata": {},
     "output_type": "execute_result"
    }
   ],
   "source": [
    "response\n"
   ]
  },
  {
   "cell_type": "code",
   "execution_count": null,
   "id": "8b67fe4a",
   "metadata": {},
   "outputs": [],
   "source": [
    "hrefs = {}"
   ]
  },
  {
   "cell_type": "code",
   "execution_count": 99,
   "id": "058c268a",
   "metadata": {},
   "outputs": [
    {
     "name": "stdout",
     "output_type": "stream",
     "text": [
      "/katalog/produk/detail/52537371?lang=id&type=general Tanpa Merek REUSABLEBipolar forcep angled length 207mm, tip 8,MEDTRONIC Compatible\n",
      "/katalog/produk/detail/1383383?lang=id&type=general Tanpa Merek CSF-FLOW CONTROL SHUNT KIT BURR HOLE, 12 MM, MEDIUM PRESSURE/9040 B\n",
      "/katalog/produk/detail/1387726?lang=id&type=general Tanpa Merek Anterior Cervical Plate System ROD LEGACY 8690024\n",
      "/katalog/produk/detail/49805806?lang=id&type=general Tanpa Merek Medtronic C315 Delivery Catheter, Complete with 3830\n",
      "/katalog/produk/detail/3042571?lang=id&type=general Tanpa Merek EDM Lumbar\n",
      "/katalog/produk/detail/3080997?lang=id&type=general Tanpa Merek MEDTRONIC External Drainage and Monitoring Catheters - 27695\n",
      "/katalog/produk/detail/3081170?lang=id&type=general Tanpa Merek SOLITAIRE AB Neurovascular Remodeling Device - CSS-2.75-1X\n",
      "/katalog/produk/detail/3081264?lang=id&type=general Tanpa Merek SOLITAIRE AB Neurovascular Remodeling Device / NDS-2X\n",
      "/katalog/produk/detail/71561982?lang=id&type=regency Tanpa Merek Shunt kit contoured low pressure\n",
      "/katalog/produk/detail/71571369?lang=id&type=regency Tanpa Merek MEDTRONIC CSF-FLOW CONTROL SHUNT KIT, ULTRA SMALL\n",
      "/katalog/produk/detail/50184145?lang=id&type=general Tanpa Merek MEDTRONIC Integrated Power Console MICRODEBRIDER  - RHINOLOGY\n",
      "/katalog/produk/detail/51784534?lang=id&type=general Tanpa Merek MEDTRONIC C315 Delivery Catheter\n"
     ]
    }
   ],
   "source": [
    "from bs4 import BeautifulSoup\n",
    "soup = BeautifulSoup(response.text)\n",
    "\n",
    "results = soup.find_all('div', {'class':'card-item-title'})\n",
    "for result in results:\n",
    "    if result.find('a'):\n",
    "        href = result.find('a')['href']\n",
    "        title = result.find('a')['title']\n",
    "        print(href,title)\n",
    "        hrefs[href] = title\n"
   ]
  },
  {
   "cell_type": "code",
   "execution_count": 100,
   "id": "1da79cf8",
   "metadata": {},
   "outputs": [
    {
     "name": "stdout",
     "output_type": "stream",
     "text": [
      "Current Page Start: 1, Count: 12, Total Results Count: 280, Estimated Pages: 24\n"
     ]
    }
   ],
   "source": [
    "## find total_results:\n",
    "def get_estimated_pages(soup)\n",
    "    total_results = soup.find('div', {'class':'pagination'}).text.strip() \n",
    "    import re\n",
    "    # Regular expression pattern to find all numbers\n",
    "    pattern = r'\\d+'\n",
    "\n",
    "    # Extracting all numbers from the string\n",
    "    numbers = re.findall(pattern, total_results)\n",
    "\n",
    "    if len(numbers) >= 3:\n",
    "        # Assuming the first number is the start of the current page, the second is the end, and the third is the total count\n",
    "        current_page_start = int(numbers[0])\n",
    "        current_page_end = int(numbers[1])\n",
    "        total_results_count = int(numbers[2])\n",
    "\n",
    "        # Count of results on the current page\n",
    "        count = current_page_end - current_page_start + 1\n",
    "\n",
    "        # Estimated total pages (assuming count is consistent across all pages)\n",
    "        estimated_pages = -(-total_results_count // count)  # Ceiling division to ensure we get a whole page for any remainder\n",
    "\n",
    "        print(f\"Current Page Start: {current_page_start}, Count: {count}, Total Results Count: {total_results_count}, Estimated Pages: {estimated_pages}\")\n",
    "    else:\n",
    "        print(\"Error: Could not find the required numbers in the pagination text.\")\n",
    "    return estimated_pages"
   ]
  },
  {
   "cell_type": "code",
   "execution_count": 101,
   "id": "4fb461ee",
   "metadata": {},
   "outputs": [
    {
     "data": {
      "text/plain": [
       "'Menampilkan 1 sampai 12 dari 280 data'"
      ]
     },
     "execution_count": 101,
     "metadata": {},
     "output_type": "execute_result"
    }
   ],
   "source": [
    "total_results"
   ]
  },
  {
   "cell_type": "code",
   "execution_count": 102,
   "id": "65f6ca70",
   "metadata": {},
   "outputs": [
    {
     "data": {
      "text/plain": [
       "['1', '12', '280']"
      ]
     },
     "execution_count": 102,
     "metadata": {},
     "output_type": "execute_result"
    }
   ],
   "source": [
    "numbers"
   ]
  },
  {
   "cell_type": "code",
   "execution_count": 105,
   "id": "5f234317",
   "metadata": {},
   "outputs": [],
   "source": [
    "estiamted_pages = get_estimated_pages()+1\n",
    "for i in range(2,get_estimated_pages):\n",
    "    params = {\n",
    "        'authenticityToken': '7314a8c003dbd5121334ec2b97b2541e5eb912aa',\n",
    "        'q': 'medtronic',\n",
    "        'limit': '12',\n",
    "        'offset': str(i),\n",
    "    }\n",
    "    response = requests.get('https://e-katalog.lkpp.go.id/id/search-produk', \n",
    "                            params=params, cookies=cookies, headers=headers)\n",
    "    \n",
    "    if response.status_code == 200:\n",
    "        soup = BeautifulSoup(response.text)\n",
    "\n",
    "        results = soup.find_all('div', {'class':'card-item-title'})\n",
    "        for result in results:\n",
    "            if result.find('a'):\n",
    "                href = result.find('a')['href']\n",
    "                title = result.find('a')['title']\n",
    "                #print(href,title)\n",
    "                hrefs[href] = title"
   ]
  },
  {
   "cell_type": "code",
   "execution_count": 104,
   "id": "b9420adf",
   "metadata": {},
   "outputs": [
    {
     "data": {
      "text/plain": [
       "{'/katalog/produk/detail/2219525?lang=id&type=general': 'Tanpa Merek UROMETER 720 Urine Chemistry Analyzer and Accessories',\n",
       " '/katalog/produk/detail/71102075?lang=id&type=regency': 'Tanpa Merek I-STAT CG4+ Catridge',\n",
       " '/katalog/produk/detail/60832102?lang=id&type=regency': 'Tanpa Merek Susu Tinggi  Energi Rendah Lemak',\n",
       " '/katalog/produk/detail/73604046?lang=id&type=regency': 'Tanpa Merek SUSU PEDIASURE',\n",
       " '/katalog/produk/detail/60607387?lang=id&type=regency': 'Tanpa Merek CELL-DYN EMERALD DILUENT',\n",
       " '/katalog/produk/detail/60695126?lang=id&type=regency': 'Tanpa Merek CELL-DYN EMERALD LYSE',\n",
       " '/katalog/produk/detail/56507313?lang=id&type=regency': 'Tanpa Merek SUSU PEDIASURE COMPLETE 850 GRAM',\n",
       " '/katalog/produk/detail/59263638?lang=id&type=regency': 'Tanpa Merek CELL-DYN EMERALD CLEANER',\n",
       " '/katalog/produk/detail/75396001?lang=id&type=regency': ' Abbott Bioquick RDT Antigen Covid-19 (NASO)',\n",
       " '/katalog/produk/detail/1387282?lang=id&type=general': 'ABBOTT HI-TORQUE PILOT 50 Guide Wire with Hydrophilic Coating',\n",
       " '/katalog/produk/detail/1388388?lang=id&type=general': 'ABBOTT HI-TORQUE Pilot 150 Guide Wire with Hydrophilic Coating',\n",
       " '/katalog/produk/detail/76467303?lang=id&type=general': 'ABBOTT Paket Ablasi Abbott VT2',\n",
       " '/katalog/produk/detail/1381466?lang=id&type=general': 'ABBOTT OPTIS Mobile System (C408661)',\n",
       " '/katalog/produk/detail/74137798?lang=id&type=regency': ' CC. UIBC, ABBOTT',\n",
       " '/katalog/produk/detail/1286631?lang=id&type=general': 'ABBOTT ABBOTT m2000rt Instruments and Accessories',\n",
       " '/katalog/produk/detail/50406570?lang=id&type=regency': 'ABBOTT ABBOTT ALBUMIN BCG 2 3120T',\n",
       " '/katalog/produk/detail/47617385?lang=id&type=regency': 'Tanpa Merek ABBOTT ALBUMIN BCG 2 1044T.',\n",
       " '/katalog/produk/detail/74959672?lang=id&type=regency': ' ABBOTT. ALBUMIN BCG2, ABBOTT',\n",
       " '/katalog/produk/detail/76755713?lang=id&type=regency': ' ABBOTT. LACTIC ACID, ABBOTT',\n",
       " '/katalog/produk/detail/1433810?lang=id&type=general': 'ABBOTT ABBOTT RealTime HBV Amplification Reagent Kit + ABBOTT RealTime HBV Control Kit + ABBOTT RealTime HBV Calibrator Kit + MD2005 Sample Preparation System DNA +  ABBOTT Proteinase K, Recombinant PCR Grade + Consumable ABBOTT m2000sp Instrument and Accesories ( E-Series)',\n",
       " '/katalog/produk/detail/60000067?lang=id&type=general': 'ABBOTT ABBOTT RealTime HCV Amplification Reagent Kit',\n",
       " '/katalog/produk/detail/60004447?lang=id&type=general': 'ABBOTT ABBOTT RealTime HBV Amplification Reagent Kit',\n",
       " '/katalog/produk/detail/76622139?lang=id&type=regency': ' ABBOTT CONSOLIDATED CHEMISTRY CALIBRATOR, ABBOTT',\n",
       " '/katalog/produk/detail/1444582?lang=id&type=general': 'ABBOTT ABBOTT RealTime CT/NG Ampification Reagen Kit + ABBOTT RealTime CT/NG Control kit + ABBOTT Cervic-collect Specimen Collection Kit + MD2005 Sample Preparation System DNA + Consumable ABBOTT m2000sp Instrument and Accesories ( E-Series)',\n",
       " '/katalog/produk/detail/59287069?lang=id&type=general': 'ABBOTT ABBOTT RealTime HIV-1 Amplification Reagent Kit',\n",
       " '/katalog/produk/detail/59307508?lang=id&type=general': 'ABBOTT ABBOTT REALTIME CT/NG Amplification Reagent Kit',\n",
       " '/katalog/produk/detail/76315685?lang=id&type=general': 'ABBOTT Abbott Full System Ablation 2D and 3D',\n",
       " '/katalog/produk/detail/73662909?lang=id&type=regency': 'Tanpa Merek Abbott. Creatinine2',\n",
       " '/katalog/produk/detail/76426680?lang=id&type=general': ' ABBOTT  Cholesterol2',\n",
       " '/katalog/produk/detail/1433708?lang=id&type=general': 'ABBOTT ABBOTT RealTime HCV Genotype II Amplification Reagen Kit + ABBOTT RealTime HCV Genotype II Control Kit +  MD1335 Sample Preparation System +  Consumable ABBOTT m2000sp Instrument and Accesories ( E-Series)',\n",
       " '/katalog/produk/detail/59304492?lang=id&type=general': 'ABBOTT ABBOTT RealTime HIV-1 Amplification Reagent Kit (DBS)',\n",
       " '/katalog/produk/detail/59309459?lang=id&type=general': 'ABBOTT ABBOTT RealTime HCV Genotype II Amplification Reagent Kit',\n",
       " '/katalog/produk/detail/69724462?lang=id&type=general': 'ABBOTT ABBOTT RealTime HIV-1 Qualitative Amplification Reagent Kit',\n",
       " '/katalog/produk/detail/74741608?lang=id&type=regency': 'Tanpa Merek CC. LIPASE,ABBOTT',\n",
       " '/katalog/produk/detail/76684474?lang=id&type=regency': ' CC. CKMB, ABBOTT',\n",
       " '/katalog/produk/detail/74387208?lang=id&type=regency': ' Abbott Aspartate Aminotransferase2',\n",
       " '/katalog/produk/detail/75359871?lang=id&type=regency': ' Abbott Glucose 1500T',\n",
       " '/katalog/produk/detail/75371846?lang=id&type=regency': ' Abbott Cholesterol2 1000T',\n",
       " '/katalog/produk/detail/75360802?lang=id&type=regency': ' Abbott Multiconstituent Calibrator',\n",
       " '/katalog/produk/detail/73101144?lang=id&type=regency': 'Tanpa Merek Abbott. Urea Nitrogen2',\n",
       " '/katalog/produk/detail/73094907?lang=id&type=regency': 'Tanpa Merek CC. TRIGLYCERIDE2, ABBOTT',\n",
       " '/katalog/produk/detail/73999027?lang=id&type=regency': 'Tanpa Merek CC. CALCIUM, ABBOTT',\n",
       " '/katalog/produk/detail/74959529?lang=id&type=regency': ' ARCH. SEPTUMS, ABBOTT',\n",
       " '/katalog/produk/detail/73660683?lang=id&type=regency': 'Tanpa Merek Abbott. Total Protein2',\n",
       " '/katalog/produk/detail/76426835?lang=id&type=general': ' ABBOTT Albumin BCG2',\n",
       " '/katalog/produk/detail/2219435?lang=id&type=general': 'Tanpa Merek ABBOTT UroColor 10',\n",
       " '/katalog/produk/detail/1432107?lang=id&type=general': 'Tanpa Merek ABBOTT RealTime HIV-1 Qualitative Amplification Reagent Kit + ABBOTT RealTime HIV-1 Qualitative Control Kit + MD2005 Sample Preparation System DNA + Consumable ABBOTT m2000sp Instrument and Accesories ( E-Series)',\n",
       " '/katalog/produk/detail/76690521?lang=id&type=regency': ' CC. AERO LAMP, ABBOTT',\n",
       " '/katalog/produk/detail/74741032?lang=id&type=regency': ' CC. ALKALINE PHOSPATE,ABBOTT',\n",
       " '/katalog/produk/detail/75349972?lang=id&type=regency': ' ARCH. ALKALINE PHOSPHATASE2, ABBOTT',\n",
       " '/katalog/produk/detail/76746633?lang=id&type=regency': ' Abbott Ultra HDL 1440T',\n",
       " '/katalog/produk/detail/76685322?lang=id&type=regency': ' ARCH. TSH CONTROL, ABBOTT',\n",
       " '/katalog/produk/detail/76684771?lang=id&type=regency': ' ARCH. FERRITIN CONTROL, ABBOTT',\n",
       " '/katalog/produk/detail/76683233?lang=id&type=regency': ' ARCH. AFP CONTROL, ABBOTT',\n",
       " '/katalog/produk/detail/76686903?lang=id&type=regency': ' ARCH. CEA CONTROL, ABBOTT',\n",
       " '/katalog/produk/detail/75369969?lang=id&type=regency': ' Liquid Bilirubin Calibrator Abbott',\n",
       " '/katalog/produk/detail/74132514?lang=id&type=regency': ' CC. COMPLEMENT C4 , ABBOTT',\n",
       " '/katalog/produk/detail/74323859?lang=id&type=regency': ' Abbott Urea Nitrogen 1400T',\n",
       " '/katalog/produk/detail/75370930?lang=id&type=regency': ' Abbott Albumin BCG2 1044T',\n",
       " '/katalog/produk/detail/74329380?lang=id&type=regency': ' Abbott Uric Acid 640T',\n",
       " '/katalog/produk/detail/75358144?lang=id&type=regency': ' Alkaline Phosphatase 1500T Abbott',\n",
       " '/katalog/produk/detail/75988966?lang=id&type=regency': ' CC. BILIRUBIN TOTAL, ABBOTT',\n",
       " '/katalog/produk/detail/74741794?lang=id&type=regency': 'Tanpa Merek CC. BILIRUBIN DIRECT, ABBOTT',\n",
       " '/katalog/produk/detail/73824650?lang=id&type=regency': ' CC. Alkaline Wash, Abbott',\n",
       " '/katalog/produk/detail/73827142?lang=id&type=regency': 'Tanpa Merek Arch. Sample Cups, Abbott',\n",
       " '/katalog/produk/detail/73090280?lang=id&type=regency': 'Tanpa Merek CC. Lipase Calibrator, Abbott',\n",
       " '/katalog/produk/detail/74961101?lang=id&type=regency': ' CC. DETERGENT A, ABBOTT',\n",
       " '/katalog/produk/detail/74132182?lang=id&type=regency': ' CC. COMPLEMENT C3 , ABBOTT',\n",
       " '/katalog/produk/detail/74961289?lang=id&type=regency': ' CC. DETERGENT B, ABBOTT',\n",
       " '/katalog/produk/detail/73821983?lang=id&type=regency': ' CC . Acid wash, Abbott',\n",
       " '/katalog/produk/detail/73088607?lang=id&type=regency': 'Tanpa Merek CC. MCC Cal, Abbott',\n",
       " '/katalog/produk/detail/73155667?lang=id&type=regency': 'Tanpa Merek ABBOTT. Alanine Aminotransferase2 (ALT2)',\n",
       " '/katalog/produk/detail/74132742?lang=id&type=regency': ' ARCH. AFP CALIBRATOR, ABBOTT',\n",
       " '/katalog/produk/detail/73657190?lang=id&type=regency': 'Tanpa Merek Arch. Trigger Solution, Abbott',\n",
       " '/katalog/produk/detail/74755617?lang=id&type=regency': ' CC. CKMB CALIBRATOR, ABBOTT',\n",
       " '/katalog/produk/detail/74133779?lang=id&type=regency': 'Tanpa Merek ARCH. CEA CALIBRATOR, ABBOTT',\n",
       " '/katalog/produk/detail/75610001?lang=id&type=regency': ' CC. ICT CALIBRATOR, ABBOTT',\n",
       " '/katalog/produk/detail/74772981?lang=id&type=regency': ' CC. CKMB CONTROL, ABBOTT',\n",
       " '/katalog/produk/detail/47259497?lang=id&type=regency': 'Tanpa Merek ABBOTT Consolidated Chemistry Calibrator',\n",
       " '/katalog/produk/detail/47248066?lang=id&type=regency': 'Tanpa Merek ABBOTT Cholesterol2 880 tes',\n",
       " '/katalog/produk/detail/74383319?lang=id&type=general': 'Tanpa Merek Abbott HBsAg 1/30T',\n",
       " '/katalog/produk/detail/74386425?lang=id&type=general': 'Tanpa Merek Abbott Syphilis 1/30T',\n",
       " '/katalog/produk/detail/74741211?lang=id&type=regency': ' CC. HEMOGLOBIN-A1C CALIBRATOR, ABBOTT',\n",
       " '/katalog/produk/detail/73668509?lang=id&type=regency': 'Tanpa Merek CC. Cuvette Drying Tip , Abbott',\n",
       " '/katalog/produk/detail/74137405?lang=id&type=regency': 'Tanpa Merek CC. H2O BATH ADD, ABBOTT',\n",
       " '/katalog/produk/detail/73642595?lang=id&type=regency': ' Arch. Concentrated Wash Buffer, Abbott',\n",
       " '/katalog/produk/detail/74740644?lang=id&type=regency': 'Tanpa Merek CC. LDL DIRECT MULTIGENT, ABBOTT',\n",
       " '/katalog/produk/detail/73092604?lang=id&type=regency': 'Tanpa Merek CC. HDL Ultra Reagent, Abbott',\n",
       " '/katalog/produk/detail/74131192?lang=id&type=regency': ' CC. SPECIFICATION PROTEIN MCC, ABBOTT',\n",
       " '/katalog/produk/detail/76686341?lang=id&type=regency': ' ARCH. FREE T4 CONTROL, ABBOTT',\n",
       " '/katalog/produk/detail/74133989?lang=id&type=regency': ' ARCH. ANTI-HCV CALIBRATOR, ABBOTT',\n",
       " '/katalog/produk/detail/73549089?lang=id&type=regency': ' Arch. Free TSH Calibrator, Abbott',\n",
       " '/katalog/produk/detail/73996052?lang=id&type=regency': 'Tanpa Merek CC. ICT CLEANING FLUID, ABBOTT',\n",
       " '/katalog/produk/detail/73161414?lang=id&type=regency': ' Arch. AFP Reagent 100T, Abbott',\n",
       " '/katalog/produk/detail/47246774?lang=id&type=regency': 'Tanpa Merek ABBOTT Albumin BCG2 1044 Tes',\n",
       " '/katalog/produk/detail/74385352?lang=id&type=general': 'Tanpa Merek Abbott HIV 1/2 3.0',\n",
       " '/katalog/produk/detail/73552876?lang=id&type=regency': 'Tanpa Merek Arch. TSH Reagent 100 T, Abbott',\n",
       " '/katalog/produk/detail/73545211?lang=id&type=regency': 'Tanpa Merek Arch. Ferritin Reagent 100 T, Abbott',\n",
       " '/katalog/produk/detail/73998047?lang=id&type=regency': 'Tanpa Merek CC. UPRO URINE CSF PROTEIN, ABBOTT',\n",
       " '/katalog/produk/detail/73559988?lang=id&type=regency': 'Tanpa Merek Arch. CEA Reagent 100 T, Abbott',\n",
       " '/katalog/produk/detail/74742109?lang=id&type=regency': 'Tanpa Merek ARCH. TOTAL B-HCG CALIBRATOR, ABBOTT',\n",
       " '/katalog/produk/detail/74133479?lang=id&type=regency': ' ARCH. HIV AG/AB COMBO CONTROL, ABBOTT',\n",
       " '/katalog/produk/detail/74159533?lang=id&type=regency': ' ARCH. HIV AG/ AB COMBO CALIBRATOR, ABBOTT',\n",
       " '/katalog/produk/detail/73566988?lang=id&type=regency': 'Tanpa Merek Arch. Anti HCV Reagent 100 T, Abbott',\n",
       " '/katalog/produk/detail/74160162?lang=id&type=regency': 'Tanpa Merek CC. MULTICHEM S PLUS LEVEL 1, ABBOTT',\n",
       " '/katalog/produk/detail/74160784?lang=id&type=regency': 'Tanpa Merek CC. MULTICHEM S PLUS LEVEL 2, ABBOTT',\n",
       " '/katalog/produk/detail/74161891?lang=id&type=regency': 'Tanpa Merek CC. MULTICHEM S PLUS LEVEL 3, ABBOTT',\n",
       " '/katalog/produk/detail/49753727?lang=id&type=general': 'Tanpa Merek REAGEN PCR ABBOTT REALTIME SARS-COV-2',\n",
       " '/katalog/produk/detail/60007979?lang=id&type=general': ' ABBOTT RealTime SARS-CoV-2 Amplification Reagent Kit',\n",
       " '/katalog/produk/detail/75345774?lang=id&type=regency': ' Cell-Dyn 26 Plus Control (Full Pack) Abbott',\n",
       " '/katalog/produk/detail/1286705?lang=id&type=general': ' Abbott RealTime SARS-CoV-2 Amplification Reagen Kit',\n",
       " '/katalog/produk/detail/73167588?lang=id&type=regency': ' Arch. HIV AG/AB COMBO REAGENT 100 T, Abbott',\n",
       " '/katalog/produk/detail/1371603?lang=id&type=general': ' ABBOTT I-STAT ELECTRONIC SIMULATOR FOR TYPE 300 G',\n",
       " '/katalog/produk/detail/55819923?lang=id&type=general': 'Tanpa Merek Abbott Architect Paket Reagen IMLTD (Architect HIV Combo, Architect HBsAg, Architect Anti HCV, Architect Shypilis) 1.000 Test',\n",
       " '/katalog/produk/detail/47571013?lang=id&type=regency': 'ABBOTT ALINITY C CALCIUM 4000T',\n",
       " '/katalog/produk/detail/47690471?lang=id&type=regency': 'ABBOTT ALERE NT-proBNP for Alininty calibrator Packs',\n",
       " '/katalog/produk/detail/47573180?lang=id&type=regency': 'ABBOTT ALINITY C PHOSPHORUS 4000T',\n",
       " '/katalog/produk/detail/47575406?lang=id&type=regency': 'ABBOTT SENTINEL LIPASE NG OC REAGENT KIT',\n",
       " '/katalog/produk/detail/47575445?lang=id&type=regency': 'ABBOTT ALINITY C MAGNESIUM 720T',\n",
       " '/katalog/produk/detail/47625043?lang=id&type=regency': 'ABBOTT ALINITY C ICT SERUM CALIBRATOR',\n",
       " '/katalog/produk/detail/47711170?lang=id&type=regency': 'ABBOTT ALINITY C ASO 300 T',\n",
       " '/katalog/produk/detail/60585072?lang=id&type=regency': 'ABBOTT ALINITY C GAMMA-GLUTAMYL TRANSFERASE2 600T',\n",
       " '/katalog/produk/detail/47570796?lang=id&type=regency': 'ABBOTT ALINITY C DIRECT BILIRUBIN 1440T',\n",
       " '/katalog/produk/detail/47618396?lang=id&type=regency': 'ABBOTT ALINITY C TOTAL BILIRUBIN 2750T',\n",
       " '/katalog/produk/detail/47625058?lang=id&type=regency': 'ABBOTT ALINITY C ICT URINE CALIBRATOR',\n",
       " '/katalog/produk/detail/60584933?lang=id&type=regency': 'ABBOTT ALINITY C ALANINE AMINOTRANSFERASE2 3120T',\n",
       " '/katalog/produk/detail/60584969?lang=id&type=regency': 'ABBOTT ALINITY C ASPARTATE AMINOTRANSFERASE2 3120T',\n",
       " '/katalog/produk/detail/75760610?lang=id&type=regency': 'ABBOTT ALINITY I HBSAG NEXT QUALITATIVE 200T',\n",
       " '/katalog/produk/detail/75760615?lang=id&type=regency': 'ABBOTT ALINITY I HBSAG NEXT QUALITATIVE CALIBRATOR',\n",
       " '/katalog/produk/detail/47576578?lang=id&type=regency': 'ABBOTT ALINITY C-SERIES MAINTENANCE SOLUTION',\n",
       " '/katalog/produk/detail/47617003?lang=id&type=regency': 'ABBOTT ALINITY C RGT CARTRIDGE',\n",
       " '/katalog/produk/detail/47618637?lang=id&type=regency': 'ABBOTT ALINITY C - SERIES ACID PROBE WASH',\n",
       " '/katalog/produk/detail/47625023?lang=id&type=regency': 'ABBOTT ALINITY C MULTICONSTITUENT CALIBRATOR',\n",
       " '/katalog/produk/detail/47625088?lang=id&type=regency': 'ABBOTT ALINITY C SPECIFIC PROTEINS MULTICONSTITUENT CALIBRATOR',\n",
       " '/katalog/produk/detail/47710167?lang=id&type=regency': 'ABBOTT ALINITY C ASO STANDARD',\n",
       " '/katalog/produk/detail/74297739?lang=id&type=regency': 'ABBOTT ALINITY C CK-MB CONTROL',\n",
       " '/katalog/produk/detail/47502164?lang=id&type=regency': 'ABBOTT ALINITY I FREE T4 200T.',\n",
       " '/katalog/produk/detail/47506270?lang=id&type=regency': 'ABBOTT ALINITY I STAT HIGH SENSITIVE TROPONIN-I 200T.',\n",
       " '/katalog/produk/detail/47506397?lang=id&type=regency': 'ABBOTT ALINITY I PROLACTIN 200T.',\n",
       " '/katalog/produk/detail/47510506?lang=id&type=regency': 'ABBOTT ALINITY I RUBELLA IGG 200T.',\n",
       " '/katalog/produk/detail/47511229?lang=id&type=regency': 'ABBOTT ALINITY I RUBELLA IGM 200T.',\n",
       " '/katalog/produk/detail/47511348?lang=id&type=regency': 'ABBOTT ALINITY I TOTAL PSA 200T.',\n",
       " '/katalog/produk/detail/47522469?lang=id&type=regency': 'ABBOTT ALINITY I TOTAL PSA CALIBRATOR',\n",
       " '/katalog/produk/detail/47525366?lang=id&type=regency': 'ABBOTT ALINITY I PROLACTIN CALIBRATOR',\n",
       " '/katalog/produk/detail/47525402?lang=id&type=regency': 'ABBOTT ALINITY I B.R.A.H.M.S PCT CONTROL',\n",
       " '/katalog/produk/detail/47437225?lang=id&type=regency': 'ABBOTT ALINITY I AFP 200T.',\n",
       " '/katalog/produk/detail/47477953?lang=id&type=regency': 'ABBOTT ALINITY I ANTI HCV 200T.',\n",
       " '/katalog/produk/detail/47477965?lang=id&type=regency': 'ABBOTT ALINITY I TOTAL B-HCG 200T.',\n",
       " '/katalog/produk/detail/47477972?lang=id&type=regency': 'ABBOTT ALINITY I CA 125 II 200T.',\n",
       " '/katalog/produk/detail/47477977?lang=id&type=regency': 'ABBOTT ALINITY I CA 15-3 200T.',\n",
       " '/katalog/produk/detail/47499687?lang=id&type=regency': 'ABBOTT ALINITY I CMV IGG 200T.',\n",
       " '/katalog/produk/detail/47625079?lang=id&type=regency': 'ABBOTT ALINITY C UIBC CALIBRATOR',\n",
       " '/katalog/produk/detail/47513352?lang=id&type=regency': 'ABBOTT ALINITY I CORTISOL 200T.',\n",
       " '/katalog/produk/detail/47525289?lang=id&type=regency': 'ABBOTT ALINITY I CORTISOL CALIBRATOR',\n",
       " '/katalog/produk/detail/47436406?lang=id&type=regency': 'ABBOTT ALINITY I CA 19-9XR CALIBRATOR',\n",
       " '/katalog/produk/detail/47436504?lang=id&type=regency': 'ABBOTT ALINITY I CMV IGG CALIBRATOR',\n",
       " '/katalog/produk/detail/47436630?lang=id&type=regency': 'ABBOTT ALINITY I CMV IGM CALIBRATOR',\n",
       " '/katalog/produk/detail/47521757?lang=id&type=regency': 'ABBOTT ALINITY I RUBELLA IGG CALIBRATOR',\n",
       " '/katalog/produk/detail/47524394?lang=id&type=regency': 'ABBOTT ALINITY I TSH CALIBRATOR',\n",
       " '/katalog/produk/detail/47512115?lang=id&type=regency': 'ABBOTT ALINITY I TSH 200T.',\n",
       " '/katalog/produk/detail/47693495?lang=id&type=regency': 'ABBOTT ALERE NT-proBNP for Alininty control Packs',\n",
       " '/katalog/produk/detail/50682722?lang=id&type=regency': 'ABBOTT ALINITY I HBEAG Qualitative CALIBRATOR',\n",
       " '/katalog/produk/detail/47431573?lang=id&type=regency': 'ABBOTT ALINITY CI-SERIES SAMPLE CUPS',\n",
       " '/katalog/produk/detail/47433447?lang=id&type=regency': 'ABBOTT ALINITY I-SERIES CONCENTRATED WASH BUFFER',\n",
       " '/katalog/produk/detail/47433503?lang=id&type=regency': 'ABBOTT ALINITY I-SERIES PROBE CONDITIONING SOLUTION',\n",
       " '/katalog/produk/detail/47433981?lang=id&type=regency': 'ABBOTT ALINITY I CA 125 II CALIBRATOR',\n",
       " '/katalog/produk/detail/47436233?lang=id&type=regency': 'ABBOTT ALINITY I CA 15-3 CALIBRATOR',\n",
       " '/katalog/produk/detail/47499432?lang=id&type=regency': 'ABBOTT ALINITY CA 19-9XR 200T.',\n",
       " '/katalog/produk/detail/47511496?lang=id&type=regency': 'ABBOTT ALINITY I TOTAL T3 200T.',\n",
       " '/katalog/produk/detail/47511583?lang=id&type=regency': 'ABBOTT ALINITY I TOTAL T4 200T.',\n",
       " '/katalog/produk/detail/47511735?lang=id&type=regency': 'ABBOTT ALINITY I TOXO IGG 200T.',\n",
       " '/katalog/produk/detail/47511915?lang=id&type=regency': 'ABBOTT ALINITY I TOXO IGM 200T.',\n",
       " '/katalog/produk/detail/47519860?lang=id&type=regency': 'ABBOTT ALINITY I FREE T4 CALIBRATOR',\n",
       " '/katalog/produk/detail/47522868?lang=id&type=regency': 'ABBOTT ALINITY I TOTAL T3 CALIBRATOR',\n",
       " '/katalog/produk/detail/47522996?lang=id&type=regency': 'ABBOTT ALINITY I TOTAL T4 CALIBRATOR',\n",
       " '/katalog/produk/detail/47524258?lang=id&type=regency': 'ABBOTT ALINITY I TOXO IGG CALIBRATOR',\n",
       " '/katalog/produk/detail/47524347?lang=id&type=regency': 'ABBOTT ALINITY I TOXO IGM CALIBRATOR',\n",
       " '/katalog/produk/detail/60587888?lang=id&type=regency': 'ABBOTT ALINITY C UREA NITROGEN 13000T',\n",
       " '/katalog/produk/detail/2481066?lang=id&type=general': 'Tanpa Merek ANEUVYSION DNA Probe Kit',\n",
       " '/katalog/produk/detail/2481098?lang=id&type=general': 'Tanpa Merek ANEUVYSION DNA Probe Ki isi 30 Assays',\n",
       " '/katalog/produk/detail/2481103?lang=id&type=general': 'Tanpa Merek ANEUVYSION DNA Probe Kit isi 50 assays',\n",
       " '/katalog/produk/detail/2481247?lang=id&type=general': 'Tanpa Merek PATHVYSION HER-2 DNA Probe Kit isi 20 Assays',\n",
       " '/katalog/produk/detail/2481353?lang=id&type=general': 'Tanpa Merek PATHVYSION HER-2 DNA Probe Kit isi 50 Assays',\n",
       " '/katalog/produk/detail/2481377?lang=id&type=general': 'Tanpa Merek PATHVYSION HER-2 DNA Probe Kit isi 100 Assays',\n",
       " '/katalog/produk/detail/2482136?lang=id&type=general': 'Tanpa Merek Vysis ALK Break Apart FISH Probe Kit isi 20 Assays',\n",
       " '/katalog/produk/detail/2482536?lang=id&type=general': 'Tanpa Merek Vysis ALK Break Apart FISH Probe Kit isi 50 assays',\n",
       " '/katalog/produk/detail/47572663?lang=id&type=regency': 'Tanpa Merek ALINITY C GAMMA-GLUTAMYL TRANSFERASE 1200T',\n",
       " '/katalog/produk/detail/47624984?lang=id&type=regency': 'Tanpa Merek SENTINEL LIPASE NG OC CAL',\n",
       " '/katalog/produk/detail/47625067?lang=id&type=regency': 'Tanpa Merek ALINITY C IRON CALIBRATOR',\n",
       " '/katalog/produk/detail/47437231?lang=id&type=regency': 'Tanpa Merek ALINITY I HAVAB IGM 200T.',\n",
       " '/katalog/produk/detail/47506322?lang=id&type=regency': 'Tanpa Merek ALINITY I B.R.A.H.M.S PCT 200T.',\n",
       " '/katalog/produk/detail/47521972?lang=id&type=regency': 'Tanpa Merek ALINITY I HAVAB-IGM CALIBRATOR',\n",
       " '/katalog/produk/detail/47524548?lang=id&type=regency': 'Tanpa Merek ALINITY I B.R.A.H.M.S PCT CALIBRATOR',\n",
       " '/katalog/produk/detail/47525324?lang=id&type=regency': 'Tanpa Merek ALINITY I 2ND GENERATION TESTOSTERONE CALIBRATOR',\n",
       " '/katalog/produk/detail/47571473?lang=id&type=regency': 'Tanpa Merek ALINITY C CK-MB 200T',\n",
       " '/katalog/produk/detail/47571784?lang=id&type=regency': 'Tanpa Merek ALINITY C CREATININE 3000T.',\n",
       " '/katalog/produk/detail/47572350?lang=id&type=regency': 'Tanpa Merek ALINITY C CRP VARIO REAGENT',\n",
       " '/katalog/produk/detail/47572782?lang=id&type=regency': 'Tanpa Merek ALINITY C GLUCOSE 4000T',\n",
       " '/katalog/produk/detail/47572885?lang=id&type=regency': 'Tanpa Merek ALINITY C ULTRA HDL 1400T',\n",
       " '/katalog/produk/detail/47573050?lang=id&type=regency': 'Tanpa Merek ALINITY C DIRECT LDL 580T',\n",
       " '/katalog/produk/detail/47575519?lang=id&type=regency': 'Tanpa Merek ALINITY C-SERIES ACID WASH',\n",
       " '/katalog/produk/detail/47576400?lang=id&type=regency': 'Tanpa Merek ALINITY C TRANSFERRIN 800T',\n",
       " '/katalog/produk/detail/47576477?lang=id&type=regency': 'Tanpa Merek ALINITY C-SERIES DETERGENT A',\n",
       " '/katalog/produk/detail/47617498?lang=id&type=regency': 'Tanpa Merek ALINITY C TOTAL PROTEIN 2 800T',\n",
       " '/katalog/produk/detail/47624829?lang=id&type=regency': 'Tanpa Merek ALINITY C CREATINE KINASE (CK) 1200 T',\n",
       " '/katalog/produk/detail/47624862?lang=id&type=regency': 'Tanpa Merek ALINITY C BILIRUBIN CALIBRATOR',\n",
       " '/katalog/produk/detail/47624883?lang=id&type=regency': 'Tanpa Merek ALINITY C CK-MB CALIBRATOR',\n",
       " '/katalog/produk/detail/47624923?lang=id&type=regency': 'Tanpa Merek ALINITY C CRP VARIO WIDE RANGE CALIBRATOR',\n",
       " '/katalog/produk/detail/47625096?lang=id&type=regency': 'Tanpa Merek ALINITY C CONSOLIDATED CHEMISTRY CALIB',\n",
       " '/katalog/produk/detail/47625189?lang=id&type=regency': 'Tanpa Merek ALINITY C URINE/CSF PROTEIN CALIBRATOR',\n",
       " '/katalog/produk/detail/47962653?lang=id&type=regency': 'Tanpa Merek ALINITY I ANTI-HBC II 200T',\n",
       " '/katalog/produk/detail/75283927?lang=id&type=general': 'ABBOTT I-STAT G3+ Cartridge',\n",
       " '/katalog/produk/detail/75284240?lang=id&type=general': 'ABBOTT I-STAT CG4+ Cartridge',\n",
       " '/katalog/produk/detail/75284574?lang=id&type=general': 'ABBOTT I-STAT EC8+ Cartridge',\n",
       " '/katalog/produk/detail/75283231?lang=id&type=general': 'ABBOTT I-STAT CG8+ Cartridge',\n",
       " '/katalog/produk/detail/47506218?lang=id&type=regency': 'Tanpa Merek ALINITY I HIV AG/AB COMBO 200T.',\n",
       " '/katalog/produk/detail/47513471?lang=id&type=regency': 'Tanpa Merek ALINITY I 2ND GENERATION TESTOSTERONE 200T.',\n",
       " '/katalog/produk/detail/47569816?lang=id&type=regency': 'Tanpa Merek ALINITY C ALANINE AMINOTRANSFERASE 3600T',\n",
       " '/katalog/produk/detail/47570650?lang=id&type=regency': 'Tanpa Merek ALINITY C ASPARTATE AMINOTRANSFERASE 3600T',\n",
       " '/katalog/produk/detail/47573302?lang=id&type=regency': 'Tanpa Merek ALINITY C TRIGLYCERIDE 4000T',\n",
       " '/katalog/produk/detail/47573865?lang=id&type=regency': 'Tanpa Merek ALINITY C UREA NITROGEN 4000T',\n",
       " '/katalog/produk/detail/47618190?lang=id&type=regency': 'Tanpa Merek ALINITY C URIC ACID 2 640T.',\n",
       " '/katalog/produk/detail/52028611?lang=id&type=regency': 'Tanpa Merek ALINITY I HAVAB-IGM CONTROL',\n",
       " '/katalog/produk/detail/47437224?lang=id&type=regency': 'ABBOTT ALERE NT-proBNP for Alininty Reagent Packs',\n",
       " '/katalog/produk/detail/2482080?lang=id&type=general': 'Tanpa Merek Vysis CEP X SpetrumOrange  /Y SpectrumGreen DNA Probe Kit isi 20 Assays',\n",
       " '/katalog/produk/detail/50701897?lang=id&type=regency': 'Tanpa Merek ALINITY I HBEAG Qualitative CONTROL',\n",
       " '/katalog/produk/detail/70985504?lang=id&type=general': 'Tanpa Merek Microscope filter DAPI BANDPASS for OLYM BX51',\n",
       " '/katalog/produk/detail/71419873?lang=id&type=regency': 'Tanpa Merek PEDIACOMPLETE VANILLA 400 Gr',\n",
       " '/katalog/produk/detail/71430783?lang=id&type=general': 'Tanpa Merek Microscope filter GREEN FILTER for OLYMPUS BX51',\n",
       " '/katalog/produk/detail/71435013?lang=id&type=general': 'Tanpa Merek Microscope filter ORANGE FILTER for OLYMPUS BX51',\n",
       " '/katalog/produk/detail/67910370?lang=id&type=general': 'Tanpa Merek PIMA Bead Standard',\n",
       " '/katalog/produk/detail/67980566?lang=id&type=general': 'Tanpa Merek PIMA CD4 (100 cartridge)',\n",
       " '/katalog/produk/detail/39209611?lang=id&type=general': 'Tanpa Merek UroMeter 720 Urine Chemistry Analyzer',\n",
       " '/katalog/produk/detail/50682669?lang=id&type=regency': 'Tanpa Merek ALINITY I ANTI-HBS CALIBRATOR',\n",
       " '/katalog/produk/detail/60586773?lang=id&type=regency': 'Tanpa Merek ALINITY I ANTI-HBS CONTROL',\n",
       " '/katalog/produk/detail/60584868?lang=id&type=regency': 'Tanpa Merek ALINITY I MULTY-ASSAY MANUAL DILUENT',\n",
       " '/katalog/produk/detail/50527186?lang=id&type=regency': 'Tanpa Merek ALINITY I ANTI TG 200T',\n",
       " '/katalog/produk/detail/50528162?lang=id&type=regency': 'Tanpa Merek ALINITY I ANTI TPO 200T',\n",
       " '/katalog/produk/detail/50682631?lang=id&type=regency': 'Tanpa Merek ALINITY I NSE 200T',\n",
       " '/katalog/produk/detail/59580971?lang=id&type=regency': 'Tanpa Merek CELL-DYN 18 Plus Calibrator',\n",
       " '/katalog/produk/detail/47572971?lang=id&type=regency': 'Tanpa Merek ALINITY C LACTATE DEHYDROGENASE 1200T',\n",
       " '/katalog/produk/detail/61663899?lang=id&type=regency': 'Tanpa Merek ALINITY I ESTRADIOL CALIBRATOR',\n",
       " '/katalog/produk/detail/61663997?lang=id&type=regency': 'Tanpa Merek ALINITY I FSH CALIBRATOR',\n",
       " '/katalog/produk/detail/61664109?lang=id&type=regency': 'Tanpa Merek ALINITY I LH CALIBRATOR',\n",
       " '/katalog/produk/detail/47573720?lang=id&type=regency': 'Tanpa Merek ALINITY C IRON 2300T',\n",
       " '/katalog/produk/detail/60585025?lang=id&type=regency': 'Tanpa Merek ALINITY C ALKALINE PHOSPHATASE2 2000T',\n",
       " '/katalog/produk/detail/60587605?lang=id&type=regency': 'Tanpa Merek ALINITY C TRIGLYCERIDE2 1400T',\n",
       " '/katalog/produk/detail/75285483?lang=id&type=general': 'ABBOTT I-STAT Total  Beta - hCG Cartridge',\n",
       " '/katalog/produk/detail/75285694?lang=id&type=general': 'ABBOTT I-STAT Kaolin ACT Cartridge',\n",
       " '/katalog/produk/detail/75285852?lang=id&type=general': 'ABBOTT I-Stat PT/INR Cartridge',\n",
       " '/katalog/produk/detail/75285201?lang=id&type=general': 'ABBOTT I-STAT 6+ Cartridge',\n",
       " '/katalog/produk/detail/75285351?lang=id&type=general': 'ABBOTT I-STAT BNP Cartridge',\n",
       " '/katalog/produk/detail/75284707?lang=id&type=general': 'ABBOTT i-STAT cTnl Cartridge',\n",
       " '/katalog/produk/detail/75284846?lang=id&type=general': 'ABBOTT I-STAT Chem8+ Cartridge',\n",
       " '/katalog/produk/detail/75285085?lang=id&type=general': 'ABBOTT I-STAT CK-MB Cartridge',\n",
       " '/katalog/produk/detail/75283619?lang=id&type=general': 'ABBOTT I-Stat EG7+Cartridge',\n",
       " '/katalog/produk/detail/47432035?lang=id&type=regency': 'ABBOTT ALINITY TRIGGER SOLUTION',\n",
       " '/katalog/produk/detail/47433181?lang=id&type=regency': 'ABBOTT ALINITY REACTION VESSELS',\n",
       " '/katalog/produk/detail/47433694?lang=id&type=regency': 'ABBOTT ALINITY I AFP CALIBRATOR',\n",
       " '/katalog/produk/detail/47433769?lang=id&type=regency': 'ABBOTT ALINITY I ANTI-HCV CALIBRATOR',\n",
       " '/katalog/produk/detail/47433874?lang=id&type=regency': 'ABBOTT ALINITY I TOTAL B-HCG CALIBRATOR',\n",
       " '/katalog/produk/detail/47499589?lang=id&type=regency': 'ABBOTT ALINITY I CEA 200T.',\n",
       " '/katalog/produk/detail/47499725?lang=id&type=regency': 'ABBOTT ALINITY I CMV IGM 200T.',\n",
       " '/katalog/produk/detail/47499774?lang=id&type=regency': 'ABBOTT ALINITY I FERRITIN 200T.',\n",
       " '/katalog/produk/detail/47521680?lang=id&type=regency': 'ABBOTT ALINITY I HIV AG/AB COMBO CALIBRATOR',\n",
       " '/katalog/produk/detail/47521874?lang=id&type=regency': 'ABBOTT ALINITY I RUBELLA IGM CALIBRATOR',\n",
       " '/katalog/produk/detail/47524496?lang=id&type=regency': 'ABBOTT ALINITY I STAT HIGH SENSITIVE TROPONIN-I CALIBRATOR',\n",
       " '/katalog/produk/detail/50406483?lang=id&type=regency': 'Tanpa Merek ALINITY C CREATININE 12000T',\n",
       " '/katalog/produk/detail/50422677?lang=id&type=regency': 'Tanpa Merek ALINITY C URIC ACID 2 2000T',\n",
       " '/katalog/produk/detail/50682477?lang=id&type=regency': 'Tanpa Merek AERO LAMP',\n",
       " '/katalog/produk/detail/50682680?lang=id&type=regency': 'Tanpa Merek ALINITY I ANTI-HBC  CALIBRATOR',\n",
       " '/katalog/produk/detail/59732913?lang=id&type=regency': 'Tanpa Merek CELL-DYN 18 Plus Calibrator',\n",
       " '/katalog/produk/detail/57968608?lang=id&type=general': 'ABBOTT TREK RX Coronary Dilatation Catheter',\n",
       " '/katalog/produk/detail/57317519?lang=id&type=general': 'ABBOTT XIENCE ProA Everolimus Eluting Coronary Stent System',\n",
       " '/katalog/produk/detail/57953796?lang=id&type=general': 'ABBOTT XIENCE Sierra Everolimus Eluting Coronary Stent System',\n",
       " '/katalog/produk/detail/57966235?lang=id&type=general': 'ABBOTT NC TREK RX Coronary Dilatation Catheter',\n",
       " '/katalog/produk/detail/57969989?lang=id&type=general': 'ABBOTT GRAFTMASTER RX Coronary Stent Graft System',\n",
       " '/katalog/produk/detail/55029408?lang=id&type=general': 'ABBOTT EMBOSHIELD NAV6 Embolic Protection System',\n",
       " '/katalog/produk/detail/55024722?lang=id&type=general': 'ABBOTT VIATRAC 14 Plus Peripheral Dilatation Catheter',\n",
       " '/katalog/produk/detail/55026818?lang=id&type=general': 'ABBOTT X.ACT Carotid Stent System',\n",
       " '/katalog/produk/detail/55028106?lang=id&type=general': 'ABBOTT PERCLOSE PROGLIDE Suture-Mediated Closure System',\n",
       " '/katalog/produk/detail/55012768?lang=id&type=general': 'ABBOTT HI-TORQUE Command 18 LT Guide Wire',\n",
       " '/katalog/produk/detail/55010722?lang=id&type=general': 'ABBOTT HI-TORQUE Command Guide Wire',\n",
       " '/katalog/produk/detail/55021124?lang=id&type=general': 'ABBOTT OMNILINK ELITE Peripheral Stent System',\n",
       " '/katalog/produk/detail/47962630?lang=id&type=regency': 'Tanpa Merek ALINITY I ANTI-HBS 200T',\n",
       " '/katalog/produk/detail/60587244?lang=id&type=regency': 'ABBOTT ALINITY C LACTATE DEHYDROGENASE2 600T',\n",
       " '/katalog/produk/detail/1363597?lang=id&type=general': 'ABBOTT ARCHITECT i1000SR System and Accessories',\n",
       " '/katalog/produk/detail/1363674?lang=id&type=general': 'ABBOTT ARCHITECT i1000SR System (Integrated) Module and Accessories',\n",
       " '/katalog/produk/detail/1363717?lang=id&type=general': 'ABBOTT ARCHITECT c4000 Processing Module (Integrated) and Accessories',\n",
       " '/katalog/produk/detail/1388756?lang=id&type=general': 'ABBOTT HI-TORQUE VERSATURN Guide Wire',\n",
       " '/katalog/produk/detail/1388805?lang=id&type=general': 'ABBOTT MINI TREK RX Coronary Dilatation Catheter',\n",
       " '/katalog/produk/detail/1389291?lang=id&type=general': 'ABBOTT Xience Xpedition Everolimus Eluting Coronary Stent System',\n",
       " '/katalog/produk/detail/55022859?lang=id&type=general': 'ABBOTT RX Herculink Elite Peripheral Stent System',\n",
       " '/katalog/produk/detail/55016518?lang=id&type=general': 'ABBOTT HI-TORQUE Winn 200T Guide Wire',\n",
       " '/katalog/produk/detail/55019978?lang=id&type=general': 'ABBOTT HI-TORQUE Winn 40 Guide Wire',\n",
       " '/katalog/produk/detail/55018333?lang=id&type=general': 'ABBOTT HI-TORQUE Winn 80 Guide Wire',\n",
       " '/katalog/produk/detail/1391733?lang=id&type=general': 'ABBOTT XIENCE Xpedition LL Everolimus Coronary Stent System',\n",
       " '/katalog/produk/detail/1393347?lang=id&type=general': 'ABBOTT XIENCE Xpedition SV Everolimus Eluting Coronary Stent System',\n",
       " '/katalog/produk/detail/55006665?lang=id&type=general': 'ABBOTT HI-TORQUE Command ES Guide Wire',\n",
       " '/katalog/produk/detail/54989902?lang=id&type=general': 'ABBOTT ARMADA 14 PTA Catheter',\n",
       " '/katalog/produk/detail/54994267?lang=id&type=general': 'ABBOTT ARMADA 14 XT PTA Catheter',\n",
       " '/katalog/produk/detail/54999684?lang=id&type=general': 'ABBOTT ARMADA 18 PTA Catheter',\n",
       " '/katalog/produk/detail/55002265?lang=id&type=general': 'ABBOTT ARMADA 35 PTA Catheter',\n",
       " '/katalog/produk/detail/54957248?lang=id&type=general': 'ABBOTT ABSOLUTE PRO LL Peripheral Self-Expanding Stent System',\n",
       " '/katalog/produk/detail/1385612?lang=id&type=general': 'ABBOTT HI-TORQUE Balance Middleweight Universal II Guide Wire',\n",
       " '/katalog/produk/detail/1388705?lang=id&type=general': 'ABBOTT HI-TORQUE PILOT 200 Guide Wire with Hydrophilic Coating',\n",
       " '/katalog/produk/detail/55014854?lang=id&type=general': 'ABBOTT HI-TORQUE Command 18 ST Guide Wire',\n",
       " '/katalog/produk/detail/2481903?lang=id&type=general': 'ABBOTT Vysis CLL FISH Probe Kit isi 20 Assays',\n",
       " '/katalog/produk/detail/47572470?lang=id&type=regency': 'ABBOTT ALINITY C ICT SAMPLE DILUENT',\n",
       " '/katalog/produk/detail/47573408?lang=id&type=regency': 'ABBOTT ALINITY C UIBC 300T',\n",
       " '/katalog/produk/detail/47575272?lang=id&type=regency': 'ABBOTT ALINITY C COMPLEMENT C3 300T',\n",
       " '/katalog/produk/detail/47575333?lang=id&type=regency': 'ABBOTT ALINITY C COMPLEMENT C4 300T',\n",
       " '/katalog/produk/detail/47575582?lang=id&type=regency': 'ABBOTT ALINITY C-SERIES ALKALINE WASH',\n",
       " '/katalog/produk/detail/47576497?lang=id&type=regency': 'ABBOTT ALINITY C-SERIES DETERGENT B',\n",
       " '/katalog/produk/detail/47576602?lang=id&type=regency': 'ABBOTT ALINITY C-SERIES ICT REFERENCE SOLUTION',\n",
       " '/katalog/produk/detail/47617151?lang=id&type=regency': 'ABBOTT ALINITY C LACTIC ACID 1000T',\n",
       " '/katalog/produk/detail/47617977?lang=id&type=regency': 'ABBOTT ALINITY C AMYLASE 2 640T',\n",
       " '/katalog/produk/detail/58923962?lang=id&type=general': 'ABBOTT AMPLATZER Vascular Plug 4',\n",
       " '/katalog/produk/detail/58932807?lang=id&type=general': 'ABBOTT AMPLATZER VASCULAR PLUG II',\n",
       " '/katalog/produk/detail/74329091?lang=id&type=general': 'ABBOTT OPTIS DEDICATED MONITOR CABLE',\n",
       " '/katalog/produk/detail/74329114?lang=id&type=general': 'ABBOTT OPTIS DVI TO VGA CONVERTER',\n",
       " '/katalog/produk/detail/2290724?lang=id&type=general': 'Tanpa Merek Amplatzer Duct Occluder',\n",
       " '/katalog/produk/detail/2467340?lang=id&type=general': 'Tanpa Merek Amplatzer Duct Occluder II',\n",
       " '/katalog/produk/detail/2468153?lang=id&type=general': 'Tanpa Merek TACTICATH Contact Force Ablation Catheter, Sensor Enabled',\n",
       " '/katalog/produk/detail/44402271?lang=id&type=general': 'Tanpa Merek AMPLATZER PFO Occluder',\n",
       " '/katalog/produk/detail/45947745?lang=id&type=general': 'Tanpa Merek Amplatzer Amulet Left Atrial Appendage Occluder',\n",
       " '/katalog/produk/detail/49423768?lang=id&type=general': 'Tanpa Merek Amplatzer Piccolo Occluder',\n",
       " '/katalog/produk/detail/50279944?lang=id&type=general': 'Tanpa Merek AT OPTIONAL 3D MAPPING + HD Grid Mapping Catheter',\n",
       " '/katalog/produk/detail/50290711?lang=id&type=general': 'Tanpa Merek AF 3D MAPPING HD Grid Catheter',\n",
       " '/katalog/produk/detail/47431748?lang=id&type=regency': 'Tanpa Merek ALINITY PRE-TRIGGER SOLUTION',\n",
       " '/katalog/produk/detail/2467348?lang=id&type=general': 'Tanpa Merek Amplatzer Septal Occluder',\n",
       " '/katalog/produk/detail/47437169?lang=id&type=regency': 'Tanpa Merek ALINITY I CEA CALIBRATOR',\n",
       " '/katalog/produk/detail/71657651?lang=id&type=general': 'Tanpa Merek Amplatzer Talisman',\n",
       " '/katalog/produk/detail/71670937?lang=id&type=general': 'Tanpa Merek EnSite X EP System Surface Electrode Kit',\n",
       " '/katalog/produk/detail/54461197?lang=id&type=general': 'Tanpa Merek 12 Pin Sensor Enabled Diagnostic Catheter Cable',\n",
       " '/katalog/produk/detail/54416476?lang=id&type=general': 'Tanpa Merek Sensor Enabled Diagnostic Catheter Cable',\n",
       " '/katalog/produk/detail/2341866?lang=id&type=general': 'Tanpa Merek ALINITY I PAKET REAGEN SKRINING DARAH UTD ( ALINITY I HBSAG QUALITATIVE II REAGENT KIT, ALINITY I ANTI-HCV REAGENT KIT, ALINITY I HIV AG/AB COMBO REAGENT KIT, ALINITY I SYPHILIS TP REAGENT KIT )',\n",
       " '/katalog/produk/detail/70887427?lang=id&type=regency': 'Tanpa Merek I-STAT G3+ Catridge',\n",
       " '/katalog/produk/detail/2219485?lang=id&type=general': 'Tanpa Merek BIOLINE Rotavirus',\n",
       " '/katalog/produk/detail/2219490?lang=id&type=general': 'Tanpa Merek BIOLINE Salmonella Typhi IgG/IgM Fast',\n",
       " '/katalog/produk/detail/2219520?lang=id&type=general': 'Tanpa Merek UroMeter 120 Urine Chemistry Analyzer and Accessories',\n",
       " '/katalog/produk/detail/52537371?lang=id&type=general': 'Tanpa Merek REUSABLEBipolar forcep angled length 207mm, tip 8,MEDTRONIC Compatible',\n",
       " '/katalog/produk/detail/1383383?lang=id&type=general': 'Tanpa Merek CSF-FLOW CONTROL SHUNT KIT BURR HOLE, 12 MM, MEDIUM PRESSURE/9040 B',\n",
       " '/katalog/produk/detail/1387726?lang=id&type=general': 'Tanpa Merek Anterior Cervical Plate System ROD LEGACY 8690024',\n",
       " '/katalog/produk/detail/49805806?lang=id&type=general': 'Tanpa Merek Medtronic C315 Delivery Catheter, Complete with 3830',\n",
       " '/katalog/produk/detail/3042571?lang=id&type=general': 'Tanpa Merek EDM Lumbar',\n",
       " '/katalog/produk/detail/3080997?lang=id&type=general': 'Tanpa Merek MEDTRONIC External Drainage and Monitoring Catheters - 27695',\n",
       " '/katalog/produk/detail/3081170?lang=id&type=general': 'Tanpa Merek SOLITAIRE AB Neurovascular Remodeling Device - CSS-2.75-1X',\n",
       " '/katalog/produk/detail/3081264?lang=id&type=general': 'Tanpa Merek SOLITAIRE AB Neurovascular Remodeling Device / NDS-2X',\n",
       " '/katalog/produk/detail/71561982?lang=id&type=regency': 'Tanpa Merek Shunt kit contoured low pressure',\n",
       " '/katalog/produk/detail/71571369?lang=id&type=regency': 'Tanpa Merek MEDTRONIC CSF-FLOW CONTROL SHUNT KIT, ULTRA SMALL',\n",
       " '/katalog/produk/detail/50184145?lang=id&type=general': 'Tanpa Merek MEDTRONIC Integrated Power Console MICRODEBRIDER  - RHINOLOGY',\n",
       " '/katalog/produk/detail/51784534?lang=id&type=general': 'Tanpa Merek MEDTRONIC C315 Delivery Catheter',\n",
       " '/katalog/produk/detail/73086094?lang=id&type=regency': 'Tanpa Merek CC. Technopath Multichem Urine, Abbott',\n",
       " '/katalog/produk/detail/74658127?lang=id&type=regency': 'Tanpa Merek CC. ICT INT REF, ABBOTT',\n",
       " '/katalog/produk/detail/72997306?lang=id&type=regency': 'Tanpa Merek Urine CFS Protein Cal, Abbott',\n",
       " '/katalog/produk/detail/49417746?lang=id&type=regency': 'Tanpa Merek ALINITY I HBEAG 200T',\n",
       " '/katalog/produk/detail/2219540?lang=id&type=general': 'Tanpa Merek m-PIMA HIV-1/2 VL',\n",
       " '/katalog/produk/detail/47519602?lang=id&type=regency': 'Tanpa Merek ALINITY I FERRITIN CALIBRATOR',\n",
       " '/katalog/produk/detail/71786857?lang=id&type=general': 'ABBOTT DAPI II Counterstain',\n",
       " '/katalog/produk/detail/71693918?lang=id&type=general': 'ABBOTT VP 2000 Reagents 20X SSC (500 g)',\n",
       " '/katalog/produk/detail/76153096?lang=id&type=general': 'ABBOTT AMPLATZER TorqVue 180 Delivery System',\n",
       " '/katalog/produk/detail/2693409?lang=id&type=general': 'ABBOTT ThermoBrite Slide Denaturation / Hybridization System'}"
      ]
     },
     "execution_count": 104,
     "metadata": {},
     "output_type": "execute_result"
    }
   ],
   "source": [
    "hrefs"
   ]
  },
  {
   "cell_type": "code",
   "execution_count": 21,
   "id": "b9402cc3",
   "metadata": {},
   "outputs": [],
   "source": [
    "import requests\n",
    "def create_search(keyword, cycle):\n",
    "    global meta\n",
    "    params = {\n",
    "    'authenticityToken': '7314a8c003dbd5121334ec2b97b2541e5eb912aa',\n",
    "    'q': keyword,\n",
    "    'prid': '',\n",
    "    'pid': '',\n",
    "    'gt': '',\n",
    "    'lt': '',\n",
    "    'mid': '',\n",
    "    'kbid': '',\n",
    "    'order': 'relevance',\n",
    "    'cat': '',\n",
    "    'limit': '12',\n",
    "    'offset': str(cycle),\n",
    "    }\n",
    "\n",
    "    response = requests.get('https://e-katalog.lkpp.go.id/id/search-produk', params=params, cookies=meta.cookies, headers=meta.headers)\n",
    "    if response.status_code == 200:\n",
    "        return response\n",
    "    else:\n",
    "        if response.status_code == 403:\n",
    "            print(\"Request Denied. Try refreshinng cookies and headers. Press Enter when done\")\n",
    "            input(\"\")\n",
    "            import cookies as meta\n",
    " \n",
    "            response = requests.get('https://e-katalog.lkpp.go.id/id/search-produk', params=params, cookies=meta.cookies, headers=meta.headers)\n",
    "            if response.status_code == 200:\n",
    "                print(\"Cookies and headers refreshed.! Continuing...\")\n",
    "                return response\n",
    "            else:\n",
    "                raise(\"Error. Check manually.\")\n",
    "                    \n"
   ]
  },
  {
   "cell_type": "code",
   "execution_count": 22,
   "id": "a28e92ec",
   "metadata": {},
   "outputs": [
    {
     "name": "stdout",
     "output_type": "stream",
     "text": [
      "Request Denied. Try refreshinng cookies and headers. Press Enter when done\n"
     ]
    },
    {
     "ename": "KeyboardInterrupt",
     "evalue": "Interrupted by user",
     "output_type": "error",
     "traceback": [
      "\u001b[1;31m---------------------------------------------------------------------------\u001b[0m",
      "\u001b[1;31mKeyboardInterrupt\u001b[0m                         Traceback (most recent call last)",
      "Input \u001b[1;32mIn [22]\u001b[0m, in \u001b[0;36m<cell line: 1>\u001b[1;34m()\u001b[0m\n\u001b[1;32m----> 1\u001b[0m \u001b[43mcreate_search\u001b[49m\u001b[43m(\u001b[49m\u001b[38;5;124;43m'\u001b[39;49m\u001b[38;5;124;43mabbott\u001b[39;49m\u001b[38;5;124;43m'\u001b[39;49m\u001b[43m,\u001b[49m\u001b[38;5;241;43m0\u001b[39;49m\u001b[43m)\u001b[49m\n",
      "Input \u001b[1;32mIn [21]\u001b[0m, in \u001b[0;36mcreate_search\u001b[1;34m(keyword, cycle)\u001b[0m\n\u001b[0;32m     23\u001b[0m \u001b[38;5;28;01mif\u001b[39;00m response\u001b[38;5;241m.\u001b[39mstatus_code \u001b[38;5;241m==\u001b[39m \u001b[38;5;241m403\u001b[39m:\n\u001b[0;32m     24\u001b[0m     \u001b[38;5;28mprint\u001b[39m(\u001b[38;5;124m\"\u001b[39m\u001b[38;5;124mRequest Denied. Try refreshinng cookies and headers. Press Enter when done\u001b[39m\u001b[38;5;124m\"\u001b[39m)\n\u001b[1;32m---> 25\u001b[0m     \u001b[38;5;28;43minput\u001b[39;49m\u001b[43m(\u001b[49m\u001b[38;5;124;43m\"\u001b[39;49m\u001b[38;5;124;43m\"\u001b[39;49m\u001b[43m)\u001b[49m\n\u001b[0;32m     26\u001b[0m     \u001b[38;5;28;01mimport\u001b[39;00m \u001b[38;5;21;01mcookies\u001b[39;00m \u001b[38;5;28;01mas\u001b[39;00m \u001b[38;5;21;01mmeta\u001b[39;00m\n\u001b[0;32m     28\u001b[0m     response \u001b[38;5;241m=\u001b[39m requests\u001b[38;5;241m.\u001b[39mget(\u001b[38;5;124m'\u001b[39m\u001b[38;5;124mhttps://e-katalog.lkpp.go.id/id/search-produk\u001b[39m\u001b[38;5;124m'\u001b[39m, params\u001b[38;5;241m=\u001b[39mparams, cookies\u001b[38;5;241m=\u001b[39mmeta\u001b[38;5;241m.\u001b[39mcookies, headers\u001b[38;5;241m=\u001b[39mmeta\u001b[38;5;241m.\u001b[39mheaders)\n",
      "File \u001b[1;32m~\\Anaconda3\\lib\\site-packages\\ipykernel\\kernelbase.py:1075\u001b[0m, in \u001b[0;36mKernel.raw_input\u001b[1;34m(self, prompt)\u001b[0m\n\u001b[0;32m   1071\u001b[0m \u001b[38;5;28;01mif\u001b[39;00m \u001b[38;5;129;01mnot\u001b[39;00m \u001b[38;5;28mself\u001b[39m\u001b[38;5;241m.\u001b[39m_allow_stdin:\n\u001b[0;32m   1072\u001b[0m     \u001b[38;5;28;01mraise\u001b[39;00m StdinNotImplementedError(\n\u001b[0;32m   1073\u001b[0m         \u001b[38;5;124m\"\u001b[39m\u001b[38;5;124mraw_input was called, but this frontend does not support input requests.\u001b[39m\u001b[38;5;124m\"\u001b[39m\n\u001b[0;32m   1074\u001b[0m     )\n\u001b[1;32m-> 1075\u001b[0m \u001b[38;5;28;01mreturn\u001b[39;00m \u001b[38;5;28;43mself\u001b[39;49m\u001b[38;5;241;43m.\u001b[39;49m\u001b[43m_input_request\u001b[49m\u001b[43m(\u001b[49m\n\u001b[0;32m   1076\u001b[0m \u001b[43m    \u001b[49m\u001b[38;5;28;43mstr\u001b[39;49m\u001b[43m(\u001b[49m\u001b[43mprompt\u001b[49m\u001b[43m)\u001b[49m\u001b[43m,\u001b[49m\n\u001b[0;32m   1077\u001b[0m \u001b[43m    \u001b[49m\u001b[38;5;28;43mself\u001b[39;49m\u001b[38;5;241;43m.\u001b[39;49m\u001b[43m_parent_ident\u001b[49m\u001b[43m[\u001b[49m\u001b[38;5;124;43m\"\u001b[39;49m\u001b[38;5;124;43mshell\u001b[39;49m\u001b[38;5;124;43m\"\u001b[39;49m\u001b[43m]\u001b[49m\u001b[43m,\u001b[49m\n\u001b[0;32m   1078\u001b[0m \u001b[43m    \u001b[49m\u001b[38;5;28;43mself\u001b[39;49m\u001b[38;5;241;43m.\u001b[39;49m\u001b[43mget_parent\u001b[49m\u001b[43m(\u001b[49m\u001b[38;5;124;43m\"\u001b[39;49m\u001b[38;5;124;43mshell\u001b[39;49m\u001b[38;5;124;43m\"\u001b[39;49m\u001b[43m)\u001b[49m\u001b[43m,\u001b[49m\n\u001b[0;32m   1079\u001b[0m \u001b[43m    \u001b[49m\u001b[43mpassword\u001b[49m\u001b[38;5;241;43m=\u001b[39;49m\u001b[38;5;28;43;01mFalse\u001b[39;49;00m\u001b[43m,\u001b[49m\n\u001b[0;32m   1080\u001b[0m \u001b[43m\u001b[49m\u001b[43m)\u001b[49m\n",
      "File \u001b[1;32m~\\Anaconda3\\lib\\site-packages\\ipykernel\\kernelbase.py:1120\u001b[0m, in \u001b[0;36mKernel._input_request\u001b[1;34m(self, prompt, ident, parent, password)\u001b[0m\n\u001b[0;32m   1117\u001b[0m             \u001b[38;5;28;01mbreak\u001b[39;00m\n\u001b[0;32m   1118\u001b[0m \u001b[38;5;28;01mexcept\u001b[39;00m \u001b[38;5;167;01mKeyboardInterrupt\u001b[39;00m:\n\u001b[0;32m   1119\u001b[0m     \u001b[38;5;66;03m# re-raise KeyboardInterrupt, to truncate traceback\u001b[39;00m\n\u001b[1;32m-> 1120\u001b[0m     \u001b[38;5;28;01mraise\u001b[39;00m \u001b[38;5;167;01mKeyboardInterrupt\u001b[39;00m(\u001b[38;5;124m\"\u001b[39m\u001b[38;5;124mInterrupted by user\u001b[39m\u001b[38;5;124m\"\u001b[39m) \u001b[38;5;28;01mfrom\u001b[39;00m \u001b[38;5;28mNone\u001b[39m\n\u001b[0;32m   1121\u001b[0m \u001b[38;5;28;01mexcept\u001b[39;00m \u001b[38;5;167;01mException\u001b[39;00m:\n\u001b[0;32m   1122\u001b[0m     \u001b[38;5;28mself\u001b[39m\u001b[38;5;241m.\u001b[39mlog\u001b[38;5;241m.\u001b[39mwarning(\u001b[38;5;124m\"\u001b[39m\u001b[38;5;124mInvalid Message:\u001b[39m\u001b[38;5;124m\"\u001b[39m, exc_info\u001b[38;5;241m=\u001b[39m\u001b[38;5;28;01mTrue\u001b[39;00m)\n",
      "\u001b[1;31mKeyboardInterrupt\u001b[0m: Interrupted by user"
     ]
    }
   ],
   "source": [
    "create_search('abbott',0)"
   ]
  },
  {
   "cell_type": "code",
   "execution_count": 3,
   "id": "dee38864",
   "metadata": {},
   "outputs": [
    {
     "ename": "NameError",
     "evalue": "name 'response' is not defined",
     "output_type": "error",
     "traceback": [
      "\u001b[1;31m---------------------------------------------------------------------------\u001b[0m",
      "\u001b[1;31mNameError\u001b[0m                                 Traceback (most recent call last)",
      "Input \u001b[1;32mIn [3]\u001b[0m, in \u001b[0;36m<cell line: 1>\u001b[1;34m()\u001b[0m\n\u001b[1;32m----> 1\u001b[0m \u001b[43mresponse\u001b[49m\n",
      "\u001b[1;31mNameError\u001b[0m: name 'response' is not defined"
     ]
    }
   ],
   "source": [
    "response"
   ]
  },
  {
   "cell_type": "code",
   "execution_count": 57,
   "id": "3cf8a588",
   "metadata": {
    "scrolled": true
   },
   "outputs": [],
   "source": [
    "from bs4 import BeautifulSoup\n",
    "soup = BeautifulSoup(response.text)"
   ]
  },
  {
   "cell_type": "code",
   "execution_count": 69,
   "id": "0911797c",
   "metadata": {},
   "outputs": [
    {
     "name": "stdout",
     "output_type": "stream",
     "text": [
      "/katalog/produk/detail/1286631?lang=id&type=general ABBOTT ABBOTT m2000rt Instruments and Accessories\n",
      "/katalog/produk/detail/50406570?lang=id&type=regency ABBOTT ABBOTT ALBUMIN BCG 2 3120T\n",
      "/katalog/produk/detail/47617385?lang=id&type=regency Tanpa Merek ABBOTT ALBUMIN BCG 2 1044T.\n",
      "/katalog/produk/detail/74959672?lang=id&type=regency  ABBOTT. ALBUMIN BCG2, ABBOTT\n",
      "/katalog/produk/detail/76755713?lang=id&type=regency  ABBOTT. LACTIC ACID, ABBOTT\n",
      "/katalog/produk/detail/1433810?lang=id&type=general ABBOTT ABBOTT RealTime HBV Amplification Reagent Kit + ABBOTT RealTime HBV Control Kit + ABBOTT RealTime HBV Calibrator Kit + MD2005 Sample Preparation System DNA +  ABBOTT Proteinase K, Recombinant PCR Grade + Consumable ABBOTT m2000sp Instrument and Accesories ( E-Series)\n",
      "/katalog/produk/detail/60000067?lang=id&type=general ABBOTT ABBOTT RealTime HCV Amplification Reagent Kit\n",
      "/katalog/produk/detail/60004447?lang=id&type=general ABBOTT ABBOTT RealTime HBV Amplification Reagent Kit\n",
      "/katalog/produk/detail/76622139?lang=id&type=regency  ABBOTT CONSOLIDATED CHEMISTRY CALIBRATOR, ABBOTT\n",
      "/katalog/produk/detail/1444582?lang=id&type=general ABBOTT ABBOTT RealTime CT/NG Ampification Reagen Kit + ABBOTT RealTime CT/NG Control kit + ABBOTT Cervic-collect Specimen Collection Kit + MD2005 Sample Preparation System DNA + Consumable ABBOTT m2000sp Instrument and Accesories ( E-Series)\n",
      "/katalog/produk/detail/59287069?lang=id&type=general ABBOTT ABBOTT RealTime HIV-1 Amplification Reagent Kit\n",
      "/katalog/produk/detail/59307508?lang=id&type=general ABBOTT ABBOTT REALTIME CT/NG Amplification Reagent Kit\n"
     ]
    }
   ],
   "source": [
    "hrefs = {}\n",
    "results = soup.find_all('div', {'class':'card-item-title'})\n",
    "for result in results:\n",
    "    if result.find('a'):\n",
    "        href = result.find('a')['href']\n",
    "        title = result.find('a')['title']\n",
    "        print(href,title)\n",
    "        hrefs[href] = title\n"
   ]
  },
  {
   "cell_type": "code",
   "execution_count": 68,
   "id": "162e151f",
   "metadata": {},
   "outputs": [
    {
     "data": {
      "text/plain": [
       "<div class=\"card-item-detail\" style=\"height: 100%;\">\n",
       "<div class=\"card-item-title\" style=\"margin-bottom: 2px;height: 22px;background: #cd7c89;border-radius: 50px;padding-top: 2px;\">\n",
       "<span style=\"background-image: url('/public/images/import.gif');background-repeat: no-repeat;background-size: 19px;padding: 12px;background-position: 4px;\" title=\"Import\"></span>\n",
       "<span style=\"background-image: url('/public/images/ukm.gif');background-repeat: no-repeat;background-size: 19px;padding: 12px;background-position: 4px;\" title=\"UMKK\"></span>\n",
       "</div>\n",
       "<div class=\"card-item-title\">\n",
       "<a data-placement=\"bottom\" data-toggle=\"tooltip\" href=\"/katalog/produk/detail/1286631?lang=id&amp;type=general\" title=\"ABBOTT ABBOTT m2000rt Instruments and Accessories\">ABBOTT ABBOTT m2000rt Instruments and Accesso...</a>\n",
       "</div>\n",
       "<div class=\"card-item-description\">\n",
       "<p style=\"white-space: nowrap;overflow:hidden;text-overflow:ellipsis;\">PT Sinergi Utama Sejahtera</p>\n",
       "<p style=\"white-space: nowrap;overflow:hidden;text-overflow:ellipsis;font-weight: bold\">TKDN(%) : n/a</p>\n",
       "<p style=\"white-space: nowrap;overflow:hidden;text-overflow:ellipsis;font-weight: bold\">BMP : n/a</p>\n",
       "<p style=\"white-space: nowrap;overflow:hidden;text-overflow:ellipsis;font-weight: bold\">TKDN + BMP : n/a</p>\n",
       "<p style=\"white-space: nowrap;overflow:hidden;text-overflow:ellipsis;\"> </p>\n",
       "<p style=\"white-space: nowrap;overflow:hidden;text-overflow:ellipsis;\">IDR 3,100,000,000.00</p>\n",
       "</div>\n",
       "<div class=\"text-center\">\n",
       "<hr/>\n",
       "<h5>Bagikan</h5>\n",
       "</div>\n",
       "<div class=\"text-center\">\n",
       "<a class=\"btn btn-info\" href=\"https://web.facebook.com/sharer/sharer.php\" onclick=\"javascript:window.open(this.href+'?u='+'/katalog/produk/detail/1286631?lang=id&amp;type=general',\n",
       "                       '_blank', 'menubar=no,toolbar=no,resizable=no,scrollbars=yes,height=350,width=350');\n",
       "                       return false;\" style=\"width: 20%\">\n",
       "<i aria-hidden=\"true\" class=\"fa fa-facebook\"></i>\n",
       "</a>\n",
       "<a class=\"btn btn-primary\" href=\"https://twitter.com/intent/tweet\" onclick=\"javascript:window.open(this.href+'?url='+'/katalog/produk/detail/1286631?lang=id&amp;type=general',\n",
       "                       '_blank', 'menubar=no,toolbar=no,resizable=no,scrollbars=yes,height=350,width=350');\n",
       "                       return false;\" style=\"width: 20%\">\n",
       "<i aria-hidden=\"true\" class=\"fa fa-twitter\"></i>\n",
       "</a>\n",
       "</div>\n",
       "</div>"
      ]
     },
     "execution_count": 68,
     "metadata": {},
     "output_type": "execute_result"
    }
   ],
   "source": [
    "results[0]"
   ]
  },
  {
   "cell_type": "code",
   "execution_count": 49,
   "id": "429f5a8d",
   "metadata": {},
   "outputs": [
    {
     "ename": "AttributeError",
     "evalue": "ResultSet object has no attribute 'find'. You're probably treating a list of elements like a single element. Did you call find_all() when you meant to call find()?",
     "output_type": "error",
     "traceback": [
      "\u001b[1;31m---------------------------------------------------------------------------\u001b[0m",
      "\u001b[1;31mAttributeError\u001b[0m                            Traceback (most recent call last)",
      "Input \u001b[1;32mIn [49]\u001b[0m, in \u001b[0;36m<cell line: 1>\u001b[1;34m()\u001b[0m\n\u001b[1;32m----> 1\u001b[0m href \u001b[38;5;241m=\u001b[39m \u001b[43mresults\u001b[49m\u001b[38;5;241;43m.\u001b[39;49m\u001b[43mfind\u001b[49m(\u001b[38;5;124m'\u001b[39m\u001b[38;5;124mdiv\u001b[39m\u001b[38;5;124m'\u001b[39m, {\u001b[38;5;124m'\u001b[39m\u001b[38;5;124mclass\u001b[39m\u001b[38;5;124m'\u001b[39m:\u001b[38;5;124m'\u001b[39m\u001b[38;5;124mcard-item-title\u001b[39m\u001b[38;5;124m'\u001b[39m})\n\u001b[0;32m      2\u001b[0m href\n",
      "File \u001b[1;32m~\\Anaconda3\\lib\\site-packages\\bs4\\element.py:2289\u001b[0m, in \u001b[0;36mResultSet.__getattr__\u001b[1;34m(self, key)\u001b[0m\n\u001b[0;32m   2287\u001b[0m \u001b[38;5;28;01mdef\u001b[39;00m \u001b[38;5;21m__getattr__\u001b[39m(\u001b[38;5;28mself\u001b[39m, key):\n\u001b[0;32m   2288\u001b[0m     \u001b[38;5;124;03m\"\"\"Raise a helpful exception to explain a common code fix.\"\"\"\u001b[39;00m\n\u001b[1;32m-> 2289\u001b[0m     \u001b[38;5;28;01mraise\u001b[39;00m \u001b[38;5;167;01mAttributeError\u001b[39;00m(\n\u001b[0;32m   2290\u001b[0m         \u001b[38;5;124m\"\u001b[39m\u001b[38;5;124mResultSet object has no attribute \u001b[39m\u001b[38;5;124m'\u001b[39m\u001b[38;5;132;01m%s\u001b[39;00m\u001b[38;5;124m'\u001b[39m\u001b[38;5;124m. You\u001b[39m\u001b[38;5;124m'\u001b[39m\u001b[38;5;124mre probably treating a list of elements like a single element. Did you call find_all() when you meant to call find()?\u001b[39m\u001b[38;5;124m\"\u001b[39m \u001b[38;5;241m%\u001b[39m key\n\u001b[0;32m   2291\u001b[0m     )\n",
      "\u001b[1;31mAttributeError\u001b[0m: ResultSet object has no attribute 'find'. You're probably treating a list of elements like a single element. Did you call find_all() when you meant to call find()?"
     ]
    }
   ],
   "source": []
  },
  {
   "cell_type": "code",
   "execution_count": 61,
   "id": "37bcaeb9",
   "metadata": {},
   "outputs": [
    {
     "data": {
      "text/plain": [
       "12"
      ]
     },
     "execution_count": 61,
     "metadata": {},
     "output_type": "execute_result"
    }
   ],
   "source": [
    "soup = BeautifulSoup(response.text)\n",
    "results = soup.find_all('div', {'class':'card-item-detail'})\n",
    "len(results)"
   ]
  },
  {
   "cell_type": "code",
   "execution_count": 62,
   "id": "5166928e",
   "metadata": {},
   "outputs": [
    {
     "name": "stdout",
     "output_type": "stream",
     "text": [
      "\n",
      "\n",
      "\n",
      "\n",
      "\n",
      "\n",
      "ABBOTT ABBOTT m2000rt Instruments and Accesso...\n",
      "\n",
      "\n",
      "PT Sinergi Utama Sejahtera\n",
      "TKDN(%) : n/a\n",
      "BMP : n/a\n",
      "TKDN + BMP : n/a\n",
      " \n",
      "IDR 3,100,000,000.00\n",
      "\n",
      "\n",
      "\n",
      "Bagikan\n",
      "\n",
      "\n",
      "\n",
      "\n",
      "\n",
      "\n",
      "\n",
      "\n",
      "\n",
      "\n"
     ]
    }
   ],
   "source": [
    "print(results[0].text)"
   ]
  }
 ],
 "metadata": {
  "kernelspec": {
   "display_name": "Python 3 (ipykernel)",
   "language": "python",
   "name": "python3"
  },
  "language_info": {
   "codemirror_mode": {
    "name": "ipython",
    "version": 3
   },
   "file_extension": ".py",
   "mimetype": "text/x-python",
   "name": "python",
   "nbconvert_exporter": "python",
   "pygments_lexer": "ipython3",
   "version": "3.9.12"
  }
 },
 "nbformat": 4,
 "nbformat_minor": 5
}
