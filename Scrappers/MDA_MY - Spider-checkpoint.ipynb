{
 "cells": [
  {
   "cell_type": "code",
   "execution_count": 1,
   "id": "099aba42",
   "metadata": {},
   "outputs": [],
   "source": [
    "import requests\n",
    "from bs4 import BeautifulSoup\n",
    "import pandas as pd\n",
    "from datetime import datetime\n",
    "import time"
   ]
  },
  {
   "cell_type": "code",
   "execution_count": 2,
   "id": "3f55f0c9",
   "metadata": {},
   "outputs": [],
   "source": [
    "def create_search(keyword):\n",
    "    cookies = {\n",
    "        'advanced-frontend': '1qvup17bdkenkns7ja4ae37m0h',\n",
    "        '_csrf-frontend': '336089dc6274e73228ccf35d519826f5d3bf03f31b26791424cedbd04e5f4472a%3A2%3A%7Bi%3A0%3Bs%3A14%3A%22_csrf-frontend%22%3Bi%3A1%3Bs%3A32%3A%22Veb1gE9jjqODCQlIEHn7wwZA7shoodp3%22%3B%7D',\n",
    "        '_gid': 'GA1.3.807119358.1683069145',\n",
    "        '_ga': 'GA1.3.67003413.1663762523',\n",
    "        '_ga_3WFF0VD4BK': 'GS1.1.1683069145.12.1.1683069536.0.0.0',\n",
    "    }\n",
    "\n",
    "    headers = {\n",
    "        'authority': 'mdar.mda.gov.my',\n",
    "        'accept': 'text/html,application/xhtml+xml,application/xml;q=0.9,image/avif,image/webp,image/apng,*/*;q=0.8,application/signed-exchange;v=b3;q=0.7',\n",
    "        'accept-language': 'en-US,en;q=0.9',\n",
    "        'cache-control': 'max-age=0',\n",
    "        # 'cookie': 'advanced-frontend=1qvup17bdkenkns7ja4ae37m0h; _csrf-frontend=336089dc6274e73228ccf35d519826f5d3bf03f31b26791424cedbd04e5f4472a%3A2%3A%7Bi%3A0%3Bs%3A14%3A%22_csrf-frontend%22%3Bi%3A1%3Bs%3A32%3A%22Veb1gE9jjqODCQlIEHn7wwZA7shoodp3%22%3B%7D; _gid=GA1.3.807119358.1683069145; _ga=GA1.3.67003413.1663762523; _ga_3WFF0VD4BK=GS1.1.1683069145.12.1.1683069536.0.0.0',\n",
    "        'referer': 'https://mdar.mda.gov.my/frontend/web/index.php?r=carian',\n",
    "        'sec-ch-ua': '\"Chromium\";v=\"112\", \"Google Chrome\";v=\"112\", \"Not:A-Brand\";v=\"99\"',\n",
    "        'sec-ch-ua-mobile': '?0',\n",
    "        'sec-ch-ua-platform': '\"Windows\"',\n",
    "        'sec-fetch-dest': 'document',\n",
    "        'sec-fetch-mode': 'navigate',\n",
    "        'sec-fetch-site': 'same-origin',\n",
    "        'sec-fetch-user': '?1',\n",
    "        'upgrade-insecure-requests': '1',\n",
    "        'user-agent': 'Mozilla/5.0 (Windows NT 10.0; Win64; x64) AppleWebKit/537.36 (KHTML, like Gecko) Chrome/112.0.0.0 Safari/537.36',\n",
    "    }\n",
    "\n",
    "    params = {\n",
    "        'r': 'carian/index',\n",
    "        'CompletedApplicationAllmdrSearch[globalSearch]': keyword,\n",
    "    }\n",
    "\n",
    "    response = requests.get('https://mdar.mda.gov.my/frontend/web/index.php', params=params, cookies=cookies, headers=headers)\n",
    "    soup = BeautifulSoup(response.text)\n",
    "    device_list = soup.find_all('tr')\n",
    "    return device_list\n",
    "    "
   ]
  },
  {
   "cell_type": "code",
   "execution_count": 3,
   "id": "19bdc745",
   "metadata": {},
   "outputs": [
    {
     "data": {
      "text/plain": [
       "{'Abbott',\n",
       " 'Agilent',\n",
       " 'BD',\n",
       " 'BIO-RAD',\n",
       " 'BIOMERIEUX',\n",
       " 'Cepheid',\n",
       " 'Diasorin',\n",
       " 'Grifols',\n",
       " 'Hologic',\n",
       " 'Horiba',\n",
       " 'Human',\n",
       " 'Leica',\n",
       " 'Merck',\n",
       " 'Mindray',\n",
       " 'Qiagen',\n",
       " 'Roche',\n",
       " 'Siemens',\n",
       " 'Sysmex',\n",
       " 'Thermo Fisher'}"
      ]
     },
     "execution_count": 3,
     "metadata": {},
     "output_type": "execute_result"
    }
   ],
   "source": [
    "#Load Keyword file\n",
    "keyword_file = pd.ExcelFile(\"IVD_Keyword_Tracker_v0.1.xlsx\")\n",
    "player_names = pd.read_excel(keyword_file, sheet_name = 'IVD Final Keyword List')\n",
    "player_names = set(player_names[player_names['Player Name (2)'].notnull()]['Player Name (2)'])\n",
    "player_names"
   ]
  },
  {
   "cell_type": "code",
   "execution_count": 4,
   "id": "d39876e7",
   "metadata": {},
   "outputs": [],
   "source": [
    "keywords = []\n",
    "keywords = keywords+list(player_names)"
   ]
  },
  {
   "cell_type": "code",
   "execution_count": 5,
   "id": "d89cb1ff",
   "metadata": {},
   "outputs": [
    {
     "name": "stdout",
     "output_type": "stream",
     "text": [
      "Searching MDA using keywords...\n",
      "Diasorin 4\n"
     ]
    }
   ],
   "source": [
    "print(\"Searching MDA using keywords...\")\n",
    "for keyword in keywords:\n",
    "    catch = dict()\n",
    "    search_result = create_search(keyword)\n",
    "    search_result = search_result[1:]\n",
    "    ids_in_results = [x['data-key'] for x in search_result]\n",
    "    catch[keyword] =  ids_in_results\n",
    "    print(keyword, len(ids_in_results))\n",
    "    \n",
    "    "
   ]
  },
  {
   "cell_type": "code",
   "execution_count": 8,
   "id": "229d16f5",
   "metadata": {},
   "outputs": [
    {
     "data": {
      "text/plain": [
       "4"
      ]
     },
     "execution_count": 8,
     "metadata": {},
     "output_type": "execute_result"
    }
   ],
   "source": [
    "ids_to_scrape = []\n",
    "for k,v in catch.items():\n",
    "    ids_to_scrape+= [*v]\n",
    "\n",
    "ids_to_scrape  = list(set(ids_to_scrape))\n",
    "len(ids_to_scrape)\n",
    "    "
   ]
  },
  {
   "cell_type": "code",
   "execution_count": 9,
   "id": "1d329d4e",
   "metadata": {
    "scrolled": true
   },
   "outputs": [
    {
     "name": "stdout",
     "output_type": "stream",
     "text": [
      "Running\n"
     ]
    }
   ],
   "source": [
    "df1 = pd.DataFrame()\n",
    "df2 = pd.DataFrame()\n",
    "url = \"https://mdar.mda.gov.my/frontend/web/index.php?r=carian%2Fview&id=\"\n",
    "headers = requests.utils.default_headers()\n",
    "headers.update({\n",
    "    'User-Agent': 'Mozilla/5.0 (X11; Ubuntu; Linux x86_64; rv:52.0) Gecko/20100101 Firefox/52.0',\n",
    "})\n",
    "print(\"Running\")\n",
    "errors = []\n",
    "for ids in ids_to_scrape:\n",
    "    try:\n",
    "        response = requests.get(url+ids, headers = headers)\n",
    "        time.sleep(1)\n",
    "\n",
    "        soup = BeautifulSoup(response.text)\n",
    "        trs = soup.find('table', id=\"w0\").find_all('tr')\n",
    "        for tr in trs:\n",
    "            th = tr.find('th').text\n",
    "            td = tr.find('td').text\n",
    "\n",
    "            if th == \"NAME OF DEVICE\":\n",
    "                name = td\n",
    "            elif th == \"ESTABLISHMENT NAME\":\n",
    "                company = td\n",
    "            elif th == \"REGISTRATION NO\":\n",
    "                rnumber = td\n",
    "            elif th == \"BRAND NAME\":\n",
    "                product = td\n",
    "            elif th == \"DESCRIPTION\":\n",
    "                desc = td\n",
    "            elif th == \"INTENDED PURPOSE\":\n",
    "                meta = td\n",
    "            elif th == \"VALIDITY DATE OF REGISTRATION\":\n",
    "                start = datetime.strptime(td.split(\" - \")[0], '%d-%m-%Y')\n",
    "                end = datetime.strptime(td.split(\" - \")[1], '%d-%m-%Y')\n",
    "        sku_data = soup.find\n",
    "        row = [ids, rnumber, name, company, product, desc, meta, start, end, url]\n",
    "        temp = pd.DataFrame(row)\n",
    "        temp = temp.transpose()\n",
    "        df1 = pd.concat([df1,temp])\n",
    "        trs = soup.find('table', id=\"example2\").find_all('tr')\n",
    "        if len(trs) > 1:\n",
    "            row1 = []\n",
    "            for tr in trs[1:]:\n",
    "                tds = tr.find_all('td')\n",
    "                prod = tds[1].text\n",
    "                identifier = tds[2].text\n",
    "                row = [ids, prod, identifier]\n",
    "                temp = pd.DataFrame(row)\n",
    "                temp = temp.transpose()\n",
    "                df2 = pd.concat([df2,temp])\n",
    "    except:\n",
    "        errors.append(ids)\n"
   ]
  },
  {
   "cell_type": "code",
   "execution_count": 26,
   "id": "9295c460",
   "metadata": {},
   "outputs": [],
   "source": [
    "df1.to_csv(\"MDA_MY - Device list.csv\")\n",
    "df2.to_csv(\"MDA_MY - Device Identifiers.csv\")"
   ]
  },
  {
   "cell_type": "code",
   "execution_count": 28,
   "id": "e4be3906",
   "metadata": {},
   "outputs": [],
   "source": [
    "errors_d = pd.DataFrame(errors)\n",
    "errors_d.to_excel(\"Errors.xlsx\")"
   ]
  }
 ],
 "metadata": {
  "kernelspec": {
   "display_name": "Python 3 (ipykernel)",
   "language": "python",
   "name": "python3"
  },
  "language_info": {
   "codemirror_mode": {
    "name": "ipython",
    "version": 3
   },
   "file_extension": ".py",
   "mimetype": "text/x-python",
   "name": "python",
   "nbconvert_exporter": "python",
   "pygments_lexer": "ipython3",
   "version": "3.9.12"
  }
 },
 "nbformat": 4,
 "nbformat_minor": 5
}
