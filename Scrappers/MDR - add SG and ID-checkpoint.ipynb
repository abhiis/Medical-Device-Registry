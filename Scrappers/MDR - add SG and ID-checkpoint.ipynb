{
 "cells": [
  {
   "cell_type": "code",
   "execution_count": 18,
   "id": "3aa3883a",
   "metadata": {},
   "outputs": [],
   "source": [
    "!jt -t gruvboxd -fs 12 -altp -tfs 12 -nfs 12 -cellw 85% -T -N -kl"
   ]
  },
  {
   "cell_type": "code",
   "execution_count": 6,
   "id": "7c9b7b21",
   "metadata": {},
   "outputs": [
    {
     "data": {
      "text/plain": [
       "['C:\\\\Users\\\\AbhishekSrivastava\\\\Desktop\\\\Workflow\\\\Python\\\\Dev\\\\Medical Devices Registry\\\\MDR Scripts\\\\Consolidation\\\\Data\\\\Wave 2\\\\df_catalog.xlsx',\n",
       " 'C:\\\\Users\\\\AbhishekSrivastava\\\\Desktop\\\\Workflow\\\\Python\\\\Dev\\\\Medical Devices Registry\\\\MDR Scripts\\\\Consolidation\\\\Data\\\\Wave 2\\\\SG_MDR.xlsx']"
      ]
     },
     "execution_count": 6,
     "metadata": {},
     "output_type": "execute_result"
    }
   ],
   "source": [
    "import pandas as pd\n",
    "import numpy as np\n",
    "import os,time, glob as g\n",
    "import warnings as ws\n",
    "import time\n",
    "ws.filterwarnings(\"ignore\")\n",
    "\n",
    "\n",
    "data = os.getcwd()+\"\\\\Data\\\\Wave 2\"\n",
    "files = g.glob(os.path.join(data,'*.xlsx'))\n",
    "files\n",
    "\n",
    "holder = dict()\n",
    "for file in files:\n",
    "    \n",
    "    hold = pd.read_excel(file)\n",
    "    country = file.split(\"\\\\\")[-1].split(\".\")[0]\n",
    "    print(country)\n",
    "    print(f\"Columns: {len(hold.columns)} {hold.columns}\")\n",
    "    holder[country] = hold\n",
    "    print(hold.shape)\n",
    "    \n",
    "indo = holder['df_catalog']\n",
    "indo.rename(columns = {'Company':'Not_req','Brand':'Company'}, inplace=True)\n",
    "indo['Description'] = indo['Company'] + \" \"+indo['Product']\n",
    "sg = holder['SG_MDR']\n",
    "sg.rename(columns = {'Model_list':'Product','Registrant_list':'Company'}, inplace=True)\n",
    "sg['Description'] = sg['Device_Name'] + \" \" + sg['Description_list']\n",
    "\n"
   ]
  },
  {
   "cell_type": "code",
   "execution_count": 15,
   "id": "d22b6a2e",
   "metadata": {},
   "outputs": [
    {
     "name": "stdout",
     "output_type": "stream",
     "text": [
      "df_catalog\n",
      "Columns: 5 Index(['Product', 'Price', 'Company', 'Brand', 'Function'], dtype='object')\n",
      "(53628, 5)\n",
      "SG_MDR\n",
      "Columns: 10 Index(['Device_Name', 'Description_list', 'Medical_Specialty_Area',\n",
      "       'Medical_Device_Class', 'Device_Registration', 'Registration_Date',\n",
      "       'Device_System', 'Product_Owner', 'Registrant_list', 'Model_list'],\n",
      "      dtype='object')\n",
      "(77064, 10)\n"
     ]
    }
   ],
   "source": []
  },
  {
   "cell_type": "code",
   "execution_count": 16,
   "id": "904b532e",
   "metadata": {},
   "outputs": [],
   "source": []
  },
  {
   "cell_type": "code",
   "execution_count": 17,
   "id": "fc5c3eee",
   "metadata": {},
   "outputs": [],
   "source": []
  }
 ],
 "metadata": {
  "kernelspec": {
   "display_name": "Python 3 (ipykernel)",
   "language": "python",
   "name": "python3"
  },
  "language_info": {
   "codemirror_mode": {
    "name": "ipython",
    "version": 3
   },
   "file_extension": ".py",
   "mimetype": "text/x-python",
   "name": "python",
   "nbconvert_exporter": "python",
   "pygments_lexer": "ipython3",
   "version": "3.9.12"
  }
 },
 "nbformat": 4,
 "nbformat_minor": 5
}
