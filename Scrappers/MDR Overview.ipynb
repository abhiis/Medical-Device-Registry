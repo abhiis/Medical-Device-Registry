{
 "cells": [
  {
   "cell_type": "code",
   "execution_count": 1,
   "id": "b25d5d13",
   "metadata": {},
   "outputs": [],
   "source": [
    "!jt -t gruvboxl -fs 12 -altp -tfs 12 -nfs 12 -cellw 85% -T -N -kl"
   ]
  },
  {
   "cell_type": "code",
   "execution_count": 1,
   "id": "8881c784",
   "metadata": {},
   "outputs": [],
   "source": [
    "import pandas as pd\n",
    "import numpy as np\n",
    "import os,time, glob as g\n",
    "import warnings as ws\n",
    "import time\n",
    "ws.filterwarnings(\"ignore\")"
   ]
  },
  {
   "cell_type": "code",
   "execution_count": 2,
   "id": "1e5ba4bd",
   "metadata": {},
   "outputs": [
    {
     "data": {
      "text/plain": [
       "['C:\\\\Users\\\\AbhishekSrivastava\\\\Desktop\\\\Workflow\\\\Python\\\\Dev\\\\Medical Devices Registry\\\\MDR Scripts\\\\Consolidation\\\\Data\\\\ARTG.xlsx',\n",
       " 'C:\\\\Users\\\\AbhishekSrivastava\\\\Desktop\\\\Workflow\\\\Python\\\\Dev\\\\Medical Devices Registry\\\\MDR Scripts\\\\Consolidation\\\\Data\\\\Eudamed.xlsx',\n",
       " 'C:\\\\Users\\\\AbhishekSrivastava\\\\Desktop\\\\Workflow\\\\Python\\\\Dev\\\\Medical Devices Registry\\\\MDR Scripts\\\\Consolidation\\\\Data\\\\FDA PH.xlsx',\n",
       " 'C:\\\\Users\\\\AbhishekSrivastava\\\\Desktop\\\\Workflow\\\\Python\\\\Dev\\\\Medical Devices Registry\\\\MDR Scripts\\\\Consolidation\\\\Data\\\\FDA TH.xlsx',\n",
       " 'C:\\\\Users\\\\AbhishekSrivastava\\\\Desktop\\\\Workflow\\\\Python\\\\Dev\\\\Medical Devices Registry\\\\MDR Scripts\\\\Consolidation\\\\Data\\\\FDA US.xlsx',\n",
       " 'C:\\\\Users\\\\AbhishekSrivastava\\\\Desktop\\\\Workflow\\\\Python\\\\Dev\\\\Medical Devices Registry\\\\MDR Scripts\\\\Consolidation\\\\Data\\\\MDA MY.xlsx',\n",
       " 'C:\\\\Users\\\\AbhishekSrivastava\\\\Desktop\\\\Workflow\\\\Python\\\\Dev\\\\Medical Devices Registry\\\\MDR Scripts\\\\Consolidation\\\\Data\\\\MOHAP.xlsx',\n",
       " 'C:\\\\Users\\\\AbhishekSrivastava\\\\Desktop\\\\Workflow\\\\Python\\\\Dev\\\\Medical Devices Registry\\\\MDR Scripts\\\\Consolidation\\\\Data\\\\PMDA.xlsx']"
      ]
     },
     "execution_count": 2,
     "metadata": {},
     "output_type": "execute_result"
    }
   ],
   "source": [
    "#Moved files manually, renamed manually\n",
    "#Consolidation\n",
    "data = os.getcwd()+\"\\\\Data\"\n",
    "files = g.glob(os.path.join(data,'*.xlsx'))\n",
    "files"
   ]
  },
  {
   "cell_type": "code",
   "execution_count": 3,
   "id": "59cd8489",
   "metadata": {
    "scrolled": false
   },
   "outputs": [
    {
     "name": "stdout",
     "output_type": "stream",
     "text": [
      "ARTG\n",
      "Columns: 25 Index(['ARTG ID', 'Sponsor Name', 'Company', 'GMDN (Code-Text)', 'Class',\n",
      "       'ARTG Category', 'Good Name', 'Therapeutic Type', 'Device Name',\n",
      "       'Approval Area', 'Conditions', 'Product Type', 'Start Date',\n",
      "       'Effective Date', 'Functional Description', 'Intended Purpose',\n",
      "       'Variant Information', 'Specific Conditions', 'Manufacturer Address',\n",
      "       'Manufacturer Country', 'Public Summary', 'Consumer/Patient Info',\n",
      "       'Product Info', 'Manufacturer Name', 'Product Name'],\n",
      "      dtype='object')\n",
      "(62305, 25)\n",
      "Eudamed\n",
      "Columns: 12 Index(['Unnamed: 0', 'Company', 'Actor_ID', 'Address', 'Country',\n",
      "       'Applicable Legislation', 'UDI_Code', 'Nomenclature', 'Basic_UDI',\n",
      "       'Risk Class', 'Device Name', 'Device Model'],\n",
      "      dtype='object')\n",
      "(61063, 12)\n",
      "FDA PH\n",
      "Columns: 8 Index(['Unnamed: 0', 'Registration ID', 'Product Name', 'Manufacturer',\n",
      "       'Country of Origin', 'Issuance Date', 'Expiry Date', 'URL'],\n",
      "      dtype='object')\n",
      "(17334, 8)\n",
      "FDA TH\n",
      "Columns: 9 Index(['Product_type', 'CAT_NO', 'Cert_License', 'Device Name',\n",
      "       'Device Description', 'Company', 'Product details', 'New_Codes',\n",
      "       'Status'],\n",
      "      dtype='object')\n",
      "(60630, 9)\n",
      "FDA US\n",
      "Columns: 12 Index(['K_Number', 'Player', 'Device Name', 'Review Advisory', 'Product Code',\n",
      "       'Decision Date', 'Review Panel', 'Medical Specialty', 'Device Meta',\n",
      "       'Device Class', 'Regulation Number', 'Specialty'],\n",
      "      dtype='object')\n",
      "(163441, 12)\n",
      "MDA MY\n",
      "Columns: 11 Index(['Unnamed: 0', 'ID', 'REGISTRATION NO', 'NAME OF DEVICE',\n",
      "       'ESTABLISHMENT NAME', 'BRAND NAME', 'DESCRIPTION', 'INTENDED PURPOSE',\n",
      "       'DATE OF REGISTRATION', 'VALIDITY', 'URL'],\n",
      "      dtype='object')\n",
      "(25340, 11)\n",
      "MOHAP\n",
      "Columns: 14 Index(['Trade Name', 'Price', 'Pack Size', 'Strength', 'Supplier Address',\n",
      "       'Supplier', 'Ingredient', 'Body System', 'Form', 'Classification',\n",
      "       'Therapeutic Group', 'Manufacturer', 'Country Of Origin',\n",
      "       'Dispensing Mode'],\n",
      "      dtype='object')\n",
      "(12829, 14)\n",
      "PMDA\n",
      "Columns: 12 Index(['Device Name', 'Company', 'Review Category', 'Approval Date',\n",
      "       'US Approval Date', 'Device (Company Name)',\n",
      "       'New Approval/Partial Change', 'Classification', 'Device Description',\n",
      "       'Total Review Time ; Regulatory Review Time', 'Clinical Study Results',\n",
      "       'Term Name'],\n",
      "      dtype='object')\n",
      "(369, 12)\n"
     ]
    }
   ],
   "source": [
    "holder = dict()\n",
    "for file in files:\n",
    "    \n",
    "    hold = pd.read_excel(file)\n",
    "    country = file.split(\"\\\\\")[-1].split(\".\")[0]\n",
    "    print(country)\n",
    "    print(f\"Columns: {len(hold.columns)} {hold.columns}\")\n",
    "    holder[country] = hold\n",
    "    print(hold.shape)\n",
    "    \n",
    "    \n",
    "    "
   ]
  },
  {
   "cell_type": "code",
   "execution_count": 4,
   "id": "5cf0b494",
   "metadata": {},
   "outputs": [
    {
     "data": {
      "text/plain": [
       "[62305, 61063, 17334, 60630, 163441, 25340, 12829, 369]"
      ]
     },
     "execution_count": 4,
     "metadata": {},
     "output_type": "execute_result"
    }
   ],
   "source": [
    "countries = list(holder.keys())\n",
    "counts = [len(holder[x]) for x in countries]\n",
    "counts"
   ]
  },
  {
   "cell_type": "code",
   "execution_count": 8,
   "id": "fe420675",
   "metadata": {},
   "outputs": [],
   "source": [
    "current_folder = os.getcwd()\n",
    "mappings = current_folder+\"\\\\Mappings\"\n",
    "keyword_file = pd.read_excel(g.glob(os.path.join(mappings,'IVD*.xlsx'))[0])\n",
    "keyword_file = keyword_file.iloc[:,:8]\n",
    "keyword_file\n",
    "dict_copy=keyword_file.to_dict('records')\n",
    "def apply_keyword_map(grill):\n",
    "    \n",
    "    print(\"\\tBegin Keyword Map...\", end =\" \")\n",
    "    print(f\"ETA: {round(len(grill) / len(dict_copy)*3, 2)}s\", end=\"\\n\")\n",
    "    _s = time.time()\n",
    "    final = []\n",
    "    print()\n",
    "    for row in dict_copy:\n",
    "        keyword = row['Product Model (2)']\n",
    "        if not type(keyword) == float:\n",
    "            grill = grill.copy()\n",
    "            tmp = grill[grill['Intended Purpose'].fillna(\"missing\").str.contains(row['Product Model (2)'],case=False)]\n",
    "            tmp = tmp.copy()\n",
    "            tmp['Mapped']=row['Final Segment (2) (5)']\n",
    "            tmp['Player']=row['Player Name (2)']\n",
    "            final.append(tmp)\n",
    "    final = pd.concat(final)\n",
    "    \n",
    "    #final = final[['index','Intended Purpose','Mapped','Player']]\n",
    "    \n",
    "    \n",
    "    \n",
    "    \n",
    "    final.drop_duplicates(subset = 'index',keep = \"first\", inplace = True) \n",
    "\n",
    "    frames = [grill, final]\n",
    "    frames = frames.copy()\n",
    "    grill = pd.concat(frames)\n",
    "    grill = grill.copy()\n",
    "    grill.drop_duplicates(subset = 'index',keep = \"last\", inplace = True) \n",
    "    \n",
    "    \n",
    "    print(f\"Grill merged: {grill.shape}\")\n",
    "    print(f\"Finished in {round(time.time() - _s,2)}s.\")\n",
    "    return grill\n",
    "    "
   ]
  },
  {
   "cell_type": "code",
   "execution_count": 9,
   "id": "22ddc037",
   "metadata": {
    "scrolled": false
   },
   "outputs": [
    {
     "name": "stdout",
     "output_type": "stream",
     "text": [
      "ARTG\n",
      "Eudamed\n",
      "FDA PH\n",
      "\tBegin Keyword Map... ETA: 39.76s\n",
      "\n",
      "Grill merged: (17334, 14)\n",
      "Finished in 32.89s.\n",
      "FDA TH\n",
      "\tBegin Keyword Map... ETA: 139.06s\n",
      "\n",
      "Grill merged: (35158, 16)\n",
      "Finished in 175.56s.\n",
      "FDA US\n",
      "MDA MY\n",
      "\tBegin Keyword Map... ETA: 58.12s\n",
      "\n",
      "Grill merged: (25175, 19)\n",
      "Finished in 125.88s.\n",
      "MOHAP\n",
      "\tBegin Keyword Map... ETA: 29.42s\n",
      "\n",
      "Grill merged: (12829, 19)\n",
      "Finished in 23.18s.\n",
      "PMDA\n",
      "\tBegin Keyword Map... ETA: 0.85s\n",
      "\n",
      "Grill merged: (369, 19)\n",
      "Finished in 1.72s.\n"
     ]
    }
   ],
   "source": [
    "#Analysis\n",
    "\n",
    "sources = list(holder.keys())\n",
    "collect = pd.DataFrame()\n",
    "cols_to_keep =  ['Company','Device Name','Approval Area','Intended Purpose', 'Manufacturer Address', 'Manufacturer Country','index']\n",
    "for source in sources:\n",
    "    print(source)\n",
    "    hold = holder.get(source)\n",
    "    grill = hold.copy()\n",
    "    grill['merge_index'] = grill.index\n",
    "    \n",
    "    if source == \"ARTG\":\n",
    "            grill['index'] = grill['ARTG ID'].astype(str)\n",
    "\n",
    "    elif source == 'Eudamed':\n",
    "        grill['index'] = grill['Actor_ID']\n",
    "        grill = grill.rename(columns = {'Country':'Manufacturer Country','Address':'Manufacturer Address',\n",
    "                                'Nomenclature':'Intended Purpose','Applicable Legislation':'Approval Area'})\n",
    "\n",
    "\n",
    "    elif source == 'FDA PH':\n",
    "        grill['index'] = grill['Registration ID'].astype(str)\n",
    "        grill = grill.rename(columns = {'Product Name':'Device Name','Manufacturer':'Company','Country of Origin':'Manufacturer Country'})\n",
    "        grill['Manufacturer Address'] = \"-\"\n",
    "        grill['Intended Purpose'] = grill['Device Name'] + \" \" + grill['Company']\n",
    "\n",
    "        grill = apply_keyword_map(grill)\n",
    "        grill['Approval Area'] = grill['Mapped']\n",
    "    \n",
    "    elif source == 'FDA TH':\n",
    "        grill['index'] = grill['CAT_NO'].astype(str)\n",
    "        grill = grill.rename(columns = {'Status':'Approval Area'})\n",
    "        grill['Intended Purpose'] = grill['Device Description'] + \" \" + grill['Product details']\n",
    "        grill['Manufacturer Address'] = \"-\"\n",
    "        grill['Manufacturer Country'] = \"-\"\n",
    "        grill['Intended Purpose'] = grill['Device Name'] + \" \" + grill['Company'] + \" \" + grill['Intended Purpose']\n",
    "        grill = apply_keyword_map(grill)\n",
    "        grill['Approval Area'] = grill['Mapped']\n",
    "    \n",
    "        \n",
    "    elif source == 'FDA US':\n",
    "        grill['index'] = grill['K_Number'].astype(str)\n",
    "        grill = grill.rename(columns = {'Player':'Company','Specialty':'Approval Area'})\n",
    "        grill['Intended Purpose'] = grill['Device Meta']\n",
    "        grill['Manufacturer Address'] = \"-\"\n",
    "        grill['Manufacturer Country'] = \"-\"\n",
    "        grill['Intended Purpose'] = grill['Device Name'] + \" \" + grill['Company'] + \" \" + grill['Intended Purpose']\n",
    "        \n",
    "\n",
    "    \n",
    "    \n",
    "    elif source == 'MDA MY':\n",
    "        #display(grill.head(1))\n",
    "        grill['index'] = grill['REGISTRATION NO'].astype(str)\n",
    "        grill = grill.rename(columns = {'BRAND NAME':'Device Name','ESTABLISHMENT NAME':'Company'})\n",
    "        grill['Intended Purpose'] = grill['NAME OF DEVICE'] + \" \" + grill['INTENDED PURPOSE'] + \" \" + grill['Company']\n",
    "        grill['Approval Area'] = \" \"\n",
    "        grill['Manufacturer Address'] = \"-\"\n",
    "        grill['Manufacturer Country'] = \"-\"\n",
    "        grill = apply_keyword_map(grill)\n",
    "        grill['Approval Area'] = grill['Mapped']\n",
    "\n",
    "        #display(grill.head(10))\n",
    "        \n",
    "    elif source == 'PMDA':\n",
    "        grill['index'] = grill.index.astype(str)\n",
    "        grill = grill.rename(columns = {'Review Category':'Approval Area'})\n",
    "        grill['Intended Purpose'] = grill['Term Name']\n",
    "        \n",
    "        grill['Manufacturer Address'] = \"-\"\n",
    "        grill['Manufacturer Country'] = \"-\"\n",
    "        grill['Intended Purpose'] = grill['Device Name'] + \" \" + grill['Company'] + \" \" + grill['Intended Purpose']\n",
    "        grill = apply_keyword_map(grill)\n",
    "        grill['Approval Area'] = grill['Mapped']\n",
    "\n",
    "    elif source == 'MOHAP':\n",
    "        grill['index'] = grill.index.astype(str)\n",
    "        grill = grill.rename(columns = {'Trade Name':'Device Name','Manufacturer':'Company',\n",
    "                                        'Country Of Origin':'Manufacturer Country',\n",
    "                                        'Supplier Address':'Manufacturer Address', 'Classification':'Approval Area'})\n",
    "        grill['Intended Purpose'] = grill['Device Name']\n",
    "        grill['Intended Purpose'] = grill['Device Name'] + \" \" + grill['Company'] + \" \" + grill['Intended Purpose']\n",
    "        grill = apply_keyword_map(grill)\n",
    "        grill['Approval Area'] = grill['Mapped']\n",
    "        \n",
    "    grill = grill[cols_to_keep]\n",
    "    grill['Source'] = source\n",
    "    \n",
    "    frame = [collect,grill]\n",
    "    collect = pd.concat([collect,grill])\n"
   ]
  },
  {
   "cell_type": "code",
   "execution_count": 11,
   "id": "2c5a9205",
   "metadata": {},
   "outputs": [
    {
     "data": {
      "text/plain": [
       "Index(['Company', 'Device Name', 'Approval Area', 'Intended Purpose',\n",
       "       'Manufacturer Address', 'Manufacturer Country', 'index', 'Source'],\n",
       "      dtype='object')"
      ]
     },
     "execution_count": 11,
     "metadata": {},
     "output_type": "execute_result"
    }
   ],
   "source": [
    "collect.columns"
   ]
  },
  {
   "cell_type": "code",
   "execution_count": 14,
   "id": "45b537b2",
   "metadata": {},
   "outputs": [],
   "source": [
    "collect.rename(columns = {'Device Name':'Product','Intended Purpose':'Description'}, inplace=True)"
   ]
  },
  {
   "cell_type": "code",
   "execution_count": 15,
   "id": "77bd18b4",
   "metadata": {},
   "outputs": [
    {
     "name": "stdout",
     "output_type": "stream",
     "text": [
      "df_catalog\n",
      "Columns: 5 Index(['Product', 'Price', 'Company', 'Brand', 'Function'], dtype='object')\n",
      "(53628, 5)\n",
      "SG_MDR\n",
      "Columns: 10 Index(['Device_Name', 'Description_list', 'Medical_Specialty_Area',\n",
      "       'Medical_Device_Class', 'Device_Registration', 'Registration_Date',\n",
      "       'Device_System', 'Product_Owner', 'Registrant_list', 'Model_list'],\n",
      "      dtype='object')\n",
      "(77064, 10)\n"
     ]
    }
   ],
   "source": [
    "import pandas as pd\n",
    "import numpy as np\n",
    "import os,time, glob as g\n",
    "import warnings as ws\n",
    "import time\n",
    "ws.filterwarnings(\"ignore\")\n",
    "\n",
    "\n",
    "data = os.getcwd()+\"\\\\Data\\\\Wave 2\"\n",
    "files = g.glob(os.path.join(data,'*.xlsx'))\n",
    "files\n",
    "\n",
    "holder = dict()\n",
    "for file in files:\n",
    "    \n",
    "    hold = pd.read_excel(file)\n",
    "    country = file.split(\"\\\\\")[-1].split(\".\")[0]\n",
    "    print(country)\n",
    "    print(f\"Columns: {len(hold.columns)} {hold.columns}\")\n",
    "    holder[country] = hold\n",
    "    print(hold.shape)\n",
    "    \n",
    "indo = holder['df_catalog']\n",
    "indo.rename(columns = {'Company':'Not_req','Brand':'Company'}, inplace=True)\n",
    "indo['Description'] = indo['Company'] + \" \"+indo['Product']\n",
    "sg = holder['SG_MDR']\n",
    "sg.rename(columns = {'Model_list':'Product','Registrant_list':'Company'}, inplace=True)\n",
    "sg['Description'] = sg['Device_Name'] + \" \" + sg['Description_list']\n",
    "\n"
   ]
  },
  {
   "cell_type": "code",
   "execution_count": 17,
   "id": "25f07811",
   "metadata": {},
   "outputs": [],
   "source": [
    "grill = [indo, sg]\n",
    "collect = pd.concat([collect,indo, sg])"
   ]
  },
  {
   "cell_type": "code",
   "execution_count": 20,
   "id": "4f829ac9",
   "metadata": {},
   "outputs": [
    {
     "data": {
      "text/plain": [
       "(508366, 19)"
      ]
     },
     "execution_count": 20,
     "metadata": {},
     "output_type": "execute_result"
    }
   ],
   "source": [
    "hold = collect.copy()\n",
    "collect.shape"
   ]
  },
  {
   "cell_type": "code",
   "execution_count": 21,
   "id": "d7ffeb5a",
   "metadata": {},
   "outputs": [],
   "source": [
    "collect.drop_duplicates(inplace=True)"
   ]
  },
  {
   "cell_type": "code",
   "execution_count": 23,
   "id": "332ddcea",
   "metadata": {},
   "outputs": [
    {
     "data": {
      "text/plain": [
       "(430369, 19)"
      ]
     },
     "execution_count": 23,
     "metadata": {},
     "output_type": "execute_result"
    }
   ],
   "source": [
    "collect.shape"
   ]
  },
  {
   "cell_type": "code",
   "execution_count": 24,
   "id": "4d77d5e4",
   "metadata": {},
   "outputs": [
    {
     "data": {
      "text/plain": [
       "Index(['Company', 'Product', 'Approval Area', 'Description',\n",
       "       'Manufacturer Address', 'Manufacturer Country', 'index', 'Source',\n",
       "       'Price', 'Not_req', 'Function', 'Device_Name', 'Description_list',\n",
       "       'Medical_Specialty_Area', 'Medical_Device_Class', 'Device_Registration',\n",
       "       'Registration_Date', 'Device_System', 'Product_Owner'],\n",
       "      dtype='object')"
      ]
     },
     "execution_count": 24,
     "metadata": {},
     "output_type": "execute_result"
    }
   ],
   "source": [
    "collect.columns"
   ]
  },
  {
   "cell_type": "code",
   "execution_count": 25,
   "id": "e4067367",
   "metadata": {},
   "outputs": [],
   "source": [
    "#chunk = collect['Company','Product']\n",
    "X = collect[['Product', 'Description']]\n",
    "y = collect['Company']\n"
   ]
  },
  {
   "cell_type": "code",
   "execution_count": 35,
   "id": "dd7fc01a",
   "metadata": {},
   "outputs": [],
   "source": [
    "!pip install transformers[sentencepiece]\n"
   ]
  },
  {
   "cell_type": "code",
   "execution_count": 31,
   "id": "965cd5c1",
   "metadata": {},
   "outputs": [
    {
     "data": {
      "text/html": [
       "<div>\n",
       "<style scoped>\n",
       "    .dataframe tbody tr th:only-of-type {\n",
       "        vertical-align: middle;\n",
       "    }\n",
       "\n",
       "    .dataframe tbody tr th {\n",
       "        vertical-align: top;\n",
       "    }\n",
       "\n",
       "    .dataframe thead th {\n",
       "        text-align: right;\n",
       "    }\n",
       "</style>\n",
       "<table border=\"1\" class=\"dataframe\">\n",
       "  <thead>\n",
       "    <tr style=\"text-align: right;\">\n",
       "      <th></th>\n",
       "      <th>Company</th>\n",
       "      <th>Product</th>\n",
       "      <th>Approval Area</th>\n",
       "      <th>Description</th>\n",
       "      <th>Manufacturer Address</th>\n",
       "      <th>Manufacturer Country</th>\n",
       "      <th>index</th>\n",
       "      <th>Source</th>\n",
       "      <th>Price</th>\n",
       "      <th>Not_req</th>\n",
       "      <th>Function</th>\n",
       "      <th>Device_Name</th>\n",
       "      <th>Description_list</th>\n",
       "      <th>Medical_Specialty_Area</th>\n",
       "      <th>Medical_Device_Class</th>\n",
       "      <th>Device_Registration</th>\n",
       "      <th>Registration_Date</th>\n",
       "      <th>Device_System</th>\n",
       "      <th>Product_Owner</th>\n",
       "    </tr>\n",
       "  </thead>\n",
       "  <tbody>\n",
       "    <tr>\n",
       "      <th>0</th>\n",
       "      <td>Tsunami Medical SRL</td>\n",
       "      <td>Bone-screw internal spinal fixation system, no...</td>\n",
       "      <td>Medical Devices</td>\n",
       "      <td>The Ventotene Spinal System is intended for po...</td>\n",
       "      <td>Via Emilio Giorgi 27, Modena, 41124</td>\n",
       "      <td>Italy</td>\n",
       "      <td>397231</td>\n",
       "      <td>ARTG</td>\n",
       "      <td>NaN</td>\n",
       "      <td>NaN</td>\n",
       "      <td>NaN</td>\n",
       "      <td>NaN</td>\n",
       "      <td>NaN</td>\n",
       "      <td>NaN</td>\n",
       "      <td>NaN</td>\n",
       "      <td>NaN</td>\n",
       "      <td>NaN</td>\n",
       "      <td>NaN</td>\n",
       "      <td>NaN</td>\n",
       "    </tr>\n",
       "    <tr>\n",
       "      <th>1</th>\n",
       "      <td>Unimax Medical Systems Inc</td>\n",
       "      <td>Antifog solution, endoscopic</td>\n",
       "      <td>Medical Devices</td>\n",
       "      <td>Anti-Fog Solution is intended to be used to pr...</td>\n",
       "      <td>8F-2 No 127 Lane 235 Pao Chiao Road, Xindian D...</td>\n",
       "      <td>Taiwan</td>\n",
       "      <td>397292</td>\n",
       "      <td>ARTG</td>\n",
       "      <td>NaN</td>\n",
       "      <td>NaN</td>\n",
       "      <td>NaN</td>\n",
       "      <td>NaN</td>\n",
       "      <td>NaN</td>\n",
       "      <td>NaN</td>\n",
       "      <td>NaN</td>\n",
       "      <td>NaN</td>\n",
       "      <td>NaN</td>\n",
       "      <td>NaN</td>\n",
       "      <td>NaN</td>\n",
       "    </tr>\n",
       "    <tr>\n",
       "      <th>2</th>\n",
       "      <td>Medwin France SAS</td>\n",
       "      <td>Pilot TLS - Central venous catheter navigation...</td>\n",
       "      <td>Medical Devices</td>\n",
       "      <td>A portable system intended to process and disp...</td>\n",
       "      <td>9 allée de la Vigne Grande, Les Aires, 34600</td>\n",
       "      <td>France</td>\n",
       "      <td>397310</td>\n",
       "      <td>ARTG</td>\n",
       "      <td>NaN</td>\n",
       "      <td>NaN</td>\n",
       "      <td>NaN</td>\n",
       "      <td>NaN</td>\n",
       "      <td>NaN</td>\n",
       "      <td>NaN</td>\n",
       "      <td>NaN</td>\n",
       "      <td>NaN</td>\n",
       "      <td>NaN</td>\n",
       "      <td>NaN</td>\n",
       "      <td>NaN</td>\n",
       "    </tr>\n",
       "    <tr>\n",
       "      <th>3</th>\n",
       "      <td>Elekta Solutions AB</td>\n",
       "      <td>Radionuclide system, therapeutic, teletherapy</td>\n",
       "      <td>Medical Devices</td>\n",
       "      <td>Leksell Gamma Knife® is a teletherapy device i...</td>\n",
       "      <td>Kungstensgatan 18 Box 7593, Stockholm, SE-103 93</td>\n",
       "      <td>Sweden</td>\n",
       "      <td>397291</td>\n",
       "      <td>ARTG</td>\n",
       "      <td>NaN</td>\n",
       "      <td>NaN</td>\n",
       "      <td>NaN</td>\n",
       "      <td>NaN</td>\n",
       "      <td>NaN</td>\n",
       "      <td>NaN</td>\n",
       "      <td>NaN</td>\n",
       "      <td>NaN</td>\n",
       "      <td>NaN</td>\n",
       "      <td>NaN</td>\n",
       "      <td>NaN</td>\n",
       "    </tr>\n",
       "  </tbody>\n",
       "</table>\n",
       "</div>"
      ],
      "text/plain": [
       "                      Company  \\\n",
       "0         Tsunami Medical SRL   \n",
       "1  Unimax Medical Systems Inc   \n",
       "2           Medwin France SAS   \n",
       "3         Elekta Solutions AB   \n",
       "\n",
       "                                             Product    Approval Area  \\\n",
       "0  Bone-screw internal spinal fixation system, no...  Medical Devices   \n",
       "1                       Antifog solution, endoscopic  Medical Devices   \n",
       "2  Pilot TLS - Central venous catheter navigation...  Medical Devices   \n",
       "3      Radionuclide system, therapeutic, teletherapy  Medical Devices   \n",
       "\n",
       "                                         Description  \\\n",
       "0  The Ventotene Spinal System is intended for po...   \n",
       "1  Anti-Fog Solution is intended to be used to pr...   \n",
       "2  A portable system intended to process and disp...   \n",
       "3  Leksell Gamma Knife® is a teletherapy device i...   \n",
       "\n",
       "                                Manufacturer Address Manufacturer Country  \\\n",
       "0                Via Emilio Giorgi 27, Modena, 41124                Italy   \n",
       "1  8F-2 No 127 Lane 235 Pao Chiao Road, Xindian D...               Taiwan   \n",
       "2       9 allée de la Vigne Grande, Les Aires, 34600               France   \n",
       "3   Kungstensgatan 18 Box 7593, Stockholm, SE-103 93               Sweden   \n",
       "\n",
       "    index Source Price Not_req Function Device_Name Description_list  \\\n",
       "0  397231   ARTG   NaN     NaN      NaN         NaN              NaN   \n",
       "1  397292   ARTG   NaN     NaN      NaN         NaN              NaN   \n",
       "2  397310   ARTG   NaN     NaN      NaN         NaN              NaN   \n",
       "3  397291   ARTG   NaN     NaN      NaN         NaN              NaN   \n",
       "\n",
       "  Medical_Specialty_Area Medical_Device_Class Device_Registration  \\\n",
       "0                    NaN                  NaN                 NaN   \n",
       "1                    NaN                  NaN                 NaN   \n",
       "2                    NaN                  NaN                 NaN   \n",
       "3                    NaN                  NaN                 NaN   \n",
       "\n",
       "  Registration_Date Device_System Product_Owner  \n",
       "0               NaN           NaN           NaN  \n",
       "1               NaN           NaN           NaN  \n",
       "2               NaN           NaN           NaN  \n",
       "3               NaN           NaN           NaN  "
      ]
     },
     "execution_count": 31,
     "metadata": {},
     "output_type": "execute_result"
    }
   ],
   "source": [
    "collect.head(4)"
   ]
  },
  {
   "cell_type": "code",
   "execution_count": 33,
   "id": "b5029a0d",
   "metadata": {},
   "outputs": [
    {
     "data": {
      "text/html": [
       "<div>\n",
       "<style scoped>\n",
       "    .dataframe tbody tr th:only-of-type {\n",
       "        vertical-align: middle;\n",
       "    }\n",
       "\n",
       "    .dataframe tbody tr th {\n",
       "        vertical-align: top;\n",
       "    }\n",
       "\n",
       "    .dataframe thead th {\n",
       "        text-align: right;\n",
       "    }\n",
       "</style>\n",
       "<table border=\"1\" class=\"dataframe\">\n",
       "  <thead>\n",
       "    <tr style=\"text-align: right;\">\n",
       "      <th></th>\n",
       "      <th>Company</th>\n",
       "      <th>Product</th>\n",
       "      <th>Description</th>\n",
       "    </tr>\n",
       "  </thead>\n",
       "  <tbody>\n",
       "    <tr>\n",
       "      <th>0</th>\n",
       "      <td>Tsunami Medical SRL</td>\n",
       "      <td>Bone-screw internal spinal fixation system, no...</td>\n",
       "      <td>The Ventotene Spinal System is intended for po...</td>\n",
       "    </tr>\n",
       "  </tbody>\n",
       "</table>\n",
       "</div>"
      ],
      "text/plain": [
       "               Company                                            Product  \\\n",
       "0  Tsunami Medical SRL  Bone-screw internal spinal fixation system, no...   \n",
       "\n",
       "                                         Description  \n",
       "0  The Ventotene Spinal System is intended for po...  "
      ]
     },
     "execution_count": 33,
     "metadata": {},
     "output_type": "execute_result"
    }
   ],
   "source": [
    "data = collect[['Company','Product','Description']]\n",
    "data_chunk = data.iloc[:50000]\n",
    "data_chunk.head(1)"
   ]
  },
  {
   "cell_type": "code",
   "execution_count": 42,
   "id": "2193ea1c",
   "metadata": {},
   "outputs": [],
   "source": [
    "collect.to_excel(\"MDR_consoldiated_05-06-2023.xlsx\")\n",
    "data.to_csv(\"labelled_data.csv\")"
   ]
  },
  {
   "cell_type": "code",
   "execution_count": null,
   "id": "160f2db4",
   "metadata": {},
   "outputs": [],
   "source": []
  },
  {
   "cell_type": "code",
   "execution_count": 9,
   "id": "71942a10",
   "metadata": {},
   "outputs": [],
   "source": [
    "data = pd.read_csv(\"labelled_data.csv\")\n",
    "del data[\"Unnamed: 0\"]"
   ]
  },
  {
   "cell_type": "code",
   "execution_count": 12,
   "id": "4981fb8e",
   "metadata": {},
   "outputs": [
    {
     "data": {
      "text/plain": [
       "0         False\n",
       "1         False\n",
       "2         False\n",
       "3         False\n",
       "4         False\n",
       "          ...  \n",
       "430364    False\n",
       "430365    False\n",
       "430366    False\n",
       "430367    False\n",
       "430368    False\n",
       "Name: description, Length: 430369, dtype: bool"
      ]
     },
     "execution_count": 12,
     "metadata": {},
     "output_type": "execute_result"
    }
   ],
   "source": [
    "data.description.isna()\n"
   ]
  },
  {
   "cell_type": "code",
   "execution_count": 17,
   "id": "8d27e5fa",
   "metadata": {},
   "outputs": [],
   "source": [
    "cols = data.columns\n",
    "for col in cols:\n",
    "    data[col] = data[col].astype(str)"
   ]
  },
  {
   "cell_type": "code",
   "execution_count": null,
   "id": "9d46bbfa",
   "metadata": {},
   "outputs": [],
   "source": []
  },
  {
   "cell_type": "code",
   "execution_count": 13,
   "id": "036fca95",
   "metadata": {},
   "outputs": [],
   "source": []
  },
  {
   "cell_type": "code",
   "execution_count": 2,
   "id": "2ead5341",
   "metadata": {},
   "outputs": [
    {
     "name": "stderr",
     "output_type": "stream",
     "text": [
      "No model was supplied, defaulted to dbmdz/bert-large-cased-finetuned-conll03-english and revision f2482bf (https://huggingface.co/dbmdz/bert-large-cased-finetuned-conll03-english).\n",
      "Using a pipeline without specifying a model name and revision in production is not recommended.\n"
     ]
    },
    {
     "data": {
      "application/vnd.jupyter.widget-view+json": {
       "model_id": "c82bc2b903654a01a3ffd8dd9f9e05cd",
       "version_major": 2,
       "version_minor": 0
      },
      "text/plain": [
       "Downloading (…)lve/main/config.json:   0%|          | 0.00/998 [00:00<?, ?B/s]"
      ]
     },
     "metadata": {},
     "output_type": "display_data"
    },
    {
     "data": {
      "application/vnd.jupyter.widget-view+json": {
       "model_id": "264bc24a1dc94881b494b4a250d25598",
       "version_major": 2,
       "version_minor": 0
      },
      "text/plain": [
       "Downloading pytorch_model.bin:   0%|          | 0.00/1.33G [00:00<?, ?B/s]"
      ]
     },
     "metadata": {},
     "output_type": "display_data"
    },
    {
     "data": {
      "application/vnd.jupyter.widget-view+json": {
       "model_id": "789a7f2bed3c4a819aa5ede6c04936e1",
       "version_major": 2,
       "version_minor": 0
      },
      "text/plain": [
       "Downloading (…)okenizer_config.json:   0%|          | 0.00/60.0 [00:00<?, ?B/s]"
      ]
     },
     "metadata": {},
     "output_type": "display_data"
    },
    {
     "data": {
      "application/vnd.jupyter.widget-view+json": {
       "model_id": "24f75b47a4a14140b106c982bd40caba",
       "version_major": 2,
       "version_minor": 0
      },
      "text/plain": [
       "Downloading (…)solve/main/vocab.txt:   0%|          | 0.00/213k [00:00<?, ?B/s]"
      ]
     },
     "metadata": {},
     "output_type": "display_data"
    }
   ],
   "source": [
    "from transformers import pipeline\n",
    "ner = pipeline(\"ner\", grouped_entities=True)"
   ]
  },
  {
   "cell_type": "code",
   "execution_count": 18,
   "id": "418b5708",
   "metadata": {},
   "outputs": [
    {
     "name": "stderr",
     "output_type": "stream",
     "text": [
      "Some weights of the model checkpoint at distilbert-base-uncased were not used when initializing DistilBertForSequenceClassification: ['vocab_projector.bias', 'vocab_transform.bias', 'vocab_transform.weight', 'vocab_layer_norm.weight', 'vocab_projector.weight', 'vocab_layer_norm.bias']\n",
      "- This IS expected if you are initializing DistilBertForSequenceClassification from the checkpoint of a model trained on another task or with another architecture (e.g. initializing a BertForSequenceClassification model from a BertForPreTraining model).\n",
      "- This IS NOT expected if you are initializing DistilBertForSequenceClassification from the checkpoint of a model that you expect to be exactly identical (initializing a BertForSequenceClassification model from a BertForSequenceClassification model).\n",
      "Some weights of DistilBertForSequenceClassification were not initialized from the model checkpoint at distilbert-base-uncased and are newly initialized: ['classifier.weight', 'pre_classifier.bias', 'classifier.bias', 'pre_classifier.weight']\n",
      "You should probably TRAIN this model on a down-stream task to be able to use it for predictions and inference.\n"
     ]
    },
    {
     "ename": "TypeError",
     "evalue": "can't convert np.ndarray of type numpy.object_. The only supported types are: float64, float32, float16, complex64, complex128, int64, int32, int16, int8, uint8, and bool.",
     "output_type": "error",
     "traceback": [
      "\u001b[1;31m---------------------------------------------------------------------------\u001b[0m",
      "\u001b[1;31mTypeError\u001b[0m                                 Traceback (most recent call last)",
      "Input \u001b[1;32mIn [18]\u001b[0m, in \u001b[0;36m<cell line: 37>\u001b[1;34m()\u001b[0m\n\u001b[0;32m     35\u001b[0m train_inputs \u001b[38;5;241m=\u001b[39m train_tokens[\u001b[38;5;124m'\u001b[39m\u001b[38;5;124minput_ids\u001b[39m\u001b[38;5;124m'\u001b[39m]\n\u001b[0;32m     36\u001b[0m train_masks \u001b[38;5;241m=\u001b[39m train_tokens[\u001b[38;5;124m'\u001b[39m\u001b[38;5;124mattention_mask\u001b[39m\u001b[38;5;124m'\u001b[39m]\n\u001b[1;32m---> 37\u001b[0m train_labels \u001b[38;5;241m=\u001b[39m \u001b[43mtorch\u001b[49m\u001b[38;5;241;43m.\u001b[39;49m\u001b[43mtensor\u001b[49m\u001b[43m(\u001b[49m\u001b[43mtrain_data\u001b[49m\u001b[43m[\u001b[49m\u001b[43m[\u001b[49m\u001b[38;5;124;43m'\u001b[39;49m\u001b[38;5;124;43mcompany\u001b[39;49m\u001b[38;5;124;43m'\u001b[39;49m\u001b[43m,\u001b[49m\u001b[43m \u001b[49m\u001b[38;5;124;43m'\u001b[39;49m\u001b[38;5;124;43mproduct\u001b[39;49m\u001b[38;5;124;43m'\u001b[39;49m\u001b[43m]\u001b[49m\u001b[43m]\u001b[49m\u001b[38;5;241;43m.\u001b[39;49m\u001b[43mvalues\u001b[49m\u001b[43m)\u001b[49m\n\u001b[0;32m     39\u001b[0m val_inputs \u001b[38;5;241m=\u001b[39m val_tokens[\u001b[38;5;124m'\u001b[39m\u001b[38;5;124minput_ids\u001b[39m\u001b[38;5;124m'\u001b[39m]\n\u001b[0;32m     40\u001b[0m val_masks \u001b[38;5;241m=\u001b[39m val_tokens[\u001b[38;5;124m'\u001b[39m\u001b[38;5;124mattention_mask\u001b[39m\u001b[38;5;124m'\u001b[39m]\n",
      "\u001b[1;31mTypeError\u001b[0m: can't convert np.ndarray of type numpy.object_. The only supported types are: float64, float32, float16, complex64, complex128, int64, int32, int16, int8, uint8, and bool."
     ]
    }
   ],
   "source": [
    "import pandas as pd\n",
    "import torch\n",
    "from sklearn.model_selection import train_test_split\n",
    "from transformers import DistilBertTokenizer, DistilBertForSequenceClassification, AdamW\n",
    "from torch.utils.data import TensorDataset, DataLoader\n",
    "\n",
    "# Load the labeled dataset with company, product, and description columns\n",
    "labeled_data = data.copy()\n",
    "\n",
    "# Filter out rows with empty descriptions\n",
    "labeled_data = labeled_data.dropna(subset=['description'])\n",
    "\n",
    "# Split the labeled dataset into training and validation sets\n",
    "train_data, val_data = train_test_split(labeled_data, test_size=0.2, random_state=42)\n",
    "\n",
    "# Define the tokenizer and model\n",
    "tokenizer = DistilBertTokenizer.from_pretrained('distilbert-base-uncased')\n",
    "model = DistilBertForSequenceClassification.from_pretrained('distilbert-base-uncased', num_labels=2)\n",
    "\n",
    "# Tokenize the input descriptions for the training and validation sets\n",
    "train_tokens = tokenizer.batch_encode_plus(\n",
    "    train_data['description'].tolist(),\n",
    "    truncation=True,\n",
    "    padding=True,\n",
    "    return_tensors='pt'\n",
    ")\n",
    "val_tokens = tokenizer.batch_encode_plus(\n",
    "    val_data['description'].tolist(),\n",
    "    truncation=True,\n",
    "    padding=True,\n",
    "    return_tensors='pt'\n",
    ")\n",
    "\n",
    "# Convert the tokenized data to tensors\n",
    "train_inputs = train_tokens['input_ids']\n",
    "train_masks = train_tokens['attention_mask']\n",
    "train_labels = torch.tensor(train_data[['company', 'product']].values)\n",
    "\n",
    "val_inputs = val_tokens['input_ids']\n",
    "val_masks = val_tokens['attention_mask']\n",
    "val_labels = torch.tensor(val_data[['company', 'product']].values)\n",
    "\n",
    "# Create TensorDatasets and DataLoaders\n",
    "train_dataset = TensorDataset(train_inputs, train_masks, train_labels)\n",
    "val_dataset = TensorDataset(val_inputs, val_masks, val_labels)\n",
    "\n",
    "batch_size = 16\n",
    "train_dataloader = DataLoader(train_dataset, batch_size=batch_size, shuffle=True)\n",
    "val_dataloader = DataLoader(val_dataset, batch_size=batch_size)\n",
    "\n",
    "# Set up the optimizer and training loop\n",
    "device = torch.device('cuda' if torch.cuda.is_available() else 'cpu')\n",
    "model.to(device)\n",
    "optimizer = AdamW(model.parameters(), lr=2e-5)\n",
    "\n",
    "epochs = 5\n",
    "for epoch in range(epochs):\n",
    "    model.train()\n",
    "    total_loss = 0\n",
    "    \n",
    "    for batch in train_dataloader:\n",
    "        input_ids = batch[0].to(device)\n",
    "        attention_mask = batch[1].to(device)\n",
    "        labels = batch[2].to(device)\n",
    "        \n",
    "        optimizer.zero_grad()\n",
    "        \n",
    "        outputs = model(input_ids, attention_mask=attention_mask, labels=labels)\n",
    "        loss = outputs.loss\n",
    "        total_loss += loss.item()\n",
    "        \n",
    "        loss.backward()\n",
    "        optimizer.step()\n",
    "    \n",
    "    avg_train_loss = total_loss / len(train_dataloader)\n",
    "    print('Epoch:', epoch+1, 'Training Loss:', avg_train_loss)\n",
    "    \n",
    "    model.eval()\n",
    "    val_loss = 0\n",
    "    predictions = []\n",
    "    \n",
    "    for batch in val_dataloader:\n",
    "        input_ids = batch[0].to(device)\n",
    "        attention_mask = batch[1].to(device)\n",
    "        labels = batch[2].to(device)\n",
    "        \n",
    "        with torch.no_grad():\n",
    "            outputs = model(input_ids, attention_mask=attention_mask, labels=labels)\n",
    "        \n",
    "        loss = outputs.loss\n",
    "        val_loss += loss.item()\n",
    "        \n",
    "        logits = outputs.logits\n",
    "        predictions.extend(logits.argmax(dim=1).tolist())\n",
    "    \n",
    "    avg_val_loss = val_loss / len(val_dataloader)\n",
    "    accuracy = (torch.tensor(predictions) == val_labels).sum().item() / len(val_labels)\n",
    "    print('Epoch:', epoch+1, 'Validation Loss:', avg_val_loss, 'Validation Accuracy:', accuracy)\n"
   ]
  },
  {
   "cell_type": "code",
   "execution_count": null,
   "id": "a81ad1ab",
   "metadata": {},
   "outputs": [],
   "source": [
    "collect = collect.fillna(\"-\")"
   ]
  },
  {
   "cell_type": "code",
   "execution_count": null,
   "id": "ce36fb19",
   "metadata": {},
   "outputs": [],
   "source": [
    "collect.to_csv('MDR Tableau input.csv')"
   ]
  }
 ],
 "metadata": {
  "kernelspec": {
   "display_name": "Python 3 (ipykernel)",
   "language": "python",
   "name": "python3"
  },
  "language_info": {
   "codemirror_mode": {
    "name": "ipython",
    "version": 3
   },
   "file_extension": ".py",
   "mimetype": "text/x-python",
   "name": "python",
   "nbconvert_exporter": "python",
   "pygments_lexer": "ipython3",
   "version": "3.9.12"
  }
 },
 "nbformat": 4,
 "nbformat_minor": 5
}
