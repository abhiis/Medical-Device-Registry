{
 "cells": [
  {
   "cell_type": "code",
   "execution_count": 2,
   "id": "ab73d6dc",
   "metadata": {},
   "outputs": [
    {
     "data": {
      "text/html": [
       "<div>\n",
       "<style scoped>\n",
       "    .dataframe tbody tr th:only-of-type {\n",
       "        vertical-align: middle;\n",
       "    }\n",
       "\n",
       "    .dataframe tbody tr th {\n",
       "        vertical-align: top;\n",
       "    }\n",
       "\n",
       "    .dataframe thead th {\n",
       "        text-align: right;\n",
       "    }\n",
       "</style>\n",
       "<table border=\"1\" class=\"dataframe\">\n",
       "  <thead>\n",
       "    <tr style=\"text-align: right;\">\n",
       "      <th></th>\n",
       "      <th>production_cycle</th>\n",
       "      <th>study_year</th>\n",
       "      <th>player_code</th>\n",
       "      <th>player_name</th>\n",
       "    </tr>\n",
       "  </thead>\n",
       "  <tbody>\n",
       "    <tr>\n",
       "      <th>0</th>\n",
       "      <td>2023</td>\n",
       "      <td>2022</td>\n",
       "      <td>PY0196</td>\n",
       "      <td>Roche</td>\n",
       "    </tr>\n",
       "    <tr>\n",
       "      <th>1</th>\n",
       "      <td>2023</td>\n",
       "      <td>2022</td>\n",
       "      <td>PY0006</td>\n",
       "      <td>Abbott</td>\n",
       "    </tr>\n",
       "    <tr>\n",
       "      <th>2</th>\n",
       "      <td>2023</td>\n",
       "      <td>2022</td>\n",
       "      <td>PY0064</td>\n",
       "      <td>Danaher - Beckman Coulter</td>\n",
       "    </tr>\n",
       "    <tr>\n",
       "      <th>3</th>\n",
       "      <td>2023</td>\n",
       "      <td>2022</td>\n",
       "      <td>PY0065</td>\n",
       "      <td>Danaher - Cepheid</td>\n",
       "    </tr>\n",
       "    <tr>\n",
       "      <th>4</th>\n",
       "      <td>2023</td>\n",
       "      <td>2022</td>\n",
       "      <td>PY0066</td>\n",
       "      <td>Danaher - Leica</td>\n",
       "    </tr>\n",
       "    <tr>\n",
       "      <th>...</th>\n",
       "      <td>...</td>\n",
       "      <td>...</td>\n",
       "      <td>...</td>\n",
       "      <td>...</td>\n",
       "    </tr>\n",
       "    <tr>\n",
       "      <th>327</th>\n",
       "      <td>2023</td>\n",
       "      <td>2022</td>\n",
       "      <td>PY9995</td>\n",
       "      <td>Boule Diagnostics</td>\n",
       "    </tr>\n",
       "    <tr>\n",
       "      <th>328</th>\n",
       "      <td>2023</td>\n",
       "      <td>2022</td>\n",
       "      <td>PY0375</td>\n",
       "      <td>Fokus Diagnostic</td>\n",
       "    </tr>\n",
       "    <tr>\n",
       "      <th>329</th>\n",
       "      <td>2023</td>\n",
       "      <td>2022</td>\n",
       "      <td>PY0397</td>\n",
       "      <td>Bioptik Technology</td>\n",
       "    </tr>\n",
       "    <tr>\n",
       "      <th>330</th>\n",
       "      <td>2023</td>\n",
       "      <td>2022</td>\n",
       "      <td>PY0338</td>\n",
       "      <td>Inbios</td>\n",
       "    </tr>\n",
       "    <tr>\n",
       "      <th>331</th>\n",
       "      <td>2023</td>\n",
       "      <td>2022</td>\n",
       "      <td>PY0398</td>\n",
       "      <td>Access Bio</td>\n",
       "    </tr>\n",
       "  </tbody>\n",
       "</table>\n",
       "<p>332 rows × 4 columns</p>\n",
       "</div>"
      ],
      "text/plain": [
       "     production_cycle  study_year player_code                player_name\n",
       "0                2023        2022      PY0196                      Roche\n",
       "1                2023        2022      PY0006                     Abbott\n",
       "2                2023        2022      PY0064  Danaher - Beckman Coulter\n",
       "3                2023        2022      PY0065          Danaher - Cepheid\n",
       "4                2023        2022      PY0066            Danaher - Leica\n",
       "..                ...         ...         ...                        ...\n",
       "327              2023        2022      PY9995          Boule Diagnostics\n",
       "328              2023        2022      PY0375           Fokus Diagnostic\n",
       "329              2023        2022      PY0397         Bioptik Technology\n",
       "330              2023        2022      PY0338                     Inbios\n",
       "331              2023        2022      PY0398                 Access Bio\n",
       "\n",
       "[332 rows x 4 columns]"
      ]
     },
     "execution_count": 2,
     "metadata": {},
     "output_type": "execute_result"
    }
   ],
   "source": [
    "import pandas as pd\n",
    "from bs4 import BeautifulSoup\n",
    "import requests\n",
    "import time\n",
    "from tqdm import tqdm\n",
    "major_players = pd.read_csv('IVD_gateway_major_players_actual.csv')\n",
    "major_players"
   ]
  },
  {
   "cell_type": "code",
   "execution_count": 3,
   "id": "5ad9290a",
   "metadata": {},
   "outputs": [
    {
     "name": "stdout",
     "output_type": "stream",
     "text": [
      "345\n"
     ]
    }
   ],
   "source": [
    "players = major_players.player_name.values.tolist()\n",
    "players = [x.lower() for x in players]\n",
    "## Split out company names delimited by '-'\n",
    "## Split out company names delimited by '-'\n",
    "keywords = []\n",
    "for name in players:\n",
    "    if '-' in name:\n",
    "        spread_names = name.split('-')\n",
    "        for i in spread_names:\n",
    "            keywords.append(i.strip())\n",
    "    else:\n",
    "        keywords.append(name)\n",
    "print(len(set(keywords)))\n",
    "keywords = list(set(keywords))"
   ]
  },
  {
   "cell_type": "code",
   "execution_count": 93,
   "id": "40381884",
   "metadata": {},
   "outputs": [],
   "source": [
    "cookies = {\n",
    "    '_ga': 'GA1.1.678707696.1669016845',\n",
    "    'PLAY_LANG': 'id',\n",
    "    '_cfuvid': 'CNwjg9MTXEkC9orrBFA1M.XaVAscNZXdI17FzuPLCIc-1706562315455-0-604800000',\n",
    "    'cf_chl_3': '62a405e2f578838',\n",
    "    '_ga_K59543X46E': 'GS1.1.1706573647.5.1.1706574075.0.0.0',\n",
    "    'cf_clearance': 'sw3fzF0sdL4GKc67nAgTARcyz1ftD.kxzg0k9N4M0nU-1706573964-1-AV/uZlTh1qw9J0EfLeUwkYjKncEm+L9h0tAdJNWU0lIgGRDa30ixCFN+APlbPxTnjYPZRfQCYdhdNWVUdIv2JPI=',\n",
    "    'E_KATALOG_5_SESSION': '11de4a8bbb76cf09f632d0ac1f90d241a6b41892-___AT=7314a8c003dbd5121334ec2b97b2541e5eb912aa&___TS=1706577567900&___ID=39c69be9-63cb-47e2-8770-72f24c7ae80c',\n",
    "}\n",
    "\n",
    "headers = {\n",
    "    'authority': 'e-katalog.lkpp.go.id',\n",
    "    'accept': 'text/html,application/xhtml+xml,application/xml;q=0.9,image/avif,image/webp,image/apng,*/*;q=0.8,application/signed-exchange;v=b3;q=0.7',\n",
    "    'accept-language': 'en-US,en;q=0.9',\n",
    "    # 'cookie': '_ga=GA1.1.678707696.1669016845; PLAY_LANG=id; _cfuvid=CNwjg9MTXEkC9orrBFA1M.XaVAscNZXdI17FzuPLCIc-1706562315455-0-604800000; cf_chl_3=62a405e2f578838; _ga_K59543X46E=GS1.1.1706573647.5.1.1706574075.0.0.0; cf_clearance=sw3fzF0sdL4GKc67nAgTARcyz1ftD.kxzg0k9N4M0nU-1706573964-1-AV/uZlTh1qw9J0EfLeUwkYjKncEm+L9h0tAdJNWU0lIgGRDa30ixCFN+APlbPxTnjYPZRfQCYdhdNWVUdIv2JPI=; E_KATALOG_5_SESSION=11de4a8bbb76cf09f632d0ac1f90d241a6b41892-___AT=7314a8c003dbd5121334ec2b97b2541e5eb912aa&___TS=1706577567900&___ID=39c69be9-63cb-47e2-8770-72f24c7ae80c',\n",
    "    'referer': 'https://e-katalog.lkpp.go.id/katalog/produk/detail/2219525?lang=id&type=general',\n",
    "    'sec-ch-ua': '\"Not_A Brand\";v=\"8\", \"Chromium\";v=\"120\", \"Google Chrome\";v=\"120\"',\n",
    "    'sec-ch-ua-arch': '\"x86\"',\n",
    "    'sec-ch-ua-bitness': '\"64\"',\n",
    "    'sec-ch-ua-full-version': '\"120.0.6099.225\"',\n",
    "    'sec-ch-ua-full-version-list': '\"Not_A Brand\";v=\"8.0.0.0\", \"Chromium\";v=\"120.0.6099.225\", \"Google Chrome\";v=\"120.0.6099.225\"',\n",
    "    'sec-ch-ua-mobile': '?0',\n",
    "    'sec-ch-ua-model': '\"\"',\n",
    "    'sec-ch-ua-platform': '\"Windows\"',\n",
    "    'sec-ch-ua-platform-version': '\"10.0.0\"',\n",
    "    'sec-fetch-dest': 'document',\n",
    "    'sec-fetch-mode': 'navigate',\n",
    "    'sec-fetch-site': 'same-origin',\n",
    "    'sec-fetch-user': '?1',\n",
    "    'upgrade-insecure-requests': '1',\n",
    "    'user-agent': 'Mozilla/5.0 (Windows NT 10.0; Win64; x64) AppleWebKit/537.36 (KHTML, like Gecko) Chrome/120.0.0.0 Safari/537.36',\n",
    "}\n",
    "\n",
    "\n",
    "\n",
    "#response = requests.get('https://e-katalog.lkpp.go.id/id/search-produk', params=params, cookies=cookies, headers=headers)\n",
    "\n",
    "def handshake(keyword, cookies, headers):\n",
    "   # print(\"Sending init for \", keyword)\n",
    "    params = {\n",
    "        'authenticityToken': '7314a8c003dbd5121334ec2b97b2541e5eb912aa',\n",
    "        'q': keyword,\n",
    "        'prid': '',\n",
    "        'pid': '',\n",
    "        'gt': '',\n",
    "        'lt': '',\n",
    "        'mid': '',\n",
    "        'kbid': '',\n",
    "        'order': 'relevance',\n",
    "        'cat': '',\n",
    "        }\n",
    "\n",
    "    response = requests.get('https://e-katalog.lkpp.go.id/id/search-produk', params=params, cookies=cookies, headers=headers)\n",
    "    return response\n",
    "\n",
    "\n",
    "## find total_results:\n",
    "def get_estimated_pages(soup):\n",
    "    total_results = soup.find('div', {'class':'pagination'}).text.strip() \n",
    "    import re\n",
    "    # Regular expression pattern to find all numbers\n",
    "    pattern = r'\\d+'\n",
    "\n",
    "    # Extracting all numbers from the string\n",
    "    numbers = re.findall(pattern, total_results)\n",
    "\n",
    "    if len(numbers) >= 3:\n",
    "        # Assuming the first number is the start of the current page, the second is the end, and the third is the total count\n",
    "        current_page_start = int(numbers[0])\n",
    "        current_page_end = int(numbers[1])\n",
    "        total_results_count = int(numbers[2])\n",
    "\n",
    "        # Count of results on the current page\n",
    "        count = current_page_end - current_page_start + 1\n",
    "\n",
    "        # Estimated total pages (assuming count is consistent across all pages)\n",
    "        estimated_pages = -(-total_results_count // count)  # Ceiling division to ensure we get a whole page for any remainder\n",
    "\n",
    "        print(f\"Current Page Start: {current_page_start}, Count: {count}, Total Results Count: {total_results_count}, Estimated Pages: {estimated_pages}\")\n",
    "    else:\n",
    "        print(\"Error: Could not find the required numbers in the pagination text.\")\n",
    "    return estimated_pages"
   ]
  },
  {
   "cell_type": "code",
   "execution_count": 94,
   "id": "a864789b",
   "metadata": {},
   "outputs": [],
   "source": [
    "init_response = handshake('abbott', cookies, headers)"
   ]
  },
  {
   "cell_type": "code",
   "execution_count": 95,
   "id": "e299594d",
   "metadata": {},
   "outputs": [
    {
     "data": {
      "text/plain": [
       "<Response [200]>"
      ]
     },
     "execution_count": 95,
     "metadata": {},
     "output_type": "execute_result"
    }
   ],
   "source": [
    "init_response"
   ]
  },
  {
   "cell_type": "code",
   "execution_count": 97,
   "id": "37e35c15",
   "metadata": {},
   "outputs": [
    {
     "data": {
      "text/plain": [
       "9"
      ]
     },
     "execution_count": 97,
     "metadata": {},
     "output_type": "execute_result"
    }
   ],
   "source": [
    "len(hrefs)"
   ]
  },
  {
   "cell_type": "code",
   "execution_count": null,
   "id": "738e8f37",
   "metadata": {},
   "outputs": [],
   "source": [
    "keyword_hrefs = {}"
   ]
  },
  {
   "cell_type": "code",
   "execution_count": 59,
   "id": "d8cd2edd",
   "metadata": {
    "scrolled": true
   },
   "outputs": [
    {
     "name": "stdout",
     "output_type": "stream",
     "text": [
      "dymind\n",
      "Sending init for  dymind\n",
      "Current Page Start: 1, Count: 12, Total Results Count: 14, Estimated Pages: 2\n"
     ]
    },
    {
     "name": "stderr",
     "output_type": "stream",
     "text": [
      "Fetching search results :  33%|███████████████████▎                                      | 1/3 [00:03<00:06,  3.27s/it]\n"
     ]
    },
    {
     "name": "stdout",
     "output_type": "stream",
     "text": [
      "premier medical\n",
      "Sending init for  premier medical\n",
      "Current Page Start: 1, Count: 2, Total Results Count: 2, Estimated Pages: 1\n"
     ]
    },
    {
     "name": "stderr",
     "output_type": "stream",
     "text": [
      "Fetching search results :   0%|                                                                  | 0/2 [00:00<?, ?it/s]"
     ]
    },
    {
     "name": "stdout",
     "output_type": "stream",
     "text": [
      "diasorin\n",
      "Sending init for  diasorin\n"
     ]
    },
    {
     "name": "stderr",
     "output_type": "stream",
     "text": [
      "\n"
     ]
    },
    {
     "name": "stdout",
     "output_type": "stream",
     "text": [
      "Current Page Start: 1, Count: 12, Total Results Count: 12, Estimated Pages: 1\n"
     ]
    },
    {
     "name": "stderr",
     "output_type": "stream",
     "text": [
      "Fetching search results :   0%|                                                                  | 0/2 [00:00<?, ?it/s]"
     ]
    },
    {
     "name": "stdout",
     "output_type": "stream",
     "text": [
      "biosino\n",
      "Sending init for  biosino\n"
     ]
    },
    {
     "name": "stderr",
     "output_type": "stream",
     "text": [
      "\n"
     ]
    },
    {
     "name": "stdout",
     "output_type": "stream",
     "text": [
      "bgi\n",
      "Sending init for  bgi\n",
      "Current Page Start: 1, Count: 12, Total Results Count: 108, Estimated Pages: 9\n"
     ]
    },
    {
     "name": "stderr",
     "output_type": "stream",
     "text": [
      "Fetching search results :  80%|█████████████████████████████████████████████▌           | 8/10 [00:26<00:06,  3.34s/it]\n"
     ]
    },
    {
     "name": "stdout",
     "output_type": "stream",
     "text": [
      "toshiba\n",
      "Sending init for  toshiba\n",
      "Current Page Start: 1, Count: 12, Total Results Count: 2211, Estimated Pages: 185\n"
     ]
    },
    {
     "name": "stderr",
     "output_type": "stream",
     "text": [
      "Fetching search results :  99%|█████████████████████████████████████████████████████▍| 184/186 [11:02<00:07,  3.60s/it]\n"
     ]
    },
    {
     "name": "stdout",
     "output_type": "stream",
     "text": [
      "dedalus \n",
      "Sending init for  dedalus \n",
      "thermo fisher scientific\n",
      "Sending init for  thermo fisher scientific\n",
      "Current Page Start: 1, Count: 12, Total Results Count: 257, Estimated Pages: 22\n"
     ]
    },
    {
     "name": "stderr",
     "output_type": "stream",
     "text": [
      "Fetching search results :  91%|███████████████████████████████████████████████████▏    | 21/23 [01:10<00:06,  3.37s/it]\n"
     ]
    },
    {
     "name": "stdout",
     "output_type": "stream",
     "text": [
      "bioneer\n",
      "Sending init for  bioneer\n",
      "kfbio\n",
      "Sending init for  kfbio\n",
      "Current Page Start: 1, Count: 6, Total Results Count: 6, Estimated Pages: 1\n"
     ]
    },
    {
     "name": "stderr",
     "output_type": "stream",
     "text": [
      "Fetching search results :   0%|                                                                  | 0/2 [00:00<?, ?it/s]"
     ]
    },
    {
     "name": "stdout",
     "output_type": "stream",
     "text": [
      "immuno concepts\n",
      "Sending init for  immuno concepts\n"
     ]
    },
    {
     "name": "stderr",
     "output_type": "stream",
     "text": [
      "\n"
     ]
    },
    {
     "name": "stdout",
     "output_type": "stream",
     "text": [
      "siemens\n",
      "Sending init for  siemens\n",
      "Current Page Start: 1, Count: 12, Total Results Count: 430, Estimated Pages: 36\n"
     ]
    },
    {
     "name": "stderr",
     "output_type": "stream",
     "text": [
      "Fetching search results :  95%|████████████████████████████████████████████████████▉   | 35/37 [01:58<00:06,  3.38s/it]\n"
     ]
    },
    {
     "name": "stdout",
     "output_type": "stream",
     "text": [
      "ziobio\n",
      "Sending init for  ziobio\n",
      "turk lab\n",
      "Sending init for  turk lab\n",
      "alltest biotech\n",
      "Sending init for  alltest biotech\n",
      "techno medica\n",
      "Sending init for  techno medica\n",
      "Current Page Start: 1, Count: 1, Total Results Count: 1, Estimated Pages: 1\n"
     ]
    },
    {
     "name": "stderr",
     "output_type": "stream",
     "text": [
      "Fetching search results :   0%|                                                                  | 0/2 [00:00<?, ?it/s]"
     ]
    },
    {
     "name": "stdout",
     "output_type": "stream",
     "text": [
      "tauns\n",
      "Sending init for  tauns\n"
     ]
    },
    {
     "name": "stderr",
     "output_type": "stream",
     "text": [
      "\n"
     ]
    },
    {
     "name": "stdout",
     "output_type": "stream",
     "text": [
      "technogenetics\n",
      "Sending init for  technogenetics\n",
      "meril life\n",
      "Sending init for  meril life\n",
      "ibmp\n",
      "Sending init for  ibmp\n",
      "optrascan\n",
      "Sending init for  optrascan\n",
      "santé\n",
      "Sending init for  santé\n",
      "panagen\n",
      "Sending init for  panagen\n",
      "maixin\n",
      "Sending init for  maixin\n",
      "zybio\n",
      "Sending init for  zybio\n",
      "Current Page Start: 1, Count: 12, Total Results Count: 42, Estimated Pages: 4\n"
     ]
    },
    {
     "name": "stderr",
     "output_type": "stream",
     "text": [
      "Fetching search results :  60%|██████████████████████████████████▊                       | 3/5 [00:09<00:06,  3.33s/it]\n"
     ]
    },
    {
     "name": "stdout",
     "output_type": "stream",
     "text": [
      "wondfo\n",
      "Sending init for  wondfo\n",
      "Current Page Start: 1, Count: 12, Total Results Count: 135, Estimated Pages: 12\n"
     ]
    },
    {
     "name": "stderr",
     "output_type": "stream",
     "text": [
      "Fetching search results :  85%|███████████████████████████████████████████████▍        | 11/13 [00:36<00:06,  3.35s/it]\n"
     ]
    },
    {
     "name": "stdout",
     "output_type": "stream",
     "text": [
      "sensa core\n",
      "Sending init for  sensa core\n",
      "fujifilm\n",
      "Sending init for  fujifilm\n",
      "Current Page Start: 1, Count: 12, Total Results Count: 1410, Estimated Pages: 118\n"
     ]
    },
    {
     "name": "stderr",
     "output_type": "stream",
     "text": [
      "Fetching search results :  98%|█████████████████████████████████████████████████████ | 117/119 [06:41<00:06,  3.43s/it]\n"
     ]
    },
    {
     "name": "stdout",
     "output_type": "stream",
     "text": [
      "opti medical diagnostics\n",
      "Sending init for  opti medical diagnostics\n",
      "nuclear laser medicine\n",
      "Sending init for  nuclear laser medicine\n",
      "dako\n",
      "Sending init for  dako\n",
      "Current Page Start: 1, Count: 4, Total Results Count: 4, Estimated Pages: 1\n"
     ]
    },
    {
     "name": "stderr",
     "output_type": "stream",
     "text": [
      "Fetching search results :   0%|                                                                  | 0/2 [00:00<?, ?it/s]"
     ]
    },
    {
     "name": "stdout",
     "output_type": "stream",
     "text": [
      "medica\n",
      "Sending init for  medica\n"
     ]
    },
    {
     "name": "stderr",
     "output_type": "stream",
     "text": [
      "\n"
     ]
    },
    {
     "name": "stdout",
     "output_type": "stream",
     "text": [
      "Current Page Start: 1, Count: 12, Total Results Count: 41, Estimated Pages: 4\n"
     ]
    },
    {
     "name": "stderr",
     "output_type": "stream",
     "text": [
      "Fetching search results :  60%|██████████████████████████████████▊                       | 3/5 [00:10<00:07,  3.54s/it]\n"
     ]
    },
    {
     "name": "stdout",
     "output_type": "stream",
     "text": [
      "clinitest\n",
      "Sending init for  clinitest\n",
      "bioline\n",
      "Sending init for  bioline\n",
      "Current Page Start: 1, Count: 12, Total Results Count: 70, Estimated Pages: 6\n"
     ]
    },
    {
     "name": "stderr",
     "output_type": "stream",
     "text": [
      "Fetching search results :  71%|█████████████████████████████████████████▍                | 5/7 [00:17<00:06,  3.46s/it]\n"
     ]
    },
    {
     "name": "stdout",
     "output_type": "stream",
     "text": [
      "medgenome\n",
      "Sending init for  medgenome\n",
      "da an\n",
      "Sending init for  da an\n",
      "Current Page Start: 1, Count: 9, Total Results Count: 9, Estimated Pages: 1\n"
     ]
    },
    {
     "name": "stderr",
     "output_type": "stream",
     "text": [
      "Fetching search results :   0%|                                                                  | 0/2 [00:00<?, ?it/s]"
     ]
    },
    {
     "name": "stdout",
     "output_type": "stream",
     "text": [
      "rapid\n",
      "Sending init for  rapid\n"
     ]
    },
    {
     "name": "stderr",
     "output_type": "stream",
     "text": [
      "\n"
     ]
    },
    {
     "name": "stdout",
     "output_type": "stream",
     "text": [
      "Current Page Start: 1, Count: 12, Total Results Count: 3751, Estimated Pages: 313\n"
     ]
    },
    {
     "name": "stderr",
     "output_type": "stream",
     "text": [
      "Fetching search results :  11%|██████▎                                                | 36/314 [02:07<15:45,  3.40s/it]"
     ]
    },
    {
     "name": "stdout",
     "output_type": "stream",
     "text": [
      "ERROR Internal\n"
     ]
    },
    {
     "name": "stderr",
     "output_type": "stream",
     "text": [
      "\r",
      "Fetching search results :  12%|██████▍                                                | 37/314 [02:10<15:13,  3.30s/it]"
     ]
    },
    {
     "name": "stdout",
     "output_type": "stream",
     "text": [
      "ERROR Internal\n"
     ]
    },
    {
     "name": "stderr",
     "output_type": "stream",
     "text": [
      "\r",
      "Fetching search results :  12%|██████▋                                                | 38/314 [02:13<14:50,  3.22s/it]"
     ]
    },
    {
     "name": "stdout",
     "output_type": "stream",
     "text": [
      "ERROR Internal\n"
     ]
    },
    {
     "name": "stderr",
     "output_type": "stream",
     "text": [
      "\r",
      "Fetching search results :  12%|██████▊                                                | 39/314 [02:16<14:32,  3.17s/it]"
     ]
    },
    {
     "name": "stdout",
     "output_type": "stream",
     "text": [
      "ERROR Internal\n"
     ]
    },
    {
     "name": "stderr",
     "output_type": "stream",
     "text": [
      "\r",
      "Fetching search results :  13%|███████                                                | 40/314 [02:19<14:19,  3.14s/it]"
     ]
    },
    {
     "name": "stdout",
     "output_type": "stream",
     "text": [
      "ERROR Internal\n"
     ]
    },
    {
     "name": "stderr",
     "output_type": "stream",
     "text": [
      "\r",
      "Fetching search results :  13%|███████▏                                               | 41/314 [02:22<14:09,  3.11s/it]"
     ]
    },
    {
     "name": "stdout",
     "output_type": "stream",
     "text": [
      "ERROR Internal\n"
     ]
    },
    {
     "name": "stderr",
     "output_type": "stream",
     "text": [
      "\r",
      "Fetching search results :  13%|███████▎                                               | 42/314 [02:25<14:02,  3.10s/it]"
     ]
    },
    {
     "name": "stdout",
     "output_type": "stream",
     "text": [
      "ERROR Internal\n"
     ]
    },
    {
     "name": "stderr",
     "output_type": "stream",
     "text": [
      "\r",
      "Fetching search results :  14%|███████▌                                               | 43/314 [02:28<13:56,  3.09s/it]"
     ]
    },
    {
     "name": "stdout",
     "output_type": "stream",
     "text": [
      "ERROR Internal\n"
     ]
    },
    {
     "name": "stderr",
     "output_type": "stream",
     "text": [
      "\r",
      "Fetching search results :  14%|███████▋                                               | 44/314 [02:31<13:50,  3.08s/it]"
     ]
    },
    {
     "name": "stdout",
     "output_type": "stream",
     "text": [
      "ERROR Internal\n"
     ]
    },
    {
     "name": "stderr",
     "output_type": "stream",
     "text": [
      "\r",
      "Fetching search results :  14%|███████▉                                               | 45/314 [02:34<13:45,  3.07s/it]"
     ]
    },
    {
     "name": "stdout",
     "output_type": "stream",
     "text": [
      "ERROR Internal\n"
     ]
    },
    {
     "name": "stderr",
     "output_type": "stream",
     "text": [
      "\r",
      "Fetching search results :  15%|████████                                               | 46/314 [02:38<13:40,  3.06s/it]"
     ]
    },
    {
     "name": "stdout",
     "output_type": "stream",
     "text": [
      "ERROR Internal\n"
     ]
    },
    {
     "name": "stderr",
     "output_type": "stream",
     "text": [
      "\r",
      "Fetching search results :  15%|████████▏                                              | 47/314 [02:41<13:37,  3.06s/it]"
     ]
    },
    {
     "name": "stdout",
     "output_type": "stream",
     "text": [
      "ERROR Internal\n"
     ]
    },
    {
     "name": "stderr",
     "output_type": "stream",
     "text": [
      "\r",
      "Fetching search results :  15%|████████▍                                              | 48/314 [02:44<13:34,  3.06s/it]"
     ]
    },
    {
     "name": "stdout",
     "output_type": "stream",
     "text": [
      "ERROR Internal\n"
     ]
    },
    {
     "name": "stderr",
     "output_type": "stream",
     "text": [
      "\r",
      "Fetching search results :  16%|████████▌                                              | 49/314 [02:47<13:29,  3.05s/it]"
     ]
    },
    {
     "name": "stdout",
     "output_type": "stream",
     "text": [
      "ERROR Internal\n"
     ]
    },
    {
     "name": "stderr",
     "output_type": "stream",
     "text": [
      "\r",
      "Fetching search results :  16%|████████▊                                              | 50/314 [02:50<13:26,  3.05s/it]"
     ]
    },
    {
     "name": "stdout",
     "output_type": "stream",
     "text": [
      "ERROR Internal\n"
     ]
    },
    {
     "name": "stderr",
     "output_type": "stream",
     "text": [
      "\r",
      "Fetching search results :  16%|████████▉                                              | 51/314 [02:53<13:22,  3.05s/it]"
     ]
    },
    {
     "name": "stdout",
     "output_type": "stream",
     "text": [
      "ERROR Internal\n"
     ]
    },
    {
     "name": "stderr",
     "output_type": "stream",
     "text": [
      "\r",
      "Fetching search results :  17%|█████████                                              | 52/314 [02:56<13:20,  3.05s/it]"
     ]
    },
    {
     "name": "stdout",
     "output_type": "stream",
     "text": [
      "ERROR Internal\n"
     ]
    },
    {
     "name": "stderr",
     "output_type": "stream",
     "text": [
      "\r",
      "Fetching search results :  17%|█████████▎                                             | 53/314 [02:59<13:16,  3.05s/it]"
     ]
    },
    {
     "name": "stdout",
     "output_type": "stream",
     "text": [
      "ERROR Internal\n"
     ]
    },
    {
     "name": "stderr",
     "output_type": "stream",
     "text": [
      "\r",
      "Fetching search results :  17%|█████████▍                                             | 54/314 [03:02<13:13,  3.05s/it]"
     ]
    },
    {
     "name": "stdout",
     "output_type": "stream",
     "text": [
      "ERROR Internal\n"
     ]
    },
    {
     "name": "stderr",
     "output_type": "stream",
     "text": [
      "\r",
      "Fetching search results :  18%|█████████▋                                             | 55/314 [03:05<13:10,  3.05s/it]"
     ]
    },
    {
     "name": "stdout",
     "output_type": "stream",
     "text": [
      "ERROR Internal\n"
     ]
    },
    {
     "name": "stderr",
     "output_type": "stream",
     "text": [
      "\r",
      "Fetching search results :  18%|█████████▊                                             | 56/314 [03:08<13:07,  3.05s/it]"
     ]
    },
    {
     "name": "stdout",
     "output_type": "stream",
     "text": [
      "ERROR Internal\n"
     ]
    },
    {
     "name": "stderr",
     "output_type": "stream",
     "text": [
      "\r",
      "Fetching search results :  18%|█████████▉                                             | 57/314 [03:11<13:03,  3.05s/it]"
     ]
    },
    {
     "name": "stdout",
     "output_type": "stream",
     "text": [
      "ERROR Internal\n"
     ]
    },
    {
     "name": "stderr",
     "output_type": "stream",
     "text": [
      "\r",
      "Fetching search results :  18%|██████████▏                                            | 58/314 [03:14<13:01,  3.05s/it]"
     ]
    },
    {
     "name": "stdout",
     "output_type": "stream",
     "text": [
      "ERROR Internal\n"
     ]
    },
    {
     "name": "stderr",
     "output_type": "stream",
     "text": [
      "\r",
      "Fetching search results :  19%|██████████▎                                            | 59/314 [03:17<12:58,  3.05s/it]"
     ]
    },
    {
     "name": "stdout",
     "output_type": "stream",
     "text": [
      "ERROR Internal\n"
     ]
    },
    {
     "name": "stderr",
     "output_type": "stream",
     "text": [
      "\r",
      "Fetching search results :  19%|██████████▌                                            | 60/314 [03:20<12:54,  3.05s/it]"
     ]
    },
    {
     "name": "stdout",
     "output_type": "stream",
     "text": [
      "ERROR Internal\n"
     ]
    },
    {
     "name": "stderr",
     "output_type": "stream",
     "text": [
      "\r",
      "Fetching search results :  19%|██████████▋                                            | 61/314 [03:23<12:52,  3.05s/it]"
     ]
    },
    {
     "name": "stdout",
     "output_type": "stream",
     "text": [
      "ERROR Internal\n"
     ]
    },
    {
     "name": "stderr",
     "output_type": "stream",
     "text": [
      "\r",
      "Fetching search results :  20%|██████████▊                                            | 62/314 [03:26<12:50,  3.06s/it]"
     ]
    },
    {
     "name": "stdout",
     "output_type": "stream",
     "text": [
      "ERROR Internal\n"
     ]
    },
    {
     "name": "stderr",
     "output_type": "stream",
     "text": [
      "\r",
      "Fetching search results :  20%|███████████                                            | 63/314 [03:29<12:45,  3.05s/it]"
     ]
    },
    {
     "name": "stdout",
     "output_type": "stream",
     "text": [
      "ERROR Internal\n"
     ]
    },
    {
     "name": "stderr",
     "output_type": "stream",
     "text": [
      "\r",
      "Fetching search results :  20%|███████████▏                                           | 64/314 [03:32<12:43,  3.05s/it]"
     ]
    },
    {
     "name": "stdout",
     "output_type": "stream",
     "text": [
      "ERROR Internal\n"
     ]
    },
    {
     "name": "stderr",
     "output_type": "stream",
     "text": [
      "\r",
      "Fetching search results :  21%|███████████▍                                           | 65/314 [03:36<12:39,  3.05s/it]"
     ]
    },
    {
     "name": "stdout",
     "output_type": "stream",
     "text": [
      "ERROR Internal\n"
     ]
    },
    {
     "name": "stderr",
     "output_type": "stream",
     "text": [
      "\r",
      "Fetching search results :  21%|███████████▌                                           | 66/314 [03:39<12:36,  3.05s/it]"
     ]
    },
    {
     "name": "stdout",
     "output_type": "stream",
     "text": [
      "ERROR Internal\n"
     ]
    },
    {
     "name": "stderr",
     "output_type": "stream",
     "text": [
      "\r",
      "Fetching search results :  21%|███████████▋                                           | 67/314 [03:42<12:33,  3.05s/it]"
     ]
    },
    {
     "name": "stdout",
     "output_type": "stream",
     "text": [
      "ERROR Internal\n"
     ]
    },
    {
     "name": "stderr",
     "output_type": "stream",
     "text": [
      "\r",
      "Fetching search results :  22%|███████████▉                                           | 68/314 [03:45<12:30,  3.05s/it]"
     ]
    },
    {
     "name": "stdout",
     "output_type": "stream",
     "text": [
      "ERROR Internal\n"
     ]
    },
    {
     "name": "stderr",
     "output_type": "stream",
     "text": [
      "\r",
      "Fetching search results :  22%|████████████                                           | 69/314 [03:48<12:27,  3.05s/it]"
     ]
    },
    {
     "name": "stdout",
     "output_type": "stream",
     "text": [
      "ERROR Internal\n"
     ]
    },
    {
     "name": "stderr",
     "output_type": "stream",
     "text": [
      "\r",
      "Fetching search results :  22%|████████████▎                                          | 70/314 [03:51<12:24,  3.05s/it]"
     ]
    },
    {
     "name": "stdout",
     "output_type": "stream",
     "text": [
      "ERROR Internal\n"
     ]
    },
    {
     "name": "stderr",
     "output_type": "stream",
     "text": [
      "\r",
      "Fetching search results :  23%|████████████▍                                          | 71/314 [03:54<12:21,  3.05s/it]"
     ]
    },
    {
     "name": "stdout",
     "output_type": "stream",
     "text": [
      "ERROR Internal\n"
     ]
    },
    {
     "name": "stderr",
     "output_type": "stream",
     "text": [
      "\r",
      "Fetching search results :  23%|████████████▌                                          | 72/314 [03:57<12:18,  3.05s/it]"
     ]
    },
    {
     "name": "stdout",
     "output_type": "stream",
     "text": [
      "ERROR Internal\n"
     ]
    },
    {
     "name": "stderr",
     "output_type": "stream",
     "text": [
      "\r",
      "Fetching search results :  23%|████████████▊                                          | 73/314 [04:00<12:15,  3.05s/it]"
     ]
    },
    {
     "name": "stdout",
     "output_type": "stream",
     "text": [
      "ERROR Internal\n"
     ]
    },
    {
     "name": "stderr",
     "output_type": "stream",
     "text": [
      "\r",
      "Fetching search results :  24%|████████████▉                                          | 74/314 [04:03<12:11,  3.05s/it]"
     ]
    },
    {
     "name": "stdout",
     "output_type": "stream",
     "text": [
      "ERROR Internal\n"
     ]
    },
    {
     "name": "stderr",
     "output_type": "stream",
     "text": [
      "\r",
      "Fetching search results :  24%|█████████████▏                                         | 75/314 [04:06<12:09,  3.05s/it]"
     ]
    },
    {
     "name": "stdout",
     "output_type": "stream",
     "text": [
      "ERROR Internal\n"
     ]
    },
    {
     "name": "stderr",
     "output_type": "stream",
     "text": [
      "\r",
      "Fetching search results :  24%|█████████████▎                                         | 76/314 [04:09<12:06,  3.05s/it]"
     ]
    },
    {
     "name": "stdout",
     "output_type": "stream",
     "text": [
      "ERROR Internal\n"
     ]
    },
    {
     "name": "stderr",
     "output_type": "stream",
     "text": [
      "\r",
      "Fetching search results :  25%|█████████████▍                                         | 77/314 [04:12<12:02,  3.05s/it]"
     ]
    },
    {
     "name": "stdout",
     "output_type": "stream",
     "text": [
      "ERROR Internal\n"
     ]
    },
    {
     "name": "stderr",
     "output_type": "stream",
     "text": [
      "\r",
      "Fetching search results :  25%|█████████████▋                                         | 78/314 [04:15<11:59,  3.05s/it]"
     ]
    },
    {
     "name": "stdout",
     "output_type": "stream",
     "text": [
      "ERROR Internal\n"
     ]
    },
    {
     "name": "stderr",
     "output_type": "stream",
     "text": [
      "\r",
      "Fetching search results :  25%|█████████████▊                                         | 79/314 [04:18<11:56,  3.05s/it]"
     ]
    },
    {
     "name": "stdout",
     "output_type": "stream",
     "text": [
      "ERROR Internal\n"
     ]
    },
    {
     "name": "stderr",
     "output_type": "stream",
     "text": [
      "\r",
      "Fetching search results :  25%|██████████████                                         | 80/314 [04:21<11:54,  3.05s/it]"
     ]
    },
    {
     "name": "stdout",
     "output_type": "stream",
     "text": [
      "ERROR Internal\n"
     ]
    },
    {
     "name": "stderr",
     "output_type": "stream",
     "text": [
      "\r",
      "Fetching search results :  26%|██████████████▏                                        | 81/314 [04:24<11:50,  3.05s/it]"
     ]
    },
    {
     "name": "stdout",
     "output_type": "stream",
     "text": [
      "ERROR Internal\n"
     ]
    },
    {
     "name": "stderr",
     "output_type": "stream",
     "text": [
      "\r",
      "Fetching search results :  26%|██████████████▎                                        | 82/314 [04:27<11:47,  3.05s/it]"
     ]
    },
    {
     "name": "stdout",
     "output_type": "stream",
     "text": [
      "ERROR Internal\n"
     ]
    },
    {
     "name": "stderr",
     "output_type": "stream",
     "text": [
      "\r",
      "Fetching search results :  26%|██████████████▌                                        | 83/314 [04:30<11:44,  3.05s/it]"
     ]
    },
    {
     "name": "stdout",
     "output_type": "stream",
     "text": [
      "ERROR Internal\n"
     ]
    },
    {
     "name": "stderr",
     "output_type": "stream",
     "text": [
      "\r",
      "Fetching search results :  27%|██████████████▋                                        | 84/314 [04:33<11:40,  3.05s/it]"
     ]
    },
    {
     "name": "stdout",
     "output_type": "stream",
     "text": [
      "ERROR Internal\n"
     ]
    },
    {
     "name": "stderr",
     "output_type": "stream",
     "text": [
      "\r",
      "Fetching search results :  27%|██████████████▉                                        | 85/314 [04:37<11:38,  3.05s/it]"
     ]
    },
    {
     "name": "stdout",
     "output_type": "stream",
     "text": [
      "ERROR Internal\n"
     ]
    },
    {
     "name": "stderr",
     "output_type": "stream",
     "text": [
      "\r",
      "Fetching search results :  27%|███████████████                                        | 86/314 [04:40<11:35,  3.05s/it]"
     ]
    },
    {
     "name": "stdout",
     "output_type": "stream",
     "text": [
      "ERROR Internal\n"
     ]
    },
    {
     "name": "stderr",
     "output_type": "stream",
     "text": [
      "\r",
      "Fetching search results :  28%|███████████████▏                                       | 87/314 [04:43<11:33,  3.05s/it]"
     ]
    },
    {
     "name": "stdout",
     "output_type": "stream",
     "text": [
      "ERROR Internal\n"
     ]
    },
    {
     "name": "stderr",
     "output_type": "stream",
     "text": [
      "\r",
      "Fetching search results :  28%|███████████████▍                                       | 88/314 [04:46<11:30,  3.05s/it]"
     ]
    },
    {
     "name": "stdout",
     "output_type": "stream",
     "text": [
      "ERROR Internal\n"
     ]
    },
    {
     "name": "stderr",
     "output_type": "stream",
     "text": [
      "\r",
      "Fetching search results :  28%|███████████████▌                                       | 89/314 [04:49<11:27,  3.05s/it]"
     ]
    },
    {
     "name": "stdout",
     "output_type": "stream",
     "text": [
      "ERROR Internal\n"
     ]
    },
    {
     "name": "stderr",
     "output_type": "stream",
     "text": [
      "\r",
      "Fetching search results :  29%|███████████████▊                                       | 90/314 [04:52<11:25,  3.06s/it]"
     ]
    },
    {
     "name": "stdout",
     "output_type": "stream",
     "text": [
      "ERROR Internal\n"
     ]
    },
    {
     "name": "stderr",
     "output_type": "stream",
     "text": [
      "\r",
      "Fetching search results :  29%|███████████████▉                                       | 91/314 [04:55<11:21,  3.06s/it]"
     ]
    },
    {
     "name": "stdout",
     "output_type": "stream",
     "text": [
      "ERROR Internal\n"
     ]
    },
    {
     "name": "stderr",
     "output_type": "stream",
     "text": [
      "\r",
      "Fetching search results :  29%|████████████████                                       | 92/314 [04:58<11:17,  3.05s/it]"
     ]
    },
    {
     "name": "stdout",
     "output_type": "stream",
     "text": [
      "ERROR Internal\n"
     ]
    },
    {
     "name": "stderr",
     "output_type": "stream",
     "text": [
      "\r",
      "Fetching search results :  30%|████████████████▎                                      | 93/314 [05:01<11:14,  3.05s/it]"
     ]
    },
    {
     "name": "stdout",
     "output_type": "stream",
     "text": [
      "ERROR Internal\n"
     ]
    },
    {
     "name": "stderr",
     "output_type": "stream",
     "text": [
      "\r",
      "Fetching search results :  30%|████████████████▍                                      | 94/314 [05:04<11:11,  3.05s/it]"
     ]
    },
    {
     "name": "stdout",
     "output_type": "stream",
     "text": [
      "ERROR Internal\n"
     ]
    },
    {
     "name": "stderr",
     "output_type": "stream",
     "text": [
      "\r",
      "Fetching search results :  30%|████████████████▋                                      | 95/314 [05:07<11:09,  3.06s/it]"
     ]
    },
    {
     "name": "stdout",
     "output_type": "stream",
     "text": [
      "ERROR Internal\n"
     ]
    },
    {
     "name": "stderr",
     "output_type": "stream",
     "text": [
      "\r",
      "Fetching search results :  31%|████████████████▊                                      | 96/314 [05:10<11:06,  3.06s/it]"
     ]
    },
    {
     "name": "stdout",
     "output_type": "stream",
     "text": [
      "ERROR Internal\n"
     ]
    },
    {
     "name": "stderr",
     "output_type": "stream",
     "text": [
      "\r",
      "Fetching search results :  31%|████████████████▉                                      | 97/314 [05:13<11:02,  3.05s/it]"
     ]
    },
    {
     "name": "stdout",
     "output_type": "stream",
     "text": [
      "ERROR Internal\n"
     ]
    },
    {
     "name": "stderr",
     "output_type": "stream",
     "text": [
      "\r",
      "Fetching search results :  31%|█████████████████▏                                     | 98/314 [05:16<10:59,  3.05s/it]"
     ]
    },
    {
     "name": "stdout",
     "output_type": "stream",
     "text": [
      "ERROR Internal\n"
     ]
    },
    {
     "name": "stderr",
     "output_type": "stream",
     "text": [
      "\r",
      "Fetching search results :  32%|█████████████████▎                                     | 99/314 [05:19<10:56,  3.05s/it]"
     ]
    },
    {
     "name": "stdout",
     "output_type": "stream",
     "text": [
      "ERROR Internal\n"
     ]
    },
    {
     "name": "stderr",
     "output_type": "stream",
     "text": [
      "\r",
      "Fetching search results :  32%|█████████████████▏                                    | 100/314 [05:22<10:54,  3.06s/it]"
     ]
    },
    {
     "name": "stdout",
     "output_type": "stream",
     "text": [
      "ERROR Internal\n"
     ]
    },
    {
     "name": "stderr",
     "output_type": "stream",
     "text": [
      "\r",
      "Fetching search results :  32%|█████████████████▎                                    | 101/314 [05:25<10:50,  3.05s/it]"
     ]
    },
    {
     "name": "stdout",
     "output_type": "stream",
     "text": [
      "ERROR Internal\n"
     ]
    },
    {
     "name": "stderr",
     "output_type": "stream",
     "text": [
      "\r",
      "Fetching search results :  32%|█████████████████▌                                    | 102/314 [05:28<10:47,  3.05s/it]"
     ]
    },
    {
     "name": "stdout",
     "output_type": "stream",
     "text": [
      "ERROR Internal\n"
     ]
    },
    {
     "name": "stderr",
     "output_type": "stream",
     "text": [
      "\r",
      "Fetching search results :  33%|█████████████████▋                                    | 103/314 [05:31<10:43,  3.05s/it]"
     ]
    },
    {
     "name": "stdout",
     "output_type": "stream",
     "text": [
      "ERROR Internal\n"
     ]
    },
    {
     "name": "stderr",
     "output_type": "stream",
     "text": [
      "\r",
      "Fetching search results :  33%|█████████████████▉                                    | 104/314 [05:35<10:40,  3.05s/it]"
     ]
    },
    {
     "name": "stdout",
     "output_type": "stream",
     "text": [
      "ERROR Internal\n"
     ]
    },
    {
     "name": "stderr",
     "output_type": "stream",
     "text": [
      "\r",
      "Fetching search results :  33%|██████████████████                                    | 105/314 [05:38<10:37,  3.05s/it]"
     ]
    },
    {
     "name": "stdout",
     "output_type": "stream",
     "text": [
      "ERROR Internal\n"
     ]
    },
    {
     "name": "stderr",
     "output_type": "stream",
     "text": [
      "\r",
      "Fetching search results :  34%|██████████████████▏                                   | 106/314 [05:41<10:34,  3.05s/it]"
     ]
    },
    {
     "name": "stdout",
     "output_type": "stream",
     "text": [
      "ERROR Internal\n"
     ]
    },
    {
     "name": "stderr",
     "output_type": "stream",
     "text": [
      "\r",
      "Fetching search results :  34%|██████████████████▍                                   | 107/314 [05:44<10:32,  3.06s/it]"
     ]
    },
    {
     "name": "stdout",
     "output_type": "stream",
     "text": [
      "ERROR Internal\n"
     ]
    },
    {
     "name": "stderr",
     "output_type": "stream",
     "text": [
      "\r",
      "Fetching search results :  34%|██████████████████▌                                   | 108/314 [05:47<10:29,  3.06s/it]"
     ]
    },
    {
     "name": "stdout",
     "output_type": "stream",
     "text": [
      "ERROR Internal\n"
     ]
    },
    {
     "name": "stderr",
     "output_type": "stream",
     "text": [
      "Fetching search results :  34%|██████████████████▌                                   | 108/314 [05:50<11:08,  3.24s/it]\n"
     ]
    },
    {
     "ename": "KeyboardInterrupt",
     "evalue": "",
     "output_type": "error",
     "traceback": [
      "\u001b[1;31m---------------------------------------------------------------------------\u001b[0m",
      "\u001b[1;31mKeyboardInterrupt\u001b[0m                         Traceback (most recent call last)",
      "Input \u001b[1;32mIn [59]\u001b[0m, in \u001b[0;36m<cell line: 2>\u001b[1;34m()\u001b[0m\n\u001b[0;32m     19\u001b[0m params \u001b[38;5;241m=\u001b[39m {\n\u001b[0;32m     20\u001b[0m         \u001b[38;5;124m'\u001b[39m\u001b[38;5;124mauthenticityToken\u001b[39m\u001b[38;5;124m'\u001b[39m: \u001b[38;5;124m'\u001b[39m\u001b[38;5;124m7314a8c003dbd5121334ec2b97b2541e5eb912aa\u001b[39m\u001b[38;5;124m'\u001b[39m,\n\u001b[0;32m     21\u001b[0m         \u001b[38;5;124m'\u001b[39m\u001b[38;5;124mq\u001b[39m\u001b[38;5;124m'\u001b[39m: keyword,\n\u001b[0;32m     22\u001b[0m         \u001b[38;5;124m'\u001b[39m\u001b[38;5;124mlimit\u001b[39m\u001b[38;5;124m'\u001b[39m: \u001b[38;5;124m'\u001b[39m\u001b[38;5;124m12\u001b[39m\u001b[38;5;124m'\u001b[39m,\n\u001b[0;32m     23\u001b[0m         \u001b[38;5;124m'\u001b[39m\u001b[38;5;124moffset\u001b[39m\u001b[38;5;124m'\u001b[39m: \u001b[38;5;28mstr\u001b[39m(i),\n\u001b[0;32m     24\u001b[0m         }\n\u001b[0;32m     25\u001b[0m response \u001b[38;5;241m=\u001b[39m requests\u001b[38;5;241m.\u001b[39mget(\u001b[38;5;124m'\u001b[39m\u001b[38;5;124mhttps://e-katalog.lkpp.go.id/id/search-produk\u001b[39m\u001b[38;5;124m'\u001b[39m, \n\u001b[0;32m     26\u001b[0m                         params\u001b[38;5;241m=\u001b[39mparams, cookies\u001b[38;5;241m=\u001b[39mcookies, headers\u001b[38;5;241m=\u001b[39mheaders)\n\u001b[1;32m---> 27\u001b[0m \u001b[43mtime\u001b[49m\u001b[38;5;241;43m.\u001b[39;49m\u001b[43msleep\u001b[49m\u001b[43m(\u001b[49m\u001b[38;5;241;43m3\u001b[39;49m\u001b[43m)\u001b[49m\n\u001b[0;32m     28\u001b[0m \u001b[38;5;28;01mif\u001b[39;00m response\u001b[38;5;241m.\u001b[39mstatus_code \u001b[38;5;241m==\u001b[39m \u001b[38;5;241m200\u001b[39m:\n\u001b[0;32m     29\u001b[0m     soup \u001b[38;5;241m=\u001b[39m BeautifulSoup(response\u001b[38;5;241m.\u001b[39mtext)\n",
      "\u001b[1;31mKeyboardInterrupt\u001b[0m: "
     ]
    }
   ],
   "source": [
    "\n",
    "for keyword in keywords:\n",
    "    if keyword not in keyword_hrefs.keys()\n",
    "        print(keyword)\n",
    "        hrefs = {}\n",
    "        init_response = handshake(keyword, cookies, headers)\n",
    "        time.sleep(5)\n",
    "        if init_response.status_code == 200:\n",
    "            if not 'Maaf' in init_response.text:\n",
    "                soup = BeautifulSoup(init_response.text)\n",
    "                results = soup.find_all('div', {'class':'card-item-title'})\n",
    "                for result in results:\n",
    "                    if result.find('a'):\n",
    "                        href = result.find('a')['href']\n",
    "                        title = result.find('a')['title']\n",
    "                        #print(href,title)\n",
    "                        hrefs[href] = title\n",
    "                estimated_pages = get_estimated_pages(soup)+1\n",
    "                for i in tqdm(range(2,estimated_pages), total=estimated_pages, desc=\"Fetching search results \"):\n",
    "                    params = {\n",
    "                            'authenticityToken': '7314a8c003dbd5121334ec2b97b2541e5eb912aa',\n",
    "                            'q': keyword,\n",
    "                            'limit': '12',\n",
    "                            'offset': str(i),\n",
    "                            }\n",
    "                    response = requests.get('https://e-katalog.lkpp.go.id/id/search-produk', \n",
    "                                            params=params, cookies=cookies, headers=headers)\n",
    "                    time.sleep(3)\n",
    "                    if response.status_code == 200:\n",
    "                        soup = BeautifulSoup(response.text)\n",
    "\n",
    "                        results = soup.find_all('div', {'class':'card-item-title'})\n",
    "                        for result in results:\n",
    "                            if result.find('a'):\n",
    "                                href = result.find('a')['href']\n",
    "                                title = result.find('a')['title']\n",
    "                                #print(href,title)\n",
    "                                hrefs[href] = title\n",
    "                    else:\n",
    "                        print(\"ERROR Internal\")\n",
    "            keyword_hrefs[keyword] = hrefs\n",
    "        else:\n",
    "                    print(\"ERROR In INIT\")\n",
    "            "
   ]
  },
  {
   "cell_type": "code",
   "execution_count": 127,
   "id": "c2aa02ab",
   "metadata": {},
   "outputs": [
    {
     "data": {
      "text/plain": [
       "<Response [403]>"
      ]
     },
     "execution_count": 127,
     "metadata": {},
     "output_type": "execute_result"
    }
   ],
   "source": [
    "response"
   ]
  },
  {
   "cell_type": "code",
   "execution_count": 65,
   "id": "eed44031",
   "metadata": {},
   "outputs": [
    {
     "data": {
      "text/plain": [
       "dict_keys(['dymind', 'premier medical', 'diasorin', 'biosino', 'bgi', 'toshiba', 'dedalus ', 'thermo fisher scientific', 'bioneer', 'kfbio', 'immuno concepts', 'siemens', 'ziobio', 'turk lab', 'alltest biotech', 'techno medica', 'tauns', 'technogenetics', 'meril life', 'ibmp', 'optrascan', 'santé', 'panagen', 'maixin', 'zybio', 'wondfo', 'sensa core', 'fujifilm', 'opti medical diagnostics', 'nuclear laser medicine', 'dako', 'medica', 'clinitest', 'bioline', 'medgenome', 'da an'])"
      ]
     },
     "execution_count": 65,
     "metadata": {},
     "output_type": "execute_result"
    }
   ],
   "source": [
    "keyword_hrefs.keys()"
   ]
  },
  {
   "cell_type": "code",
   "execution_count": 73,
   "id": "168f7f78",
   "metadata": {
    "scrolled": true
   },
   "outputs": [],
   "source": [
    "hrefs_to_scrape = []\n",
    "for k in keyword_hrefs.keys():\n",
    "    keyword_href = keyword_hrefs.get(k)\n",
    "    hrefs = list(keyword_href.keys())\n",
    "    #print(hrefs)\n",
    "    for h in hrefs:\n",
    "        hrefs_to_scrape.append(h)\n",
    "    \n",
    "    \n",
    "    "
   ]
  },
  {
   "cell_type": "code",
   "execution_count": 77,
   "id": "740f4fd1",
   "metadata": {},
   "outputs": [
    {
     "data": {
      "text/plain": [
       "3968"
      ]
     },
     "execution_count": 77,
     "metadata": {},
     "output_type": "execute_result"
    }
   ],
   "source": [
    "len(hrefs_to_scrape)"
   ]
  },
  {
   "cell_type": "code",
   "execution_count": 101,
   "id": "61959abb",
   "metadata": {},
   "outputs": [
    {
     "name": "stderr",
     "output_type": "stream",
     "text": [
      "100%|██████████████████████████████████████████████████████████████████████████████| 3968/3968 [15:49<00:00,  4.18it/s]\n"
     ]
    }
   ],
   "source": [
    "collector = []\n",
    "\n",
    "params = {\n",
    "    'lang': 'id',\n",
    "    'type': 'general',\n",
    "}\n",
    "\n",
    "cookies = {\n",
    "    '_ga': 'GA1.1.678707696.1669016845',\n",
    "    'PLAY_LANG': 'id',\n",
    "    '_cfuvid': 'CNwjg9MTXEkC9orrBFA1M.XaVAscNZXdI17FzuPLCIc-1706562315455-0-604800000',\n",
    "    'cf_chl_3': '62a405e2f578838',\n",
    "    'cf_clearance': 'sw3fzF0sdL4GKc67nAgTARcyz1ftD.kxzg0k9N4M0nU-1706573964-1-AV/uZlTh1qw9J0EfLeUwkYjKncEm+L9h0tAdJNWU0lIgGRDa30ixCFN+APlbPxTnjYPZRfQCYdhdNWVUdIv2JPI=',\n",
    "    '_ga_K59543X46E': 'GS1.1.1706573647.5.1.1706574081.0.0.0',\n",
    "    'E_KATALOG_5_SESSION': 'dbf548707c24d4f955bcf40d93224126d9d3f7b0-___AT=7314a8c003dbd5121334ec2b97b2541e5eb912aa&___TS=1706577574374&___ID=39c69be9-63cb-47e2-8770-72f24c7ae80c',\n",
    "}\n",
    "\n",
    "headers = {\n",
    "    'authority': 'e-katalog.lkpp.go.id',\n",
    "    'accept': 'text/html,application/xhtml+xml,application/xml;q=0.9,image/avif,image/webp,image/apng,*/*;q=0.8,application/signed-exchange;v=b3;q=0.7',\n",
    "    'accept-language': 'en-US,en;q=0.9',\n",
    "    # 'cookie': '_ga=GA1.1.678707696.1669016845; PLAY_LANG=id; _cfuvid=CNwjg9MTXEkC9orrBFA1M.XaVAscNZXdI17FzuPLCIc-1706562315455-0-604800000; cf_chl_3=62a405e2f578838; cf_clearance=sw3fzF0sdL4GKc67nAgTARcyz1ftD.kxzg0k9N4M0nU-1706573964-1-AV/uZlTh1qw9J0EfLeUwkYjKncEm+L9h0tAdJNWU0lIgGRDa30ixCFN+APlbPxTnjYPZRfQCYdhdNWVUdIv2JPI=; _ga_K59543X46E=GS1.1.1706573647.5.1.1706574081.0.0.0; E_KATALOG_5_SESSION=dbf548707c24d4f955bcf40d93224126d9d3f7b0-___AT=7314a8c003dbd5121334ec2b97b2541e5eb912aa&___TS=1706577574374&___ID=39c69be9-63cb-47e2-8770-72f24c7ae80c',\n",
    "    'referer': 'https://e-katalog.lkpp.go.id/id/search/produk/fasilitas-kesehatan-sektoral-kemenkes/686?authenticityToken=7314a8c003dbd5121334ec2b97b2541e5eb912aa&q=abbott&prid=&pid=&gt=&lt=&mid=&kbid=&order=&cat=',\n",
    "    'sec-ch-ua': '\"Not_A Brand\";v=\"8\", \"Chromium\";v=\"120\", \"Google Chrome\";v=\"120\"',\n",
    "    'sec-ch-ua-arch': '\"x86\"',\n",
    "    'sec-ch-ua-bitness': '\"64\"',\n",
    "    'sec-ch-ua-full-version': '\"120.0.6099.225\"',\n",
    "    'sec-ch-ua-full-version-list': '\"Not_A Brand\";v=\"8.0.0.0\", \"Chromium\";v=\"120.0.6099.225\", \"Google Chrome\";v=\"120.0.6099.225\"',\n",
    "    'sec-ch-ua-mobile': '?0',\n",
    "    'sec-ch-ua-model': '\"\"',\n",
    "    'sec-ch-ua-platform': '\"Windows\"',\n",
    "    'sec-ch-ua-platform-version': '\"10.0.0\"',\n",
    "    'sec-fetch-dest': 'document',\n",
    "    'sec-fetch-mode': 'navigate',\n",
    "    'sec-fetch-site': 'same-origin',\n",
    "    'sec-fetch-user': '?1',\n",
    "    'upgrade-insecure-requests': '1',\n",
    "    'user-agent': 'Mozilla/5.0 (Windows NT 10.0; Win64; x64) AppleWebKit/537.36 (KHTML, like Gecko) Chrome/120.0.0.0 Safari/537.36',\n",
    "}\n",
    "BASE_URL = 'https://e-katalog.lkpp.go.id'\n",
    "for href in tqdm(hrefs_to_scrape):\n",
    "    response = requests.get(BASE_URL+href,  params=params, cookies=cookies, headers=headers)\n",
    "    soup = BeautifulSoup(response.text)\n",
    "\n",
    "    device_params = soup.find_all('div', {'class':'detail-item'})\n",
    "    device_data = {}\n",
    "    for device_param in device_params:\n",
    "        if device_param.find('div',{'class':'row'}):\n",
    "            param = device_param.find('div',{'class':'detail-heading'}).text.strip()\n",
    "            value = device_param.find('div',{'class':'detail-description'}).text.strip()\n",
    "            device_data[param] = value\n",
    "    device_data['href'] = href\n",
    "    collector.append(device_data)"
   ]
  },
  {
   "cell_type": "code",
   "execution_count": 106,
   "id": "94022c91",
   "metadata": {},
   "outputs": [
    {
     "ename": "NameError",
     "evalue": "name 'param' is not defined",
     "output_type": "error",
     "traceback": [
      "\u001b[1;31m---------------------------------------------------------------------------\u001b[0m",
      "\u001b[1;31mNameError\u001b[0m                                 Traceback (most recent call last)",
      "Input \u001b[1;32mIn [106]\u001b[0m, in \u001b[0;36m<cell line: 1>\u001b[1;34m()\u001b[0m\n\u001b[1;32m----> 1\u001b[0m \u001b[43mparam\u001b[49m\n",
      "\u001b[1;31mNameError\u001b[0m: name 'param' is not defined"
     ]
    }
   ],
   "source": [
    "param"
   ]
  },
  {
   "cell_type": "code",
   "execution_count": 121,
   "id": "a12f513b",
   "metadata": {},
   "outputs": [],
   "source": [
    "import pickle\n",
    "with open('hrefs_to_scrape.pkl','wb') as f:\n",
    "    pickle.dump(keyword_hrefs, f)"
   ]
  },
  {
   "cell_type": "code",
   "execution_count": 125,
   "id": "f8225994",
   "metadata": {},
   "outputs": [],
   "source": [
    "with open('hrefs_to_scrape.pkl', 'rb') as f:\n",
    "    keyword_hrefs = pickle.load(f)"
   ]
  },
  {
   "cell_type": "code",
   "execution_count": 126,
   "id": "29e839fa",
   "metadata": {},
   "outputs": [
    {
     "data": {
      "text/plain": [
       "dict_keys(['dymind', 'premier medical', 'diasorin', 'biosino', 'bgi', 'toshiba', 'dedalus ', 'thermo fisher scientific', 'bioneer', 'kfbio', 'immuno concepts', 'siemens', 'ziobio', 'turk lab', 'alltest biotech', 'techno medica', 'tauns', 'technogenetics', 'meril life', 'ibmp', 'optrascan', 'santé', 'panagen', 'maixin', 'zybio', 'wondfo', 'sensa core', 'fujifilm', 'opti medical diagnostics', 'nuclear laser medicine', 'dako', 'medica', 'clinitest', 'bioline', 'medgenome', 'da an'])"
      ]
     },
     "execution_count": 126,
     "metadata": {},
     "output_type": "execute_result"
    }
   ],
   "source": [
    "keyword_hrefs.keys()"
   ]
  },
  {
   "cell_type": "code",
   "execution_count": 118,
   "id": "bf99d90e",
   "metadata": {},
   "outputs": [
    {
     "data": {
      "text/plain": [
       "'/katalog/produk/detail/3371380?lang=id&type=general'"
      ]
     },
     "execution_count": 118,
     "metadata": {},
     "output_type": "execute_result"
    }
   ],
   "source": [
    "href"
   ]
  },
  {
   "cell_type": "code",
   "execution_count": 116,
   "id": "94d57435",
   "metadata": {},
   "outputs": [],
   "source": [
    "response = requests.get(BASE_URL+href)"
   ]
  },
  {
   "cell_type": "code",
   "execution_count": 117,
   "id": "c444300a",
   "metadata": {
    "scrolled": false
   },
   "outputs": [
    {
     "data": {
      "text/plain": [
       "'<!DOCTYPE html>\\n<!--[if lt IE 7]> <html class=\"no-js ie6 oldie\" lang=\"en-US\"> <![endif]-->\\n<!--[if IE 7]>    <html class=\"no-js ie7 oldie\" lang=\"en-US\"> <![endif]-->\\n<!--[if IE 8]>    <html class=\"no-js ie8 oldie\" lang=\"en-US\"> <![endif]-->\\n<!--[if gt IE 8]><!--> <html class=\"no-js\" lang=\"en-US\"> <!--<![endif]-->\\n<head>\\n<title>Attention Required! | Cloudflare</title>\\n<meta charset=\"UTF-8\" />\\n<meta http-equiv=\"Content-Type\" content=\"text/html; charset=UTF-8\" />\\n<meta http-equiv=\"X-UA-Compatible\" content=\"IE=Edge\" />\\n<meta name=\"robots\" content=\"noindex, nofollow\" />\\n<meta name=\"viewport\" content=\"width=device-width,initial-scale=1\" />\\n<link rel=\"stylesheet\" id=\"cf_styles-css\" href=\"/cdn-cgi/styles/cf.errors.css\" />\\n<!--[if lt IE 9]><link rel=\"stylesheet\" id=\\'cf_styles-ie-css\\' href=\"/cdn-cgi/styles/cf.errors.ie.css\" /><![endif]-->\\n<style>body{margin:0;padding:0}</style>\\n\\n\\n<!--[if gte IE 10]><!-->\\n<script>\\n  if (!navigator.cookieEnabled) {\\n    window.addEventListener(\\'DOMContentLoaded\\', function () {\\n      var cookieEl = document.getElementById(\\'cookie-alert\\');\\n      cookieEl.style.display = \\'block\\';\\n    })\\n  }\\n</script>\\n<!--<![endif]-->\\n\\n\\n</head>\\n<body>\\n  <div id=\"cf-wrapper\">\\n    <div class=\"cf-alert cf-alert-error cf-cookie-error\" id=\"cookie-alert\" data-translate=\"enable_cookies\">Please enable cookies.</div>\\n    <div id=\"cf-error-details\" class=\"cf-error-details-wrapper\">\\n      <div class=\"cf-wrapper cf-header cf-error-overview\">\\n        <h1 data-translate=\"block_headline\">Sorry, you have been blocked</h1>\\n        <h2 class=\"cf-subheadline\"><span data-translate=\"unable_to_access\">You are unable to access</span> lkpp.go.id</h2>\\n      </div><!-- /.header -->\\n\\n      <div class=\"cf-section cf-highlight\">\\n        <div class=\"cf-wrapper\">\\n          <div class=\"cf-screenshot-container cf-screenshot-full\">\\n            \\n              <span class=\"cf-no-screenshot error\"></span>\\n            \\n          </div>\\n        </div>\\n      </div><!-- /.captcha-container -->\\n\\n      <div class=\"cf-section cf-wrapper\">\\n        <div class=\"cf-columns two\">\\n          <div class=\"cf-column\">\\n            <h2 data-translate=\"blocked_why_headline\">Why have I been blocked?</h2>\\n\\n            <p data-translate=\"blocked_why_detail\">This website is using a security service to protect itself from online attacks. The action you just performed triggered the security solution. There are several actions that could trigger this block including submitting a certain word or phrase, a SQL command or malformed data.</p>\\n          </div>\\n\\n          <div class=\"cf-column\">\\n            <h2 data-translate=\"blocked_resolve_headline\">What can I do to resolve this?</h2>\\n\\n            <p data-translate=\"blocked_resolve_detail\">You can email the site owner to let them know you were blocked. Please include what you were doing when this page came up and the Cloudflare Ray ID found at the bottom of this page.</p>\\n          </div>\\n        </div>\\n      </div><!-- /.section -->\\n\\n      <div class=\"cf-error-footer cf-wrapper w-240 lg:w-full py-10 sm:py-4 sm:px-8 mx-auto text-center sm:text-left border-solid border-0 border-t border-gray-300\">\\n  <p class=\"text-13\">\\n    <span class=\"cf-footer-item sm:block sm:mb-1\">Cloudflare Ray ID: <strong class=\"font-semibold\">84d5ab6bfcc45506</strong></span>\\n    <span class=\"cf-footer-separator sm:hidden\">&bull;</span>\\n    <span id=\"cf-footer-item-ip\" class=\"cf-footer-item hidden sm:block sm:mb-1\">\\n      Your IP:\\n      <button type=\"button\" id=\"cf-footer-ip-reveal\" class=\"cf-footer-ip-reveal-btn\">Click to reveal</button>\\n      <span class=\"hidden\" id=\"cf-footer-ip\">103.87.59.55</span>\\n      <span class=\"cf-footer-separator sm:hidden\">&bull;</span>\\n    </span>\\n    <span class=\"cf-footer-item sm:block sm:mb-1\"><span>Performance &amp; security by</span> <a rel=\"noopener noreferrer\" href=\"https://www.cloudflare.com/5xx-error-landing\" id=\"brand_link\" target=\"_blank\">Cloudflare</a></span>\\n    \\n  </p>\\n  <script>(function(){function d(){var b=a.getElementById(\"cf-footer-item-ip\"),c=a.getElementById(\"cf-footer-ip-reveal\");b&&\"classList\"in b&&(b.classList.remove(\"hidden\"),c.addEventListener(\"click\",function(){c.classList.add(\"hidden\");a.getElementById(\"cf-footer-ip\").classList.remove(\"hidden\")}))}var a=document;document.addEventListener&&a.addEventListener(\"DOMContentLoaded\",d)})();</script>\\n</div><!-- /.error-footer -->\\n\\n\\n    </div><!-- /#cf-error-details -->\\n  </div><!-- /#cf-wrapper -->\\n\\n  <script>\\n  window._cf_translation = {};\\n  \\n  \\n</script>\\n\\n<script>(function(){var js = \"window[\\'__CF$cv$params\\']={r:\\'84d5ab6bfcc45506\\',t:\\'MTcwNjU3NTI5MC4yNDQwMDA=\\'};_cpo=document.createElement(\\'script\\');_cpo.nonce=\\'\\',_cpo.src=\\'/cdn-cgi/challenge-platform/scripts/jsd/main.js\\',document.getElementsByTagName(\\'head\\')[0].appendChild(_cpo);\";var _0xh = document.createElement(\\'iframe\\');_0xh.height = 1;_0xh.width = 1;_0xh.style.position = \\'absolute\\';_0xh.style.top = 0;_0xh.style.left = 0;_0xh.style.border = \\'none\\';_0xh.style.visibility = \\'hidden\\';document.body.appendChild(_0xh);function handler() {var _0xi = _0xh.contentDocument || _0xh.contentWindow.document;if (_0xi) {var _0xj = _0xi.createElement(\\'script\\');_0xj.innerHTML = js;_0xi.getElementsByTagName(\\'head\\')[0].appendChild(_0xj);}}if (document.readyState !== \\'loading\\') {handler();} else if (window.addEventListener) {document.addEventListener(\\'DOMContentLoaded\\', handler);} else {var prev = document.onreadystatechange || function () {};document.onreadystatechange = function (e) {prev(e);if (document.readyState !== \\'loading\\') {document.onreadystatechange = prev;handler();}};}})();</script><script defer src=\"https://static.cloudflareinsights.com/beacon.min.js/v84a3a4012de94ce1a686ba8c167c359c1696973893317\" integrity=\"sha512-euoFGowhlaLqXsPWQ48qSkBSCFs3DPRyiwVu3FjR96cMPx+Fr+gpWRhIafcHwqwCqWS42RZhIudOvEI+Ckf6MA==\" data-cf-beacon=\\'{\"rayId\":\"84d5ab6bfcc45506\",\"b\":1,\"version\":\"2024.1.0\",\"token\":\"abed2acbc5e94e58a6f266a2f51452e8\"}\\' crossorigin=\"anonymous\"></script>\\n</body>\\n</html>\\n'"
      ]
     },
     "execution_count": 117,
     "metadata": {},
     "output_type": "execute_result"
    }
   ],
   "source": [
    "response.text"
   ]
  },
  {
   "cell_type": "code",
   "execution_count": 110,
   "id": "45cc8a9a",
   "metadata": {},
   "outputs": [
    {
     "data": {
      "text/plain": [
       "[]"
      ]
     },
     "execution_count": 110,
     "metadata": {},
     "output_type": "execute_result"
    }
   ],
   "source": [
    "soup = BeautifulSoup(response.text)\n",
    "device_params = soup.find_all('div', {'class':'detail-item'})\n",
    "device_params"
   ]
  },
  {
   "cell_type": "code",
   "execution_count": 128,
   "id": "aa592029",
   "metadata": {},
   "outputs": [
    {
     "data": {
      "text/plain": [
       "[{'href': '/katalog/produk/detail/57701844?lang=id&type=general'},\n",
       " {'href': '/katalog/produk/detail/58712500?lang=id&type=general'},\n",
       " {'href': '/katalog/produk/detail/58715631?lang=id&type=general'},\n",
       " {'href': '/katalog/produk/detail/76012058?lang=id&type=regency'},\n",
       " {'href': '/katalog/produk/detail/76011480?lang=id&type=regency'},\n",
       " {'href': '/katalog/produk/detail/76016089?lang=id&type=regency'},\n",
       " {'href': '/katalog/produk/detail/76012392?lang=id&type=regency'},\n",
       " {'href': '/katalog/produk/detail/76012661?lang=id&type=regency'},\n",
       " {'href': '/katalog/produk/detail/76016259?lang=id&type=regency'},\n",
       " {'href': '/katalog/produk/detail/44418582?lang=id&type=general'},\n",
       " {'href': '/katalog/produk/detail/1464202?lang=id&type=general'},\n",
       " {'href': '/katalog/produk/detail/1464193?lang=id&type=general'},\n",
       " {'href': '/katalog/produk/detail/2994611?lang=id&type=general'},\n",
       " {'href': '/katalog/produk/detail/2995177?lang=id&type=general'},\n",
       " {'href': '/katalog/produk/detail/2239722?lang=id&type=general'},\n",
       " {'href': '/katalog/produk/detail/1402687?lang=id&type=general'},\n",
       " {'href': '/katalog/produk/detail/56127126?lang=id&type=general'},\n",
       " {'href': '/katalog/produk/detail/56086833?lang=id&type=general'},\n",
       " {'href': '/katalog/produk/detail/75768351?lang=id&type=general'},\n",
       " {'href': '/katalog/produk/detail/73187244?lang=id&type=general'},\n",
       " {'href': '/katalog/produk/detail/73188588?lang=id&type=general'},\n",
       " {'href': '/katalog/produk/detail/72838505?lang=id&type=general'},\n",
       " {'href': '/katalog/produk/detail/72912963?lang=id&type=general'},\n",
       " {'href': '/katalog/produk/detail/72918157?lang=id&type=general'},\n",
       " {'href': '/katalog/produk/detail/54995390?lang=id&type=general'},\n",
       " {'href': '/katalog/produk/detail/53853338?lang=id&type=general'},\n",
       " {'href': '/katalog/produk/detail/53878118?lang=id&type=general'},\n",
       " {'href': '/katalog/produk/detail/53877063?lang=id&type=general'},\n",
       " {'href': '/katalog/produk/detail/57437342?lang=id&type=general'},\n",
       " {'href': '/katalog/produk/detail/57436294?lang=id&type=general'},\n",
       " {'href': '/katalog/produk/detail/57437018?lang=id&type=general'},\n",
       " {'href': '/katalog/produk/detail/57437225?lang=id&type=general'},\n",
       " {'href': '/katalog/produk/detail/57436126?lang=id&type=general'},\n",
       " {'href': '/katalog/produk/detail/57435996?lang=id&type=general'},\n",
       " {'href': '/katalog/produk/detail/57436419?lang=id&type=general'},\n",
       " {'href': '/katalog/produk/detail/57436727?lang=id&type=general'},\n",
       " {'href': '/katalog/produk/detail/57436829?lang=id&type=general'},\n",
       " {'href': '/katalog/produk/detail/57436654?lang=id&type=general'},\n",
       " {'href': '/katalog/produk/detail/76831198?lang=id&type=regency'},\n",
       " {'href': '/katalog/produk/detail/74600646?lang=id&type=regency'},\n",
       " {'href': '/katalog/produk/detail/74613809?lang=id&type=regency'},\n",
       " {'href': '/katalog/produk/detail/74613882?lang=id&type=regency'},\n",
       " {'href': '/katalog/produk/detail/74613909?lang=id&type=regency'},\n",
       " {'href': '/katalog/produk/detail/74638929?lang=id&type=regency'},\n",
       " {'href': '/katalog/produk/detail/74639727?lang=id&type=province'},\n",
       " {'href': '/katalog/produk/detail/74707829?lang=id&type=regency'},\n",
       " {'href': '/katalog/produk/detail/74708254?lang=id&type=regency'},\n",
       " {'href': '/katalog/produk/detail/56714150?lang=id&type=general'},\n",
       " {'href': '/katalog/produk/detail/56714152?lang=id&type=general'},\n",
       " {'href': '/katalog/produk/detail/56714153?lang=id&type=general'},\n",
       " {'href': '/katalog/produk/detail/56714159?lang=id&type=general'},\n",
       " {'href': '/katalog/produk/detail/56713954?lang=id&type=general'},\n",
       " {'href': '/katalog/produk/detail/56714190?lang=id&type=general'},\n",
       " {'href': '/katalog/produk/detail/56714202?lang=id&type=general'},\n",
       " {'href': '/katalog/produk/detail/56714208?lang=id&type=general'},\n",
       " {'href': '/katalog/produk/detail/56714214?lang=id&type=general'},\n",
       " {'href': '/katalog/produk/detail/56714220?lang=id&type=general'},\n",
       " {'href': '/katalog/produk/detail/56714226?lang=id&type=general'},\n",
       " {'href': '/katalog/produk/detail/56714232?lang=id&type=general'},\n",
       " {'href': '/katalog/produk/detail/56714238?lang=id&type=general'},\n",
       " {'href': '/katalog/produk/detail/56714244?lang=id&type=general'},\n",
       " {'href': '/katalog/produk/detail/56714250?lang=id&type=general'},\n",
       " {'href': '/katalog/produk/detail/56689391?lang=id&type=general'},\n",
       " {'href': '/katalog/produk/detail/56689570?lang=id&type=general'},\n",
       " {'href': '/katalog/produk/detail/56688473?lang=id&type=general'},\n",
       " {'href': '/katalog/produk/detail/56688618?lang=id&type=general'},\n",
       " {'href': '/katalog/produk/detail/56688630?lang=id&type=general'},\n",
       " {'href': '/katalog/produk/detail/56688668?lang=id&type=general'},\n",
       " {'href': '/katalog/produk/detail/56688702?lang=id&type=general'},\n",
       " {'href': '/katalog/produk/detail/56688736?lang=id&type=general'},\n",
       " {'href': '/katalog/produk/detail/56688827?lang=id&type=general'},\n",
       " {'href': '/katalog/produk/detail/56688881?lang=id&type=general'},\n",
       " {'href': '/katalog/produk/detail/56688906?lang=id&type=general'},\n",
       " {'href': '/katalog/produk/detail/56689022?lang=id&type=general'},\n",
       " {'href': '/katalog/produk/detail/56689086?lang=id&type=general'},\n",
       " {'href': '/katalog/produk/detail/56689130?lang=id&type=general'},\n",
       " {'href': '/katalog/produk/detail/56689148?lang=id&type=general'},\n",
       " {'href': '/katalog/produk/detail/56714255?lang=id&type=general'},\n",
       " {'href': '/katalog/produk/detail/56714260?lang=id&type=general'},\n",
       " {'href': '/katalog/produk/detail/56714262?lang=id&type=general'},\n",
       " {'href': '/katalog/produk/detail/56714268?lang=id&type=general'},\n",
       " {'href': '/katalog/produk/detail/56714274?lang=id&type=general'},\n",
       " {'href': '/katalog/produk/detail/56714280?lang=id&type=general'},\n",
       " {'href': '/katalog/produk/detail/56714291?lang=id&type=general'},\n",
       " {'href': '/katalog/produk/detail/56714292?lang=id&type=general'},\n",
       " {'href': '/katalog/produk/detail/56714302?lang=id&type=general'},\n",
       " {'href': '/katalog/produk/detail/56689175?lang=id&type=general'},\n",
       " {'href': '/katalog/produk/detail/56689187?lang=id&type=general'},\n",
       " {'href': '/katalog/produk/detail/56714100?lang=id&type=general'},\n",
       " {'href': '/katalog/produk/detail/56714106?lang=id&type=general'},\n",
       " {'href': '/katalog/produk/detail/56714110?lang=id&type=general'},\n",
       " {'href': '/katalog/produk/detail/56714116?lang=id&type=general'},\n",
       " {'href': '/katalog/produk/detail/56689574?lang=id&type=general'},\n",
       " {'href': '/katalog/produk/detail/56689692?lang=id&type=general'},\n",
       " {'href': '/katalog/produk/detail/56689758?lang=id&type=general'},\n",
       " {'href': '/katalog/produk/detail/56689788?lang=id&type=general'},\n",
       " {'href': '/katalog/produk/detail/56689814?lang=id&type=general'},\n",
       " {'href': '/katalog/produk/detail/56713940?lang=id&type=general'},\n",
       " {'href': '/katalog/produk/detail/56713966?lang=id&type=general'},\n",
       " {'href': '/katalog/produk/detail/56714122?lang=id&type=general'},\n",
       " {'href': '/katalog/produk/detail/56714128?lang=id&type=general'},\n",
       " {'href': '/katalog/produk/detail/56714130?lang=id&type=general'},\n",
       " {'href': '/katalog/produk/detail/56714135?lang=id&type=general'},\n",
       " {'href': '/katalog/produk/detail/56714138?lang=id&type=general'},\n",
       " {'href': '/katalog/produk/detail/56714144?lang=id&type=general'},\n",
       " {'href': '/katalog/produk/detail/56714164?lang=id&type=general'},\n",
       " {'href': '/katalog/produk/detail/56714168?lang=id&type=general'},\n",
       " {'href': '/katalog/produk/detail/56714174?lang=id&type=general'},\n",
       " {'href': '/katalog/produk/detail/56714177?lang=id&type=general'},\n",
       " {'href': '/katalog/produk/detail/56714178?lang=id&type=general'},\n",
       " {'href': '/katalog/produk/detail/56714298?lang=id&type=general'},\n",
       " {'href': '/katalog/produk/detail/56713960?lang=id&type=general'},\n",
       " {'href': '/katalog/produk/detail/2797408?lang=id&type=general'},\n",
       " {'href': '/katalog/produk/detail/74872027?lang=id&type=regency'},\n",
       " {'href': '/katalog/produk/detail/72857636?lang=id&type=general'},\n",
       " {'href': '/katalog/produk/detail/72858175?lang=id&type=general'},\n",
       " {'href': '/katalog/produk/detail/74290815?lang=id&type=regency'},\n",
       " {'href': '/katalog/produk/detail/74290837?lang=id&type=regency'},\n",
       " {'href': '/katalog/produk/detail/49881260?lang=id&type=regency'},\n",
       " {'href': '/katalog/produk/detail/49890927?lang=id&type=regency'},\n",
       " {'href': '/katalog/produk/detail/76572786?lang=id&type=regency'},\n",
       " {'href': '/katalog/produk/detail/76572975?lang=id&type=regency'},\n",
       " {'href': '/katalog/produk/detail/76481787?lang=id&type=regency'},\n",
       " {'href': '/katalog/produk/detail/76481899?lang=id&type=regency'},\n",
       " {'href': '/katalog/produk/detail/53863976?lang=id&type=regency'},\n",
       " {'href': '/katalog/produk/detail/76167077?lang=id&type=regency'},\n",
       " {'href': '/katalog/produk/detail/71351913?lang=id&type=regency'},\n",
       " {'href': '/katalog/produk/detail/71353353?lang=id&type=regency'},\n",
       " {'href': '/katalog/produk/detail/51322609?lang=id&type=regency'},\n",
       " {'href': '/katalog/produk/detail/50200462?lang=id&type=regency'},\n",
       " {'href': '/katalog/produk/detail/56048949?lang=id&type=regency'},\n",
       " {'href': '/katalog/produk/detail/76748222?lang=id&type=regency'},\n",
       " {'href': '/katalog/produk/detail/53620594?lang=id&type=regency'},\n",
       " {'href': '/katalog/produk/detail/53621152?lang=id&type=regency'},\n",
       " {'href': '/katalog/produk/detail/76757760?lang=id&type=regency'},\n",
       " {'href': '/katalog/produk/detail/53863028?lang=id&type=regency'},\n",
       " {'href': '/katalog/produk/detail/76360263?lang=id&type=regency'},\n",
       " {'href': '/katalog/produk/detail/66122780?lang=id&type=regency'},\n",
       " {'href': '/katalog/produk/detail/66131299?lang=id&type=regency'},\n",
       " {'href': '/katalog/produk/detail/76790268?lang=id&type=regency'},\n",
       " {'href': '/katalog/produk/detail/76638779?lang=id&type=regency'},\n",
       " {'href': '/katalog/produk/detail/75878246?lang=id&type=regency'},\n",
       " {'href': '/katalog/produk/detail/50096398?lang=id&type=regency'},\n",
       " {'href': '/katalog/produk/detail/76581535?lang=id&type=regency'},\n",
       " {'href': '/katalog/produk/detail/76482233?lang=id&type=regency'},\n",
       " {'href': '/katalog/produk/detail/74172710?lang=id&type=regency'},\n",
       " {'href': '/katalog/produk/detail/74172424?lang=id&type=regency'},\n",
       " {'href': '/katalog/produk/detail/75469878?lang=id&type=regency'},\n",
       " {'href': '/katalog/produk/detail/75915352?lang=id&type=regency'},\n",
       " {'href': '/katalog/produk/detail/76120825?lang=id&type=general'},\n",
       " {'href': '/katalog/produk/detail/76696664?lang=id&type=regency'},\n",
       " {'href': '/katalog/produk/detail/53469506?lang=id&type=regency'},\n",
       " {'href': '/katalog/produk/detail/61167892?lang=id&type=general'},\n",
       " {'href': '/katalog/produk/detail/50478864?lang=id&type=regency'},\n",
       " {'href': '/katalog/produk/detail/49217415?lang=id&type=regency'},\n",
       " {'href': '/katalog/produk/detail/74188762?lang=id&type=regency'},\n",
       " {'href': '/katalog/produk/detail/74911869?lang=id&type=regency'},\n",
       " {'href': '/katalog/produk/detail/74911649?lang=id&type=regency'},\n",
       " {'href': '/katalog/produk/detail/74167594?lang=id&type=general'},\n",
       " {'href': '/katalog/produk/detail/71693743?lang=id&type=general'},\n",
       " {'href': '/katalog/produk/detail/62026366?lang=id&type=general'},\n",
       " {'href': '/katalog/produk/detail/50228147?lang=id&type=province'},\n",
       " {'href': '/katalog/produk/detail/50232730?lang=id&type=province'},\n",
       " {'href': '/katalog/produk/detail/50240103?lang=id&type=province'},\n",
       " {'href': '/katalog/produk/detail/50272420?lang=id&type=province'},\n",
       " {'href': '/katalog/produk/detail/71740741?lang=id&type=general'},\n",
       " {'href': '/katalog/produk/detail/62018883?lang=id&type=general'},\n",
       " {'href': '/katalog/produk/detail/76858634?lang=id&type=regency'},\n",
       " {'href': '/katalog/produk/detail/76844999?lang=id&type=regency'},\n",
       " {'href': '/katalog/produk/detail/59707214?lang=id&type=regency'},\n",
       " {'href': '/katalog/produk/detail/71744514?lang=id&type=general'},\n",
       " {'href': '/katalog/produk/detail/66839180?lang=id&type=regency'},\n",
       " {'href': '/katalog/produk/detail/52966831?lang=id&type=regency'},\n",
       " {'href': '/katalog/produk/detail/48525463?lang=id&type=regency'},\n",
       " {'href': '/katalog/produk/detail/54818470?lang=id&type=regency'},\n",
       " {'href': '/katalog/produk/detail/71124139?lang=id&type=regency'},\n",
       " {'href': '/katalog/produk/detail/56915844?lang=id&type=regency'},\n",
       " {'href': '/katalog/produk/detail/64313455?lang=id&type=regency'},\n",
       " {'href': '/katalog/produk/detail/76806399?lang=id&type=regency'},\n",
       " {'href': '/katalog/produk/detail/46128516?lang=id&type=regency'},\n",
       " {'href': '/katalog/produk/detail/64332579?lang=id&type=regency'},\n",
       " {'href': '/katalog/produk/detail/60908486?lang=id&type=regency'},\n",
       " {'href': '/katalog/produk/detail/40507017?lang=id&type=regency'},\n",
       " {'href': '/katalog/produk/detail/50361709?lang=id&type=regency'},\n",
       " {'href': '/katalog/produk/detail/72269297?lang=id&type=regency'},\n",
       " {'href': '/katalog/produk/detail/74485017?lang=id&type=regency'},\n",
       " {'href': '/katalog/produk/detail/74485041?lang=id&type=regency'},\n",
       " {'href': '/katalog/produk/detail/74485064?lang=id&type=regency'},\n",
       " {'href': '/katalog/produk/detail/74485080?lang=id&type=regency'},\n",
       " {'href': '/katalog/produk/detail/72420156?lang=id&type=regency'},\n",
       " {'href': '/katalog/produk/detail/73796655?lang=id&type=regency'},\n",
       " {'href': '/katalog/produk/detail/74303952?lang=id&type=regency'},\n",
       " {'href': '/katalog/produk/detail/74303797?lang=id&type=regency'},\n",
       " {'href': '/katalog/produk/detail/72267505?lang=id&type=regency'},\n",
       " {'href': '/katalog/produk/detail/72268905?lang=id&type=regency'},\n",
       " {'href': '/katalog/produk/detail/60332486?lang=id&type=regency'},\n",
       " {'href': '/katalog/produk/detail/53437778?lang=id&type=regency'},\n",
       " {'href': '/katalog/produk/detail/56974273?lang=id&type=regency'},\n",
       " {'href': '/katalog/produk/detail/51116707?lang=id&type=regency'},\n",
       " {'href': '/katalog/produk/detail/70067686?lang=id&type=general'},\n",
       " {'href': '/katalog/produk/detail/59617364?lang=id&type=regency'},\n",
       " {'href': '/katalog/produk/detail/65929468?lang=id&type=regency'},\n",
       " {'href': '/katalog/produk/detail/60790006?lang=id&type=regency'},\n",
       " {'href': '/katalog/produk/detail/60807826?lang=id&type=province'},\n",
       " {'href': '/katalog/produk/detail/76843979?lang=id&type=regency'},\n",
       " {'href': '/katalog/produk/detail/72721367?lang=id&type=regency'},\n",
       " {'href': '/katalog/produk/detail/71263743?lang=id&type=regency'},\n",
       " {'href': '/katalog/produk/detail/74734620?lang=id&type=regency'},\n",
       " {'href': '/katalog/produk/detail/74732860?lang=id&type=regency'},\n",
       " {'href': '/katalog/produk/detail/53385637?lang=id&type=regency'},\n",
       " {'href': '/katalog/produk/detail/54198955?lang=id&type=regency'},\n",
       " {'href': '/katalog/produk/detail/55164350?lang=id&type=regency'},\n",
       " {'href': '/katalog/produk/detail/55240548?lang=id&type=regency'},\n",
       " {'href': '/katalog/produk/detail/55242695?lang=id&type=regency'},\n",
       " {'href': '/katalog/produk/detail/54773173?lang=id&type=regency'},\n",
       " {'href': '/katalog/produk/detail/54721044?lang=id&type=regency'},\n",
       " {'href': '/katalog/produk/detail/54721590?lang=id&type=regency'},\n",
       " {'href': '/katalog/produk/detail/54721924?lang=id&type=regency'},\n",
       " {'href': '/katalog/produk/detail/56415114?lang=id&type=general'},\n",
       " {'href': '/katalog/produk/detail/56425205?lang=id&type=regency'},\n",
       " {'href': '/katalog/produk/detail/56605222?lang=id&type=regency'},\n",
       " {'href': '/katalog/produk/detail/57694588?lang=id&type=regency'},\n",
       " {'href': '/katalog/produk/detail/56802704?lang=id&type=regency'},\n",
       " {'href': '/katalog/produk/detail/58034046?lang=id&type=regency'},\n",
       " {'href': '/katalog/produk/detail/70011063?lang=id&type=regency'},\n",
       " {'href': '/katalog/produk/detail/46081291?lang=id&type=province'},\n",
       " {'href': '/katalog/produk/detail/75350289?lang=id&type=regency'},\n",
       " {'href': '/katalog/produk/detail/59017981?lang=id&type=regency'},\n",
       " {'href': '/katalog/produk/detail/59018477?lang=id&type=regency'},\n",
       " {'href': '/katalog/produk/detail/59011337?lang=id&type=regency'},\n",
       " {'href': '/katalog/produk/detail/74371096?lang=id&type=regency'},\n",
       " {'href': '/katalog/produk/detail/72618299?lang=id&type=regency'},\n",
       " {'href': '/katalog/produk/detail/72619503?lang=id&type=regency'},\n",
       " {'href': '/katalog/produk/detail/74488043?lang=id&type=regency'},\n",
       " {'href': '/katalog/produk/detail/74488075?lang=id&type=regency'},\n",
       " {'href': '/katalog/produk/detail/73623247?lang=id&type=general'},\n",
       " {'href': '/katalog/produk/detail/74612240?lang=id&type=regency'},\n",
       " {'href': '/katalog/produk/detail/75484578?lang=id&type=regency'},\n",
       " {'href': '/katalog/produk/detail/64129229?lang=id&type=regency'},\n",
       " {'href': '/katalog/produk/detail/46850737?lang=id&type=regency'},\n",
       " {'href': '/katalog/produk/detail/46850905?lang=id&type=regency'},\n",
       " {'href': '/katalog/produk/detail/46851168?lang=id&type=regency'},\n",
       " {'href': '/katalog/produk/detail/51451399?lang=id&type=regency'},\n",
       " {'href': '/katalog/produk/detail/47950770?lang=id&type=regency'},\n",
       " {'href': '/katalog/produk/detail/52586301?lang=id&type=regency'},\n",
       " {'href': '/katalog/produk/detail/50115096?lang=id&type=regency'},\n",
       " {'href': '/katalog/produk/detail/60283266?lang=id&type=regency'},\n",
       " {'href': '/katalog/produk/detail/61616739?lang=id&type=regency'},\n",
       " {'href': '/katalog/produk/detail/59033365?lang=id&type=regency'},\n",
       " {'href': '/katalog/produk/detail/53899012?lang=id&type=regency'},\n",
       " {'href': '/katalog/produk/detail/54720547?lang=id&type=regency'},\n",
       " {'href': '/katalog/produk/detail/55128073?lang=id&type=regency'},\n",
       " {'href': '/katalog/produk/detail/40470693?lang=id&type=regency'},\n",
       " {'href': '/katalog/produk/detail/53770500?lang=id&type=regency'},\n",
       " {'href': '/katalog/produk/detail/53770901?lang=id&type=regency'},\n",
       " {'href': '/katalog/produk/detail/67340933?lang=id&type=province'},\n",
       " {'href': '/katalog/produk/detail/75940993?lang=id&type=regency'},\n",
       " {'href': '/katalog/produk/detail/51088929?lang=id&type=regency'},\n",
       " {'href': '/katalog/produk/detail/59815121?lang=id&type=regency'},\n",
       " {'href': '/katalog/produk/detail/51645680?lang=id&type=regency'},\n",
       " {'href': '/katalog/produk/detail/52136840?lang=id&type=regency'},\n",
       " {'href': '/katalog/produk/detail/51277828?lang=id&type=regency'},\n",
       " {'href': '/katalog/produk/detail/51278041?lang=id&type=regency'},\n",
       " {'href': '/katalog/produk/detail/67973552?lang=id&type=regency'},\n",
       " {'href': '/katalog/produk/detail/74127469?lang=id&type=regency'},\n",
       " {'href': '/katalog/produk/detail/60086163?lang=id&type=regency'},\n",
       " {'href': '/katalog/produk/detail/61617474?lang=id&type=regency'},\n",
       " {'href': '/katalog/produk/detail/62078803?lang=id&type=regency'},\n",
       " {'href': '/katalog/produk/detail/52442571?lang=id&type=regency'},\n",
       " {'href': '/katalog/produk/detail/55813729?lang=id&type=regency'},\n",
       " {'href': '/katalog/produk/detail/49316747?lang=id&type=regency'},\n",
       " {'href': '/katalog/produk/detail/55576789?lang=id&type=province'},\n",
       " {'href': '/katalog/produk/detail/58833167?lang=id&type=regency'},\n",
       " {'href': '/katalog/produk/detail/69361129?lang=id&type=regency'},\n",
       " {'href': '/katalog/produk/detail/57824955?lang=id&type=regency'},\n",
       " {'href': '/katalog/produk/detail/57826363?lang=id&type=regency'},\n",
       " {'href': '/katalog/produk/detail/57827041?lang=id&type=regency'},\n",
       " {'href': '/katalog/produk/detail/57827718?lang=id&type=regency'},\n",
       " {'href': '/katalog/produk/detail/61491243?lang=id&type=general'},\n",
       " {'href': '/katalog/produk/detail/76483957?lang=id&type=regency'},\n",
       " {'href': '/katalog/produk/detail/74942527?lang=id&type=regency'},\n",
       " {'href': '/katalog/produk/detail/76674256?lang=id&type=regency'},\n",
       " {'href': '/katalog/produk/detail/74187641?lang=id&type=province'},\n",
       " {'href': '/katalog/produk/detail/74413359?lang=id&type=regency'},\n",
       " {'href': '/katalog/produk/detail/58073295?lang=id&type=general'},\n",
       " {'href': '/katalog/produk/detail/64464858?lang=id&type=regency'},\n",
       " {'href': '/katalog/produk/detail/60129915?lang=id&type=province'},\n",
       " {'href': '/katalog/produk/detail/51451104?lang=id&type=regency'},\n",
       " {'href': '/katalog/produk/detail/51451712?lang=id&type=regency'},\n",
       " {'href': '/katalog/produk/detail/51278517?lang=id&type=regency'},\n",
       " {'href': '/katalog/produk/detail/62530253?lang=id&type=regency'},\n",
       " {'href': '/katalog/produk/detail/76879720?lang=id&type=regency'},\n",
       " {'href': '/katalog/produk/detail/71412023?lang=id&type=general'},\n",
       " {'href': '/katalog/produk/detail/59298837?lang=id&type=regency'},\n",
       " {'href': '/katalog/produk/detail/56814237?lang=id&type=regency'},\n",
       " {'href': '/katalog/produk/detail/54095790?lang=id&type=regency'},\n",
       " {'href': '/katalog/produk/detail/75342249?lang=id&type=regency'},\n",
       " {'href': '/katalog/produk/detail/54508246?lang=id&type=regency'},\n",
       " {'href': '/katalog/produk/detail/59633814?lang=id&type=regency'},\n",
       " {'href': '/katalog/produk/detail/48380493?lang=id&type=regency'},\n",
       " {'href': '/katalog/produk/detail/50449825?lang=id&type=regency'},\n",
       " {'href': '/katalog/produk/detail/76108991?lang=id&type=regency'},\n",
       " {'href': '/katalog/produk/detail/36889662?lang=id&type=general'},\n",
       " {'href': '/katalog/produk/detail/76179176?lang=id&type=regency'},\n",
       " {'href': '/katalog/produk/detail/76723895?lang=id&type=regency'},\n",
       " {'href': '/katalog/produk/detail/76723463?lang=id&type=regency'},\n",
       " {'href': '/katalog/produk/detail/47467304?lang=id&type=regency'},\n",
       " {'href': '/katalog/produk/detail/63417021?lang=id&type=regency'},\n",
       " {'href': '/katalog/produk/detail/59712872?lang=id&type=regency'},\n",
       " {'href': '/katalog/produk/detail/59819777?lang=id&type=regency'},\n",
       " {'href': '/katalog/produk/detail/59820249?lang=id&type=regency'},\n",
       " {'href': '/katalog/produk/detail/59821307?lang=id&type=regency'},\n",
       " {'href': '/katalog/produk/detail/58004672?lang=id&type=regency'},\n",
       " {'href': '/katalog/produk/detail/73057618?lang=id&type=general'},\n",
       " {'href': '/katalog/produk/detail/66899388?lang=id&type=regency'},\n",
       " {'href': '/katalog/produk/detail/74957416?lang=id&type=regency'},\n",
       " {'href': '/katalog/produk/detail/76868148?lang=id&type=regency'},\n",
       " {'href': '/katalog/produk/detail/76879473?lang=id&type=regency'},\n",
       " {'href': '/katalog/produk/detail/60264283?lang=id&type=regency'},\n",
       " {'href': '/katalog/produk/detail/70420108?lang=id&type=regency'},\n",
       " {'href': '/katalog/produk/detail/55334178?lang=id&type=regency'},\n",
       " {'href': '/katalog/produk/detail/76676233?lang=id&type=regency'},\n",
       " {'href': '/katalog/produk/detail/76678260?lang=id&type=regency'},\n",
       " {'href': '/katalog/produk/detail/76724439?lang=id&type=regency'},\n",
       " {'href': '/katalog/produk/detail/76724266?lang=id&type=regency'},\n",
       " {'href': '/katalog/produk/detail/76723380?lang=id&type=regency'},\n",
       " {'href': '/katalog/produk/detail/76706992?lang=id&type=regency'},\n",
       " {'href': '/katalog/produk/detail/76706888?lang=id&type=regency'},\n",
       " {'href': '/katalog/produk/detail/52403159?lang=id&type=regency'},\n",
       " {'href': '/katalog/produk/detail/75381404?lang=id&type=regency'},\n",
       " {'href': '/katalog/produk/detail/52909448?lang=id&type=regency'},\n",
       " {'href': '/katalog/produk/detail/76653305?lang=id&type=regency'},\n",
       " {'href': '/katalog/produk/detail/76653422?lang=id&type=regency'},\n",
       " {'href': '/katalog/produk/detail/76523424?lang=id&type=general'},\n",
       " {'href': '/katalog/produk/detail/75028516?lang=id&type=regency'},\n",
       " {'href': '/katalog/produk/detail/50366542?lang=id&type=regency'},\n",
       " {'href': '/katalog/produk/detail/51581259?lang=id&type=regency'},\n",
       " {'href': '/katalog/produk/detail/55998492?lang=id&type=regency'},\n",
       " {'href': '/katalog/produk/detail/76173866?lang=id&type=regency'},\n",
       " {'href': '/katalog/produk/detail/76200249?lang=id&type=regency'},\n",
       " {'href': '/katalog/produk/detail/59304633?lang=id&type=regency'},\n",
       " {'href': '/katalog/produk/detail/75987290?lang=id&type=regency'},\n",
       " {'href': '/katalog/produk/detail/60588816?lang=id&type=regency'},\n",
       " {'href': '/katalog/produk/detail/59544810?lang=id&type=regency'},\n",
       " {'href': '/katalog/produk/detail/54243280?lang=id&type=regency'},\n",
       " {'href': '/katalog/produk/detail/57239565?lang=id&type=regency'},\n",
       " {'href': '/katalog/produk/detail/75347830?lang=id&type=regency'},\n",
       " {'href': '/katalog/produk/detail/75379094?lang=id&type=regency'},\n",
       " {'href': '/katalog/produk/detail/53440693?lang=id&type=regency'},\n",
       " {'href': '/katalog/produk/detail/54738261?lang=id&type=regency'},\n",
       " {'href': '/katalog/produk/detail/54584219?lang=id&type=regency'},\n",
       " {'href': '/katalog/produk/detail/56091173?lang=id&type=province'},\n",
       " {'href': '/katalog/produk/detail/56093944?lang=id&type=province'},\n",
       " {'href': '/katalog/produk/detail/56448240?lang=id&type=regency'},\n",
       " {'href': '/katalog/produk/detail/56097871?lang=id&type=province'},\n",
       " {'href': '/katalog/produk/detail/56096324?lang=id&type=province'},\n",
       " {'href': '/katalog/produk/detail/56097300?lang=id&type=province'},\n",
       " {'href': '/katalog/produk/detail/56102435?lang=id&type=province'},\n",
       " {'href': '/katalog/produk/detail/56103403?lang=id&type=province'},\n",
       " {'href': '/katalog/produk/detail/56104206?lang=id&type=province'},\n",
       " {'href': '/katalog/produk/detail/76155047?lang=id&type=regency'},\n",
       " {'href': '/katalog/produk/detail/56195915?lang=id&type=province'},\n",
       " {'href': '/katalog/produk/detail/47799420?lang=id&type=regency'},\n",
       " {'href': '/katalog/produk/detail/67773625?lang=id&type=general'},\n",
       " {'href': '/katalog/produk/detail/68790095?lang=id&type=general'},\n",
       " {'href': '/katalog/produk/detail/68973215?lang=id&type=regency'},\n",
       " {'href': '/katalog/produk/detail/76339952?lang=id&type=regency'},\n",
       " {'href': '/katalog/produk/detail/50768973?lang=id&type=regency'},\n",
       " {'href': '/katalog/produk/detail/52802038?lang=id&type=regency'},\n",
       " {'href': '/katalog/produk/detail/62175291?lang=id&type=regency'},\n",
       " {'href': '/katalog/produk/detail/76171445?lang=id&type=regency'},\n",
       " {'href': '/katalog/produk/detail/75886204?lang=id&type=province'},\n",
       " {'href': '/katalog/produk/detail/75802885?lang=id&type=regency'},\n",
       " {'href': '/katalog/produk/detail/75185955?lang=id&type=regency'},\n",
       " {'href': '/katalog/produk/detail/75191373?lang=id&type=regency'},\n",
       " {'href': '/katalog/produk/detail/74974071?lang=id&type=regency'},\n",
       " {'href': '/katalog/produk/detail/74974073?lang=id&type=regency'},\n",
       " {'href': '/katalog/produk/detail/74974086?lang=id&type=regency'},\n",
       " {'href': '/katalog/produk/detail/74974088?lang=id&type=regency'},\n",
       " {'href': '/katalog/produk/detail/74974075?lang=id&type=regency'},\n",
       " {'href': '/katalog/produk/detail/74974080?lang=id&type=regency'},\n",
       " {'href': '/katalog/produk/detail/74974084?lang=id&type=regency'},\n",
       " {'href': '/katalog/produk/detail/75093931?lang=id&type=regency'},\n",
       " {'href': '/katalog/produk/detail/59713408?lang=id&type=regency'},\n",
       " {'href': '/katalog/produk/detail/59714167?lang=id&type=regency'},\n",
       " {'href': '/katalog/produk/detail/44406452?lang=id&type=general'},\n",
       " {'href': '/katalog/produk/detail/60576093?lang=id&type=regency'},\n",
       " {'href': '/katalog/produk/detail/76889487?lang=id&type=regency'},\n",
       " {'href': '/katalog/produk/detail/55561323?lang=id&type=regency'},\n",
       " {'href': '/katalog/produk/detail/75365783?lang=id&type=regency'},\n",
       " {'href': '/katalog/produk/detail/75018256?lang=id&type=regency'},\n",
       " {'href': '/katalog/produk/detail/76802503?lang=id&type=regency'},\n",
       " {'href': '/katalog/produk/detail/75992796?lang=id&type=regency'},\n",
       " {'href': '/katalog/produk/detail/76629192?lang=id&type=regency'},\n",
       " {'href': '/katalog/produk/detail/75991247?lang=id&type=regency'},\n",
       " {'href': '/katalog/produk/detail/74895586?lang=id&type=regency'},\n",
       " {'href': '/katalog/produk/detail/74527536?lang=id&type=regency'},\n",
       " {'href': '/katalog/produk/detail/72000246?lang=id&type=regency'},\n",
       " {'href': '/katalog/produk/detail/64360348?lang=id&type=regency'},\n",
       " {'href': '/katalog/produk/detail/76144625?lang=id&type=regency'},\n",
       " {'href': '/katalog/produk/detail/43692559?lang=id&type=regency'},\n",
       " {'href': '/katalog/produk/detail/43693063?lang=id&type=regency'},\n",
       " {'href': '/katalog/produk/detail/75981802?lang=id&type=regency'},\n",
       " {'href': '/katalog/produk/detail/76817678?lang=id&type=regency'},\n",
       " {'href': '/katalog/produk/detail/54951266?lang=id&type=regency'},\n",
       " {'href': '/katalog/produk/detail/54952222?lang=id&type=regency'},\n",
       " {'href': '/katalog/produk/detail/54953100?lang=id&type=regency'},\n",
       " {'href': '/katalog/produk/detail/54586216?lang=id&type=regency'},\n",
       " {'href': '/katalog/produk/detail/54587213?lang=id&type=regency'},\n",
       " {'href': '/katalog/produk/detail/54851117?lang=id&type=regency'},\n",
       " {'href': '/katalog/produk/detail/52108553?lang=id&type=regency'},\n",
       " {'href': '/katalog/produk/detail/52107368?lang=id&type=regency'},\n",
       " {'href': '/katalog/produk/detail/52107810?lang=id&type=regency'},\n",
       " {'href': '/katalog/produk/detail/52108179?lang=id&type=regency'},\n",
       " {'href': '/katalog/produk/detail/39125138?lang=id&type=regency'},\n",
       " {'href': '/katalog/produk/detail/52041539?lang=id&type=regency'},\n",
       " {'href': '/katalog/produk/detail/3893281?lang=id&type=regency'},\n",
       " {'href': '/katalog/produk/detail/3893652?lang=id&type=regency'},\n",
       " {'href': '/katalog/produk/detail/3894126?lang=id&type=regency'},\n",
       " {'href': '/katalog/produk/detail/3894520?lang=id&type=regency'},\n",
       " {'href': '/katalog/produk/detail/52044151?lang=id&type=regency'},\n",
       " {'href': '/katalog/produk/detail/52509065?lang=id&type=general'},\n",
       " {'href': '/katalog/produk/detail/52509253?lang=id&type=general'},\n",
       " {'href': '/katalog/produk/detail/52526844?lang=id&type=general'},\n",
       " {'href': '/katalog/produk/detail/52526982?lang=id&type=general'},\n",
       " {'href': '/katalog/produk/detail/52736920?lang=id&type=general'},\n",
       " {'href': '/katalog/produk/detail/52740716?lang=id&type=general'},\n",
       " {'href': '/katalog/produk/detail/74636198?lang=id&type=regency'},\n",
       " {'href': '/katalog/produk/detail/74410340?lang=id&type=general'},\n",
       " {'href': '/katalog/produk/detail/74410665?lang=id&type=general'},\n",
       " {'href': '/katalog/produk/detail/75173848?lang=id&type=regency'},\n",
       " {'href': '/katalog/produk/detail/74977991?lang=id&type=general'},\n",
       " {'href': '/katalog/produk/detail/61301158?lang=id&type=regency'},\n",
       " {'href': '/katalog/produk/detail/75484648?lang=id&type=regency'},\n",
       " {'href': '/katalog/produk/detail/75391263?lang=id&type=regency'},\n",
       " {'href': '/katalog/produk/detail/71852580?lang=id&type=regency'},\n",
       " {'href': '/katalog/produk/detail/53559527?lang=id&type=regency'},\n",
       " {'href': '/katalog/produk/detail/75578744?lang=id&type=regency'},\n",
       " {'href': '/katalog/produk/detail/54197527?lang=id&type=regency'},\n",
       " {'href': '/katalog/produk/detail/54382599?lang=id&type=regency'},\n",
       " {'href': '/katalog/produk/detail/53804648?lang=id&type=regency'},\n",
       " {'href': '/katalog/produk/detail/53928441?lang=id&type=regency'},\n",
       " {'href': '/katalog/produk/detail/53929244?lang=id&type=regency'},\n",
       " {'href': '/katalog/produk/detail/53928928?lang=id&type=regency'},\n",
       " {'href': '/katalog/produk/detail/53929498?lang=id&type=regency'},\n",
       " {'href': '/katalog/produk/detail/53935947?lang=id&type=regency'},\n",
       " {'href': '/katalog/produk/detail/53936460?lang=id&type=regency'},\n",
       " {'href': '/katalog/produk/detail/53937455?lang=id&type=regency'},\n",
       " {'href': '/katalog/produk/detail/53936913?lang=id&type=regency'},\n",
       " {'href': '/katalog/produk/detail/52754723?lang=id&type=general'},\n",
       " {'href': '/katalog/produk/detail/52509420?lang=id&type=general'},\n",
       " {'href': '/katalog/produk/detail/52526018?lang=id&type=general'},\n",
       " {'href': '/katalog/produk/detail/55004597?lang=id&type=regency'},\n",
       " {'href': '/katalog/produk/detail/53430403?lang=id&type=regency'},\n",
       " {'href': '/katalog/produk/detail/55107583?lang=id&type=regency'},\n",
       " {'href': '/katalog/produk/detail/55188643?lang=id&type=regency'},\n",
       " {'href': '/katalog/produk/detail/55188798?lang=id&type=regency'},\n",
       " {'href': '/katalog/produk/detail/55187545?lang=id&type=regency'},\n",
       " {'href': '/katalog/produk/detail/55188476?lang=id&type=regency'},\n",
       " {'href': '/katalog/produk/detail/55772331?lang=id&type=regency'},\n",
       " {'href': '/katalog/produk/detail/56098630?lang=id&type=province'},\n",
       " {'href': '/katalog/produk/detail/55264761?lang=id&type=regency'},\n",
       " {'href': '/katalog/produk/detail/75915613?lang=id&type=regency'},\n",
       " {'href': '/katalog/produk/detail/75794780?lang=id&type=regency'},\n",
       " {'href': '/katalog/produk/detail/57315482?lang=id&type=regency'},\n",
       " {'href': '/katalog/produk/detail/75283746?lang=id&type=regency'},\n",
       " {'href': '/katalog/produk/detail/75544444?lang=id&type=regency'},\n",
       " {'href': '/katalog/produk/detail/53534921?lang=id&type=regency'},\n",
       " {'href': '/katalog/produk/detail/53475977?lang=id&type=regency'},\n",
       " {'href': '/katalog/produk/detail/3195677?lang=id&type=regency'},\n",
       " {'href': '/katalog/produk/detail/3195679?lang=id&type=regency'},\n",
       " {'href': '/katalog/produk/detail/68826922?lang=id&type=regency'},\n",
       " {'href': '/katalog/produk/detail/52764305?lang=id&type=general'},\n",
       " {'href': '/katalog/produk/detail/52759265?lang=id&type=general'},\n",
       " {'href': '/katalog/produk/detail/52764003?lang=id&type=general'},\n",
       " {'href': '/katalog/produk/detail/52755537?lang=id&type=general'},\n",
       " {'href': '/katalog/produk/detail/52753383?lang=id&type=general'},\n",
       " {'href': '/katalog/produk/detail/52749652?lang=id&type=general'},\n",
       " {'href': '/katalog/produk/detail/53928711?lang=id&type=regency'},\n",
       " {'href': '/katalog/produk/detail/76381780?lang=id&type=regency'},\n",
       " {'href': '/katalog/produk/detail/71259207?lang=id&type=regency'},\n",
       " {'href': '/katalog/produk/detail/71404518?lang=id&type=regency'},\n",
       " {'href': '/katalog/produk/detail/71256915?lang=id&type=regency'},\n",
       " {'href': '/katalog/produk/detail/47442778?lang=id&type=regency'},\n",
       " {'href': '/katalog/produk/detail/3960360?lang=id&type=regency'},\n",
       " {'href': '/katalog/produk/detail/3960380?lang=id&type=regency'},\n",
       " {'href': '/katalog/produk/detail/3960397?lang=id&type=regency'},\n",
       " {'href': '/katalog/produk/detail/3960430?lang=id&type=regency'},\n",
       " {'href': '/katalog/produk/detail/3960474?lang=id&type=regency'},\n",
       " {'href': '/katalog/produk/detail/65959848?lang=id&type=regency'},\n",
       " {'href': '/katalog/produk/detail/66050673?lang=id&type=regency'},\n",
       " {'href': '/katalog/produk/detail/62293135?lang=id&type=regency'},\n",
       " {'href': '/katalog/produk/detail/62141537?lang=id&type=regency'},\n",
       " {'href': '/katalog/produk/detail/76129693?lang=id&type=regency'},\n",
       " {'href': '/katalog/produk/detail/76057459?lang=id&type=regency'},\n",
       " {'href': '/katalog/produk/detail/76057248?lang=id&type=regency'},\n",
       " {'href': '/katalog/produk/detail/75948046?lang=id&type=regency'},\n",
       " {'href': '/katalog/produk/detail/76019933?lang=id&type=regency'},\n",
       " {'href': '/katalog/produk/detail/75792674?lang=id&type=regency'},\n",
       " {'href': '/katalog/produk/detail/75793784?lang=id&type=regency'},\n",
       " {'href': '/katalog/produk/detail/74825824?lang=id&type=regency'},\n",
       " {'href': '/katalog/produk/detail/75017033?lang=id&type=regency'},\n",
       " {'href': '/katalog/produk/detail/74882133?lang=id&type=regency'},\n",
       " {'href': '/katalog/produk/detail/74898252?lang=id&type=regency'},\n",
       " {'href': '/katalog/produk/detail/74882278?lang=id&type=regency'},\n",
       " {'href': '/katalog/produk/detail/75243699?lang=id&type=regency'},\n",
       " {'href': '/katalog/produk/detail/75238760?lang=id&type=regency'},\n",
       " {'href': '/katalog/produk/detail/54723564?lang=id&type=regency'},\n",
       " {'href': '/katalog/produk/detail/55363405?lang=id&type=regency'},\n",
       " {'href': '/katalog/produk/detail/75703240?lang=id&type=regency'},\n",
       " {'href': '/katalog/produk/detail/55462402?lang=id&type=regency'},\n",
       " {'href': '/katalog/produk/detail/76537865?lang=id&type=general'},\n",
       " {'href': '/katalog/produk/detail/74842410?lang=id&type=general'},\n",
       " {'href': '/katalog/produk/detail/74843148?lang=id&type=general'},\n",
       " {'href': '/katalog/produk/detail/74847549?lang=id&type=general'},\n",
       " {'href': '/katalog/produk/detail/74846657?lang=id&type=general'},\n",
       " {'href': '/katalog/produk/detail/76588927?lang=id&type=regency'},\n",
       " {'href': '/katalog/produk/detail/56567798?lang=id&type=general'},\n",
       " {'href': '/katalog/produk/detail/54862055?lang=id&type=regency'},\n",
       " {'href': '/katalog/produk/detail/51872834?lang=id&type=regency'},\n",
       " {'href': '/katalog/produk/detail/51872884?lang=id&type=regency'},\n",
       " {'href': '/katalog/produk/detail/66251370?lang=id&type=regency'},\n",
       " {'href': '/katalog/produk/detail/67606613?lang=id&type=regency'},\n",
       " {'href': '/katalog/produk/detail/49847311?lang=id&type=regency'},\n",
       " {'href': '/katalog/produk/detail/76273758?lang=id&type=regency'},\n",
       " {'href': '/katalog/produk/detail/47136941?lang=id&type=regency'},\n",
       " {'href': '/katalog/produk/detail/76514133?lang=id&type=regency'},\n",
       " {'href': '/katalog/produk/detail/54128839?lang=id&type=regency'},\n",
       " {'href': '/katalog/produk/detail/74889368?lang=id&type=regency'},\n",
       " {'href': '/katalog/produk/detail/75025143?lang=id&type=regency'},\n",
       " {'href': '/katalog/produk/detail/75048129?lang=id&type=province'},\n",
       " {'href': '/katalog/produk/detail/75014502?lang=id&type=regency'},\n",
       " {'href': '/katalog/produk/detail/75039604?lang=id&type=regency'},\n",
       " {'href': '/katalog/produk/detail/74410871?lang=id&type=general'},\n",
       " {'href': '/katalog/produk/detail/74411054?lang=id&type=general'},\n",
       " {'href': '/katalog/produk/detail/74411236?lang=id&type=general'},\n",
       " {'href': '/katalog/produk/detail/74411459?lang=id&type=general'},\n",
       " {'href': '/katalog/produk/detail/74413149?lang=id&type=general'},\n",
       " {'href': '/katalog/produk/detail/74413321?lang=id&type=general'},\n",
       " {'href': '/katalog/produk/detail/75124675?lang=id&type=regency'},\n",
       " {'href': '/katalog/produk/detail/75351721?lang=id&type=regency'},\n",
       " {'href': '/katalog/produk/detail/52303849?lang=id&type=regency'},\n",
       " {'href': '/katalog/produk/detail/75049243?lang=id&type=regency'},\n",
       " {'href': '/katalog/produk/detail/59705432?lang=id&type=regency'},\n",
       " {'href': '/katalog/produk/detail/75727045?lang=id&type=province'},\n",
       " {'href': '/katalog/produk/detail/54824649?lang=id&type=general'},\n",
       " {'href': '/katalog/produk/detail/52754887?lang=id&type=general'},\n",
       " {'href': '/katalog/produk/detail/52753830?lang=id&type=general'},\n",
       " {'href': '/katalog/produk/detail/52754063?lang=id&type=general'},\n",
       " {'href': '/katalog/produk/detail/52758960?lang=id&type=general'},\n",
       " {'href': '/katalog/produk/detail/52762533?lang=id&type=general'},\n",
       " {'href': '/katalog/produk/detail/52762893?lang=id&type=general'},\n",
       " {'href': '/katalog/produk/detail/76169310?lang=id&type=province'},\n",
       " {'href': '/katalog/produk/detail/76194362?lang=id&type=regency'},\n",
       " {'href': '/katalog/produk/detail/75982962?lang=id&type=regency'},\n",
       " {'href': '/katalog/produk/detail/76010133?lang=id&type=regency'},\n",
       " {'href': '/katalog/produk/detail/76002613?lang=id&type=province'},\n",
       " {'href': '/katalog/produk/detail/3724483?lang=id&type=regency'},\n",
       " {'href': '/katalog/produk/detail/67605213?lang=id&type=regency'},\n",
       " {'href': '/katalog/produk/detail/74238295?lang=id&type=regency'},\n",
       " {'href': '/katalog/produk/detail/60378078?lang=id&type=regency'},\n",
       " {'href': '/katalog/produk/detail/60614832?lang=id&type=regency'},\n",
       " {'href': '/katalog/produk/detail/60612492?lang=id&type=regency'},\n",
       " {'href': '/katalog/produk/detail/60609274?lang=id&type=regency'},\n",
       " {'href': '/katalog/produk/detail/60465863?lang=id&type=regency'},\n",
       " {'href': '/katalog/produk/detail/57109849?lang=id&type=regency'},\n",
       " {'href': '/katalog/produk/detail/75745202?lang=id&type=regency'},\n",
       " {'href': '/katalog/produk/detail/50922383?lang=id&type=regency'},\n",
       " {'href': '/katalog/produk/detail/50922777?lang=id&type=regency'},\n",
       " {'href': '/katalog/produk/detail/3722172?lang=id&type=regency'},\n",
       " {'href': '/katalog/produk/detail/3724048?lang=id&type=regency'},\n",
       " {'href': '/katalog/produk/detail/3725043?lang=id&type=regency'},\n",
       " {'href': '/katalog/produk/detail/51641390?lang=id&type=regency'},\n",
       " {'href': '/katalog/produk/detail/52508383?lang=id&type=general'},\n",
       " {'href': '/katalog/produk/detail/52509202?lang=id&type=general'},\n",
       " {'href': '/katalog/produk/detail/52509317?lang=id&type=general'},\n",
       " {'href': '/katalog/produk/detail/52526778?lang=id&type=general'},\n",
       " {'href': '/katalog/produk/detail/52526922?lang=id&type=general'},\n",
       " {'href': '/katalog/produk/detail/52739487?lang=id&type=general'},\n",
       " {'href': '/katalog/produk/detail/52756124?lang=id&type=general'},\n",
       " {'href': '/katalog/produk/detail/54825212?lang=id&type=general'},\n",
       " {'href': '/katalog/produk/detail/52526171?lang=id&type=general'},\n",
       " {'href': '/katalog/produk/detail/52526250?lang=id&type=general'},\n",
       " {'href': '/katalog/produk/detail/52526369?lang=id&type=general'},\n",
       " {'href': '/katalog/produk/detail/50922658?lang=id&type=regency'},\n",
       " {'href': '/katalog/produk/detail/54159901?lang=id&type=regency'},\n",
       " {'href': '/katalog/produk/detail/54814779?lang=id&type=general'},\n",
       " {'href': '/katalog/produk/detail/54813911?lang=id&type=general'},\n",
       " {'href': '/katalog/produk/detail/55698489?lang=id&type=regency'},\n",
       " {'href': '/katalog/produk/detail/76151392?lang=id&type=regency'},\n",
       " {'href': '/katalog/produk/detail/61480442?lang=id&type=general'},\n",
       " {'href': '/katalog/produk/detail/75817241?lang=id&type=regency'},\n",
       " {'href': '/katalog/produk/detail/52227767?lang=id&type=regency'},\n",
       " {'href': '/katalog/produk/detail/73295346?lang=id&type=regency'},\n",
       " {'href': '/katalog/produk/detail/76056100?lang=id&type=regency'},\n",
       " {'href': '/katalog/produk/detail/76155351?lang=id&type=regency'},\n",
       " {'href': '/katalog/produk/detail/76236709?lang=id&type=regency'},\n",
       " {'href': '/katalog/produk/detail/67355115?lang=id&type=regency'},\n",
       " {'href': '/katalog/produk/detail/76103734?lang=id&type=regency'},\n",
       " {'href': '/katalog/produk/detail/76104923?lang=id&type=general'},\n",
       " {'href': '/katalog/produk/detail/59583846?lang=id&type=regency'},\n",
       " {'href': '/katalog/produk/detail/51119780?lang=id&type=regency'},\n",
       " {'href': '/katalog/produk/detail/75744930?lang=id&type=regency'},\n",
       " {'href': '/katalog/produk/detail/60741635?lang=id&type=regency'},\n",
       " {'href': '/katalog/produk/detail/76811991?lang=id&type=regency'},\n",
       " {'href': '/katalog/produk/detail/65183311?lang=id&type=regency'},\n",
       " {'href': '/katalog/produk/detail/65511973?lang=id&type=regency'},\n",
       " {'href': '/katalog/produk/detail/55263831?lang=id&type=regency'},\n",
       " {'href': '/katalog/produk/detail/76582579?lang=id&type=regency'},\n",
       " {'href': '/katalog/produk/detail/62612497?lang=id&type=general'},\n",
       " {'href': '/katalog/produk/detail/54849535?lang=id&type=regency'},\n",
       " {'href': '/katalog/produk/detail/57129122?lang=id&type=regency'},\n",
       " {'href': '/katalog/produk/detail/74181194?lang=id&type=general'},\n",
       " {'href': '/katalog/produk/detail/70685715?lang=id&type=province'},\n",
       " {'href': '/katalog/produk/detail/48032666?lang=id&type=regency'},\n",
       " {'href': '/katalog/produk/detail/62616662?lang=id&type=general'},\n",
       " {'href': '/katalog/produk/detail/75474490?lang=id&type=general'},\n",
       " {'href': '/katalog/produk/detail/59706124?lang=id&type=regency'},\n",
       " {'href': '/katalog/produk/detail/59706628?lang=id&type=regency'},\n",
       " {'href': '/katalog/produk/detail/53775201?lang=id&type=regency'},\n",
       " {'href': '/katalog/produk/detail/52933890?lang=id&type=regency'},\n",
       " {'href': '/katalog/produk/detail/54823956?lang=id&type=general'},\n",
       " {'href': '/katalog/produk/detail/54822351?lang=id&type=general'},\n",
       " {'href': '/katalog/produk/detail/54822778?lang=id&type=general'},\n",
       " {'href': '/katalog/produk/detail/54821982?lang=id&type=general'},\n",
       " {'href': '/katalog/produk/detail/54823187?lang=id&type=general'},\n",
       " {'href': '/katalog/produk/detail/55057646?lang=id&type=regency'},\n",
       " {'href': '/katalog/produk/detail/50922728?lang=id&type=regency'},\n",
       " {'href': '/katalog/produk/detail/55060879?lang=id&type=regency'},\n",
       " {'href': '/katalog/produk/detail/54814294?lang=id&type=general'},\n",
       " {'href': '/katalog/produk/detail/54815071?lang=id&type=general'},\n",
       " {'href': '/katalog/produk/detail/54815330?lang=id&type=general'},\n",
       " {'href': '/katalog/produk/detail/54807439?lang=id&type=general'},\n",
       " {'href': '/katalog/produk/detail/54813338?lang=id&type=general'},\n",
       " {'href': '/katalog/produk/detail/54813781?lang=id&type=general'},\n",
       " {'href': '/katalog/produk/detail/45988520?lang=id&type=regency'},\n",
       " {'href': '/katalog/produk/detail/67679832?lang=id&type=regency'},\n",
       " {'href': '/katalog/produk/detail/67683157?lang=id&type=regency'},\n",
       " {'href': '/katalog/produk/detail/67617491?lang=id&type=regency'},\n",
       " {'href': '/katalog/produk/detail/70696635?lang=id&type=regency'},\n",
       " {'href': '/katalog/produk/detail/69476137?lang=id&type=regency'},\n",
       " {'href': '/katalog/produk/detail/76335501?lang=id&type=regency'},\n",
       " {'href': '/katalog/produk/detail/76335555?lang=id&type=regency'},\n",
       " {'href': '/katalog/produk/detail/76305249?lang=id&type=regency'},\n",
       " {'href': '/katalog/produk/detail/53225945?lang=id&type=general'},\n",
       " {'href': '/katalog/produk/detail/61402679?lang=id&type=regency'},\n",
       " {'href': '/katalog/produk/detail/61402469?lang=id&type=regency'},\n",
       " {'href': '/katalog/produk/detail/63238457?lang=id&type=regency'},\n",
       " {'href': '/katalog/produk/detail/76235471?lang=id&type=general'},\n",
       " {'href': '/katalog/produk/detail/75130792?lang=id&type=regency'},\n",
       " {'href': '/katalog/produk/detail/75113645?lang=id&type=province'},\n",
       " {'href': '/katalog/produk/detail/75578188?lang=id&type=regency'},\n",
       " {'href': '/katalog/produk/detail/74411764?lang=id&type=general'},\n",
       " {'href': '/katalog/produk/detail/76800595?lang=id&type=regency'},\n",
       " {'href': '/katalog/produk/detail/54819455?lang=id&type=regency'},\n",
       " {'href': '/katalog/produk/detail/43757454?lang=id&type=regency'},\n",
       " {'href': '/katalog/produk/detail/75089429?lang=id&type=regency'},\n",
       " {'href': '/katalog/produk/detail/48795798?lang=id&type=regency'},\n",
       " {'href': '/katalog/produk/detail/74103742?lang=id&type=regency'},\n",
       " {'href': '/katalog/produk/detail/74085909?lang=id&type=regency'},\n",
       " {'href': '/katalog/produk/detail/59749322?lang=id&type=regency'},\n",
       " {'href': '/katalog/produk/detail/60441459?lang=id&type=regency'},\n",
       " {'href': '/katalog/produk/detail/60463657?lang=id&type=regency'},\n",
       " {'href': '/katalog/produk/detail/62596985?lang=id&type=general'},\n",
       " {'href': '/katalog/produk/detail/62597559?lang=id&type=general'},\n",
       " {'href': '/katalog/produk/detail/67139865?lang=id&type=regency'},\n",
       " {'href': '/katalog/produk/detail/75799456?lang=id&type=regency'},\n",
       " {'href': '/katalog/produk/detail/67684578?lang=id&type=regency'},\n",
       " {'href': '/katalog/produk/detail/76391015?lang=id&type=regency'},\n",
       " {'href': '/katalog/produk/detail/76235640?lang=id&type=general'},\n",
       " {'href': '/katalog/produk/detail/76235955?lang=id&type=general'},\n",
       " {'href': '/katalog/produk/detail/75944230?lang=id&type=general'},\n",
       " {'href': '/katalog/produk/detail/75067551?lang=id&type=regency'},\n",
       " {'href': '/katalog/produk/detail/76886908?lang=id&type=regency'},\n",
       " {'href': '/katalog/produk/detail/3058203?lang=id&type=regency'},\n",
       " {'href': '/katalog/produk/detail/57112335?lang=id&type=regency'},\n",
       " {'href': '/katalog/produk/detail/76575911?lang=id&type=regency'},\n",
       " {'href': '/katalog/produk/detail/75008840?lang=id&type=regency'},\n",
       " {'href': '/katalog/produk/detail/75517759?lang=id&type=regency'},\n",
       " {'href': '/katalog/produk/detail/75638324?lang=id&type=regency'},\n",
       " {'href': '/katalog/produk/detail/75649469?lang=id&type=general'},\n",
       " {'href': '/katalog/produk/detail/76552140?lang=id&type=province'},\n",
       " {'href': '/katalog/produk/detail/55767241?lang=id&type=regency'},\n",
       " {'href': '/katalog/produk/detail/76851854?lang=id&type=regency'},\n",
       " {'href': '/katalog/produk/detail/48392977?lang=id&type=regency'},\n",
       " {'href': '/katalog/produk/detail/53153953?lang=id&type=regency'},\n",
       " {'href': '/katalog/produk/detail/74496585?lang=id&type=province'},\n",
       " {'href': '/katalog/produk/detail/74495096?lang=id&type=province'},\n",
       " {'href': '/katalog/produk/detail/68239028?lang=id&type=regency'},\n",
       " {'href': '/katalog/produk/detail/68688623?lang=id&type=regency'},\n",
       " {'href': '/katalog/produk/detail/75251048?lang=id&type=regency'},\n",
       " {'href': '/katalog/produk/detail/71218251?lang=id&type=regency'},\n",
       " {'href': '/katalog/produk/detail/43687830?lang=id&type=regency'},\n",
       " {'href': '/katalog/produk/detail/75140708?lang=id&type=regency'},\n",
       " {'href': '/katalog/produk/detail/70651457?lang=id&type=regency'},\n",
       " {'href': '/katalog/produk/detail/74990629?lang=id&type=regency'},\n",
       " {'href': '/katalog/produk/detail/60037701?lang=id&type=regency'},\n",
       " {'href': '/katalog/produk/detail/60037337?lang=id&type=regency'},\n",
       " {'href': '/katalog/produk/detail/76267641?lang=id&type=general'},\n",
       " {'href': '/katalog/produk/detail/76267697?lang=id&type=general'},\n",
       " {'href': '/katalog/produk/detail/75908646?lang=id&type=general'},\n",
       " {'href': '/katalog/produk/detail/76139308?lang=id&type=regency'},\n",
       " {'href': '/katalog/produk/detail/76142792?lang=id&type=province'},\n",
       " {'href': '/katalog/produk/detail/75551876?lang=id&type=regency'},\n",
       " {'href': '/katalog/produk/detail/76667725?lang=id&type=general'},\n",
       " {'href': '/katalog/produk/detail/67011997?lang=id&type=regency'},\n",
       " {'href': '/katalog/produk/detail/67043532?lang=id&type=regency'},\n",
       " {'href': '/katalog/produk/detail/76235739?lang=id&type=general'},\n",
       " {'href': '/katalog/produk/detail/75361552?lang=id&type=regency'},\n",
       " {'href': '/katalog/produk/detail/71219307?lang=id&type=regency'},\n",
       " {'href': '/katalog/produk/detail/75468840?lang=id&type=regency'},\n",
       " {'href': '/katalog/produk/detail/74238241?lang=id&type=regency'},\n",
       " {'href': '/katalog/produk/detail/60038053?lang=id&type=regency'},\n",
       " {'href': '/katalog/produk/detail/60038547?lang=id&type=regency'},\n",
       " {'href': '/katalog/produk/detail/76267571?lang=id&type=general'},\n",
       " {'href': '/katalog/produk/detail/66790859?lang=id&type=regency'},\n",
       " {'href': '/katalog/produk/detail/56020904?lang=id&type=regency'},\n",
       " {'href': '/katalog/produk/detail/61980810?lang=id&type=regency'},\n",
       " {'href': '/katalog/produk/detail/51153578?lang=id&type=regency'},\n",
       " {'href': '/katalog/produk/detail/76499697?lang=id&type=regency'},\n",
       " {'href': '/katalog/produk/detail/76452560?lang=id&type=regency'},\n",
       " {'href': '/katalog/produk/detail/60653903?lang=id&type=regency'},\n",
       " {'href': '/katalog/produk/detail/76431593?lang=id&type=regency'},\n",
       " {'href': '/katalog/produk/detail/67501080?lang=id&type=general'},\n",
       " {'href': '/katalog/produk/detail/67502081?lang=id&type=general'},\n",
       " {'href': '/katalog/produk/detail/67527491?lang=id&type=general'},\n",
       " {'href': '/katalog/produk/detail/67529325?lang=id&type=general'},\n",
       " {'href': '/katalog/produk/detail/67508843?lang=id&type=general'},\n",
       " {'href': '/katalog/produk/detail/67175292?lang=id&type=general'},\n",
       " {'href': '/katalog/produk/detail/67176020?lang=id&type=general'},\n",
       " {'href': '/katalog/produk/detail/67514408?lang=id&type=general'},\n",
       " {'href': '/katalog/produk/detail/67174368?lang=id&type=general'},\n",
       " {'href': '/katalog/produk/detail/76765432?lang=id&type=regency'},\n",
       " {'href': '/katalog/produk/detail/75317143?lang=id&type=regency'},\n",
       " {'href': '/katalog/produk/detail/67959160?lang=id&type=general'},\n",
       " {'href': '/katalog/produk/detail/76614407?lang=id&type=regency'},\n",
       " {'href': '/katalog/produk/detail/75979627?lang=id&type=regency'},\n",
       " {'href': '/katalog/produk/detail/75273902?lang=id&type=general'},\n",
       " {'href': '/katalog/produk/detail/76581852?lang=id&type=general'},\n",
       " {'href': '/katalog/produk/detail/76874046?lang=id&type=regency'},\n",
       " {'href': '/katalog/produk/detail/46574088?lang=id&type=regency'},\n",
       " {'href': '/katalog/produk/detail/46604675?lang=id&type=regency'},\n",
       " {'href': '/katalog/produk/detail/46613550?lang=id&type=regency'},\n",
       " {'href': '/katalog/produk/detail/46623095?lang=id&type=regency'},\n",
       " {'href': '/katalog/produk/detail/46661838?lang=id&type=regency'},\n",
       " {'href': '/katalog/produk/detail/67579075?lang=id&type=general'},\n",
       " {'href': '/katalog/produk/detail/71168721?lang=id&type=regency'},\n",
       " {'href': '/katalog/produk/detail/74407242?lang=id&type=regency'},\n",
       " {'href': '/katalog/produk/detail/74412097?lang=id&type=regency'},\n",
       " {'href': '/katalog/produk/detail/74164961?lang=id&type=regency'},\n",
       " {'href': '/katalog/produk/detail/74167917?lang=id&type=regency'},\n",
       " {'href': '/katalog/produk/detail/74167792?lang=id&type=regency'},\n",
       " {'href': '/katalog/produk/detail/74167399?lang=id&type=regency'},\n",
       " {'href': '/katalog/produk/detail/74167585?lang=id&type=regency'},\n",
       " {'href': '/katalog/produk/detail/74166420?lang=id&type=regency'},\n",
       " {'href': '/katalog/produk/detail/74166608?lang=id&type=regency'},\n",
       " {'href': '/katalog/produk/detail/74166770?lang=id&type=regency'},\n",
       " {'href': '/katalog/produk/detail/64169710?lang=id&type=regency'},\n",
       " {'href': '/katalog/produk/detail/64416187?lang=id&type=regency'},\n",
       " {'href': '/katalog/produk/detail/64416397?lang=id&type=regency'},\n",
       " {'href': '/katalog/produk/detail/64428003?lang=id&type=province'},\n",
       " {'href': '/katalog/produk/detail/60148622?lang=id&type=regency'},\n",
       " {'href': '/katalog/produk/detail/60007811?lang=id&type=regency'},\n",
       " {'href': '/katalog/produk/detail/60037619?lang=id&type=regency'},\n",
       " {'href': '/katalog/produk/detail/60963275?lang=id&type=regency'},\n",
       " {'href': '/katalog/produk/detail/55329910?lang=id&type=regency'},\n",
       " {'href': '/katalog/produk/detail/59820785?lang=id&type=regency'},\n",
       " {'href': '/katalog/produk/detail/60759806?lang=id&type=regency'},\n",
       " {'href': '/katalog/produk/detail/60800644?lang=id&type=regency'},\n",
       " {'href': '/katalog/produk/detail/74165954?lang=id&type=regency'},\n",
       " {'href': '/katalog/produk/detail/74164753?lang=id&type=regency'},\n",
       " {'href': '/katalog/produk/detail/74166082?lang=id&type=regency'},\n",
       " {'href': '/katalog/produk/detail/74165617?lang=id&type=regency'},\n",
       " {'href': '/katalog/produk/detail/74168585?lang=id&type=regency'},\n",
       " {'href': '/katalog/produk/detail/74168758?lang=id&type=regency'},\n",
       " {'href': '/katalog/produk/detail/74168660?lang=id&type=regency'},\n",
       " {'href': '/katalog/produk/detail/74619087?lang=id&type=regency'},\n",
       " {'href': '/katalog/produk/detail/74619153?lang=id&type=regency'},\n",
       " {'href': '/katalog/produk/detail/74618751?lang=id&type=regency'},\n",
       " {'href': '/katalog/produk/detail/74618887?lang=id&type=regency'},\n",
       " {'href': '/katalog/produk/detail/74620993?lang=id&type=regency'},\n",
       " {'href': '/katalog/produk/detail/52562671?lang=id&type=regency'},\n",
       " {'href': '/katalog/produk/detail/52313219?lang=id&type=regency'},\n",
       " {'href': '/katalog/produk/detail/51688104?lang=id&type=regency'},\n",
       " {'href': '/katalog/produk/detail/52110041?lang=id&type=regency'},\n",
       " {'href': '/katalog/produk/detail/52368103?lang=id&type=regency'},\n",
       " {'href': '/katalog/produk/detail/52437501?lang=id&type=regency'},\n",
       " {'href': '/katalog/produk/detail/51243202?lang=id&type=regency'},\n",
       " {'href': '/katalog/produk/detail/51243245?lang=id&type=regency'},\n",
       " {'href': '/katalog/produk/detail/51243297?lang=id&type=regency'},\n",
       " {'href': '/katalog/produk/detail/52427766?lang=id&type=regency'},\n",
       " {'href': '/katalog/produk/detail/52357683?lang=id&type=regency'},\n",
       " {'href': '/katalog/produk/detail/51991369?lang=id&type=regency'},\n",
       " {'href': '/katalog/produk/detail/67576303?lang=id&type=general'},\n",
       " {'href': '/katalog/produk/detail/67573321?lang=id&type=general'},\n",
       " {'href': '/katalog/produk/detail/67170574?lang=id&type=general'},\n",
       " {'href': '/katalog/produk/detail/67171267?lang=id&type=general'},\n",
       " {'href': '/katalog/produk/detail/67173962?lang=id&type=general'},\n",
       " {'href': '/katalog/produk/detail/67174634?lang=id&type=general'},\n",
       " {'href': '/katalog/produk/detail/74619352?lang=id&type=regency'},\n",
       " {'href': '/katalog/produk/detail/74619613?lang=id&type=regency'},\n",
       " {'href': '/katalog/produk/detail/74618946?lang=id&type=regency'},\n",
       " {'href': '/katalog/produk/detail/74619027?lang=id&type=regency'},\n",
       " {'href': '/katalog/produk/detail/74621591?lang=id&type=regency'},\n",
       " {'href': '/katalog/produk/detail/74621625?lang=id&type=regency'},\n",
       " {'href': '/katalog/produk/detail/74168215?lang=id&type=regency'},\n",
       " {'href': '/katalog/produk/detail/74168122?lang=id&type=regency'},\n",
       " {'href': '/katalog/produk/detail/74167288?lang=id&type=regency'},\n",
       " {'href': '/katalog/produk/detail/74165453?lang=id&type=regency'},\n",
       " {'href': '/katalog/produk/detail/74166900?lang=id&type=regency'},\n",
       " {'href': '/katalog/produk/detail/74167031?lang=id&type=regency'},\n",
       " {'href': '/katalog/produk/detail/74621746?lang=id&type=regency'},\n",
       " {'href': '/katalog/produk/detail/74657004?lang=id&type=regency'},\n",
       " {'href': '/katalog/produk/detail/54764418?lang=id&type=regency'},\n",
       " {'href': '/katalog/produk/detail/75538184?lang=id&type=regency'},\n",
       " {'href': '/katalog/produk/detail/75538228?lang=id&type=regency'},\n",
       " {'href': '/katalog/produk/detail/75628963?lang=id&type=regency'},\n",
       " {'href': '/katalog/produk/detail/67173269?lang=id&type=general'},\n",
       " {'href': '/katalog/produk/detail/75638691?lang=id&type=general'},\n",
       " {'href': '/katalog/produk/detail/75277053?lang=id&type=regency'},\n",
       " {'href': '/katalog/produk/detail/54072235?lang=id&type=regency'},\n",
       " {'href': '/katalog/produk/detail/54070034?lang=id&type=regency'},\n",
       " {'href': '/katalog/produk/detail/73286176?lang=id&type=regency'},\n",
       " {'href': '/katalog/produk/detail/73811483?lang=id&type=regency'},\n",
       " {'href': '/katalog/produk/detail/74391679?lang=id&type=regency'},\n",
       " {'href': '/katalog/produk/detail/74166268?lang=id&type=regency'},\n",
       " {'href': '/katalog/produk/detail/74165761?lang=id&type=regency'},\n",
       " {'href': '/katalog/produk/detail/73426806?lang=id&type=regency'},\n",
       " {'href': '/katalog/produk/detail/60691466?lang=id&type=regency'},\n",
       " {'href': '/katalog/produk/detail/53268675?lang=id&type=regency'},\n",
       " {'href': '/katalog/produk/detail/53261756?lang=id&type=regency'},\n",
       " {'href': '/katalog/produk/detail/52110412?lang=id&type=regency'},\n",
       " {'href': '/katalog/produk/detail/53588409?lang=id&type=regency'},\n",
       " {'href': '/katalog/produk/detail/51316043?lang=id&type=regency'},\n",
       " {'href': '/katalog/produk/detail/51703724?lang=id&type=regency'},\n",
       " {'href': '/katalog/produk/detail/55185624?lang=id&type=regency'},\n",
       " {'href': '/katalog/produk/detail/55690338?lang=id&type=regency'},\n",
       " {'href': '/katalog/produk/detail/51990894?lang=id&type=regency'},\n",
       " {'href': '/katalog/produk/detail/55930860?lang=id&type=regency'},\n",
       " {'href': '/katalog/produk/detail/54466281?lang=id&type=regency'},\n",
       " {'href': '/katalog/produk/detail/55860707?lang=id&type=regency'},\n",
       " {'href': '/katalog/produk/detail/47162301?lang=id&type=regency'},\n",
       " {'href': '/katalog/produk/detail/47809004?lang=id&type=regency'},\n",
       " {'href': '/katalog/produk/detail/54283252?lang=id&type=regency'},\n",
       " {'href': '/katalog/produk/detail/54294849?lang=id&type=regency'},\n",
       " {'href': '/katalog/produk/detail/54490134?lang=id&type=regency'},\n",
       " {'href': '/katalog/produk/detail/54704759?lang=id&type=regency'},\n",
       " {'href': '/katalog/produk/detail/56289585?lang=id&type=regency'},\n",
       " {'href': '/katalog/produk/detail/56572908?lang=id&type=regency'},\n",
       " {'href': '/katalog/produk/detail/56761313?lang=id&type=regency'},\n",
       " {'href': '/katalog/produk/detail/76322049?lang=id&type=general'},\n",
       " {'href': '/katalog/produk/detail/57702021?lang=id&type=regency'},\n",
       " {'href': '/katalog/produk/detail/57727287?lang=id&type=regency'},\n",
       " {'href': '/katalog/produk/detail/53860701?lang=id&type=regency'},\n",
       " {'href': '/katalog/produk/detail/48134901?lang=id&type=regency'},\n",
       " {'href': '/katalog/produk/detail/52899905?lang=id&type=regency'},\n",
       " {'href': '/katalog/produk/detail/53196703?lang=id&type=regency'},\n",
       " {'href': '/katalog/produk/detail/53197088?lang=id&type=regency'},\n",
       " {'href': '/katalog/produk/detail/52438160?lang=id&type=regency'},\n",
       " {'href': '/katalog/produk/detail/50756777?lang=id&type=regency'},\n",
       " {'href': '/katalog/produk/detail/53019923?lang=id&type=regency'},\n",
       " {'href': '/katalog/produk/detail/53021318?lang=id&type=regency'},\n",
       " {'href': '/katalog/produk/detail/67857093?lang=id&type=regency'},\n",
       " {'href': '/katalog/produk/detail/69826242?lang=id&type=regency'},\n",
       " {'href': '/katalog/produk/detail/69139011?lang=id&type=regency'},\n",
       " {'href': '/katalog/produk/detail/59827793?lang=id&type=general'},\n",
       " {'href': '/katalog/produk/detail/51612150?lang=id&type=regency'},\n",
       " {'href': '/katalog/produk/detail/68171925?lang=id&type=regency'},\n",
       " {'href': '/katalog/produk/detail/69366148?lang=id&type=province'},\n",
       " {'href': '/katalog/produk/detail/69368427?lang=id&type=province'},\n",
       " {'href': '/katalog/produk/detail/69369303?lang=id&type=province'},\n",
       " {'href': '/katalog/produk/detail/69369401?lang=id&type=province'},\n",
       " {'href': '/katalog/produk/detail/69369471?lang=id&type=province'},\n",
       " {'href': '/katalog/produk/detail/69455522?lang=id&type=province'},\n",
       " {'href': '/katalog/produk/detail/69455844?lang=id&type=province'},\n",
       " {'href': '/katalog/produk/detail/69456208?lang=id&type=province'},\n",
       " {'href': '/katalog/produk/detail/69457853?lang=id&type=province'},\n",
       " {'href': '/katalog/produk/detail/69458014?lang=id&type=province'},\n",
       " {'href': '/katalog/produk/detail/69458245?lang=id&type=province'},\n",
       " {'href': '/katalog/produk/detail/69458350?lang=id&type=province'},\n",
       " {'href': '/katalog/produk/detail/69458476?lang=id&type=province'},\n",
       " {'href': '/katalog/produk/detail/69458553?lang=id&type=province'},\n",
       " {'href': '/katalog/produk/detail/69458630?lang=id&type=province'},\n",
       " {'href': '/katalog/produk/detail/69971037?lang=id&type=general'},\n",
       " {'href': '/katalog/produk/detail/69950660?lang=id&type=regency'},\n",
       " {'href': '/katalog/produk/detail/69049698?lang=id&type=province'},\n",
       " {'href': '/katalog/produk/detail/46663436?lang=id&type=regency'},\n",
       " {'href': '/katalog/produk/detail/46841287?lang=id&type=regency'},\n",
       " {'href': '/katalog/produk/detail/46848310?lang=id&type=regency'},\n",
       " {'href': '/katalog/produk/detail/46848331?lang=id&type=regency'},\n",
       " {'href': '/katalog/produk/detail/48249513?lang=id&type=regency'},\n",
       " {'href': '/katalog/produk/detail/48249957?lang=id&type=regency'},\n",
       " {'href': '/katalog/produk/detail/47749159?lang=id&type=regency'},\n",
       " {'href': '/katalog/produk/detail/61228337?lang=id&type=regency'},\n",
       " {'href': '/katalog/produk/detail/50563957?lang=id&type=regency'},\n",
       " {'href': '/katalog/produk/detail/50481253?lang=id&type=regency'},\n",
       " {'href': '/katalog/produk/detail/51185080?lang=id&type=regency'},\n",
       " {'href': '/katalog/produk/detail/51185270?lang=id&type=regency'},\n",
       " {'href': '/katalog/produk/detail/51186134?lang=id&type=regency'},\n",
       " {'href': '/katalog/produk/detail/48222065?lang=id&type=regency'},\n",
       " {'href': '/katalog/produk/detail/49428024?lang=id&type=regency'},\n",
       " {'href': '/katalog/produk/detail/49447491?lang=id&type=regency'},\n",
       " {'href': '/katalog/produk/detail/49498865?lang=id&type=regency'},\n",
       " {'href': '/katalog/produk/detail/47808992?lang=id&type=regency'},\n",
       " {'href': '/katalog/produk/detail/47825639?lang=id&type=regency'},\n",
       " {'href': '/katalog/produk/detail/65311410?lang=id&type=regency'},\n",
       " {'href': '/katalog/produk/detail/65188645?lang=id&type=regency'},\n",
       " {'href': '/katalog/produk/detail/64408725?lang=id&type=regency'},\n",
       " {'href': '/katalog/produk/detail/66313291?lang=id&type=regency'},\n",
       " {'href': '/katalog/produk/detail/65910246?lang=id&type=regency'},\n",
       " {'href': '/katalog/produk/detail/62232943?lang=id&type=regency'},\n",
       " {'href': '/katalog/produk/detail/64823791?lang=id&type=regency'},\n",
       " {'href': '/katalog/produk/detail/64652396?lang=id&type=regency'},\n",
       " {'href': '/katalog/produk/detail/64410825?lang=id&type=regency'},\n",
       " {'href': '/katalog/produk/detail/53035489?lang=id&type=regency'},\n",
       " {'href': '/katalog/produk/detail/76123526?lang=id&type=regency'},\n",
       " {'href': '/katalog/produk/detail/67538460?lang=id&type=general'},\n",
       " {'href': '/katalog/produk/detail/67540924?lang=id&type=general'},\n",
       " {'href': '/katalog/produk/detail/67544753?lang=id&type=general'},\n",
       " {'href': '/katalog/produk/detail/67545719?lang=id&type=general'},\n",
       " {'href': '/katalog/produk/detail/67536864?lang=id&type=general'},\n",
       " {'href': '/katalog/produk/detail/67542065?lang=id&type=general'},\n",
       " {'href': '/katalog/produk/detail/67547406?lang=id&type=general'},\n",
       " {'href': '/katalog/produk/detail/67549240?lang=id&type=general'},\n",
       " {'href': '/katalog/produk/detail/76040925?lang=id&type=regency'},\n",
       " {'href': '/katalog/produk/detail/76040711?lang=id&type=regency'},\n",
       " {'href': '/katalog/produk/detail/76041044?lang=id&type=regency'},\n",
       " {'href': '/katalog/produk/detail/76039583?lang=id&type=regency'},\n",
       " {'href': '/katalog/produk/detail/76040811?lang=id&type=regency'},\n",
       " {'href': '/katalog/produk/detail/76039355?lang=id&type=regency'},\n",
       " {'href': '/katalog/produk/detail/76039707?lang=id&type=regency'},\n",
       " {'href': '/katalog/produk/detail/76039796?lang=id&type=regency'},\n",
       " {'href': '/katalog/produk/detail/76040140?lang=id&type=regency'},\n",
       " {'href': '/katalog/produk/detail/76040245?lang=id&type=regency'},\n",
       " {'href': '/katalog/produk/detail/76040344?lang=id&type=regency'},\n",
       " {'href': '/katalog/produk/detail/76040460?lang=id&type=regency'},\n",
       " {'href': '/katalog/produk/detail/76040575?lang=id&type=regency'},\n",
       " {'href': '/katalog/produk/detail/76039921?lang=id&type=regency'},\n",
       " {'href': '/katalog/produk/detail/76040034?lang=id&type=regency'},\n",
       " {'href': '/katalog/produk/detail/67536010?lang=id&type=general'},\n",
       " {'href': '/katalog/produk/detail/67539153?lang=id&type=general'},\n",
       " {'href': '/katalog/produk/detail/67548127?lang=id&type=general'},\n",
       " {'href': '/katalog/produk/detail/67550595?lang=id&type=general'},\n",
       " {'href': '/katalog/produk/detail/67570787?lang=id&type=general'},\n",
       " {'href': '/katalog/produk/detail/76180144?lang=id&type=general'},\n",
       " {'href': '/katalog/produk/detail/76015826?lang=id&type=general'},\n",
       " {'href': '/katalog/produk/detail/76146539?lang=id&type=general'},\n",
       " {'href': '/katalog/produk/detail/76147226?lang=id&type=general'},\n",
       " {'href': '/katalog/produk/detail/61882124?lang=id&type=regency'},\n",
       " {'href': '/katalog/produk/detail/61389211?lang=id&type=regency'},\n",
       " {'href': '/katalog/produk/detail/59010294?lang=id&type=regency'},\n",
       " {'href': '/katalog/produk/detail/59550519?lang=id&type=province'},\n",
       " {'href': '/katalog/produk/detail/60430611?lang=id&type=regency'},\n",
       " {'href': '/katalog/produk/detail/60518666?lang=id&type=regency'},\n",
       " {'href': '/katalog/produk/detail/61487498?lang=id&type=regency'},\n",
       " {'href': '/katalog/produk/detail/57195295?lang=id&type=regency'},\n",
       " {'href': '/katalog/produk/detail/57308610?lang=id&type=regency'},\n",
       " {'href': '/katalog/produk/detail/57309443?lang=id&type=regency'},\n",
       " {'href': '/katalog/produk/detail/57532599?lang=id&type=regency'},\n",
       " {'href': '/katalog/produk/detail/38894951?lang=id&type=regency'},\n",
       " {'href': '/katalog/produk/detail/74958050?lang=id&type=regency'},\n",
       " {'href': '/katalog/produk/detail/67174998?lang=id&type=general'},\n",
       " {'href': '/katalog/produk/detail/67552104?lang=id&type=general'},\n",
       " {'href': '/katalog/produk/detail/67582155?lang=id&type=general'},\n",
       " {'href': '/katalog/produk/detail/67583058?lang=id&type=general'},\n",
       " {'href': '/katalog/produk/detail/61566942?lang=id&type=regency'},\n",
       " {'href': '/katalog/produk/detail/62719660?lang=id&type=regency'},\n",
       " {'href': '/katalog/produk/detail/48591205?lang=id&type=province'},\n",
       " {'href': '/katalog/produk/detail/63056528?lang=id&type=regency'},\n",
       " {'href': '/katalog/produk/detail/71985364?lang=id&type=general'},\n",
       " {'href': '/katalog/produk/detail/71987730?lang=id&type=general'},\n",
       " {'href': '/katalog/produk/detail/71988808?lang=id&type=general'},\n",
       " {'href': '/katalog/produk/detail/64683126?lang=id&type=general'},\n",
       " {'href': '/katalog/produk/detail/72030073?lang=id&type=general'},\n",
       " {'href': '/katalog/produk/detail/61984618?lang=id&type=regency'},\n",
       " {'href': '/katalog/produk/detail/54905719?lang=id&type=regency'},\n",
       " {'href': '/katalog/produk/detail/62058293?lang=id&type=general'},\n",
       " {'href': '/katalog/produk/detail/74184271?lang=id&type=general'},\n",
       " {'href': '/katalog/produk/detail/74180825?lang=id&type=general'},\n",
       " {'href': '/katalog/produk/detail/74182415?lang=id&type=general'},\n",
       " {'href': '/katalog/produk/detail/74183802?lang=id&type=general'},\n",
       " {'href': '/katalog/produk/detail/74183865?lang=id&type=general'},\n",
       " {'href': '/katalog/produk/detail/74183923?lang=id&type=general'},\n",
       " {'href': '/katalog/produk/detail/74182006?lang=id&type=general'},\n",
       " {'href': '/katalog/produk/detail/74182243?lang=id&type=general'},\n",
       " {'href': '/katalog/produk/detail/71964140?lang=id&type=general'},\n",
       " {'href': '/katalog/produk/detail/71965078?lang=id&type=general'},\n",
       " {'href': '/katalog/produk/detail/71960136?lang=id&type=general'},\n",
       " {'href': '/katalog/produk/detail/71952520?lang=id&type=general'},\n",
       " {'href': '/katalog/produk/detail/71956475?lang=id&type=general'},\n",
       " {'href': '/katalog/produk/detail/71954837?lang=id&type=general'},\n",
       " {'href': '/katalog/produk/detail/71968648?lang=id&type=general'},\n",
       " {'href': '/katalog/produk/detail/71981052?lang=id&type=general'},\n",
       " {'href': '/katalog/produk/detail/71984454?lang=id&type=general'},\n",
       " {'href': '/katalog/produk/detail/72040251?lang=id&type=general'},\n",
       " {'href': '/katalog/produk/detail/72056043?lang=id&type=general'},\n",
       " {'href': '/katalog/produk/detail/72189007?lang=id&type=general'},\n",
       " {'href': '/katalog/produk/detail/72192976?lang=id&type=general'},\n",
       " {'href': '/katalog/produk/detail/72193858?lang=id&type=general'},\n",
       " {'href': '/katalog/produk/detail/72194768?lang=id&type=general'},\n",
       " ...]"
      ]
     },
     "execution_count": 128,
     "metadata": {},
     "output_type": "execute_result"
    }
   ],
   "source": [
    "collector"
   ]
  },
  {
   "cell_type": "code",
   "execution_count": 21,
   "id": "d01fb298",
   "metadata": {},
   "outputs": [],
   "source": [
    "import requests\n",
    "def get_data(href):\n",
    "    response = requests.get(href)\n",
    "    \n",
    "    "
   ]
  },
  {
   "cell_type": "code",
   "execution_count": 22,
   "id": "d97961ae",
   "metadata": {},
   "outputs": [
    {
     "name": "stdout",
     "output_type": "stream",
     "text": [
      "Request Denied. Try refreshinng cookies and headers. Press Enter when done\n"
     ]
    },
    {
     "ename": "KeyboardInterrupt",
     "evalue": "Interrupted by user",
     "output_type": "error",
     "traceback": [
      "\u001b[1;31m---------------------------------------------------------------------------\u001b[0m",
      "\u001b[1;31mKeyboardInterrupt\u001b[0m                         Traceback (most recent call last)",
      "Input \u001b[1;32mIn [22]\u001b[0m, in \u001b[0;36m<cell line: 1>\u001b[1;34m()\u001b[0m\n\u001b[1;32m----> 1\u001b[0m \u001b[43mcreate_search\u001b[49m\u001b[43m(\u001b[49m\u001b[38;5;124;43m'\u001b[39;49m\u001b[38;5;124;43mabbott\u001b[39;49m\u001b[38;5;124;43m'\u001b[39;49m\u001b[43m,\u001b[49m\u001b[38;5;241;43m0\u001b[39;49m\u001b[43m)\u001b[49m\n",
      "Input \u001b[1;32mIn [21]\u001b[0m, in \u001b[0;36mcreate_search\u001b[1;34m(keyword, cycle)\u001b[0m\n\u001b[0;32m     23\u001b[0m \u001b[38;5;28;01mif\u001b[39;00m response\u001b[38;5;241m.\u001b[39mstatus_code \u001b[38;5;241m==\u001b[39m \u001b[38;5;241m403\u001b[39m:\n\u001b[0;32m     24\u001b[0m     \u001b[38;5;28mprint\u001b[39m(\u001b[38;5;124m\"\u001b[39m\u001b[38;5;124mRequest Denied. Try refreshinng cookies and headers. Press Enter when done\u001b[39m\u001b[38;5;124m\"\u001b[39m)\n\u001b[1;32m---> 25\u001b[0m     \u001b[38;5;28;43minput\u001b[39;49m\u001b[43m(\u001b[49m\u001b[38;5;124;43m\"\u001b[39;49m\u001b[38;5;124;43m\"\u001b[39;49m\u001b[43m)\u001b[49m\n\u001b[0;32m     26\u001b[0m     \u001b[38;5;28;01mimport\u001b[39;00m \u001b[38;5;21;01mcookies\u001b[39;00m \u001b[38;5;28;01mas\u001b[39;00m \u001b[38;5;21;01mmeta\u001b[39;00m\n\u001b[0;32m     28\u001b[0m     response \u001b[38;5;241m=\u001b[39m requests\u001b[38;5;241m.\u001b[39mget(\u001b[38;5;124m'\u001b[39m\u001b[38;5;124mhttps://e-katalog.lkpp.go.id/id/search-produk\u001b[39m\u001b[38;5;124m'\u001b[39m, params\u001b[38;5;241m=\u001b[39mparams, cookies\u001b[38;5;241m=\u001b[39mmeta\u001b[38;5;241m.\u001b[39mcookies, headers\u001b[38;5;241m=\u001b[39mmeta\u001b[38;5;241m.\u001b[39mheaders)\n",
      "File \u001b[1;32m~\\Anaconda3\\lib\\site-packages\\ipykernel\\kernelbase.py:1075\u001b[0m, in \u001b[0;36mKernel.raw_input\u001b[1;34m(self, prompt)\u001b[0m\n\u001b[0;32m   1071\u001b[0m \u001b[38;5;28;01mif\u001b[39;00m \u001b[38;5;129;01mnot\u001b[39;00m \u001b[38;5;28mself\u001b[39m\u001b[38;5;241m.\u001b[39m_allow_stdin:\n\u001b[0;32m   1072\u001b[0m     \u001b[38;5;28;01mraise\u001b[39;00m StdinNotImplementedError(\n\u001b[0;32m   1073\u001b[0m         \u001b[38;5;124m\"\u001b[39m\u001b[38;5;124mraw_input was called, but this frontend does not support input requests.\u001b[39m\u001b[38;5;124m\"\u001b[39m\n\u001b[0;32m   1074\u001b[0m     )\n\u001b[1;32m-> 1075\u001b[0m \u001b[38;5;28;01mreturn\u001b[39;00m \u001b[38;5;28;43mself\u001b[39;49m\u001b[38;5;241;43m.\u001b[39;49m\u001b[43m_input_request\u001b[49m\u001b[43m(\u001b[49m\n\u001b[0;32m   1076\u001b[0m \u001b[43m    \u001b[49m\u001b[38;5;28;43mstr\u001b[39;49m\u001b[43m(\u001b[49m\u001b[43mprompt\u001b[49m\u001b[43m)\u001b[49m\u001b[43m,\u001b[49m\n\u001b[0;32m   1077\u001b[0m \u001b[43m    \u001b[49m\u001b[38;5;28;43mself\u001b[39;49m\u001b[38;5;241;43m.\u001b[39;49m\u001b[43m_parent_ident\u001b[49m\u001b[43m[\u001b[49m\u001b[38;5;124;43m\"\u001b[39;49m\u001b[38;5;124;43mshell\u001b[39;49m\u001b[38;5;124;43m\"\u001b[39;49m\u001b[43m]\u001b[49m\u001b[43m,\u001b[49m\n\u001b[0;32m   1078\u001b[0m \u001b[43m    \u001b[49m\u001b[38;5;28;43mself\u001b[39;49m\u001b[38;5;241;43m.\u001b[39;49m\u001b[43mget_parent\u001b[49m\u001b[43m(\u001b[49m\u001b[38;5;124;43m\"\u001b[39;49m\u001b[38;5;124;43mshell\u001b[39;49m\u001b[38;5;124;43m\"\u001b[39;49m\u001b[43m)\u001b[49m\u001b[43m,\u001b[49m\n\u001b[0;32m   1079\u001b[0m \u001b[43m    \u001b[49m\u001b[43mpassword\u001b[49m\u001b[38;5;241;43m=\u001b[39;49m\u001b[38;5;28;43;01mFalse\u001b[39;49;00m\u001b[43m,\u001b[49m\n\u001b[0;32m   1080\u001b[0m \u001b[43m\u001b[49m\u001b[43m)\u001b[49m\n",
      "File \u001b[1;32m~\\Anaconda3\\lib\\site-packages\\ipykernel\\kernelbase.py:1120\u001b[0m, in \u001b[0;36mKernel._input_request\u001b[1;34m(self, prompt, ident, parent, password)\u001b[0m\n\u001b[0;32m   1117\u001b[0m             \u001b[38;5;28;01mbreak\u001b[39;00m\n\u001b[0;32m   1118\u001b[0m \u001b[38;5;28;01mexcept\u001b[39;00m \u001b[38;5;167;01mKeyboardInterrupt\u001b[39;00m:\n\u001b[0;32m   1119\u001b[0m     \u001b[38;5;66;03m# re-raise KeyboardInterrupt, to truncate traceback\u001b[39;00m\n\u001b[1;32m-> 1120\u001b[0m     \u001b[38;5;28;01mraise\u001b[39;00m \u001b[38;5;167;01mKeyboardInterrupt\u001b[39;00m(\u001b[38;5;124m\"\u001b[39m\u001b[38;5;124mInterrupted by user\u001b[39m\u001b[38;5;124m\"\u001b[39m) \u001b[38;5;28;01mfrom\u001b[39;00m \u001b[38;5;28mNone\u001b[39m\n\u001b[0;32m   1121\u001b[0m \u001b[38;5;28;01mexcept\u001b[39;00m \u001b[38;5;167;01mException\u001b[39;00m:\n\u001b[0;32m   1122\u001b[0m     \u001b[38;5;28mself\u001b[39m\u001b[38;5;241m.\u001b[39mlog\u001b[38;5;241m.\u001b[39mwarning(\u001b[38;5;124m\"\u001b[39m\u001b[38;5;124mInvalid Message:\u001b[39m\u001b[38;5;124m\"\u001b[39m, exc_info\u001b[38;5;241m=\u001b[39m\u001b[38;5;28;01mTrue\u001b[39;00m)\n",
      "\u001b[1;31mKeyboardInterrupt\u001b[0m: Interrupted by user"
     ]
    }
   ],
   "source": [
    "create_search('abbott',0)"
   ]
  },
  {
   "cell_type": "code",
   "execution_count": 3,
   "id": "dee38864",
   "metadata": {},
   "outputs": [
    {
     "ename": "NameError",
     "evalue": "name 'response' is not defined",
     "output_type": "error",
     "traceback": [
      "\u001b[1;31m---------------------------------------------------------------------------\u001b[0m",
      "\u001b[1;31mNameError\u001b[0m                                 Traceback (most recent call last)",
      "Input \u001b[1;32mIn [3]\u001b[0m, in \u001b[0;36m<cell line: 1>\u001b[1;34m()\u001b[0m\n\u001b[1;32m----> 1\u001b[0m \u001b[43mresponse\u001b[49m\n",
      "\u001b[1;31mNameError\u001b[0m: name 'response' is not defined"
     ]
    }
   ],
   "source": [
    "response"
   ]
  },
  {
   "cell_type": "code",
   "execution_count": 57,
   "id": "3cf8a588",
   "metadata": {
    "scrolled": true
   },
   "outputs": [],
   "source": [
    "from bs4 import BeautifulSoup\n",
    "soup = BeautifulSoup(response.text)"
   ]
  },
  {
   "cell_type": "code",
   "execution_count": 69,
   "id": "0911797c",
   "metadata": {},
   "outputs": [
    {
     "name": "stdout",
     "output_type": "stream",
     "text": [
      "/katalog/produk/detail/1286631?lang=id&type=general ABBOTT ABBOTT m2000rt Instruments and Accessories\n",
      "/katalog/produk/detail/50406570?lang=id&type=regency ABBOTT ABBOTT ALBUMIN BCG 2 3120T\n",
      "/katalog/produk/detail/47617385?lang=id&type=regency Tanpa Merek ABBOTT ALBUMIN BCG 2 1044T.\n",
      "/katalog/produk/detail/74959672?lang=id&type=regency  ABBOTT. ALBUMIN BCG2, ABBOTT\n",
      "/katalog/produk/detail/76755713?lang=id&type=regency  ABBOTT. LACTIC ACID, ABBOTT\n",
      "/katalog/produk/detail/1433810?lang=id&type=general ABBOTT ABBOTT RealTime HBV Amplification Reagent Kit + ABBOTT RealTime HBV Control Kit + ABBOTT RealTime HBV Calibrator Kit + MD2005 Sample Preparation System DNA +  ABBOTT Proteinase K, Recombinant PCR Grade + Consumable ABBOTT m2000sp Instrument and Accesories ( E-Series)\n",
      "/katalog/produk/detail/60000067?lang=id&type=general ABBOTT ABBOTT RealTime HCV Amplification Reagent Kit\n",
      "/katalog/produk/detail/60004447?lang=id&type=general ABBOTT ABBOTT RealTime HBV Amplification Reagent Kit\n",
      "/katalog/produk/detail/76622139?lang=id&type=regency  ABBOTT CONSOLIDATED CHEMISTRY CALIBRATOR, ABBOTT\n",
      "/katalog/produk/detail/1444582?lang=id&type=general ABBOTT ABBOTT RealTime CT/NG Ampification Reagen Kit + ABBOTT RealTime CT/NG Control kit + ABBOTT Cervic-collect Specimen Collection Kit + MD2005 Sample Preparation System DNA + Consumable ABBOTT m2000sp Instrument and Accesories ( E-Series)\n",
      "/katalog/produk/detail/59287069?lang=id&type=general ABBOTT ABBOTT RealTime HIV-1 Amplification Reagent Kit\n",
      "/katalog/produk/detail/59307508?lang=id&type=general ABBOTT ABBOTT REALTIME CT/NG Amplification Reagent Kit\n"
     ]
    }
   ],
   "source": [
    "hrefs = {}\n",
    "results = soup.find_all('div', {'class':'card-item-title'})\n",
    "for result in results:\n",
    "    if result.find('a'):\n",
    "        href = result.find('a')['href']\n",
    "        title = result.find('a')['title']\n",
    "        print(href,title)\n",
    "        hrefs[href] = title\n"
   ]
  },
  {
   "cell_type": "code",
   "execution_count": 68,
   "id": "162e151f",
   "metadata": {},
   "outputs": [
    {
     "data": {
      "text/plain": [
       "<div class=\"card-item-detail\" style=\"height: 100%;\">\n",
       "<div class=\"card-item-title\" style=\"margin-bottom: 2px;height: 22px;background: #cd7c89;border-radius: 50px;padding-top: 2px;\">\n",
       "<span style=\"background-image: url('/public/images/import.gif');background-repeat: no-repeat;background-size: 19px;padding: 12px;background-position: 4px;\" title=\"Import\"></span>\n",
       "<span style=\"background-image: url('/public/images/ukm.gif');background-repeat: no-repeat;background-size: 19px;padding: 12px;background-position: 4px;\" title=\"UMKK\"></span>\n",
       "</div>\n",
       "<div class=\"card-item-title\">\n",
       "<a data-placement=\"bottom\" data-toggle=\"tooltip\" href=\"/katalog/produk/detail/1286631?lang=id&amp;type=general\" title=\"ABBOTT ABBOTT m2000rt Instruments and Accessories\">ABBOTT ABBOTT m2000rt Instruments and Accesso...</a>\n",
       "</div>\n",
       "<div class=\"card-item-description\">\n",
       "<p style=\"white-space: nowrap;overflow:hidden;text-overflow:ellipsis;\">PT Sinergi Utama Sejahtera</p>\n",
       "<p style=\"white-space: nowrap;overflow:hidden;text-overflow:ellipsis;font-weight: bold\">TKDN(%) : n/a</p>\n",
       "<p style=\"white-space: nowrap;overflow:hidden;text-overflow:ellipsis;font-weight: bold\">BMP : n/a</p>\n",
       "<p style=\"white-space: nowrap;overflow:hidden;text-overflow:ellipsis;font-weight: bold\">TKDN + BMP : n/a</p>\n",
       "<p style=\"white-space: nowrap;overflow:hidden;text-overflow:ellipsis;\"> </p>\n",
       "<p style=\"white-space: nowrap;overflow:hidden;text-overflow:ellipsis;\">IDR 3,100,000,000.00</p>\n",
       "</div>\n",
       "<div class=\"text-center\">\n",
       "<hr/>\n",
       "<h5>Bagikan</h5>\n",
       "</div>\n",
       "<div class=\"text-center\">\n",
       "<a class=\"btn btn-info\" href=\"https://web.facebook.com/sharer/sharer.php\" onclick=\"javascript:window.open(this.href+'?u='+'/katalog/produk/detail/1286631?lang=id&amp;type=general',\n",
       "                       '_blank', 'menubar=no,toolbar=no,resizable=no,scrollbars=yes,height=350,width=350');\n",
       "                       return false;\" style=\"width: 20%\">\n",
       "<i aria-hidden=\"true\" class=\"fa fa-facebook\"></i>\n",
       "</a>\n",
       "<a class=\"btn btn-primary\" href=\"https://twitter.com/intent/tweet\" onclick=\"javascript:window.open(this.href+'?url='+'/katalog/produk/detail/1286631?lang=id&amp;type=general',\n",
       "                       '_blank', 'menubar=no,toolbar=no,resizable=no,scrollbars=yes,height=350,width=350');\n",
       "                       return false;\" style=\"width: 20%\">\n",
       "<i aria-hidden=\"true\" class=\"fa fa-twitter\"></i>\n",
       "</a>\n",
       "</div>\n",
       "</div>"
      ]
     },
     "execution_count": 68,
     "metadata": {},
     "output_type": "execute_result"
    }
   ],
   "source": [
    "results[0]"
   ]
  },
  {
   "cell_type": "code",
   "execution_count": 49,
   "id": "9ad3220b",
   "metadata": {},
   "outputs": [
    {
     "ename": "AttributeError",
     "evalue": "ResultSet object has no attribute 'find'. You're probably treating a list of elements like a single element. Did you call find_all() when you meant to call find()?",
     "output_type": "error",
     "traceback": [
      "\u001b[1;31m---------------------------------------------------------------------------\u001b[0m",
      "\u001b[1;31mAttributeError\u001b[0m                            Traceback (most recent call last)",
      "Input \u001b[1;32mIn [49]\u001b[0m, in \u001b[0;36m<cell line: 1>\u001b[1;34m()\u001b[0m\n\u001b[1;32m----> 1\u001b[0m href \u001b[38;5;241m=\u001b[39m \u001b[43mresults\u001b[49m\u001b[38;5;241;43m.\u001b[39;49m\u001b[43mfind\u001b[49m(\u001b[38;5;124m'\u001b[39m\u001b[38;5;124mdiv\u001b[39m\u001b[38;5;124m'\u001b[39m, {\u001b[38;5;124m'\u001b[39m\u001b[38;5;124mclass\u001b[39m\u001b[38;5;124m'\u001b[39m:\u001b[38;5;124m'\u001b[39m\u001b[38;5;124mcard-item-title\u001b[39m\u001b[38;5;124m'\u001b[39m})\n\u001b[0;32m      2\u001b[0m href\n",
      "File \u001b[1;32m~\\Anaconda3\\lib\\site-packages\\bs4\\element.py:2289\u001b[0m, in \u001b[0;36mResultSet.__getattr__\u001b[1;34m(self, key)\u001b[0m\n\u001b[0;32m   2287\u001b[0m \u001b[38;5;28;01mdef\u001b[39;00m \u001b[38;5;21m__getattr__\u001b[39m(\u001b[38;5;28mself\u001b[39m, key):\n\u001b[0;32m   2288\u001b[0m     \u001b[38;5;124;03m\"\"\"Raise a helpful exception to explain a common code fix.\"\"\"\u001b[39;00m\n\u001b[1;32m-> 2289\u001b[0m     \u001b[38;5;28;01mraise\u001b[39;00m \u001b[38;5;167;01mAttributeError\u001b[39;00m(\n\u001b[0;32m   2290\u001b[0m         \u001b[38;5;124m\"\u001b[39m\u001b[38;5;124mResultSet object has no attribute \u001b[39m\u001b[38;5;124m'\u001b[39m\u001b[38;5;132;01m%s\u001b[39;00m\u001b[38;5;124m'\u001b[39m\u001b[38;5;124m. You\u001b[39m\u001b[38;5;124m'\u001b[39m\u001b[38;5;124mre probably treating a list of elements like a single element. Did you call find_all() when you meant to call find()?\u001b[39m\u001b[38;5;124m\"\u001b[39m \u001b[38;5;241m%\u001b[39m key\n\u001b[0;32m   2291\u001b[0m     )\n",
      "\u001b[1;31mAttributeError\u001b[0m: ResultSet object has no attribute 'find'. You're probably treating a list of elements like a single element. Did you call find_all() when you meant to call find()?"
     ]
    }
   ],
   "source": []
  },
  {
   "cell_type": "code",
   "execution_count": 61,
   "id": "37bcaeb9",
   "metadata": {},
   "outputs": [
    {
     "data": {
      "text/plain": [
       "12"
      ]
     },
     "execution_count": 61,
     "metadata": {},
     "output_type": "execute_result"
    }
   ],
   "source": [
    "soup = BeautifulSoup(response.text)\n",
    "results = soup.find_all('div', {'class':'card-item-detail'})\n",
    "len(results)"
   ]
  },
  {
   "cell_type": "code",
   "execution_count": 62,
   "id": "5166928e",
   "metadata": {},
   "outputs": [
    {
     "name": "stdout",
     "output_type": "stream",
     "text": [
      "\n",
      "\n",
      "\n",
      "\n",
      "\n",
      "\n",
      "ABBOTT ABBOTT m2000rt Instruments and Accesso...\n",
      "\n",
      "\n",
      "PT Sinergi Utama Sejahtera\n",
      "TKDN(%) : n/a\n",
      "BMP : n/a\n",
      "TKDN + BMP : n/a\n",
      " \n",
      "IDR 3,100,000,000.00\n",
      "\n",
      "\n",
      "\n",
      "Bagikan\n",
      "\n",
      "\n",
      "\n",
      "\n",
      "\n",
      "\n",
      "\n",
      "\n",
      "\n",
      "\n"
     ]
    }
   ],
   "source": [
    "print(results[0].text)"
   ]
  }
 ],
 "metadata": {
  "kernelspec": {
   "display_name": "Python 3 (ipykernel)",
   "language": "python",
   "name": "python3"
  },
  "language_info": {
   "codemirror_mode": {
    "name": "ipython",
    "version": 3
   },
   "file_extension": ".py",
   "mimetype": "text/x-python",
   "name": "python",
   "nbconvert_exporter": "python",
   "pygments_lexer": "ipython3",
   "version": "3.9.12"
  }
 },
 "nbformat": 4,
 "nbformat_minor": 5
}
