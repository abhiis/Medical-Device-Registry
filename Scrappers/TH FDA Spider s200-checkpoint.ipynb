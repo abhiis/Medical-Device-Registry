{
 "cells": [
  {
   "cell_type": "markdown",
   "metadata": {},
   "source": [
    "### Thai - Registry : Scraping translated data"
   ]
  },
  {
   "cell_type": "markdown",
   "metadata": {},
   "source": [
    "### https://porta.fda.moph.go.th/FDA_SEARCH_ALL/MAIN/SEARCH_CENTER_MAIN.aspx"
   ]
  },
  {
   "cell_type": "code",
   "execution_count": 1,
   "metadata": {},
   "outputs": [
    {
     "name": "stdout",
     "output_type": "stream",
     "text": [
      "Firefox version:  117.0.1\n",
      "Available geckodriver version:  v0.34.0\n"
     ]
    }
   ],
   "source": [
    "#!pip install plyer\n",
    "#from plyer import notification\n",
    "from selenium import webdriver\n",
    "from selenium.webdriver.firefox.options import Options\n",
    "from bs4 import BeautifulSoup\n",
    "import geckodriver_autoinstaller\n",
    "from selenium.webdriver.common.by import By\n",
    "from selenium.webdriver.support.ui import WebDriverWait\n",
    "from selenium.webdriver.support import expected_conditions as EC\n",
    "from tqdm import tqdm\n",
    "from datetime import datetime as date\n",
    "import pandas as pd, numpy as np\n",
    "import warnings as ws\n",
    "ws.filterwarnings(\"ignore\")\n",
    "import re, os, time, glob\n",
    "from selenium.common.exceptions import NoSuchElementException, ElementClickInterceptedException, TimeoutException\n",
    "from selenium.webdriver.common.keys import Keys\n",
    "import pickle\n",
    "from typing import List\n",
    "# Create directory if it doesn't exist\n",
    "directory = \"Fetched Data\"\n",
    "if not os.path.exists(directory):\n",
    "    os.makedirs(directory)\n",
    "# Initialize Firefox with options\n",
    "options = Options()\n",
    "options.binary_location = r'C:\\Program Files\\Mozilla Firefox\\firefox.exe'\n",
    "geckodriver_autoinstaller.install()\n",
    "\n",
    "\n",
    "def clean_str(string):\n",
    "    string = string.replace('\\xa0', \" \").strip()\n",
    "    string = string.replace('\\n', \"\")\n",
    "    string = string.replace('\\t', \"\")\n",
    "    return string.strip()"
   ]
  },
  {
   "cell_type": "code",
   "execution_count": 40,
   "metadata": {},
   "outputs": [],
   "source": [
    "## Use IVD Gateway Major player to search MDA using company names\n",
    "major_players = pd.read_csv(\"IVD_gateway_major_players_actual.csv\")\n",
    "major_players \n",
    "players = major_players.player_name.values.tolist()\n",
    "## Split out company names delimited by '-'\n",
    "keywords = []\n",
    "for name in players:\n",
    "    if '-' in name:\n",
    "        spread_names = name.split('-')\n",
    "        for i in spread_names:\n",
    "            keywords.append(i.strip())\n",
    "    else:\n",
    "        keywords.append(name)"
   ]
  },
  {
   "cell_type": "code",
   "execution_count": 41,
   "metadata": {},
   "outputs": [],
   "source": [
    "len(set(keywords))\n",
    "keywords = list(set(keywords))"
   ]
  },
  {
   "cell_type": "code",
   "execution_count": null,
   "metadata": {},
   "outputs": [],
   "source": [
    "print(\"Searching FDA TH using keywords...\")\n",
    "catch = dict()\n",
    "for keyword in keywords[:5]:\n",
    "    collector = []\n",
    "    print(keyword, end=\" \")\n",
    "    try:\n",
    "        driver, total_results = load_search(keyword, driver)\n",
    "        if not total_results = 'No records'\n",
    "            flag, table = extract_page_data(driver)\n",
    "            ## find next button until\n",
    "            total_res = total_results.text.strip().split(\" \")[0]\n",
    "            page_count = total_res / 50\n",
    "            for page in range(page_count+1):\n",
    "                wait = WebDriverWait(driver, 10)\n",
    "                next_btn = wait.until(EC.element_to_be_clickable((By.CLASS_NAME, 'rgPageNext')))\n",
    "                next_btn.click()\n",
    "                table = extract_page_data(driver)\n",
    "                time.sleep(1)\n",
    "    except:\n",
    "        print(\"Error\")\n",
    "        \n",
    "    if len(collector):\n",
    "        catch[keyword] = collector\n",
    "    \n",
    "    "
   ]
  },
  {
   "cell_type": "code",
   "execution_count": 69,
   "metadata": {},
   "outputs": [],
   "source": [
    "def load_search(keyword, driver):\n",
    "    driver = webdriver.Firefox(options=options)\n",
    "    driver.get('https://porta.fda.moph.go.th/FDA_SEARCH_ALL/MAIN/SEARCH_CENTER_MAIN.aspx')\n",
    "    driver.maximize_window()\n",
    "    time.sleep(2)\n",
    "    try:\n",
    "        pop_close = driver.find_element(By.XPATH,'//*[@id=\"myModal2\"]/div/div/div[3]/button')\n",
    "        pop_close.click()\n",
    "    except Exception as e:\n",
    "        print(e, keyword)\n",
    "    #driver.find_element(By.XPATH , \"//div[@class = 'modal-content']/div[@class='modal-footer']/button[@class = 'btn btn-default']\").click()\n",
    "    time.sleep(4)\n",
    "\n",
    "    driver.find_element(By.XPATH , \"//div[@class = 'col-lg-2 col-md-2']/table/tbody/tr/td/input[@id = 'ContentPlaceHolder1_R_LIST']\").click()\n",
    "    time.sleep(4)\n",
    "\n",
    "    driver.find_element(By.ID , 'ContentPlaceHolder1_CheckBoxList1').find_element(By.XPATH , \"//tbody/tr[7]\").click()\n",
    "    time.sleep(4)\n",
    "\n",
    "    driver.execute_script(\"window.scrollTo(0, document.body.scrollHeight);\")\n",
    "    time.sleep(3)\n",
    "\n",
    "    wait = WebDriverWait(driver, 10)\n",
    "    search_btn = wait.until(EC.element_to_be_clickable((By.XPATH, '//*[@id=\"ContentPlaceHolder1_btn_search\"]')))\n",
    "    input_box = driver.find_element(By.XPATH, '//*[@id=\"ContentPlaceHolder1_txt_search\"]')\n",
    "    input_box.send_keys(keyword)\n",
    "    driver.execute_script(\"arguments[0].click();\", search_btn)\n",
    "    time.sleep(2)\n",
    "    wait = WebDriverWait(driver, 10)\n",
    "    \n",
    "    soup = BeautifulSoup(driver.page_source, 'html.parser')\n",
    "    flag, table = extract_page_data(driver)\n",
    "    if flag == 'No results':\n",
    "        return driver, 'No records'\n",
    "    else:\n",
    "        totals = wait.until(EC.element_to_be_clickable((By.XPATH, '//*[@id=\"ContentPlaceHolder1_RadGrid1_ctl00_ctl03_ctl01_PageSizeComboBox_Input\"]')))\n",
    "        totals.click()\n",
    "        fifty = driver.find_element(By.XPATH, '//*[@id=\"ContentPlaceHolder1_RadGrid1_ctl00_ctl03_ctl01_PageSizeComboBox_DropDown\"]/div/ul/li[3]')\n",
    "        fifty.click()\n",
    "        driver.execute_script(\"window.scrollTo(0, document.body.scrollHeight);\")\n",
    "        total_res_count = driver.find_element(By.CLASS_NAME,'rgInfoPart')\n",
    "        total_res_count = total_res_count.text\n",
    "\n",
    "        return driver, total_res_count\n",
    "    \n",
    "def extract_page_data(driver):\n",
    "    driver.execute_script(\"window.scrollTo(0, document.body.scrollHeight);\")\n",
    "    soup = BeautifulSoup(driver.page_source)\n",
    "    data = wait.until(EC.presence_of_element_located((By.CLASS_NAME, 'rgMasterTable')))\n",
    "    table = soup.find('table',{'class':'rgMasterTable'})\n",
    "    driver.execute_script(\"window.scrollTo(0, document.body.scrollHeight);\")\n",
    "    if 'No records to display.' in table.text:\n",
    "        return 'No results', table\n",
    "    else:\n",
    "        table = pd.read_html(str(table))[0]\n",
    "        return 'Found', table   \n",
    "        "
   ]
  },
  {
   "cell_type": "code",
   "execution_count": 65,
   "metadata": {},
   "outputs": [],
   "source": [
    "driver, count = load_search('roche',driver)"
   ]
  },
  {
   "cell_type": "code",
   "execution_count": 87,
   "metadata": {},
   "outputs": [],
   "source": [
    "driver.quit()"
   ]
  }
 ],
 "metadata": {
  "kernelspec": {
   "display_name": "Python 3 (ipykernel)",
   "language": "python",
   "name": "python3"
  },
  "language_info": {
   "codemirror_mode": {
    "name": "ipython",
    "version": 3
   },
   "file_extension": ".py",
   "mimetype": "text/x-python",
   "name": "python",
   "nbconvert_exporter": "python",
   "pygments_lexer": "ipython3",
   "version": "3.9.12"
  }
 },
 "nbformat": 4,
 "nbformat_minor": 4
}
