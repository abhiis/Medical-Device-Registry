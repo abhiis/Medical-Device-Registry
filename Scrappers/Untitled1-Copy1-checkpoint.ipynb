{
 "cells": [
  {
   "cell_type": "code",
   "execution_count": null,
   "id": "0391923b",
   "metadata": {},
   "outputs": [
    {
     "name": "stdout",
     "output_type": "stream",
     "text": [
      "10000\t10\n",
      "10010\t10\n",
      "10020\t10\n",
      "10030\t10\n",
      "10040\t"
     ]
    }
   ],
   "source": [
    "import requests\n",
    "from bs4 import BeautifulSoup\n",
    "holder = []\n",
    "\n",
    "total = 15000\n",
    "for i in range(10000,total, 10):\n",
    "    print(i, end=\"\\t\")\n",
    "    cookies = {\n",
    "        'dis-request-id': 'e1059b3a35173fc26b9401bae49ac1de',\n",
    "        'dis-timestamp': '2023-04-04T00:17:29-07:00',\n",
    "        'dis-remote-addr': '103.87.59.203',\n",
    "        '_ga': 'GA1.3.1498323092.1680592585',\n",
    "        '_gid': 'GA1.3.652060471.1680592585',\n",
    "        '_sp_id.d852': 'f7e63b79-5276-40ad-bd4e-b7ab157b8b30.1680592585.1.1680592588.1680592585.c2890bab-7550-4c88-9cc2-80bce15a519a',\n",
    "        'Cookie': '!5VFZ3iTFwyPi3bLapQqKkLgqNluWVMw8NDNm3a7gHk+lceoeCuFAu+tlIWzuGyweAaru5ILOvrrS2x4=',\n",
    "        'JSESSIONID': '7gZMHn8plJP6mC3LQU8D-In8vt65PtLHrm4q9w07GfRICvyeZdmi!-1249897684!1215967715',\n",
    "    }\n",
    "\n",
    "    headers = {\n",
    "        'Accept': 'text/html,application/xhtml+xml,application/xml;q=0.9,image/avif,image/webp,image/apng,*/*;q=0.8,application/signed-exchange;v=b3;q=0.7',\n",
    "        'Accept-Language': 'en-US,en;q=0.9',\n",
    "        'Cache-Control': 'max-age=0',\n",
    "        'Connection': 'keep-alive',\n",
    "        'Content-Type': 'application/x-www-form-urlencoded',\n",
    "        # 'Cookie': 'dis-request-id=e1059b3a35173fc26b9401bae49ac1de; dis-timestamp=2023-04-04T00:17:29-07:00; dis-remote-addr=103.87.59.203; _ga=GA1.3.1498323092.1680592585; _gid=GA1.3.652060471.1680592585; _sp_id.d852=f7e63b79-5276-40ad-bd4e-b7ab157b8b30.1680592585.1.1680592588.1680592585.c2890bab-7550-4c88-9cc2-80bce15a519a; Cookie=!5VFZ3iTFwyPi3bLapQqKkLgqNluWVMw8NDNm3a7gHk+lceoeCuFAu+tlIWzuGyweAaru5ILOvrrS2x4=; JSESSIONID=7gZMHn8plJP6mC3LQU8D-In8vt65PtLHrm4q9w07GfRICvyeZdmi!-1249897684!1215967715',\n",
    "        'Origin': 'null',\n",
    "        'Sec-Fetch-Dest': 'document',\n",
    "        'Sec-Fetch-Mode': 'navigate',\n",
    "        'Sec-Fetch-Site': 'same-origin',\n",
    "        'Sec-Fetch-User': '?1',\n",
    "        'Upgrade-Insecure-Requests': '1',\n",
    "        'User-Agent': 'Mozilla/5.0 (Windows NT 10.0; Win64; x64) AppleWebKit/537.36 (KHTML, like Gecko) Chrome/111.0.0.0 Safari/537.36',\n",
    "        'sec-ch-ua': '\"Google Chrome\";v=\"111\", \"Not(A:Brand\";v=\"8\", \"Chromium\";v=\"111\"',\n",
    "        'sec-ch-ua-mobile': '?0',\n",
    "        'sec-ch-ua-platform': '\"Windows\"',\n",
    "    }\n",
    "\n",
    "    data = {\n",
    "        'action': 'getAllDevices',\n",
    "        'devId': '',\n",
    "        'linkName': 'MED',\n",
    "        'topPageNo': 2000,\n",
    "        'pageNo': str(i),\n",
    "        'startsWith': '',\n",
    "    }\n",
    "\n",
    "    response = requests.post('https://eservice.hsa.gov.sg/medics/md/mdEnquiry.do', cookies=cookies, headers=headers, data=data)\n",
    "    soup = BeautifulSoup(response.text)\n",
    "    table = soup.find_all('table',{\"class\": \"fmTbl\"})\n",
    "    devices = [t.find_all('a') for t in table]\n",
    "    hrefs = [h.get('href').split('\"')[-2] for h in devices[0]]\n",
    "    [holder.append(x) for x in hrefs]\n",
    "    print(len(hrefs))"
   ]
  }
 ],
 "metadata": {
  "kernelspec": {
   "display_name": "Python 3 (ipykernel)",
   "language": "python",
   "name": "python3"
  },
  "language_info": {
   "codemirror_mode": {
    "name": "ipython",
    "version": 3
   },
   "file_extension": ".py",
   "mimetype": "text/x-python",
   "name": "python",
   "nbconvert_exporter": "python",
   "pygments_lexer": "ipython3",
   "version": "3.9.12"
  }
 },
 "nbformat": 4,
 "nbformat_minor": 5
}
