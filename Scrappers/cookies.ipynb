{
 "cells": [
  {
   "cell_type": "code",
   "execution_count": null,
   "id": "a626789e",
   "metadata": {},
   "outputs": [],
   "source": [
    "cookies = {\n",
    "    '_ga': 'GA1.1.678707696.1669016845',\n",
    "    'PLAY_LANG': 'id',\n",
    "    '_cfuvid': 'CNwjg9MTXEkC9orrBFA1M.XaVAscNZXdI17FzuPLCIc-1706562315455-0-604800000',\n",
    "    'cf_chl_3': '388559d85bd34b7',\n",
    "    'cf_clearance': 'kzph_zJuW_6CnPtN1JVnw4K_BHwO26NZh99AEygkNWE-1706564435-1-AaZZ1dswyd1VP5oFP7Hx4hbOzojgE5Dww406nS7XGQ96b6rSmgjiKoJmcNHa5DB7lB4obKt/xI4wPvA39OdU2Ow=',\n",
    "    'E_KATALOG_5_SESSION': '660c8c12f6a4fb40f57e59e771b1cb53f77016fd-___AT=7314a8c003dbd5121334ec2b97b2541e5eb912aa&___TS=1706568832103&___ID=39c69be9-63cb-47e2-8770-72f24c7ae80c',\n",
    "    '_ga_K59543X46E': 'GS1.1.1706562428.4.1.1706565344.0.0.0',\n",
    "}"
   ]
  }
 ],
 "metadata": {
  "kernelspec": {
   "display_name": "Python 3 (ipykernel)",
   "language": "python",
   "name": "python3"
  },
  "language_info": {
   "codemirror_mode": {
    "name": "ipython",
    "version": 3
   },
   "file_extension": ".py",
   "mimetype": "text/x-python",
   "name": "python",
   "nbconvert_exporter": "python",
   "pygments_lexer": "ipython3",
   "version": "3.9.12"
  }
 },
 "nbformat": 4,
 "nbformat_minor": 5
}
