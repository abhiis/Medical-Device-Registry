{
 "cells": [
  {
   "cell_type": "markdown",
   "metadata": {},
   "source": [
    "### Thai - Registry : Scraping translated data"
   ]
  },
  {
   "cell_type": "markdown",
   "metadata": {},
   "source": [
    "### https://porta.fda.moph.go.th/FDA_SEARCH_ALL/MAIN/SEARCH_CENTER_MAIN.aspx"
   ]
  },
  {
   "cell_type": "code",
   "execution_count": 1,
   "metadata": {},
   "outputs": [
    {
     "name": "stdout",
     "output_type": "stream",
     "text": [
      "Firefox version:  122.0\n",
      "Available geckodriver version:  v0.34.0\n"
     ]
    }
   ],
   "source": [
    "#!pip install plyer\n",
    "#from plyer import notification\n",
    "from selenium import webdriver\n",
    "from selenium.webdriver.firefox.options import Options\n",
    "from bs4 import BeautifulSoup\n",
    "import geckodriver_autoinstaller\n",
    "from selenium.webdriver.common.by import By\n",
    "from selenium.webdriver.support.ui import WebDriverWait\n",
    "from selenium.webdriver.support import expected_conditions as EC\n",
    "from tqdm import tqdm\n",
    "from datetime import datetime as date\n",
    "import pandas as pd, numpy as np\n",
    "import warnings as ws\n",
    "ws.filterwarnings(\"ignore\")\n",
    "import re, os, time, glob\n",
    "from selenium.common.exceptions import NoSuchElementException, ElementClickInterceptedException, TimeoutException\n",
    "from selenium.webdriver.common.keys import Keys\n",
    "import pickle\n",
    "from typing import List\n",
    "# Create directory if it doesn't exist\n",
    "directory = \"Fetched Data\"\n",
    "if not os.path.exists(directory):\n",
    "    os.makedirs(directory)\n",
    "# Initialize Firefox with options\n",
    "options = Options()\n",
    "options.binary_location = r'C:\\Program Files\\Mozilla Firefox\\firefox.exe'\n",
    "geckodriver_autoinstaller.install()\n",
    "\n",
    "\n",
    "def clean_str(string):\n",
    "    string = string.replace('\\xa0', \" \").strip()\n",
    "    string = string.replace('\\n', \"\")\n",
    "    string = string.replace('\\t', \"\")\n",
    "    return string.strip()"
   ]
  },
  {
   "cell_type": "code",
   "execution_count": 2,
   "metadata": {},
   "outputs": [],
   "source": [
    "## Use IVD Gateway Major player to search MDA using company names\n",
    "major_players = pd.read_csv(\"IVD_gateway_major_players_actual.csv\")\n",
    "major_players \n",
    "players = major_players.player_name.values.tolist()\n",
    "## Split out company names delimited by '-'\n",
    "keywords = []\n",
    "for name in players:\n",
    "    if '-' in name:\n",
    "        spread_names = name.split('-')\n",
    "        for i in spread_names:\n",
    "            keywords.append(i.strip())\n",
    "    else:\n",
    "        keywords.append(name)"
   ]
  },
  {
   "cell_type": "code",
   "execution_count": 3,
   "metadata": {},
   "outputs": [
    {
     "data": {
      "text/plain": [
       "345"
      ]
     },
     "execution_count": 3,
     "metadata": {},
     "output_type": "execute_result"
    }
   ],
   "source": [
    "seen = set()\n",
    "keywords_indexed = [x for x in keywords if not (x in seen or seen.add(x))]\n",
    "len(keywords_indexed)"
   ]
  },
  {
   "cell_type": "code",
   "execution_count": 4,
   "metadata": {},
   "outputs": [],
   "source": [
    "driver = webdriver.Firefox(options=options)\n",
    "driver.get('https://addons.mozilla.org/en-US/firefox/addon/traduzir-paginas-web/?utm_source=addons.mozilla.org&utm_medium=referral&utm_content=search')"
   ]
  },
  {
   "cell_type": "code",
   "execution_count": 8,
   "metadata": {},
   "outputs": [
    {
     "name": "stdout",
     "output_type": "stream",
     "text": [
      "Searching FDA TH using keywords...\n",
      "Genova Diagnostics No results for Genova Diagnostics.\n",
      "Getein Biotech No results for Getein Biotech.\n",
      "Greiner Bio Error for Greiner Bio\n"
     ]
    },
    {
     "ename": "NoSuchElementException",
     "evalue": "Message: Unable to locate element: .rgInfoPart\nStacktrace:\nRemoteError@chrome://remote/content/shared/RemoteError.sys.mjs:8:8\nWebDriverError@chrome://remote/content/shared/webdriver/Errors.sys.mjs:191:5\nNoSuchElementError@chrome://remote/content/shared/webdriver/Errors.sys.mjs:509:5\ndom.find/</<@chrome://remote/content/shared/DOM.sys.mjs:136:16\n",
     "output_type": "error",
     "traceback": [
      "\u001b[1;31m---------------------------------------------------------------------------\u001b[0m",
      "\u001b[1;31mNoSuchElementException\u001b[0m                    Traceback (most recent call last)",
      "Input \u001b[1;32mIn [8]\u001b[0m, in \u001b[0;36m<cell line: 3>\u001b[1;34m()\u001b[0m\n\u001b[0;32m     25\u001b[0m \u001b[38;5;28;01mexcept\u001b[39;00m \u001b[38;5;167;01mException\u001b[39;00m \u001b[38;5;28;01mas\u001b[39;00m e:\n\u001b[0;32m     26\u001b[0m     \u001b[38;5;28mprint\u001b[39m(\u001b[38;5;124mf\u001b[39m\u001b[38;5;124m\"\u001b[39m\u001b[38;5;124mError for \u001b[39m\u001b[38;5;132;01m{\u001b[39;00mkeyword\u001b[38;5;132;01m}\u001b[39;00m\u001b[38;5;124m\"\u001b[39m)\n\u001b[1;32m---> 27\u001b[0m     \u001b[38;5;28;01mraise\u001b[39;00m(e)\n\u001b[0;32m     29\u001b[0m \u001b[38;5;28;01mif\u001b[39;00m \u001b[38;5;28mlen\u001b[39m(collector):\n\u001b[0;32m     30\u001b[0m     catch[keyword] \u001b[38;5;241m=\u001b[39m collector\n",
      "Input \u001b[1;32mIn [8]\u001b[0m, in \u001b[0;36m<cell line: 3>\u001b[1;34m()\u001b[0m\n\u001b[0;32m      5\u001b[0m \u001b[38;5;28mprint\u001b[39m(keyword, end\u001b[38;5;241m=\u001b[39m\u001b[38;5;124m\"\u001b[39m\u001b[38;5;124m \u001b[39m\u001b[38;5;124m\"\u001b[39m)\n\u001b[0;32m      6\u001b[0m \u001b[38;5;28;01mtry\u001b[39;00m:\n\u001b[1;32m----> 7\u001b[0m     driver, total_results \u001b[38;5;241m=\u001b[39m \u001b[43mload_search\u001b[49m\u001b[43m(\u001b[49m\u001b[43mkeyword\u001b[49m\u001b[43m,\u001b[49m\u001b[43m \u001b[49m\u001b[43mdriver\u001b[49m\u001b[43m)\u001b[49m\n\u001b[0;32m      8\u001b[0m     page \u001b[38;5;241m=\u001b[39m \u001b[38;5;241m0\u001b[39m\n\u001b[0;32m      9\u001b[0m     \u001b[38;5;28;01mif\u001b[39;00m \u001b[38;5;129;01mnot\u001b[39;00m total_results \u001b[38;5;241m==\u001b[39m \u001b[38;5;124m'\u001b[39m\u001b[38;5;124mNo records\u001b[39m\u001b[38;5;124m'\u001b[39m:\n",
      "Input \u001b[1;32mIn [7]\u001b[0m, in \u001b[0;36mload_search\u001b[1;34m(keyword, driver)\u001b[0m\n\u001b[0;32m     39\u001b[0m fifty\u001b[38;5;241m.\u001b[39mclick()\n\u001b[0;32m     40\u001b[0m driver\u001b[38;5;241m.\u001b[39mexecute_script(\u001b[38;5;124m\"\u001b[39m\u001b[38;5;124mwindow.scrollTo(0, document.body.scrollHeight);\u001b[39m\u001b[38;5;124m\"\u001b[39m)\n\u001b[1;32m---> 41\u001b[0m total_res_count \u001b[38;5;241m=\u001b[39m \u001b[43mdriver\u001b[49m\u001b[38;5;241;43m.\u001b[39;49m\u001b[43mfind_element\u001b[49m\u001b[43m(\u001b[49m\u001b[43mBy\u001b[49m\u001b[38;5;241;43m.\u001b[39;49m\u001b[43mCLASS_NAME\u001b[49m\u001b[43m,\u001b[49m\u001b[38;5;124;43m'\u001b[39;49m\u001b[38;5;124;43mrgInfoPart\u001b[39;49m\u001b[38;5;124;43m'\u001b[39;49m\u001b[43m)\u001b[49m\n\u001b[0;32m     42\u001b[0m total_res_count \u001b[38;5;241m=\u001b[39m total_res_count\u001b[38;5;241m.\u001b[39mtext\n\u001b[0;32m     44\u001b[0m \u001b[38;5;28;01mreturn\u001b[39;00m driver, total_res_count\n",
      "File \u001b[1;32m~\\Anaconda3\\lib\\site-packages\\selenium\\webdriver\\remote\\webdriver.py:855\u001b[0m, in \u001b[0;36mWebDriver.find_element\u001b[1;34m(self, by, value)\u001b[0m\n\u001b[0;32m    852\u001b[0m     by \u001b[38;5;241m=\u001b[39m By\u001b[38;5;241m.\u001b[39mCSS_SELECTOR\n\u001b[0;32m    853\u001b[0m     value \u001b[38;5;241m=\u001b[39m \u001b[38;5;124m'\u001b[39m\u001b[38;5;124m[name=\u001b[39m\u001b[38;5;124m\"\u001b[39m\u001b[38;5;132;01m%s\u001b[39;00m\u001b[38;5;124m\"\u001b[39m\u001b[38;5;124m]\u001b[39m\u001b[38;5;124m'\u001b[39m \u001b[38;5;241m%\u001b[39m value\n\u001b[1;32m--> 855\u001b[0m \u001b[38;5;28;01mreturn\u001b[39;00m \u001b[38;5;28;43mself\u001b[39;49m\u001b[38;5;241;43m.\u001b[39;49m\u001b[43mexecute\u001b[49m\u001b[43m(\u001b[49m\u001b[43mCommand\u001b[49m\u001b[38;5;241;43m.\u001b[39;49m\u001b[43mFIND_ELEMENT\u001b[49m\u001b[43m,\u001b[49m\u001b[43m \u001b[49m\u001b[43m{\u001b[49m\n\u001b[0;32m    856\u001b[0m \u001b[43m    \u001b[49m\u001b[38;5;124;43m'\u001b[39;49m\u001b[38;5;124;43musing\u001b[39;49m\u001b[38;5;124;43m'\u001b[39;49m\u001b[43m:\u001b[49m\u001b[43m \u001b[49m\u001b[43mby\u001b[49m\u001b[43m,\u001b[49m\n\u001b[0;32m    857\u001b[0m \u001b[43m    \u001b[49m\u001b[38;5;124;43m'\u001b[39;49m\u001b[38;5;124;43mvalue\u001b[39;49m\u001b[38;5;124;43m'\u001b[39;49m\u001b[43m:\u001b[49m\u001b[43m \u001b[49m\u001b[43mvalue\u001b[49m\u001b[43m}\u001b[49m\u001b[43m)\u001b[49m[\u001b[38;5;124m'\u001b[39m\u001b[38;5;124mvalue\u001b[39m\u001b[38;5;124m'\u001b[39m]\n",
      "File \u001b[1;32m~\\Anaconda3\\lib\\site-packages\\selenium\\webdriver\\remote\\webdriver.py:428\u001b[0m, in \u001b[0;36mWebDriver.execute\u001b[1;34m(self, driver_command, params)\u001b[0m\n\u001b[0;32m    426\u001b[0m response \u001b[38;5;241m=\u001b[39m \u001b[38;5;28mself\u001b[39m\u001b[38;5;241m.\u001b[39mcommand_executor\u001b[38;5;241m.\u001b[39mexecute(driver_command, params)\n\u001b[0;32m    427\u001b[0m \u001b[38;5;28;01mif\u001b[39;00m response:\n\u001b[1;32m--> 428\u001b[0m     \u001b[38;5;28;43mself\u001b[39;49m\u001b[38;5;241;43m.\u001b[39;49m\u001b[43merror_handler\u001b[49m\u001b[38;5;241;43m.\u001b[39;49m\u001b[43mcheck_response\u001b[49m\u001b[43m(\u001b[49m\u001b[43mresponse\u001b[49m\u001b[43m)\u001b[49m\n\u001b[0;32m    429\u001b[0m     response[\u001b[38;5;124m'\u001b[39m\u001b[38;5;124mvalue\u001b[39m\u001b[38;5;124m'\u001b[39m] \u001b[38;5;241m=\u001b[39m \u001b[38;5;28mself\u001b[39m\u001b[38;5;241m.\u001b[39m_unwrap_value(\n\u001b[0;32m    430\u001b[0m         response\u001b[38;5;241m.\u001b[39mget(\u001b[38;5;124m'\u001b[39m\u001b[38;5;124mvalue\u001b[39m\u001b[38;5;124m'\u001b[39m, \u001b[38;5;28;01mNone\u001b[39;00m))\n\u001b[0;32m    431\u001b[0m     \u001b[38;5;28;01mreturn\u001b[39;00m response\n",
      "File \u001b[1;32m~\\Anaconda3\\lib\\site-packages\\selenium\\webdriver\\remote\\errorhandler.py:243\u001b[0m, in \u001b[0;36mErrorHandler.check_response\u001b[1;34m(self, response)\u001b[0m\n\u001b[0;32m    241\u001b[0m         alert_text \u001b[38;5;241m=\u001b[39m value[\u001b[38;5;124m'\u001b[39m\u001b[38;5;124malert\u001b[39m\u001b[38;5;124m'\u001b[39m]\u001b[38;5;241m.\u001b[39mget(\u001b[38;5;124m'\u001b[39m\u001b[38;5;124mtext\u001b[39m\u001b[38;5;124m'\u001b[39m)\n\u001b[0;32m    242\u001b[0m     \u001b[38;5;28;01mraise\u001b[39;00m exception_class(message, screen, stacktrace, alert_text)  \u001b[38;5;66;03m# type: ignore[call-arg]  # mypy is not smart enough here\u001b[39;00m\n\u001b[1;32m--> 243\u001b[0m \u001b[38;5;28;01mraise\u001b[39;00m exception_class(message, screen, stacktrace)\n",
      "\u001b[1;31mNoSuchElementException\u001b[0m: Message: Unable to locate element: .rgInfoPart\nStacktrace:\nRemoteError@chrome://remote/content/shared/RemoteError.sys.mjs:8:8\nWebDriverError@chrome://remote/content/shared/webdriver/Errors.sys.mjs:191:5\nNoSuchElementError@chrome://remote/content/shared/webdriver/Errors.sys.mjs:509:5\ndom.find/</<@chrome://remote/content/shared/DOM.sys.mjs:136:16\n"
     ]
    }
   ],
   "source": [
    "print(\"Searching FDA TH using keywords...\")\n",
    "\n",
    "for keyword in keywords_indexed[101:200]:\n",
    "    collector = []\n",
    "    if keyword not in catch.keys() and len(keyword) > 3:\n",
    "        print(keyword)\n",
    "        try:\n",
    "            driver, total_results = load_search(keyword, driver)\n",
    "            page = 0\n",
    "            if not total_results == 'No records':\n",
    "                flag, table = extract_page_data(driver)\n",
    "                collector.append(table)\n",
    "                ## find next button until\n",
    "                total_res = total_results.strip().split(\" \")[0]\n",
    "                page_count = round(int(total_res) / 50)\n",
    "                while page <= page_count:\n",
    "                    page += 1\n",
    "                    wait = WebDriverWait(driver, 10)\n",
    "                    next_btn = wait.until(EC.element_to_be_clickable((By.CLASS_NAME, 'rgPageNext')))\n",
    "                    next_btn.click()\n",
    "                    table = extract_page_data(driver)\n",
    "                    collector.append(table)\n",
    "                    time.sleep(1)\n",
    "            else:\n",
    "                print(f\"No results for {keyword}.\")\n",
    "        except Exception as e:\n",
    "            print(f\"Error for {keyword}\")\n",
    "            raise(e)\n",
    "\n",
    "        if len(collector):\n",
    "            catch[keyword] = collector\n",
    "    \n",
    "    \n",
    "    \n",
    "    "
   ]
  },
  {
   "cell_type": "code",
   "execution_count": 7,
   "metadata": {},
   "outputs": [],
   "source": [
    "def load_search(keyword, driver):\n",
    "    \n",
    "    driver.get('https://porta.fda.moph.go.th/FDA_SEARCH_ALL/MAIN/SEARCH_CENTER_MAIN.aspx')\n",
    "    driver.maximize_window()\n",
    "    time.sleep(2)\n",
    "    try:\n",
    "        pop_close = driver.find_element(By.XPATH,'//*[@id=\"myModal2\"]/div/div/div[3]/button')\n",
    "        pop_close.click()\n",
    "    except Exception as e:\n",
    "        print(e, keyword)\n",
    "    #driver.find_element(By.XPATH , \"//div[@class = 'modal-content']/div[@class='modal-footer']/button[@class = 'btn btn-default']\").click()\n",
    "    time.sleep(4)\n",
    "\n",
    "    driver.find_element(By.XPATH , \"//div[@class = 'col-lg-2 col-md-2']/table/tbody/tr/td/input[@id = 'ContentPlaceHolder1_R_LIST']\").click()\n",
    "    time.sleep(4)\n",
    "\n",
    "    driver.find_element(By.ID , 'ContentPlaceHolder1_CheckBoxList1').find_element(By.XPATH , \"//tbody/tr[7]\").click()\n",
    "    time.sleep(4)\n",
    "\n",
    "    driver.execute_script(\"window.scrollTo(0, document.body.scrollHeight);\")\n",
    "    time.sleep(3)\n",
    "\n",
    "    wait = WebDriverWait(driver, 10)\n",
    "    search_btn = wait.until(EC.element_to_be_clickable((By.XPATH, '//*[@id=\"ContentPlaceHolder1_btn_search\"]')))\n",
    "    input_box = driver.find_element(By.XPATH, '//*[@id=\"ContentPlaceHolder1_txt_search\"]')\n",
    "    input_box.send_keys(keyword)\n",
    "    driver.execute_script(\"arguments[0].click();\", search_btn)\n",
    "    time.sleep(2)\n",
    "    wait = WebDriverWait(driver, 10)\n",
    "    \n",
    "    soup = BeautifulSoup(driver.page_source, 'html.parser')\n",
    "    flag, table = extract_page_data(driver)\n",
    "    if flag == 'No results':\n",
    "        return driver, 'No records'\n",
    "    else:\n",
    "        totals = wait.until(EC.element_to_be_clickable((By.XPATH, '//*[@id=\"ContentPlaceHolder1_RadGrid1_ctl00_ctl03_ctl01_PageSizeComboBox_Input\"]')))\n",
    "        totals.click()\n",
    "        fifty = driver.find_element(By.XPATH, '//*[@id=\"ContentPlaceHolder1_RadGrid1_ctl00_ctl03_ctl01_PageSizeComboBox_DropDown\"]/div/ul/li[3]')\n",
    "        fifty.click()\n",
    "        driver.execute_script(\"window.scrollTo(0, document.body.scrollHeight);\")\n",
    "        total_res_count = driver.find_element(By.CLASS_NAME,'rgInfoPart')\n",
    "        total_res_count = total_res_count.text\n",
    "\n",
    "        return driver, total_res_count\n",
    "    \n",
    "def extract_page_data(driver):\n",
    "    driver.execute_script(\"window.scrollTo(0, document.body.scrollHeight);\")\n",
    "    soup = BeautifulSoup(driver.page_source)\n",
    "    wait = WebDriverWait(driver, 10)\n",
    "    data = wait.until(EC.presence_of_element_located((By.CLASS_NAME, 'rgMasterTable')))\n",
    "    table = soup.find('table',{'class':'rgMasterTable'})\n",
    "    driver.execute_script(\"window.scrollTo(0, document.body.scrollHeight);\")\n",
    "    if 'No records to display.' in table.text:\n",
    "        return 'No results', table\n",
    "    else:\n",
    "        table = pd.read_html(str(table))[0]\n",
    "        return 'Found', table   \n",
    "        "
   ]
  },
  {
   "cell_type": "code",
   "execution_count": 65,
   "metadata": {},
   "outputs": [],
   "source": [
    "driver, count = load_search('roche',driver)"
   ]
  },
  {
   "cell_type": "code",
   "execution_count": 87,
   "metadata": {},
   "outputs": [],
   "source": [
    "driver.quit()"
   ]
  }
 ],
 "metadata": {
  "kernelspec": {
   "display_name": "Python 3 (ipykernel)",
   "language": "python",
   "name": "python3"
  },
  "language_info": {
   "codemirror_mode": {
    "name": "ipython",
    "version": 3
   },
   "file_extension": ".py",
   "mimetype": "text/x-python",
   "name": "python",
   "nbconvert_exporter": "python",
   "pygments_lexer": "ipython3",
   "version": "3.9.12"
  }
 },
 "nbformat": 4,
 "nbformat_minor": 4
}
