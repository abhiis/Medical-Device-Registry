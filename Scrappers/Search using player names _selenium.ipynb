{
 "cells": [
  {
   "cell_type": "code",
   "execution_count": 1,
   "id": "9dd798d1",
   "metadata": {},
   "outputs": [],
   "source": [
    "#!pip install plyer\n",
    "from plyer import notification\n",
    "from selenium import webdriver\n",
    "from selenium.webdriver.firefox.options import Options\n",
    "from bs4 import BeautifulSoup\n",
    "import geckodriver_autoinstaller\n",
    "from selenium.webdriver.common.by import By\n",
    "from selenium.webdriver.support.ui import WebDriverWait\n",
    "from selenium.webdriver.support import expected_conditions as EC\n",
    "from tqdm import tqdm\n",
    "from datetime import datetime as date\n",
    "import pandas as pd, numpy as np\n",
    "import warnings as ws\n",
    "ws.filterwarnings(\"ignore\")\n",
    "import re, os, time, glob\n",
    "from selenium.common.exceptions import NoSuchElementException, ElementClickInterceptedException, TimeoutException\n",
    "from selenium.webdriver.common.keys import Keys\n",
    "import pickle\n",
    "from typing import List\n",
    "# Create directory if it doesn't exist\n",
    "directory = \"Fetched Data\"\n",
    "if not os.path.exists(directory):\n",
    "    os.makedirs(directory)\n",
    "\n",
    "\n",
    "def clean_str(string):\n",
    "    string = string.replace('\\xa0', \" \").strip()\n",
    "    string = string.replace('\\n', \"\")\n",
    "    string = string.replace('\\t', \"\")\n",
    "    return string.strip()"
   ]
  },
  {
   "cell_type": "code",
   "execution_count": null,
   "id": "5e136d9b",
   "metadata": {},
   "outputs": [],
   "source": [
    "# Initialize Firefox with options\n",
    "options = Options()\n",
    "options.binary_location = r'C:\\Program Files\\Mozilla Firefox\\firefox.exe'\n",
    "geckodriver_autoinstaller.install()\n",
    "firefox = webdriver.Firefox(options=options)"
   ]
  },
  {
   "cell_type": "code",
   "execution_count": null,
   "id": "dcbbfedd",
   "metadata": {},
   "outputs": [],
   "source": [
    "BASE_URL = 'https://e-katalog.lkpp.go.id'\n",
    "firefox.get(BASE_URL)\n",
    "WebDriverWait(firefox, timeout = 10)"
   ]
  },
  {
   "cell_type": "code",
   "execution_count": null,
   "id": "bda9abe9",
   "metadata": {},
   "outputs": [],
   "source": [
    "search_bar = firefox.find_element(By.ID, 'search-bar')\n",
    "search_bar.send_keys('abbott')\n",
    "time.sleep(1)\n",
    "search_bar.send_keys(Keys.ENTER)"
   ]
  },
  {
   "cell_type": "code",
   "execution_count": null,
   "id": "43d5ee31",
   "metadata": {},
   "outputs": [],
   "source": [
    "## ANTI BOT"
   ]
  }
 ],
 "metadata": {
  "kernelspec": {
   "display_name": "Python 3 (ipykernel)",
   "language": "python",
   "name": "python3"
  },
  "language_info": {
   "codemirror_mode": {
    "name": "ipython",
    "version": 3
   },
   "file_extension": ".py",
   "mimetype": "text/x-python",
   "name": "python",
   "nbconvert_exporter": "python",
   "pygments_lexer": "ipython3",
   "version": "3.9.12"
  }
 },
 "nbformat": 4,
 "nbformat_minor": 5
}
