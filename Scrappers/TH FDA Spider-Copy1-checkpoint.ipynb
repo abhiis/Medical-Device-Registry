{
 "cells": [
  {
   "cell_type": "markdown",
   "metadata": {},
   "source": [
    "### Thai - Registry : Scraping translated data"
   ]
  },
  {
   "cell_type": "markdown",
   "metadata": {},
   "source": [
    "### https://porta.fda.moph.go.th/FDA_SEARCH_ALL/MAIN/SEARCH_CENTER_MAIN.aspx"
   ]
  },
  {
   "cell_type": "code",
   "execution_count": 1,
   "metadata": {},
   "outputs": [
    {
     "name": "stdout",
     "output_type": "stream",
     "text": [
      "Firefox version:  117.0.1\n",
      "Available geckodriver version:  v0.34.0\n"
     ]
    }
   ],
   "source": [
    "#!pip install plyer\n",
    "#from plyer import notification\n",
    "from selenium import webdriver\n",
    "from selenium.webdriver.firefox.options import Options\n",
    "from bs4 import BeautifulSoup\n",
    "import geckodriver_autoinstaller\n",
    "from selenium.webdriver.common.by import By\n",
    "from selenium.webdriver.support.ui import WebDriverWait\n",
    "from selenium.webdriver.support import expected_conditions as EC\n",
    "from tqdm import tqdm\n",
    "from datetime import datetime as date\n",
    "import pandas as pd, numpy as np\n",
    "import warnings as ws\n",
    "ws.filterwarnings(\"ignore\")\n",
    "import re, os, time, glob\n",
    "from selenium.common.exceptions import NoSuchElementException, ElementClickInterceptedException, TimeoutException\n",
    "from selenium.webdriver.common.keys import Keys\n",
    "import pickle\n",
    "from typing import List\n",
    "# Create directory if it doesn't exist\n",
    "directory = \"Fetched Data\"\n",
    "if not os.path.exists(directory):\n",
    "    os.makedirs(directory)\n",
    "# Initialize Firefox with options\n",
    "options = Options()\n",
    "options.binary_location = r'C:\\Program Files\\Mozilla Firefox\\firefox.exe'\n",
    "geckodriver_autoinstaller.install()\n",
    "\n",
    "\n",
    "def clean_str(string):\n",
    "    string = string.replace('\\xa0', \" \").strip()\n",
    "    string = string.replace('\\n', \"\")\n",
    "    string = string.replace('\\t', \"\")\n",
    "    return string.strip()"
   ]
  },
  {
   "cell_type": "code",
   "execution_count": 5,
   "metadata": {},
   "outputs": [],
   "source": [
    "website1 = \"https://porta.fda.moph.go.th/FDA_SEARCH_ALL/MAIN/SEARCH_CENTER_MAIN.aspx\""
   ]
  },
  {
   "cell_type": "code",
   "execution_count": 2,
   "metadata": {},
   "outputs": [],
   "source": [
    "# chrome_options = Options()\n",
    "# chrome_options.add_argument(\"--lang=en\");\n",
    "# chrome_options.add_experimental_option('excludeSwitches', ['enable-logging'])\n",
    "# prefs = {\n",
    "#         \"translate_whitelists\": {'th':'en'},\n",
    "#        \"translate\":{\"enabled\":\"true\"}}\n",
    "# chrome_options.add_experimental_option(\"prefs\", prefs)\n",
    "driver = webdriver.Firefox(options=options)\n",
    "# time.sleep(5)\n",
    "# driver.get('https://porta.fda.moph.go.th/FDA_SEARCH_ALL/MAIN/SEARCH_CENTER_MAIN.aspx')\n",
    "\n",
    "\n",
    "# driver.maximize_window()\n",
    "\n",
    "# driver.find_element(By.XPATH , \"//div[@class = 'modal-content']/div[@class='modal-footer']/button[@class = 'btn btn-default']\").click()\n",
    "# time.sleep(4)\n",
    "\n",
    "# driver.find_element(By.XPATH , \"//div[@class = 'col-lg-2 col-md-2']/table/tbody/tr/td/input[@id = 'ContentPlaceHolder1_R_LIST']\").click()\n",
    "# time.sleep(4)\n",
    "\n",
    "# driver.find_element(By.ID , 'ContentPlaceHolder1_CheckBoxList1').find_element(By.XPATH , \"//tbody/tr[7]\").click()\n",
    "# time.sleep(4)\n",
    "\n",
    "# driver.execute_script(\"window.scrollTo(0, document.body.scrollHeight);\")\n",
    "# time.sleep(3)"
   ]
  },
  {
   "cell_type": "code",
   "execution_count": null,
   "metadata": {},
   "outputs": [],
   "source": [
    "## fill search"
   ]
  },
  {
   "cell_type": "code",
   "execution_count": 66,
   "metadata": {},
   "outputs": [],
   "source": [
    "#table = pd.read_html(website1)\n",
    "#print('Tables found:', len(table))\n",
    "#table[0]"
   ]
  },
  {
   "cell_type": "markdown",
   "metadata": {},
   "source": [
    "#### Product Types"
   ]
  },
  {
   "cell_type": "code",
   "execution_count": 9,
   "metadata": {},
   "outputs": [
    {
     "data": {
      "text/plain": [
       "'medical equipment'"
      ]
     },
     "execution_count": 9,
     "metadata": {},
     "output_type": "execute_result"
    }
   ],
   "source": [
    "driver.find_element(By.XPATH , \"//table[@id='ContentPlaceHolder1_RadGrid1_ctl00']/tbody/tr/td[2]\").text"
   ]
  },
  {
   "cell_type": "code",
   "execution_count": 10,
   "metadata": {},
   "outputs": [],
   "source": [
    "Product_types = driver.find_elements(By.XPATH , \"//table[@id='ContentPlaceHolder1_CheckBoxList1']/tbody/tr/td[2]\")"
   ]
  },
  {
   "cell_type": "code",
   "execution_count": 11,
   "metadata": {},
   "outputs": [],
   "source": [
    "for i in Product_types:\n",
    "    print(i.text)"
   ]
  },
  {
   "cell_type": "markdown",
   "metadata": {},
   "source": [
    "#### CAT_NOS"
   ]
  },
  {
   "cell_type": "code",
   "execution_count": 12,
   "metadata": {},
   "outputs": [],
   "source": [
    "CAT_NOS = driver.find_elements(By.XPATH , \"//table[@id='ContentPlaceHolder1_RadGrid1_ctl00']/tbody/tr/td[3]\")"
   ]
  },
  {
   "cell_type": "code",
   "execution_count": 13,
   "metadata": {},
   "outputs": [
    {
     "name": "stdout",
     "output_type": "stream",
     "text": [
      "06N46-001\n",
      "06N46-002\n",
      "130-239-2\n",
      "130-239-3\n",
      "130-239-4\n",
      "1240/1\n",
      "1240/2\n",
      "1240/3\n",
      "1240/4\n",
      "WA40606A\n"
     ]
    }
   ],
   "source": [
    "for i in CAT_NOS:\n",
    "    print(i.text)"
   ]
  },
  {
   "cell_type": "markdown",
   "metadata": {},
   "source": [
    "#### Certificate_Licenses"
   ]
  },
  {
   "cell_type": "code",
   "execution_count": 14,
   "metadata": {},
   "outputs": [],
   "source": [
    "Cert_Licenses = driver.find_elements(By.XPATH , \"//table[@id='ContentPlaceHolder1_RadGrid1_ctl00']/tbody/tr/td[5]\")"
   ]
  },
  {
   "cell_type": "code",
   "execution_count": 15,
   "metadata": {},
   "outputs": [
    {
     "name": "stdout",
     "output_type": "stream",
     "text": [
      "USA6000917\n",
      "USA6000917\n",
      "PAK5702543\n",
      "PAK5702543\n",
      "PAK5702543\n",
      "PAK5705526\n",
      "PAK5705526\n",
      "PAK5705526\n",
      "PAK5705526\n",
      "DEU5802629\n"
     ]
    }
   ],
   "source": [
    "for i in Cert_Licenses:\n",
    "    print(i.text)"
   ]
  },
  {
   "cell_type": "markdown",
   "metadata": {},
   "source": [
    "#### Product_Names"
   ]
  },
  {
   "cell_type": "code",
   "execution_count": 16,
   "metadata": {},
   "outputs": [],
   "source": [
    "Product_Names = driver.find_elements(By.XPATH , \"//table[@id='ContentPlaceHolder1_RadGrid1_ctl00']/tbody/tr/td[6]\")"
   ]
  },
  {
   "cell_type": "code",
   "execution_count": 17,
   "metadata": {},
   "outputs": [
    {
     "name": "stdout",
     "output_type": "stream",
     "text": [
      "Abbott Protease IV (75 mg)\n",
      "Abbott Protease IV (75 mg)\n",
      "Abbott Protease IV (750 mg)\n",
      "Abbott Protease IV (750 mg)\n",
      "SCALERS: abbott Fig No. 2, SS.\n",
      "SCALERS: abbott Fig No. 2, SS.\n",
      "SCALERS: abbott Fig No. 2, SS.\n",
      "SCALERS: abbott Fig No. 2, SS.\n",
      "SCALERS: abbott Fig No. 4, SS.\n",
      "SCALERS: abbott Fig No. 4, SS.\n",
      "Scalers, Abbott, 1240/1\n",
      "Scalers, Abbott, 1240/1 Scalers\n",
      "Scalers, Abbott, 1240/2\n",
      "Scalers, Abbott, 1240/2 Scalers\n",
      "Scalers, Abbott, 1240/3\n",
      "Scalers, Abbott, 1240/3 Scalers\n",
      "Scalers, Abbott, 1240/4\n",
      "Scalers, Abbott, 1240/4 Scalers\n",
      "Adapter for container Abbott\n",
      "Adapter for container Abbott\n"
     ]
    }
   ],
   "source": [
    "for i in Product_Names:\n",
    "    print(i.text)"
   ]
  },
  {
   "cell_type": "markdown",
   "metadata": {},
   "source": [
    "#### trade_names"
   ]
  },
  {
   "cell_type": "code",
   "execution_count": 18,
   "metadata": {},
   "outputs": [],
   "source": [
    "trade_names = driver.find_elements(By.XPATH , \"//table[@id='ContentPlaceHolder1_RadGrid1_ctl00']/tbody/tr/td[7]\")"
   ]
  },
  {
   "cell_type": "code",
   "execution_count": 19,
   "metadata": {},
   "outputs": [
    {
     "name": "stdout",
     "output_type": "stream",
     "text": [
      " \n",
      " \n",
      " \n",
      " \n",
      " \n",
      "Scalers\n",
      "Scalers\n",
      "Scalers\n",
      "Scalers\n",
      " \n"
     ]
    }
   ],
   "source": [
    "for i in trade_names:\n",
    "    print(i.text)"
   ]
  },
  {
   "cell_type": "code",
   "execution_count": 20,
   "metadata": {},
   "outputs": [],
   "source": [
    "Licensee_Names = driver.find_elements(By.XPATH , \"//table[@id='ContentPlaceHolder1_RadGrid1_ctl00']/tbody/tr/td[9]\")"
   ]
  },
  {
   "cell_type": "code",
   "execution_count": 21,
   "metadata": {},
   "outputs": [
    {
     "name": "stdout",
     "output_type": "stream",
     "text": [
      "BCCMDX Company Limited\n",
      "BCCMDX Company Limited\n",
      "Chumit 1967 Company Limited\n",
      "Chumit 1967 Company Limited\n",
      "Chumit 1967 Company Limited\n",
      "Drive Dental Incorporation Company Limited\n",
      "Drive Dental Incorporation Company Limited\n",
      "Drive Dental Incorporation Company Limited\n",
      "Drive Dental Incorporation Company Limited\n",
      "Olympus (Thailand) Company Limited\n"
     ]
    }
   ],
   "source": [
    "for i in Licensee_Names:\n",
    "    print(i.text)"
   ]
  },
  {
   "cell_type": "markdown",
   "metadata": {},
   "source": [
    "#### Product_details"
   ]
  },
  {
   "cell_type": "code",
   "execution_count": 22,
   "metadata": {},
   "outputs": [],
   "source": [
    "Product_details = driver.find_elements(By.XPATH , \"//table[@id='ContentPlaceHolder1_RadGrid1_ctl00']/tbody/tr/td[10]\")"
   ]
  },
  {
   "cell_type": "code",
   "execution_count": 23,
   "metadata": {},
   "outputs": [
    {
     "name": "stdout",
     "output_type": "stream",
     "text": [
      "Abbott Protease IV (75 mg)\n",
      "Abbott Protease IV (750 mg)\n",
      "SCALERS: ABBOTT Fig No. 2, SS.\n",
      "SCALERS: ABBOTT Fig No. 2, SS.\n",
      "SCALERS: ABBOTT Fig No. 4, SS.\n",
      "Scalers, Abbott, 1240/1\n",
      "Scalers, Abbott, 1240/2\n",
      "Scalers, Abbott, 1240/3\n",
      "Scalers, Abbott, 1240/4\n",
      "Adapter for container Abbott WA40606A\n"
     ]
    }
   ],
   "source": [
    "for i in Product_details:\n",
    "    print(i.text)"
   ]
  },
  {
   "cell_type": "markdown",
   "metadata": {},
   "source": [
    "#### New_Codes "
   ]
  },
  {
   "cell_type": "code",
   "execution_count": 24,
   "metadata": {},
   "outputs": [],
   "source": [
    "New_Codes = driver.find_elements(By.XPATH , \"//table[@id='ContentPlaceHolder1_RadGrid1_ctl00']/tbody/tr/td[11]\")"
   ]
  },
  {
   "cell_type": "code",
   "execution_count": 25,
   "metadata": {},
   "outputs": [
    {
     "name": "stdout",
     "output_type": "stream",
     "text": [
      "U1MC000102009350000902902C\n",
      "U1MC000102009350000903903C\n",
      "U1MC0001020182500021802180C\n",
      "U1MC0001020182500021812181C\n",
      "U1MC0001020182500021822182C\n",
      "U1MC000102034730000419419C\n",
      "U1MC000102034730000420420C\n",
      "U1MC000102034730000421421C\n",
      "U1MC000102034730000422422C\n",
      "U1MC0001020398700000066C\n"
     ]
    }
   ],
   "source": [
    "for i in New_Codes:\n",
    "    print(i.text)"
   ]
  },
  {
   "cell_type": "markdown",
   "metadata": {},
   "source": [
    "#### Statuss"
   ]
  },
  {
   "cell_type": "code",
   "execution_count": 26,
   "metadata": {},
   "outputs": [],
   "source": [
    "Statuss = driver.find_elements(By.XPATH , \"//table[@id='ContentPlaceHolder1_RadGrid1_ctl00']/tbody/tr/td[15]\")"
   ]
  },
  {
   "cell_type": "code",
   "execution_count": 27,
   "metadata": {},
   "outputs": [
    {
     "name": "stdout",
     "output_type": "stream",
     "text": [
      "expire\n",
      "expire\n",
      "expire\n",
      "expire\n",
      "expire\n",
      "expire\n",
      "expire\n",
      "expire\n",
      "expire\n",
      "expire\n"
     ]
    }
   ],
   "source": [
    "for i in Statuss:\n",
    "    print(i.text)"
   ]
  },
  {
   "cell_type": "markdown",
   "metadata": {},
   "source": [
    "### For One Page"
   ]
  },
  {
   "cell_type": "code",
   "execution_count": 28,
   "metadata": {},
   "outputs": [],
   "source": [
    "Product_types = driver.find_elements(By.XPATH , \"//table[@id='ContentPlaceHolder1_RadGrid1_ctl00']/tbody/tr/td[2]\")\n",
    "CAT_NOS = driver.find_elements(By.XPATH , \"//table[@id='ContentPlaceHolder1_RadGrid1_ctl00']/tbody/tr/td[3]\")\n",
    "Cert_Licenses = driver.find_elements(By.XPATH , \"//table[@id='ContentPlaceHolder1_RadGrid1_ctl00']/tbody/tr/td[5]\")\n",
    "Product_Names = driver.find_elements(By.XPATH , \"//table[@id='ContentPlaceHolder1_RadGrid1_ctl00']/tbody/tr/td[6]\")\n",
    "trade_names = driver.find_elements(By.XPATH , \"//table[@id='ContentPlaceHolder1_RadGrid1_ctl00']/tbody/tr/td[7]\")\n",
    "Licensee_Names = driver.find_elements(By.XPATH , \"//table[@id='ContentPlaceHolder1_RadGrid1_ctl00']/tbody/tr/td[9]\")\n",
    "Product_details = driver.find_elements(By.XPATH , \"//table[@id='ContentPlaceHolder1_RadGrid1_ctl00']/tbody/tr/td[10]\")\n",
    "New_Codes = driver.find_elements(By.XPATH , \"//table[@id='ContentPlaceHolder1_RadGrid1_ctl00']/tbody/tr/td[11]\")\n",
    "Statuss = driver.find_elements(By.XPATH , \"//table[@id='ContentPlaceHolder1_RadGrid1_ctl00']/tbody/tr/td[15]\")\n",
    "\n",
    "Product_result = []\n",
    "\n",
    "for i in range(len(Product_types)):\n",
    "    temporary_data = {'Product_type': Product_types[i].text,\n",
    "                    'CAT_NO': CAT_NOS[i].text,\n",
    "                     'Cert_License' : Cert_Licenses[i].text,\n",
    "                     'Product_Name' : Product_Names[i].text,\n",
    "                     'trade_name' : trade_names[i].text,\n",
    "                     'Licensee_Name' : Licensee_Names[i].text,\n",
    "                     'Product_details' : Product_details[i].text,\n",
    "                     'New_Codes' : New_Codes[i].text,\n",
    "                     'Status' : Statuss[i].text}\n",
    "    Product_result.append(temporary_data)"
   ]
  },
  {
   "cell_type": "code",
   "execution_count": 35,
   "metadata": {},
   "outputs": [],
   "source": [
    "df_data= pd.DataFrame(Product_result)"
   ]
  },
  {
   "cell_type": "code",
   "execution_count": 36,
   "metadata": {},
   "outputs": [
    {
     "data": {
      "text/plain": [
       "(26, 9)"
      ]
     },
     "execution_count": 36,
     "metadata": {},
     "output_type": "execute_result"
    }
   ],
   "source": [
    "df_data.shape"
   ]
  },
  {
   "cell_type": "code",
   "execution_count": 37,
   "metadata": {},
   "outputs": [
    {
     "data": {
      "text/html": [
       "<div>\n",
       "<style scoped>\n",
       "    .dataframe tbody tr th:only-of-type {\n",
       "        vertical-align: middle;\n",
       "    }\n",
       "\n",
       "    .dataframe tbody tr th {\n",
       "        vertical-align: top;\n",
       "    }\n",
       "\n",
       "    .dataframe thead th {\n",
       "        text-align: right;\n",
       "    }\n",
       "</style>\n",
       "<table border=\"1\" class=\"dataframe\">\n",
       "  <thead>\n",
       "    <tr style=\"text-align: right;\">\n",
       "      <th></th>\n",
       "      <th>Product_type</th>\n",
       "      <th>CAT_NO</th>\n",
       "      <th>Cert_License</th>\n",
       "      <th>Product_Name</th>\n",
       "      <th>trade_name</th>\n",
       "      <th>Licensee_Name</th>\n",
       "      <th>Product_details</th>\n",
       "      <th>New_Codes</th>\n",
       "      <th>Status</th>\n",
       "    </tr>\n",
       "  </thead>\n",
       "  <tbody>\n",
       "    <tr>\n",
       "      <th>0</th>\n",
       "      <td>medical equipment</td>\n",
       "      <td>MONACCO6</td>\n",
       "      <td>66-2-2-2-0011710</td>\n",
       "      <td>\\nPatient Monitor 12PIN Interface cable with ...</td>\n",
       "      <td>12PIN Interface cable with connector (Abbott)</td>\n",
       "      <td>S.C.S. (Digitech) Products Co., Ltd.</td>\n",
       "      <td>Brand: Projects</td>\n",
       "      <td>U1MN000102661288236000112112C</td>\n",
       "      <td>remain</td>\n",
       "    </tr>\n",
       "    <tr>\n",
       "      <th>1</th>\n",
       "      <td>medical equipment</td>\n",
       "      <td>2606490</td>\n",
       "      <td>66-2-2-2-0017569</td>\n",
       "      <td>\\nDraeger Vista 120 Patient Monitor IBP Cable...</td>\n",
       "      <td>IBP Cable Abbott, Medex</td>\n",
       "      <td>Draeger Medical (Thailand) Company Limited</td>\n",
       "      <td>-</td>\n",
       "      <td>U1MN00010266130144300002525C</td>\n",
       "      <td>remain</td>\n",
       "    </tr>\n",
       "    <tr>\n",
       "      <th>2</th>\n",
       "      <td>medical equipment</td>\n",
       "      <td>2G34-90</td>\n",
       "      <td>66-2-2-1-0017894</td>\n",
       "      <td>\\nAbbott RealTime HBV Amplification Reagent K...</td>\n",
       "      <td>Abbott RealTime HBV Amplification Reagent Kit</td>\n",
       "      <td>Q Bioscience Company Limited</td>\n",
       "      <td>-</td>\n",
       "      <td>U1MN0001026613085590000011C</td>\n",
       "      <td>remain</td>\n",
       "    </tr>\n",
       "    <tr>\n",
       "      <th>3</th>\n",
       "      <td>medical equipment</td>\n",
       "      <td>2G34-80</td>\n",
       "      <td>66-2-2-1-0017894</td>\n",
       "      <td>\\nAbbott RealTime HBV Amplification Reagent K...</td>\n",
       "      <td>Abbott RealTime HBV Control Kit</td>\n",
       "      <td>Q Bioscience Company Limited</td>\n",
       "      <td>-</td>\n",
       "      <td>U1MN0001026613085590000022C</td>\n",
       "      <td>remain</td>\n",
       "    </tr>\n",
       "    <tr>\n",
       "      <th>4</th>\n",
       "      <td>medical equipment</td>\n",
       "      <td>2G34-70</td>\n",
       "      <td>66-2-2-1-0017894</td>\n",
       "      <td>\\nAbbott RealTime HBV Amplification Reagent K...</td>\n",
       "      <td>Abbott RealTime HBV Calibrator Kit</td>\n",
       "      <td>Q Bioscience Company Limited</td>\n",
       "      <td>-</td>\n",
       "      <td>U1MN0001026613085590000033C</td>\n",
       "      <td>remain</td>\n",
       "    </tr>\n",
       "    <tr>\n",
       "      <th>5</th>\n",
       "      <td>medical equipment</td>\n",
       "      <td>08L35-005</td>\n",
       "      <td>66-2-2-1-0017894</td>\n",
       "      <td>\\nAbbott RealTime HBV Amplification Reagent K...</td>\n",
       "      <td>Abbott RealTime HBV m2000 System ROW Combined ...</td>\n",
       "      <td>Q Bioscience Company Limited</td>\n",
       "      <td>-</td>\n",
       "      <td>U1MN0001026613085590000044C</td>\n",
       "      <td>remain</td>\n",
       "    </tr>\n",
       "    <tr>\n",
       "      <th>6</th>\n",
       "      <td>medical equipment</td>\n",
       "      <td>4J86-90</td>\n",
       "      <td>66-2-2-1-0017895</td>\n",
       "      <td>\\nAbbott RealTime HCV Amplification Reagent K...</td>\n",
       "      <td>Abbott RealTime HCV Amplification Reagent Kit</td>\n",
       "      <td>Q Bioscience Company Limited</td>\n",
       "      <td>-</td>\n",
       "      <td>U1MN0001026613087160000011C</td>\n",
       "      <td>remain</td>\n",
       "    </tr>\n",
       "    <tr>\n",
       "      <th>7</th>\n",
       "      <td>medical equipment</td>\n",
       "      <td>4J86-80</td>\n",
       "      <td>66-2-2-1-0017895</td>\n",
       "      <td>\\nAbbott RealTime HCV Amplification Reagent K...</td>\n",
       "      <td>Abbott RealTime HCV Control Kit</td>\n",
       "      <td>Q Bioscience Company Limited</td>\n",
       "      <td>-</td>\n",
       "      <td>U1MN0001026613087160000022C</td>\n",
       "      <td>remain</td>\n",
       "    </tr>\n",
       "    <tr>\n",
       "      <th>8</th>\n",
       "      <td>medical equipment</td>\n",
       "      <td>4J86-70</td>\n",
       "      <td>66-2-2-1-0017895</td>\n",
       "      <td>\\nAbbott RealTime HCV Amplification Reagent K...</td>\n",
       "      <td>Abbott RealTime HCV Calibrator Kit</td>\n",
       "      <td>Q Bioscience Company Limited</td>\n",
       "      <td>-</td>\n",
       "      <td>U1MN0001026613087160000033C</td>\n",
       "      <td>remain</td>\n",
       "    </tr>\n",
       "    <tr>\n",
       "      <th>9</th>\n",
       "      <td>medical equipment</td>\n",
       "      <td>01L69-008</td>\n",
       "      <td>66-2-2-1-0017895</td>\n",
       "      <td>\\nAbbott RealTime HCV Amplification Reagent K...</td>\n",
       "      <td>Abbott RealTime HCV m2000 ROW System Combined ...</td>\n",
       "      <td>Q Bioscience Company Limited</td>\n",
       "      <td>-</td>\n",
       "      <td>U1MN0001026613087160000044C</td>\n",
       "      <td>remain</td>\n",
       "    </tr>\n",
       "  </tbody>\n",
       "</table>\n",
       "</div>"
      ],
      "text/plain": [
       "        Product_type     CAT_NO      Cert_License  \\\n",
       "0  medical equipment   MONACCO6  66-2-2-2-0011710   \n",
       "1  medical equipment    2606490  66-2-2-2-0017569   \n",
       "2  medical equipment    2G34-90  66-2-2-1-0017894   \n",
       "3  medical equipment    2G34-80  66-2-2-1-0017894   \n",
       "4  medical equipment    2G34-70  66-2-2-1-0017894   \n",
       "5  medical equipment  08L35-005  66-2-2-1-0017894   \n",
       "6  medical equipment    4J86-90  66-2-2-1-0017895   \n",
       "7  medical equipment    4J86-80  66-2-2-1-0017895   \n",
       "8  medical equipment    4J86-70  66-2-2-1-0017895   \n",
       "9  medical equipment  01L69-008  66-2-2-1-0017895   \n",
       "\n",
       "                                        Product_Name  \\\n",
       "0   \\nPatient Monitor 12PIN Interface cable with ...   \n",
       "1   \\nDraeger Vista 120 Patient Monitor IBP Cable...   \n",
       "2   \\nAbbott RealTime HBV Amplification Reagent K...   \n",
       "3   \\nAbbott RealTime HBV Amplification Reagent K...   \n",
       "4   \\nAbbott RealTime HBV Amplification Reagent K...   \n",
       "5   \\nAbbott RealTime HBV Amplification Reagent K...   \n",
       "6   \\nAbbott RealTime HCV Amplification Reagent K...   \n",
       "7   \\nAbbott RealTime HCV Amplification Reagent K...   \n",
       "8   \\nAbbott RealTime HCV Amplification Reagent K...   \n",
       "9   \\nAbbott RealTime HCV Amplification Reagent K...   \n",
       "\n",
       "                                          trade_name  \\\n",
       "0      12PIN Interface cable with connector (Abbott)   \n",
       "1                            IBP Cable Abbott, Medex   \n",
       "2      Abbott RealTime HBV Amplification Reagent Kit   \n",
       "3                    Abbott RealTime HBV Control Kit   \n",
       "4                 Abbott RealTime HBV Calibrator Kit   \n",
       "5  Abbott RealTime HBV m2000 System ROW Combined ...   \n",
       "6      Abbott RealTime HCV Amplification Reagent Kit   \n",
       "7                    Abbott RealTime HCV Control Kit   \n",
       "8                 Abbott RealTime HCV Calibrator Kit   \n",
       "9  Abbott RealTime HCV m2000 ROW System Combined ...   \n",
       "\n",
       "                                Licensee_Name  Product_details  \\\n",
       "0        S.C.S. (Digitech) Products Co., Ltd.  Brand: Projects   \n",
       "1  Draeger Medical (Thailand) Company Limited                -   \n",
       "2                Q Bioscience Company Limited                -   \n",
       "3                Q Bioscience Company Limited                -   \n",
       "4                Q Bioscience Company Limited                -   \n",
       "5                Q Bioscience Company Limited                -   \n",
       "6                Q Bioscience Company Limited                -   \n",
       "7                Q Bioscience Company Limited                -   \n",
       "8                Q Bioscience Company Limited                -   \n",
       "9                Q Bioscience Company Limited                -   \n",
       "\n",
       "                       New_Codes  Status  \n",
       "0  U1MN000102661288236000112112C  remain  \n",
       "1   U1MN00010266130144300002525C  remain  \n",
       "2    U1MN0001026613085590000011C  remain  \n",
       "3    U1MN0001026613085590000022C  remain  \n",
       "4    U1MN0001026613085590000033C  remain  \n",
       "5    U1MN0001026613085590000044C  remain  \n",
       "6    U1MN0001026613087160000011C  remain  \n",
       "7    U1MN0001026613087160000022C  remain  \n",
       "8    U1MN0001026613087160000033C  remain  \n",
       "9    U1MN0001026613087160000044C  remain  "
      ]
     },
     "execution_count": 37,
     "metadata": {},
     "output_type": "execute_result"
    }
   ],
   "source": [
    "df_data.head(10)"
   ]
  },
  {
   "cell_type": "markdown",
   "metadata": {},
   "source": [
    "#### Find the NEXT button for Multiple Pages"
   ]
  },
  {
   "cell_type": "code",
   "execution_count": 32,
   "metadata": {},
   "outputs": [],
   "source": [
    "NEXT = driver.find_element(By.XPATH , \"//div[@class='rgWrap rgArrPart2']/input[@class='rgPageNext']\").click()"
   ]
  },
  {
   "cell_type": "markdown",
   "metadata": {},
   "source": [
    "### For multiple Pages"
   ]
  },
  {
   "cell_type": "code",
   "execution_count": 34,
   "metadata": {},
   "outputs": [
    {
     "ename": "KeyboardInterrupt",
     "evalue": "",
     "output_type": "error",
     "traceback": [
      "\u001b[1;31m---------------------------------------------------------------------------\u001b[0m",
      "\u001b[1;31mKeyboardInterrupt\u001b[0m                         Traceback (most recent call last)",
      "Input \u001b[1;32mIn [34]\u001b[0m, in \u001b[0;36m<cell line: 3>\u001b[1;34m()\u001b[0m\n\u001b[0;32m     31\u001b[0m Product_result_Final \u001b[38;5;241m=\u001b[39m Product_result_Final\u001b[38;5;241m.\u001b[39mappend(df_data , ignore_index \u001b[38;5;241m=\u001b[39m \u001b[38;5;28;01mTrue\u001b[39;00m)\n\u001b[0;32m     34\u001b[0m driver\u001b[38;5;241m.\u001b[39mfind_element(By\u001b[38;5;241m.\u001b[39mXPATH , \u001b[38;5;124m\"\u001b[39m\u001b[38;5;124m//div[@class=\u001b[39m\u001b[38;5;124m'\u001b[39m\u001b[38;5;124mrgWrap rgArrPart2\u001b[39m\u001b[38;5;124m'\u001b[39m\u001b[38;5;124m]/input[@class=\u001b[39m\u001b[38;5;124m'\u001b[39m\u001b[38;5;124mrgPageNext\u001b[39m\u001b[38;5;124m'\u001b[39m\u001b[38;5;124m]\u001b[39m\u001b[38;5;124m\"\u001b[39m)\u001b[38;5;241m.\u001b[39mclick()\n\u001b[1;32m---> 35\u001b[0m \u001b[43mtime\u001b[49m\u001b[38;5;241;43m.\u001b[39;49m\u001b[43msleep\u001b[49m\u001b[43m(\u001b[49m\u001b[38;5;241;43m2\u001b[39;49m\u001b[43m)\u001b[49m\n\u001b[0;32m     36\u001b[0m counter \u001b[38;5;241m+\u001b[39m\u001b[38;5;241m=\u001b[39m \u001b[38;5;241m1\u001b[39m\n",
      "\u001b[1;31mKeyboardInterrupt\u001b[0m: "
     ]
    }
   ],
   "source": [
    "Product_result_Final = pd.DataFrame([])\n",
    "counter = 0\n",
    "while counter < 100:\n",
    "    \n",
    "    driver.execute_script(\"window.scrollTo(0, document.body.scrollHeight);\")\n",
    "    time.sleep(2)\n",
    "    Product_types = driver.find_elements(By.XPATH , \"//table[@id='ContentPlaceHolder1_RadGrid1_ctl00']/tbody/tr/td[2]\")\n",
    "    CAT_NOS = driver.find_elements(By.XPATH , \"//table[@id='ContentPlaceHolder1_RadGrid1_ctl00']/tbody/tr/td[3]\")\n",
    "    Cert_Licenses = driver.find_elements(By.XPATH , \"//table[@id='ContentPlaceHolder1_RadGrid1_ctl00']/tbody/tr/td[5]\")\n",
    "    Product_Names = driver.find_elements(By.XPATH , \"//table[@id='ContentPlaceHolder1_RadGrid1_ctl00']/tbody/tr/td[6]\")\n",
    "    trade_names = driver.find_elements(By.XPATH , \"//table[@id='ContentPlaceHolder1_RadGrid1_ctl00']/tbody/tr/td[7]\")\n",
    "    Licensee_Names = driver.find_elements(By.XPATH , \"//table[@id='ContentPlaceHolder1_RadGrid1_ctl00']/tbody/tr/td[9]\")\n",
    "    Product_details = driver.find_elements(By.XPATH , \"//table[@id='ContentPlaceHolder1_RadGrid1_ctl00']/tbody/tr/td[10]\")\n",
    "    New_Codes = driver.find_elements(By.XPATH , \"//table[@id='ContentPlaceHolder1_RadGrid1_ctl00']/tbody/tr/td[11]\")\n",
    "    Statuss = driver.find_elements(By.XPATH , \"//table[@id='ContentPlaceHolder1_RadGrid1_ctl00']/tbody/tr/td[15]\")\n",
    "\n",
    "    Product_result = []\n",
    "\n",
    "    for i in range(len(Product_types)):\n",
    "        temporary_data = {'Product_type': Product_types[i].text,\n",
    "                        'CAT_NO': CAT_NOS[i].text,\n",
    "                         'Cert_License' : Cert_Licenses[i].text,\n",
    "                         'Product_Name' : Product_Names[i].text,\n",
    "                         'trade_name' : trade_names[i].text,\n",
    "                         'Licensee_Name' : Licensee_Names[i].text,\n",
    "                         'Product_details' : Product_details[i].text,\n",
    "                         'New_Codes' : New_Codes[i].text,\n",
    "                         'Status' : Statuss[i].text}\n",
    "        Product_result.append(temporary_data)\n",
    "    df_data= pd.DataFrame(Product_result)\n",
    "    Product_result_Final = Product_result_Final.append(df_data , ignore_index = True)\n",
    "        \n",
    "    \n",
    "    driver.find_element(By.XPATH , \"//div[@class='rgWrap rgArrPart2']/input[@class='rgPageNext']\").click()\n",
    "    time.sleep(2)\n",
    "    counter += 1"
   ]
  },
  {
   "cell_type": "code",
   "execution_count": 146,
   "metadata": {},
   "outputs": [
    {
     "data": {
      "text/html": [
       "<div>\n",
       "<style scoped>\n",
       "    .dataframe tbody tr th:only-of-type {\n",
       "        vertical-align: middle;\n",
       "    }\n",
       "\n",
       "    .dataframe tbody tr th {\n",
       "        vertical-align: top;\n",
       "    }\n",
       "\n",
       "    .dataframe thead th {\n",
       "        text-align: right;\n",
       "    }\n",
       "</style>\n",
       "<table border=\"1\" class=\"dataframe\">\n",
       "  <thead>\n",
       "    <tr style=\"text-align: right;\">\n",
       "      <th></th>\n",
       "      <th>Product_type</th>\n",
       "      <th>CAT_NO</th>\n",
       "      <th>Cert_License</th>\n",
       "      <th>Product_Name</th>\n",
       "      <th>trade_name</th>\n",
       "      <th>Licensee_Name</th>\n",
       "      <th>Product_details</th>\n",
       "      <th>New_Codes</th>\n",
       "      <th>Status</th>\n",
       "    </tr>\n",
       "  </thead>\n",
       "  <tbody>\n",
       "    <tr>\n",
       "      <th>0</th>\n",
       "      <td>medical equipment</td>\n",
       "      <td>None50</td>\n",
       "      <td>USA5805703</td>\n",
       "      <td>AEC ELECTRONICS FOR DR generators\\nAEC ELECTRO...</td>\n",
       "      <td></td>\n",
       "      <td>Carestream Health (Thailand) Co., Ltd.</td>\n",
       "      <td>AEC ELECTRONICS FOR DR GENERATORS</td>\n",
       "      <td>U1MC00010200727000004040C</td>\n",
       "      <td>expire</td>\n",
       "    </tr>\n",
       "    <tr>\n",
       "      <th>1</th>\n",
       "      <td>medical equipment</td>\n",
       "      <td>None182</td>\n",
       "      <td>USA5904658</td>\n",
       "      <td>AEC ELECTRONICS FOR DR generators\\nAEC ELECTRO...</td>\n",
       "      <td>DRX-ASCEND SYSTEM Accessories</td>\n",
       "      <td>Carestream Health (Thailand) Co., Ltd.</td>\n",
       "      <td>AEC ELECTRONICS FOR DR GENERATORS</td>\n",
       "      <td>U1MC000102007320000259259C</td>\n",
       "      <td>expire</td>\n",
       "    </tr>\n",
       "    <tr>\n",
       "      <th>2</th>\n",
       "      <td>medical equipment</td>\n",
       "      <td>13-1641VASL</td>\n",
       "      <td>DEU5601076</td>\n",
       "      <td>Bipolar cable for US-Generators\\nBipolar cable...</td>\n",
       "      <td></td>\n",
       "      <td>Astras Medical Co., Ltd.</td>\n",
       "      <td>Bipolar cable for US-Generators</td>\n",
       "      <td>U1MC000102010340000133133C</td>\n",
       "      <td>expire</td>\n",
       "    </tr>\n",
       "  </tbody>\n",
       "</table>\n",
       "</div>"
      ],
      "text/plain": [
       "        Product_type       CAT_NO Cert_License  \\\n",
       "0  medical equipment       None50   USA5805703   \n",
       "1  medical equipment      None182   USA5904658   \n",
       "2  medical equipment  13-1641VASL   DEU5601076   \n",
       "\n",
       "                                        Product_Name  \\\n",
       "0  AEC ELECTRONICS FOR DR generators\\nAEC ELECTRO...   \n",
       "1  AEC ELECTRONICS FOR DR generators\\nAEC ELECTRO...   \n",
       "2  Bipolar cable for US-Generators\\nBipolar cable...   \n",
       "\n",
       "                      trade_name                           Licensee_Name  \\\n",
       "0                                 Carestream Health (Thailand) Co., Ltd.   \n",
       "1  DRX-ASCEND SYSTEM Accessories  Carestream Health (Thailand) Co., Ltd.   \n",
       "2                                               Astras Medical Co., Ltd.   \n",
       "\n",
       "                     Product_details                   New_Codes  Status  \n",
       "0  AEC ELECTRONICS FOR DR GENERATORS   U1MC00010200727000004040C  expire  \n",
       "1  AEC ELECTRONICS FOR DR GENERATORS  U1MC000102007320000259259C  expire  \n",
       "2    Bipolar cable for US-Generators  U1MC000102010340000133133C  expire  "
      ]
     },
     "execution_count": 146,
     "metadata": {},
     "output_type": "execute_result"
    }
   ],
   "source": [
    "Product_result_Final.head(3)"
   ]
  },
  {
   "cell_type": "code",
   "execution_count": 99,
   "metadata": {},
   "outputs": [
    {
     "data": {
      "text/plain": [
       "(495, 9)"
      ]
     },
     "execution_count": 99,
     "metadata": {},
     "output_type": "execute_result"
    }
   ],
   "source": [
    "Product_result_Final.shape"
   ]
  },
  {
   "cell_type": "code",
   "execution_count": 114,
   "metadata": {},
   "outputs": [],
   "source": [
    "Product_result_Final.to_excel('df_THAI.xlsx' , index = False)"
   ]
  },
  {
   "cell_type": "code",
   "execution_count": 46,
   "metadata": {},
   "outputs": [
    {
     "data": {
      "text/plain": [
       "0"
      ]
     },
     "execution_count": 46,
     "metadata": {},
     "output_type": "execute_result"
    }
   ],
   "source": [
    "Product_result_Final.duplicated().sum()"
   ]
  },
  {
   "cell_type": "code",
   "execution_count": 40,
   "metadata": {},
   "outputs": [],
   "source": [
    "## Use IVD Gateway Major player to search MDA using company names\n",
    "major_players = pd.read_csv(\"IVD_gateway_major_players_actual.csv\")\n",
    "major_players \n",
    "players = major_players.player_name.values.tolist()\n",
    "## Split out company names delimited by '-'\n",
    "keywords = []\n",
    "for name in players:\n",
    "    if '-' in name:\n",
    "        spread_names = name.split('-')\n",
    "        for i in spread_names:\n",
    "            keywords.append(i.strip())\n",
    "    else:\n",
    "        keywords.append(name)"
   ]
  },
  {
   "cell_type": "code",
   "execution_count": 41,
   "metadata": {},
   "outputs": [],
   "source": [
    "len(set(keywords))\n",
    "keywords = list(set(keywords))"
   ]
  },
  {
   "cell_type": "code",
   "execution_count": null,
   "metadata": {},
   "outputs": [],
   "source": [
    "print(\"Searching FDA TH using keywords...\")\n",
    "catch = dict()\n",
    "for keyword in keywords[:5]:\n",
    "    collector = []\n",
    "    print(keyword, end=\" \")\n",
    "    try:\n",
    "        driver, total_results = load_search(keyword, driver)\n",
    "        if not total_results = 'No records'\n",
    "            flag, table = extract_page_data(driver)\n",
    "            ## find next button until\n",
    "            total_res = total_results.text.strip().split(\" \")[0]\n",
    "            page_count = total_res / 50\n",
    "            for page in range(page_count+1):\n",
    "                wait = WebDriverWait(driver, 10)\n",
    "                next_btn = wait.until(EC.element_to_be_clickable((By.CLASS_NAME, 'rgPageNext')))\n",
    "                next_btn.click()\n",
    "                table = extract_page_data(driver)\n",
    "                time.sleep(1)\n",
    "    except:\n",
    "        print(\"Error\")\n",
    "        \n",
    "    if len(collector):\n",
    "        catch[keyword] = collector\n",
    "    \n",
    "    "
   ]
  },
  {
   "cell_type": "code",
   "execution_count": 64,
   "metadata": {},
   "outputs": [],
   "source": [
    "def load_search(keyword, driver):\n",
    "    driver.get('https://porta.fda.moph.go.th/FDA_SEARCH_ALL/MAIN/SEARCH_CENTER_MAIN.aspx')\n",
    "    driver.maximize_window()\n",
    "    time.sleep(2)\n",
    "    try:\n",
    "        pop_close = driver.find_element(By.XPATH,'//*[@id=\"myModal2\"]/div/div/div[3]/button')\n",
    "        pop_close.click()\n",
    "    except Exception as e:\n",
    "        print(e, keyword)\n",
    "    #driver.find_element(By.XPATH , \"//div[@class = 'modal-content']/div[@class='modal-footer']/button[@class = 'btn btn-default']\").click()\n",
    "    time.sleep(4)\n",
    "\n",
    "    driver.find_element(By.XPATH , \"//div[@class = 'col-lg-2 col-md-2']/table/tbody/tr/td/input[@id = 'ContentPlaceHolder1_R_LIST']\").click()\n",
    "    time.sleep(4)\n",
    "\n",
    "    driver.find_element(By.ID , 'ContentPlaceHolder1_CheckBoxList1').find_element(By.XPATH , \"//tbody/tr[7]\").click()\n",
    "    time.sleep(4)\n",
    "\n",
    "    driver.execute_script(\"window.scrollTo(0, document.body.scrollHeight);\")\n",
    "    time.sleep(3)\n",
    "\n",
    "    wait = WebDriverWait(driver, 10)\n",
    "    search_btn = wait.until(EC.element_to_be_clickable((By.XPATH, '//*[@id=\"ContentPlaceHolder1_btn_search\"]')))\n",
    "    input_box = driver.find_element(By.XPATH, '//*[@id=\"ContentPlaceHolder1_txt_search\"]')\n",
    "    input_box.send_keys(keyword)\n",
    "    driver.execute_script(\"arguments[0].click();\", search_btn)\n",
    "    time.sleep(2)\n",
    "    wait = WebDriverWait(driver, 10)\n",
    "    \n",
    "    soup = BeautifulSoup(driver.page_source, 'html.parser')\n",
    "    flag, table = extract_page_data(driver)\n",
    "    if flag == 'No results':\n",
    "        return driver, 'No records'\n",
    "    else:\n",
    "        totals = wait.until(EC.element_to_be_clickable((By.XPATH, '//*[@id=\"ContentPlaceHolder1_RadGrid1_ctl00_ctl03_ctl01_PageSizeComboBox_Input\"]')))\n",
    "        totals.click()\n",
    "        fifty = driver.find_element(By.XPATH, '//*[@id=\"ContentPlaceHolder1_RadGrid1_ctl00_ctl03_ctl01_PageSizeComboBox_DropDown\"]/div/ul/li[3]')\n",
    "        fifty.click()\n",
    "        driver.execute_script(\"window.scrollTo(0, document.body.scrollHeight);\")\n",
    "        total_res_count = driver.find_element(By.CLASS_NAME,'rgInfoPart')\n",
    "        total_res_count = total_res_count.text\n",
    "\n",
    "        return driver, total_res_count\n",
    "   \n",
    "        "
   ]
  },
  {
   "cell_type": "code",
   "execution_count": 65,
   "metadata": {},
   "outputs": [],
   "source": [
    "driver, count = load_search('roche',driver)"
   ]
  },
  {
   "cell_type": "code",
   "execution_count": 50,
   "metadata": {},
   "outputs": [
    {
     "data": {
      "text/plain": [
       "<selenium.webdriver.firefox.webdriver.WebDriver (session=\"1b9dce91-d79f-4441-8236-9c4527fea059\")>"
      ]
     },
     "execution_count": 50,
     "metadata": {},
     "output_type": "execute_result"
    }
   ],
   "source": [
    "driver"
   ]
  },
  {
   "cell_type": "code",
   "execution_count": 67,
   "metadata": {},
   "outputs": [
    {
     "data": {
      "text/plain": [
       "' 1000 items in 20 pages'"
      ]
     },
     "execution_count": 67,
     "metadata": {},
     "output_type": "execute_result"
    }
   ],
   "source": [
    "count"
   ]
  },
  {
   "cell_type": "code",
   "execution_count": 54,
   "metadata": {},
   "outputs": [
    {
     "data": {
      "text/plain": [
       "'No results'"
      ]
     },
     "execution_count": 54,
     "metadata": {},
     "output_type": "execute_result"
    }
   ],
   "source": [
    "extract_page_data(driver)"
   ]
  },
  {
   "cell_type": "code",
   "execution_count": 68,
   "metadata": {},
   "outputs": [],
   "source": [
    "def extract_page_data(driver):\n",
    "    driver.execute_script(\"window.scrollTo(0, document.body.scrollHeight);\")\n",
    "    soup = BeautifulSoup(driver.page_source)\n",
    "    data = wait.until(EC.presence_of_element_located((By.CLASS_NAME, 'rgMasterTable')))\n",
    "    table = soup.find('table',{'class':'rgMasterTable'})\n",
    "    driver.execute_script(\"window.scrollTo(0, document.body.scrollHeight);\")\n",
    "    if 'No records to display.' in table.text:\n",
    "        return 'No results', table\n",
    "    else:\n",
    "        table = pd.read_html(str(table))[0]\n",
    "        return 'Found', table"
   ]
  },
  {
   "cell_type": "code",
   "execution_count": 87,
   "metadata": {},
   "outputs": [],
   "source": [
    "driver.quit()"
   ]
  }
 ],
 "metadata": {
  "kernelspec": {
   "display_name": "Python 3 (ipykernel)",
   "language": "python",
   "name": "python3"
  },
  "language_info": {
   "codemirror_mode": {
    "name": "ipython",
    "version": 3
   },
   "file_extension": ".py",
   "mimetype": "text/x-python",
   "name": "python",
   "nbconvert_exporter": "python",
   "pygments_lexer": "ipython3",
   "version": "3.9.12"
  }
 },
 "nbformat": 4,
 "nbformat_minor": 4
}
