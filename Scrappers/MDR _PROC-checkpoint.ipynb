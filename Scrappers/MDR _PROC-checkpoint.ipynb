{
 "cells": [
  {
   "cell_type": "code",
   "execution_count": 5,
   "id": "d09b72cb",
   "metadata": {},
   "outputs": [],
   "source": [
    "import pandas as pd, numpy as np\n",
    "import os\n",
    "from glob import glob\n",
    "source = \"Consolidation\\\\MDRv2 Datasets\""
   ]
  },
  {
   "cell_type": "code",
   "execution_count": null,
   "id": "d485447f",
   "metadata": {},
   "outputs": [],
   "source": [
    "# Source == AE == UAE MOHAP"
   ]
  },
  {
   "cell_type": "code",
   "execution_count": 9,
   "id": "070aa302",
   "metadata": {},
   "outputs": [],
   "source": [
    "# source ANMAT AR\n",
    "file = \"\\\\ANMAT AR MDR Jan24.xlsx\"\n",
    "anmat_ar = pd.read_excel(source+file)\n",
    "del anmat_ar['Unnamed: 0']"
   ]
  },
  {
   "cell_type": "code",
   "execution_count": 15,
   "id": "221f63fa",
   "metadata": {},
   "outputs": [
    {
     "data": {
      "text/plain": [
       "Index(['Procedure', 'end_date', 'company', 'description', 'device', 'meta',\n",
       "       'start_date'],\n",
       "      dtype='object')"
      ]
     },
     "execution_count": 15,
     "metadata": {},
     "output_type": "execute_result"
    }
   ],
   "source": [
    "anmat_ar.columns"
   ]
  },
  {
   "cell_type": "code",
   "execution_count": 11,
   "id": "94d86e2e",
   "metadata": {},
   "outputs": [],
   "source": [
    "anmat_ar['start_date'] = \"\""
   ]
  },
  {
   "cell_type": "code",
   "execution_count": 16,
   "id": "7ba2eff4",
   "metadata": {},
   "outputs": [
    {
     "data": {
      "text/html": [
       "<div>\n",
       "<style scoped>\n",
       "    .dataframe tbody tr th:only-of-type {\n",
       "        vertical-align: middle;\n",
       "    }\n",
       "\n",
       "    .dataframe tbody tr th {\n",
       "        vertical-align: top;\n",
       "    }\n",
       "\n",
       "    .dataframe thead th {\n",
       "        text-align: right;\n",
       "    }\n",
       "</style>\n",
       "<table border=\"1\" class=\"dataframe\">\n",
       "  <thead>\n",
       "    <tr style=\"text-align: right;\">\n",
       "      <th></th>\n",
       "      <th>Procedure</th>\n",
       "      <th>end_date</th>\n",
       "      <th>company</th>\n",
       "      <th>description</th>\n",
       "      <th>device</th>\n",
       "      <th>meta</th>\n",
       "      <th>start_date</th>\n",
       "    </tr>\n",
       "  </thead>\n",
       "  <tbody>\n",
       "    <tr>\n",
       "      <th>0</th>\n",
       "      <td>Registro Clase III-IV</td>\n",
       "      <td>25-01-2024</td>\n",
       "      <td>DROGUERIA MARTORANI S.A.</td>\n",
       "      <td>Transparent I.V. dressing reinforced with chlo...</td>\n",
       "      <td>IHT</td>\n",
       "      <td>Oper film ®protect CHG 7 x 8,5 cm (Ref: 003400...</td>\n",
       "      <td></td>\n",
       "    </tr>\n",
       "    <tr>\n",
       "      <th>1</th>\n",
       "      <td>Registro Clase III-IV</td>\n",
       "      <td>25-01-2024</td>\n",
       "      <td>TESIS SRL</td>\n",
       "      <td>Biological heart valve</td>\n",
       "      <td>Measure</td>\n",
       "      <td>Aorticos:\\nDDL19A; DDL21A; DDL23A; DDL25A; DDL...</td>\n",
       "      <td></td>\n",
       "    </tr>\n",
       "    <tr>\n",
       "      <th>2</th>\n",
       "      <td>Registro Clase III-IV</td>\n",
       "      <td>25-01-2024</td>\n",
       "      <td>UNIFARMA S.A.</td>\n",
       "      <td>Neuro-thrombectomy system</td>\n",
       "      <td>Neva No</td>\n",
       "      <td>VN-6044-F3NR (NeVa IC-3 Net)\\nVN-6035-F2NR (Ne...</td>\n",
       "      <td></td>\n",
       "    </tr>\n",
       "    <tr>\n",
       "      <th>3</th>\n",
       "      <td>Registro Clase III-IV</td>\n",
       "      <td>25-01-2024</td>\n",
       "      <td>UNIFARMA S.A.</td>\n",
       "      <td>Coronary thrombectomy system</td>\n",
       "      <td>enVast</td>\n",
       "      <td>EV-4030-F2RR (enVast 4.0 x 30 mm)\\nEV-4038-F3R...</td>\n",
       "      <td></td>\n",
       "    </tr>\n",
       "    <tr>\n",
       "      <th>4</th>\n",
       "      <td>Registro Clase III-IV</td>\n",
       "      <td>25-01-2024</td>\n",
       "      <td>DIGIMED S.A.</td>\n",
       "      <td>Mobile X-ray system</td>\n",
       "      <td>I'm shaking</td>\n",
       "      <td>JADE-32, JADE-40</td>\n",
       "      <td></td>\n",
       "    </tr>\n",
       "    <tr>\n",
       "      <th>...</th>\n",
       "      <td>...</td>\n",
       "      <td>...</td>\n",
       "      <td>...</td>\n",
       "      <td>...</td>\n",
       "      <td>...</td>\n",
       "      <td>...</td>\n",
       "      <td>...</td>\n",
       "    </tr>\n",
       "    <tr>\n",
       "      <th>30414</th>\n",
       "      <td>Modificación NO Ágil De Productos Para Diagnós...</td>\n",
       "      <td>06-10-2022</td>\n",
       "      <td>ROCHE PRODUCTS S.A.</td>\n",
       "      <td>1) Cobas® HCV. 2) Cobas® HBV/HCV/HIV-1 Control...</td>\n",
       "      <td>Cobas®</td>\n",
       "      <td>1) Cobas® HCV (Catalog No.: 06997732190).\\n2) ...</td>\n",
       "      <td></td>\n",
       "    </tr>\n",
       "    <tr>\n",
       "      <th>30415</th>\n",
       "      <td>Modificación NO Ágil De Productos Para Diagnós...</td>\n",
       "      <td>06-10-2022</td>\n",
       "      <td>ROCHE PRODUCTS S.A.</td>\n",
       "      <td>1) cobas® HBV. 2) cobas® HBV (192T)</td>\n",
       "      <td>cobas®</td>\n",
       "      <td>1) cobas® HBV (Catalog No.: 07000979190).\\n2) ...</td>\n",
       "      <td></td>\n",
       "    </tr>\n",
       "    <tr>\n",
       "      <th>30416</th>\n",
       "      <td>Modificación NO Ágil De Productos Para Diagnós...</td>\n",
       "      <td>06-10-2022</td>\n",
       "      <td>ROCHE PRODUCTS S.A.</td>\n",
       "      <td>1) Elecsys HSV-1 IgG; 2) Elecsys HSV-2 IgG.</td>\n",
       "      <td>Elecsys</td>\n",
       "      <td>1) Elecsys HSV-1 IgG (Ref: 07027494190).\\n2) E...</td>\n",
       "      <td></td>\n",
       "    </tr>\n",
       "    <tr>\n",
       "      <th>30417</th>\n",
       "      <td>Modificación NO Ágil De Productos Para Diagnós...</td>\n",
       "      <td>06-10-2022</td>\n",
       "      <td>ROCHE PRODUCTS S.A.</td>\n",
       "      <td>Elecsys HTLV-I/II</td>\n",
       "      <td>Elecsys</td>\n",
       "      <td>Elecsys HTLV-I/II (Catalogue No: 07028202190)</td>\n",
       "      <td></td>\n",
       "    </tr>\n",
       "    <tr>\n",
       "      <th>30418</th>\n",
       "      <td>Registro IVD Grupo A y B</td>\n",
       "      <td>06-10-2022</td>\n",
       "      <td>ABBOTT LABORATORIES ARGENTINA S.A.</td>\n",
       "      <td>1.\\tQuantia ß2-Microglobulin\\n2.\\tQuantia ß2-M...</td>\n",
       "      <td>1.\\tQuantia ß2-Microglobulin\\n2.\\tQuantia ß2-M...</td>\n",
       "      <td>Does not apply.</td>\n",
       "      <td></td>\n",
       "    </tr>\n",
       "  </tbody>\n",
       "</table>\n",
       "<p>30419 rows × 7 columns</p>\n",
       "</div>"
      ],
      "text/plain": [
       "                                               Procedure    end_date  \\\n",
       "0                                  Registro Clase III-IV  25-01-2024   \n",
       "1                                  Registro Clase III-IV  25-01-2024   \n",
       "2                                  Registro Clase III-IV  25-01-2024   \n",
       "3                                  Registro Clase III-IV  25-01-2024   \n",
       "4                                  Registro Clase III-IV  25-01-2024   \n",
       "...                                                  ...         ...   \n",
       "30414  Modificación NO Ágil De Productos Para Diagnós...  06-10-2022   \n",
       "30415  Modificación NO Ágil De Productos Para Diagnós...  06-10-2022   \n",
       "30416  Modificación NO Ágil De Productos Para Diagnós...  06-10-2022   \n",
       "30417  Modificación NO Ágil De Productos Para Diagnós...  06-10-2022   \n",
       "30418                           Registro IVD Grupo A y B  06-10-2022   \n",
       "\n",
       "                                  company  \\\n",
       "0                DROGUERIA MARTORANI S.A.   \n",
       "1                               TESIS SRL   \n",
       "2                           UNIFARMA S.A.   \n",
       "3                           UNIFARMA S.A.   \n",
       "4                            DIGIMED S.A.   \n",
       "...                                   ...   \n",
       "30414                 ROCHE PRODUCTS S.A.   \n",
       "30415                 ROCHE PRODUCTS S.A.   \n",
       "30416                 ROCHE PRODUCTS S.A.   \n",
       "30417                 ROCHE PRODUCTS S.A.   \n",
       "30418  ABBOTT LABORATORIES ARGENTINA S.A.   \n",
       "\n",
       "                                             description  \\\n",
       "0      Transparent I.V. dressing reinforced with chlo...   \n",
       "1                                 Biological heart valve   \n",
       "2                              Neuro-thrombectomy system   \n",
       "3                           Coronary thrombectomy system   \n",
       "4                                    Mobile X-ray system   \n",
       "...                                                  ...   \n",
       "30414  1) Cobas® HCV. 2) Cobas® HBV/HCV/HIV-1 Control...   \n",
       "30415                1) cobas® HBV. 2) cobas® HBV (192T)   \n",
       "30416        1) Elecsys HSV-1 IgG; 2) Elecsys HSV-2 IgG.   \n",
       "30417                                  Elecsys HTLV-I/II   \n",
       "30418  1.\\tQuantia ß2-Microglobulin\\n2.\\tQuantia ß2-M...   \n",
       "\n",
       "                                                  device  \\\n",
       "0                                                    IHT   \n",
       "1                                                Measure   \n",
       "2                                                Neva No   \n",
       "3                                                 enVast   \n",
       "4                                            I'm shaking   \n",
       "...                                                  ...   \n",
       "30414                                             Cobas®   \n",
       "30415                                             cobas®   \n",
       "30416                                            Elecsys   \n",
       "30417                                            Elecsys   \n",
       "30418  1.\\tQuantia ß2-Microglobulin\\n2.\\tQuantia ß2-M...   \n",
       "\n",
       "                                                    meta start_date  \n",
       "0      Oper film ®protect CHG 7 x 8,5 cm (Ref: 003400...             \n",
       "1      Aorticos:\\nDDL19A; DDL21A; DDL23A; DDL25A; DDL...             \n",
       "2      VN-6044-F3NR (NeVa IC-3 Net)\\nVN-6035-F2NR (Ne...             \n",
       "3      EV-4030-F2RR (enVast 4.0 x 30 mm)\\nEV-4038-F3R...             \n",
       "4                                       JADE-32, JADE-40             \n",
       "...                                                  ...        ...  \n",
       "30414  1) Cobas® HCV (Catalog No.: 06997732190).\\n2) ...             \n",
       "30415  1) cobas® HBV (Catalog No.: 07000979190).\\n2) ...             \n",
       "30416  1) Elecsys HSV-1 IgG (Ref: 07027494190).\\n2) E...             \n",
       "30417      Elecsys HTLV-I/II (Catalogue No: 07028202190)             \n",
       "30418                                    Does not apply.             \n",
       "\n",
       "[30419 rows x 7 columns]"
      ]
     },
     "execution_count": 16,
     "metadata": {},
     "output_type": "execute_result"
    }
   ],
   "source": [
    "anmat_ar"
   ]
  },
  {
   "cell_type": "code",
   "execution_count": 13,
   "id": "01f3251f",
   "metadata": {},
   "outputs": [],
   "source": [
    "# source AU ARTG 10-01-24\n",
    "file = \"\\\\ARTG 1991 - 02 -01-2024.xlsx\"\n",
    "au = pd.read_excel(source+file)"
   ]
  },
  {
   "cell_type": "code",
   "execution_count": 14,
   "id": "5e2e521b",
   "metadata": {},
   "outputs": [
    {
     "data": {
      "text/html": [
       "<div>\n",
       "<style scoped>\n",
       "    .dataframe tbody tr th:only-of-type {\n",
       "        vertical-align: middle;\n",
       "    }\n",
       "\n",
       "    .dataframe tbody tr th {\n",
       "        vertical-align: top;\n",
       "    }\n",
       "\n",
       "    .dataframe thead th {\n",
       "        text-align: right;\n",
       "    }\n",
       "</style>\n",
       "<table border=\"1\" class=\"dataframe\">\n",
       "  <thead>\n",
       "    <tr style=\"text-align: right;\">\n",
       "      <th></th>\n",
       "      <th>ARTG ID</th>\n",
       "      <th>Sponsor Name</th>\n",
       "      <th>Company</th>\n",
       "      <th>GMDN (Code-Text)</th>\n",
       "      <th>Class</th>\n",
       "      <th>ARTG Category</th>\n",
       "      <th>Good Name</th>\n",
       "      <th>Therapeutic Type</th>\n",
       "      <th>Device Name</th>\n",
       "      <th>Approval Area</th>\n",
       "      <th>Conditions</th>\n",
       "      <th>Product Type</th>\n",
       "      <th>Start Date</th>\n",
       "      <th>Effective Date</th>\n",
       "      <th>Functional Description</th>\n",
       "      <th>Intended Purpose</th>\n",
       "      <th>Variant Information</th>\n",
       "      <th>Specific Conditions</th>\n",
       "      <th>Manufacturer Address</th>\n",
       "      <th>Manufacturer Country</th>\n",
       "    </tr>\n",
       "  </thead>\n",
       "  <tbody>\n",
       "    <tr>\n",
       "      <th>11900</th>\n",
       "      <td>336209</td>\n",
       "      <td>Digital Dental Network Pty Ltd</td>\n",
       "      <td>Digital Dental Network Pty Ltd</td>\n",
       "      <td>62249 - Custom-made anatomy model/surgical gui...</td>\n",
       "      <td>Class I</td>\n",
       "      <td>General</td>\n",
       "      <td>Digital Dental Network Pty Ltd - Custom-made a...</td>\n",
       "      <td>Medical Device</td>\n",
       "      <td>Custom-made anatomy model/surgical guide kit -...</td>\n",
       "      <td>Medical Devices</td>\n",
       "      <td>- The inclusion of the kind of device in the A...</td>\n",
       "      <td>Medical device system</td>\n",
       "      <td>2020-05-12</td>\n",
       "      <td>2020-05-12</td>\n",
       "      <td>NaN</td>\n",
       "      <td>Custom made patient-specific and single-use gu...</td>\n",
       "      <td>NaN</td>\n",
       "      <td>NaN</td>\n",
       "      <td>162 Pascoe Yale Road, MOONEE PONDS, VIC, 3039</td>\n",
       "      <td>Australia</td>\n",
       "    </tr>\n",
       "    <tr>\n",
       "      <th>37148</th>\n",
       "      <td>226884</td>\n",
       "      <td>Ecolab Pty Ltd</td>\n",
       "      <td>Mesa Labs Omaha Manufacturing Facility</td>\n",
       "      <td>13732 - Sterilization process indicator, biolo...</td>\n",
       "      <td>Class I</td>\n",
       "      <td>General</td>\n",
       "      <td>Ecolab Pty Ltd - Sterilization process indicat...</td>\n",
       "      <td>Medical Device</td>\n",
       "      <td>Sterilization process indicator, biological</td>\n",
       "      <td>Medical Devices</td>\n",
       "      <td>- The inclusion of the kind of device in the A...</td>\n",
       "      <td>Single Device Product</td>\n",
       "      <td>2014-08-13</td>\n",
       "      <td>2014-08-13</td>\n",
       "      <td>NaN</td>\n",
       "      <td>Indicators for determining the sterilization e...</td>\n",
       "      <td>NaN</td>\n",
       "      <td>NaN</td>\n",
       "      <td>8607 Park Drive, Omaha, NE, 681267</td>\n",
       "      <td>United States Of America</td>\n",
       "    </tr>\n",
       "    <tr>\n",
       "      <th>42497</th>\n",
       "      <td>208380</td>\n",
       "      <td>Gunz Dental Pty Ltd</td>\n",
       "      <td>Univet SRI</td>\n",
       "      <td>56318 - LED dental light, battery-powered</td>\n",
       "      <td>Class I</td>\n",
       "      <td>General</td>\n",
       "      <td>Gunz Dental Pty Ltd - LED dental light, batter...</td>\n",
       "      <td>Medical Device</td>\n",
       "      <td>LED dental light, battery-powered</td>\n",
       "      <td>Medical Devices</td>\n",
       "      <td>- The inclusion of the kind of device in the A...</td>\n",
       "      <td>Single Device Product</td>\n",
       "      <td>2013-04-19</td>\n",
       "      <td>2013-04-19</td>\n",
       "      <td>NaN</td>\n",
       "      <td>This is a  battery-powered device designed for...</td>\n",
       "      <td>NaN</td>\n",
       "      <td>NaN</td>\n",
       "      <td>Via Verdi 11, Bergamo, 24121</td>\n",
       "      <td>Italy</td>\n",
       "    </tr>\n",
       "    <tr>\n",
       "      <th>3833</th>\n",
       "      <td>380367</td>\n",
       "      <td>Spencer Brands Group Pty Ltd</td>\n",
       "      <td>Xiantao Board Non-Woven Products Co Ltd</td>\n",
       "      <td>35492 - Gown, isolation, single use</td>\n",
       "      <td>Class I</td>\n",
       "      <td>General</td>\n",
       "      <td>Spencer Brands Group Pty Ltd - Gown, isolation...</td>\n",
       "      <td>Medical Device</td>\n",
       "      <td>Gown, isolation, single use</td>\n",
       "      <td>Medical Devices</td>\n",
       "      <td>- The inclusion of the kind of device in the A...</td>\n",
       "      <td>Single Device Product</td>\n",
       "      <td>2021-12-07</td>\n",
       "      <td>2021-12-07</td>\n",
       "      <td>NaN</td>\n",
       "      <td>35492 Gown, isolation, single use\\nA multi pur...</td>\n",
       "      <td>NaN</td>\n",
       "      <td>NaN</td>\n",
       "      <td>Changhong Road Shazui District, Xiantao City, ...</td>\n",
       "      <td>China</td>\n",
       "    </tr>\n",
       "    <tr>\n",
       "      <th>51077</th>\n",
       "      <td>161108</td>\n",
       "      <td>Multigate Medical Products Pty Ltd</td>\n",
       "      <td>Multigate Medical Products Pty Ltd</td>\n",
       "      <td>40589 - Clamp, surgical, tubing, single use</td>\n",
       "      <td>Class Is</td>\n",
       "      <td>General</td>\n",
       "      <td>Multigate Medical Products Pty Ltd - Clamp, su...</td>\n",
       "      <td>Medical Device</td>\n",
       "      <td>Clamp, surgical, tubing, single use</td>\n",
       "      <td>Medical Devices</td>\n",
       "      <td>- The inclusion of the kind of device in the A...</td>\n",
       "      <td>Single Device Product</td>\n",
       "      <td>2009-04-16</td>\n",
       "      <td>2009-04-16</td>\n",
       "      <td>NaN</td>\n",
       "      <td>A surgical instrument used to compress tubing....</td>\n",
       "      <td>NaN</td>\n",
       "      <td>NaN</td>\n",
       "      <td>27 Llewellyn Avenue, VILLAWOOD, NSW, 2163</td>\n",
       "      <td>Australia</td>\n",
       "    </tr>\n",
       "  </tbody>\n",
       "</table>\n",
       "</div>"
      ],
      "text/plain": [
       "       ARTG ID                        Sponsor Name  \\\n",
       "11900   336209      Digital Dental Network Pty Ltd   \n",
       "37148   226884                      Ecolab Pty Ltd   \n",
       "42497   208380                 Gunz Dental Pty Ltd   \n",
       "3833    380367        Spencer Brands Group Pty Ltd   \n",
       "51077   161108  Multigate Medical Products Pty Ltd   \n",
       "\n",
       "                                       Company  \\\n",
       "11900           Digital Dental Network Pty Ltd   \n",
       "37148   Mesa Labs Omaha Manufacturing Facility   \n",
       "42497                               Univet SRI   \n",
       "3833   Xiantao Board Non-Woven Products Co Ltd   \n",
       "51077       Multigate Medical Products Pty Ltd   \n",
       "\n",
       "                                        GMDN (Code-Text)     Class  \\\n",
       "11900  62249 - Custom-made anatomy model/surgical gui...   Class I   \n",
       "37148  13732 - Sterilization process indicator, biolo...   Class I   \n",
       "42497          56318 - LED dental light, battery-powered   Class I   \n",
       "3833                 35492 - Gown, isolation, single use   Class I   \n",
       "51077        40589 - Clamp, surgical, tubing, single use  Class Is   \n",
       "\n",
       "      ARTG Category                                          Good Name  \\\n",
       "11900       General  Digital Dental Network Pty Ltd - Custom-made a...   \n",
       "37148       General  Ecolab Pty Ltd - Sterilization process indicat...   \n",
       "42497       General  Gunz Dental Pty Ltd - LED dental light, batter...   \n",
       "3833        General  Spencer Brands Group Pty Ltd - Gown, isolation...   \n",
       "51077       General  Multigate Medical Products Pty Ltd - Clamp, su...   \n",
       "\n",
       "      Therapeutic Type                                        Device Name  \\\n",
       "11900   Medical Device  Custom-made anatomy model/surgical guide kit -...   \n",
       "37148   Medical Device        Sterilization process indicator, biological   \n",
       "42497   Medical Device                  LED dental light, battery-powered   \n",
       "3833    Medical Device                        Gown, isolation, single use   \n",
       "51077   Medical Device                Clamp, surgical, tubing, single use   \n",
       "\n",
       "         Approval Area                                         Conditions  \\\n",
       "11900  Medical Devices  - The inclusion of the kind of device in the A...   \n",
       "37148  Medical Devices  - The inclusion of the kind of device in the A...   \n",
       "42497  Medical Devices  - The inclusion of the kind of device in the A...   \n",
       "3833   Medical Devices  - The inclusion of the kind of device in the A...   \n",
       "51077  Medical Devices  - The inclusion of the kind of device in the A...   \n",
       "\n",
       "                Product Type Start Date Effective Date Functional Description  \\\n",
       "11900  Medical device system 2020-05-12     2020-05-12                    NaN   \n",
       "37148  Single Device Product 2014-08-13     2014-08-13                    NaN   \n",
       "42497  Single Device Product 2013-04-19     2013-04-19                    NaN   \n",
       "3833   Single Device Product 2021-12-07     2021-12-07                    NaN   \n",
       "51077  Single Device Product 2009-04-16     2009-04-16                    NaN   \n",
       "\n",
       "                                        Intended Purpose Variant Information  \\\n",
       "11900  Custom made patient-specific and single-use gu...                 NaN   \n",
       "37148  Indicators for determining the sterilization e...                 NaN   \n",
       "42497  This is a  battery-powered device designed for...                 NaN   \n",
       "3833   35492 Gown, isolation, single use\\nA multi pur...                 NaN   \n",
       "51077  A surgical instrument used to compress tubing....                 NaN   \n",
       "\n",
       "      Specific Conditions                               Manufacturer Address  \\\n",
       "11900                 NaN      162 Pascoe Yale Road, MOONEE PONDS, VIC, 3039   \n",
       "37148                 NaN                 8607 Park Drive, Omaha, NE, 681267   \n",
       "42497                 NaN                       Via Verdi 11, Bergamo, 24121   \n",
       "3833                  NaN  Changhong Road Shazui District, Xiantao City, ...   \n",
       "51077                 NaN          27 Llewellyn Avenue, VILLAWOOD, NSW, 2163   \n",
       "\n",
       "           Manufacturer Country  \n",
       "11900                 Australia  \n",
       "37148  United States Of America  \n",
       "42497                     Italy  \n",
       "3833                      China  \n",
       "51077                 Australia  "
      ]
     },
     "execution_count": 14,
     "metadata": {},
     "output_type": "execute_result"
    }
   ],
   "source": [
    "au.sample(5)"
   ]
  },
  {
   "cell_type": "code",
   "execution_count": null,
   "id": "47dcf2a3",
   "metadata": {},
   "outputs": [],
   "source": [
    "grill.columns"
   ]
  },
  {
   "cell_type": "code",
   "execution_count": null,
   "id": "fe038234",
   "metadata": {},
   "outputs": [],
   "source": [
    "grill['index'] = 'EUDAMED-'+ grill['Actor_ID']\n",
    "grill['device'] = grill['Device Name']\n",
    "grill['description'] = grill['Nomenclature']\n",
    "grill['company_'] = grill['Company']\n",
    "grill['manufacturer'] = grill['Company']\n",
    "grill['manufacturer_country'] = grill['Country']\n",
    "grill['meta'] = 'Device Model' +\":\"+ grill['Device Model']\n",
    "grill['start_date'] = \"-\"\n",
    "grill['end_date'] = \"-\"\n",
    "grill"
   ]
  },
  {
   "cell_type": "code",
   "execution_count": null,
   "id": "e2536142",
   "metadata": {},
   "outputs": [],
   "source": [
    "eudamed = grill[cols_to_keep]\n",
    "eudamed"
   ]
  },
  {
   "cell_type": "code",
   "execution_count": null,
   "id": "dd370bca",
   "metadata": {},
   "outputs": [],
   "source": [
    "eudamed.to_excel(\"Stage\\\\eudamed.xlsx\")"
   ]
  },
  {
   "cell_type": "code",
   "execution_count": null,
   "id": "9f383e01",
   "metadata": {},
   "outputs": [],
   "source": [
    "# source BR -- need datta -source not available -- source: https://consultas.anvisa.gov.br/#/saude/q/?nomeProduto=alinity"
   ]
  },
  {
   "cell_type": "code",
   "execution_count": null,
   "id": "13399872",
   "metadata": {},
   "outputs": [],
   "source": [
    "# source CAC - need data, Costa Rica - in excel, Cuba - in multiple pdfs, guatemala - no source"
   ]
  },
  {
   "cell_type": "code",
   "execution_count": null,
   "id": "cbc3cce6",
   "metadata": {},
   "outputs": [],
   "source": [
    "# source CDSCO IN - 4jan24"
   ]
  },
  {
   "cell_type": "code",
   "execution_count": null,
   "id": "644c35fa",
   "metadata": {},
   "outputs": [],
   "source": [
    "# source CL --need data No source data on medical devices"
   ]
  },
  {
   "cell_type": "code",
   "execution_count": null,
   "id": "f1d6cc42",
   "metadata": {},
   "outputs": [],
   "source": [
    "# source CN -- website is anti bot"
   ]
  },
  {
   "cell_type": "code",
   "execution_count": 3,
   "id": "94637612",
   "metadata": {},
   "outputs": [],
   "source": [
    "# source CO --need data \n",
    "# source CO --need data nternational Medical device database covers Colombia: \n",
    "# https://medicaldevices.icij.org/search?f%5Bcountry%5D=COL&m=device \n",
    "\n",
    "# This database is for medical devices which were either recalled, or had any event associated with them"
   ]
  },
  {
   "cell_type": "code",
   "execution_count": null,
   "id": "b5cee1a9",
   "metadata": {},
   "outputs": [],
   "source": [
    "# source DE --need data - Source behind a paywall"
   ]
  },
  {
   "cell_type": "code",
   "execution_count": null,
   "id": "f8e3ad0a",
   "metadata": {},
   "outputs": [],
   "source": [
    "# source DR --need data -- source unresponsive"
   ]
  },
  {
   "cell_type": "code",
   "execution_count": null,
   "id": "71322dd1",
   "metadata": {},
   "outputs": [],
   "source": [
    "# source EC --need data  - Source not available -- found a source, files downloaded in excel"
   ]
  },
  {
   "cell_type": "code",
   "execution_count": null,
   "id": "c6f47371",
   "metadata": {},
   "outputs": [],
   "source": [
    "# source ES --need data -- No source link"
   ]
  },
  {
   "cell_type": "code",
   "execution_count": null,
   "id": "990c4314",
   "metadata": {},
   "outputs": [],
   "source": [
    "# source EUDAMED -- update required"
   ]
  },
  {
   "cell_type": "code",
   "execution_count": null,
   "id": "37dcea85",
   "metadata": {},
   "outputs": [],
   "source": [
    "# source FDA PH -- 11/01/24"
   ]
  },
  {
   "cell_type": "code",
   "execution_count": null,
   "id": "ae59e1a9",
   "metadata": {},
   "outputs": [],
   "source": [
    "# source FDA TH -- need update"
   ]
  },
  {
   "cell_type": "code",
   "execution_count": null,
   "id": "141fd52c",
   "metadata": {},
   "outputs": [],
   "source": [
    "# source FDA US -- need update"
   ]
  },
  {
   "cell_type": "code",
   "execution_count": null,
   "id": "099d6e60",
   "metadata": {},
   "outputs": [],
   "source": [
    "# source FR --need data -- no source link "
   ]
  },
  {
   "cell_type": "code",
   "execution_count": null,
   "id": "cce70f44",
   "metadata": {},
   "outputs": [],
   "source": [
    "# source GB --need data -- Found Source. Got Data"
   ]
  },
  {
   "cell_type": "code",
   "execution_count": null,
   "id": "6614e63d",
   "metadata": {},
   "outputs": [],
   "source": [
    "# source ID --need data -- script ready,blocked for now\n",
    "source = \"MDRv2 Datasets\"\n",
    "file = \"ID Medical Device Register.xlsx\""
   ]
  },
  {
   "cell_type": "code",
   "execution_count": null,
   "id": "65a12045",
   "metadata": {},
   "outputs": [],
   "source": [
    "# source IT --need data -- downloadable excel"
   ]
  },
  {
   "cell_type": "code",
   "execution_count": null,
   "id": "c4036e2d",
   "metadata": {},
   "outputs": [],
   "source": [
    "# source JMTT -- need data -- Jamaica no source, Trinidad no source"
   ]
  },
  {
   "cell_type": "code",
   "execution_count": null,
   "id": "7a105845",
   "metadata": {},
   "outputs": [],
   "source": [
    "# source KR --need data -- downloadable excel if less than 1M rows, have for ivd import & ivd manufact."
   ]
  },
  {
   "cell_type": "code",
   "execution_count": null,
   "id": "ba7ffae7",
   "metadata": {},
   "outputs": [],
   "source": [
    "# source MDA MY 11/01/24"
   ]
  },
  {
   "cell_type": "code",
   "execution_count": null,
   "id": "eab04cf1",
   "metadata": {},
   "outputs": [],
   "source": [
    "# source MOHAP UAE / AE 111/01/24"
   ]
  },
  {
   "cell_type": "code",
   "execution_count": null,
   "id": "0bf8be63",
   "metadata": {},
   "outputs": [],
   "source": [
    "# source MX --need data -- downloaded as pdfs"
   ]
  },
  {
   "cell_type": "code",
   "execution_count": null,
   "id": "a7d653b7",
   "metadata": {},
   "outputs": [],
   "source": [
    "# source PE --need data -- source not available"
   ]
  },
  {
   "cell_type": "code",
   "execution_count": null,
   "id": "01cdb780",
   "metadata": {},
   "outputs": [],
   "source": [
    "# PMDA JP - 2022"
   ]
  },
  {
   "cell_type": "code",
   "execution_count": null,
   "id": "9be8e2fc",
   "metadata": {},
   "outputs": [],
   "source": [
    "# PN --need data -- found some data"
   ]
  },
  {
   "cell_type": "code",
   "execution_count": null,
   "id": "896fc847",
   "metadata": {},
   "outputs": [],
   "source": [
    "# PR --need data -- source not available"
   ]
  },
  {
   "cell_type": "code",
   "execution_count": null,
   "id": "d66370c1",
   "metadata": {},
   "outputs": [],
   "source": [
    "# PY --need data -- source not available"
   ]
  },
  {
   "cell_type": "code",
   "execution_count": null,
   "id": "a2ee2f72",
   "metadata": {},
   "outputs": [],
   "source": [
    "# source ROL --need data - Bo -- no data, uruguay - no data"
   ]
  },
  {
   "cell_type": "code",
   "execution_count": null,
   "id": "6ce18014",
   "metadata": {},
   "outputs": [],
   "source": [
    "# source SA -- need data - no source available"
   ]
  },
  {
   "cell_type": "code",
   "execution_count": null,
   "id": "07f77796",
   "metadata": {},
   "outputs": [],
   "source": [
    "## SG MDR - 29/1/24"
   ]
  },
  {
   "cell_type": "code",
   "execution_count": null,
   "id": "8eba27c7",
   "metadata": {},
   "outputs": [],
   "source": [
    "# source TW -- need data -- anti bot"
   ]
  },
  {
   "cell_type": "code",
   "execution_count": 2,
   "id": "3ff58119",
   "metadata": {},
   "outputs": [],
   "source": [
    "# source VN -- needs translations -- translated"
   ]
  }
 ],
 "metadata": {
  "kernelspec": {
   "display_name": "Python 3 (ipykernel)",
   "language": "python",
   "name": "python3"
  },
  "language_info": {
   "codemirror_mode": {
    "name": "ipython",
    "version": 3
   },
   "file_extension": ".py",
   "mimetype": "text/x-python",
   "name": "python",
   "nbconvert_exporter": "python",
   "pygments_lexer": "ipython3",
   "version": "3.9.12"
  }
 },
 "nbformat": 4,
 "nbformat_minor": 5
}
