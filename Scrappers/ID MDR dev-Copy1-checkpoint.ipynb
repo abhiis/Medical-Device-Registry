{
 "cells": [
  {
   "cell_type": "code",
   "execution_count": 32,
   "id": "d4f1d609",
   "metadata": {},
   "outputs": [],
   "source": [
    "import cookies as meta"
   ]
  },
  {
   "cell_type": "code",
   "execution_count": 38,
   "id": "ce707bb2",
   "metadata": {},
   "outputs": [
    {
     "data": {
      "text/plain": [
       "{'_ga': 'GA1.1.678707696.1669016845',\n",
       " 'PLAY_LANG': 'id',\n",
       " '_cfuvid': 'CNwjg9MTXEkC9orrBFA1M.XaVAscNZXdI17FzuPLCIc-1706562315455-0-604800000',\n",
       " 'cf_chl_3': '388559d85bd34b7',\n",
       " 'cf_clearance': 'kzph_zJuW_6CnPtN1JVnw4K_BHwO26NZh99AEygkNWE-1706564435-1-AaZZ1dswyd1VP5oFP7Hx4hbOzojgE5Dww406nS7XGQ96b6rSmgjiKoJmcNHa5DB7lB4obKt/xI4wPvA39OdU2Ow=',\n",
       " 'E_KATALOG_5_SESSION': '660c8c12f6a4fb40f57e59e771b1cb53f77016fd-___AT=7314a8c003dbd5121334ec2b97b2541e5eb912aa&___TS=1706568832103&___ID=39c69be9-63cb-47e2-8770-72f24c7ae80c',\n",
       " '_ga_K59543X46E': 'GS1.1.1706562428.4.1.1706565344.0.0.0'}"
      ]
     },
     "execution_count": 38,
     "metadata": {},
     "output_type": "execute_result"
    }
   ],
   "source": [
    "meta.cookies"
   ]
  },
  {
   "cell_type": "code",
   "execution_count": 39,
   "id": "7dc71e27",
   "metadata": {},
   "outputs": [
    {
     "data": {
      "text/plain": [
       "{'authority': 'e-katalog.lkpp.go.id',\n",
       " 'accept': 'text/html,application/xhtml+xml,application/xml;q=0.9,image/avif,image/webp,image/apng,*/*;q=0.8,application/signed-exchange;v=b3;q=0.7',\n",
       " 'accept-language': 'en-US,en;q=0.9',\n",
       " 'referer': 'https://e-katalog.lkpp.go.id/id/search-produk?authenticityToken=7314a8c003dbd5121334ec2b97b2541e5eb912aa&q=abbott&prid=&pid=&gt=&lt=&mid=&kbid=&order=&cat=',\n",
       " 'sec-ch-ua': '\"Not_A Brand\";v=\"8\", \"Chromium\";v=\"120\", \"Google Chrome\";v=\"120\"',\n",
       " 'sec-ch-ua-arch': '\"x86\"',\n",
       " 'sec-ch-ua-bitness': '\"64\"',\n",
       " 'sec-ch-ua-full-version': '\"120.0.6099.225\"',\n",
       " 'sec-ch-ua-full-version-list': '\"Not_A Brand\";v=\"8.0.0.0\", \"Chromium\";v=\"120.0.6099.225\", \"Google Chrome\";v=\"120.0.6099.225\"',\n",
       " 'sec-ch-ua-mobile': '?0',\n",
       " 'sec-ch-ua-model': '\"\"',\n",
       " 'sec-ch-ua-platform': '\"Windows\"',\n",
       " 'sec-ch-ua-platform-version': '\"10.0.0\"',\n",
       " 'sec-fetch-dest': 'document',\n",
       " 'sec-fetch-mode': 'navigate',\n",
       " 'sec-fetch-site': 'same-origin',\n",
       " 'sec-fetch-user': '?1',\n",
       " 'upgrade-insecure-requests': '1',\n",
       " 'user-agent': 'Mozilla/5.0 (Windows NT 10.0; Win64; x64) AppleWebKit/537.36 (KHTML, like Gecko) Chrome/120.0.0.0 Safari/537.36'}"
      ]
     },
     "execution_count": 39,
     "metadata": {},
     "output_type": "execute_result"
    }
   ],
   "source": [
    "meta.headers"
   ]
  },
  {
   "cell_type": "code",
   "execution_count": 40,
   "id": "e6344674",
   "metadata": {},
   "outputs": [],
   "source": [
    "import requests\n",
    "\n",
    "cookies = {\n",
    "    '_ga': 'GA1.1.678707696.1669016845',\n",
    "    'PLAY_LANG': 'id',\n",
    "    '_cfuvid': 'CNwjg9MTXEkC9orrBFA1M.XaVAscNZXdI17FzuPLCIc-1706562315455-0-604800000',\n",
    "    'cf_chl_3': '97515dc00f5e3eb',\n",
    "    'E_KATALOG_5_SESSION': 'd529ac1e3991e25fc063f9fb0afaf75f9bc52165-___AT=7314a8c003dbd5121334ec2b97b2541e5eb912aa&___TS=1706570680973&___ID=39c69be9-63cb-47e2-8770-72f24c7ae80c',\n",
    "    '_ga_K59543X46E': 'GS1.1.1706562428.4.1.1706567192.0.0.0',\n",
    "    'cf_clearance': '0NZA1GEqlZW._RkiIS7u93Y.d.P10EL2K.EkOoFjEOw-1706567082-1-AQSfwg4cS5v6qcuLijtFgoXNb6Id2U6fxVropj7PtcFVmVKCN57UhsYeY2vvp2jQkSi8pKGnW9PqaUgMtfH9Wwk=',\n",
    "}\n",
    "\n",
    "headers = {\n",
    "    'authority': 'e-katalog.lkpp.go.id',\n",
    "    'accept': 'text/html,application/xhtml+xml,application/xml;q=0.9,image/avif,image/webp,image/apng,*/*;q=0.8,application/signed-exchange;v=b3;q=0.7',\n",
    "    'accept-language': 'en-US,en;q=0.9',\n",
    "    # 'cookie': '_ga=GA1.1.678707696.1669016845; PLAY_LANG=id; _cfuvid=CNwjg9MTXEkC9orrBFA1M.XaVAscNZXdI17FzuPLCIc-1706562315455-0-604800000; cf_chl_3=97515dc00f5e3eb; E_KATALOG_5_SESSION=d529ac1e3991e25fc063f9fb0afaf75f9bc52165-___AT=7314a8c003dbd5121334ec2b97b2541e5eb912aa&___TS=1706570680973&___ID=39c69be9-63cb-47e2-8770-72f24c7ae80c; _ga_K59543X46E=GS1.1.1706562428.4.1.1706567192.0.0.0; cf_clearance=0NZA1GEqlZW._RkiIS7u93Y.d.P10EL2K.EkOoFjEOw-1706567082-1-AQSfwg4cS5v6qcuLijtFgoXNb6Id2U6fxVropj7PtcFVmVKCN57UhsYeY2vvp2jQkSi8pKGnW9PqaUgMtfH9Wwk=',\n",
    "    'referer': 'https://e-katalog.lkpp.go.id/id/search-produk?authenticityToken=7314a8c003dbd5121334ec2b97b2541e5eb912aa&q=abbott&prid=&pid=&gt=&lt=&mid=&kbid=&order=&cat=',\n",
    "    'sec-ch-ua': '\"Not_A Brand\";v=\"8\", \"Chromium\";v=\"120\", \"Google Chrome\";v=\"120\"',\n",
    "    'sec-ch-ua-arch': '\"x86\"',\n",
    "    'sec-ch-ua-bitness': '\"64\"',\n",
    "    'sec-ch-ua-full-version': '\"120.0.6099.225\"',\n",
    "    'sec-ch-ua-full-version-list': '\"Not_A Brand\";v=\"8.0.0.0\", \"Chromium\";v=\"120.0.6099.225\", \"Google Chrome\";v=\"120.0.6099.225\"',\n",
    "    'sec-ch-ua-mobile': '?0',\n",
    "    'sec-ch-ua-model': '\"\"',\n",
    "    'sec-ch-ua-platform': '\"Windows\"',\n",
    "    'sec-ch-ua-platform-version': '\"10.0.0\"',\n",
    "    'sec-fetch-dest': 'document',\n",
    "    'sec-fetch-mode': 'navigate',\n",
    "    'sec-fetch-site': 'same-origin',\n",
    "    'sec-fetch-user': '?1',\n",
    "    'upgrade-insecure-requests': '1',\n",
    "    'user-agent': 'Mozilla/5.0 (Windows NT 10.0; Win64; x64) AppleWebKit/537.36 (KHTML, like Gecko) Chrome/120.0.0.0 Safari/537.36',\n",
    "}\n",
    "\n",
    "params = {\n",
    "    'authenticityToken': '7314a8c003dbd5121334ec2b97b2541e5eb912aa',\n",
    "    'q': 'abbott',\n",
    "    'prid': '',\n",
    "    'pid': '',\n",
    "    'gt': '',\n",
    "    'lt': '',\n",
    "    'mid': '',\n",
    "    'kbid': '',\n",
    "    'order': '',\n",
    "    'cat': '',\n",
    "    'limit':\n",
    "}\n",
    "\n",
    "#response = requests.get('https://e-katalog.lkpp.go.id/id/search-produk', params=params, cookies=cookies, headers=headers)"
   ]
  },
  {
   "cell_type": "code",
   "execution_count": 82,
   "id": "d93df7b0",
   "metadata": {},
   "outputs": [
    {
     "data": {
      "text/plain": [
       "<Response [200]>"
      ]
     },
     "execution_count": 82,
     "metadata": {},
     "output_type": "execute_result"
    }
   ],
   "source": [
    "response"
   ]
  },
  {
   "cell_type": "code",
   "execution_count": 83,
   "id": "512421b5",
   "metadata": {},
   "outputs": [
    {
     "name": "stdout",
     "output_type": "stream",
     "text": [
      "/katalog/produk/detail/2219525?lang=id&type=general Tanpa Merek UROMETER 720 Urine Chemistry Analyzer and Accessories\n",
      "/katalog/produk/detail/71102075?lang=id&type=regency Tanpa Merek I-STAT CG4+ Catridge\n"
     ]
    }
   ],
   "source": [
    "from bs4 import BeautifulSoup\n",
    "soup = BeautifulSoup(response.text)\n",
    "hrefs = {}\n",
    "results = soup.find_all('div', {'class':'card-item-title'})\n",
    "for result in results:\n",
    "    if result.find('a'):\n",
    "        href = result.find('a')['href']\n",
    "        title = result.find('a')['title']\n",
    "        print(href,title)\n",
    "        hrefs[href] = title\n"
   ]
  },
  {
   "cell_type": "code",
   "execution_count": 56,
   "id": "1b03a326",
   "metadata": {},
   "outputs": [
    {
     "name": "stdout",
     "output_type": "stream",
     "text": [
      "Current Page Start: 13, Count: 12, Total Results Count: 374, Estimated Pages: 32\n"
     ]
    }
   ],
   "source": [
    "## find total_results:\n",
    "total_results = soup.find('div', {'class':'pagination'}).text.strip() \n",
    "import re\n",
    "# Regular expression pattern to find all numbers\n",
    "pattern = r'\\d+'\n",
    "\n",
    "# Extracting all numbers from the string\n",
    "numbers = re.findall(pattern, total_results)\n",
    "\n",
    "if len(numbers) >= 3:\n",
    "    # Assuming the first number is the start of the current page, the second is the end, and the third is the total count\n",
    "    current_page_start = int(numbers[0])\n",
    "    current_page_end = int(numbers[1])\n",
    "    total_results_count = int(numbers[2])\n",
    "\n",
    "    # Count of results on the current page\n",
    "    count = current_page_end - current_page_start + 1\n",
    "\n",
    "    # Estimated total pages (assuming count is consistent across all pages)\n",
    "    estimated_pages = -(-total_results_count // count)  # Ceiling division to ensure we get a whole page for any remainder\n",
    "\n",
    "    print(f\"Current Page Start: {current_page_start}, Count: {count}, Total Results Count: {total_results_count}, Estimated Pages: {estimated_pages}\")\n",
    "else:\n",
    "    print(\"Error: Could not find the required numbers in the pagination text.\")"
   ]
  },
  {
   "cell_type": "code",
   "execution_count": 58,
   "id": "e10ce13d",
   "metadata": {},
   "outputs": [
    {
     "data": {
      "text/plain": [
       "'Menampilkan 13 sampai 24 dari 374 data'"
      ]
     },
     "execution_count": 58,
     "metadata": {},
     "output_type": "execute_result"
    }
   ],
   "source": [
    "total_results"
   ]
  },
  {
   "cell_type": "code",
   "execution_count": 59,
   "id": "5cb32b85",
   "metadata": {},
   "outputs": [
    {
     "data": {
      "text/plain": [
       "['13', '24', '374']"
      ]
     },
     "execution_count": 59,
     "metadata": {},
     "output_type": "execute_result"
    }
   ],
   "source": [
    "numbers"
   ]
  },
  {
   "cell_type": "code",
   "execution_count": 80,
   "id": "931b31af",
   "metadata": {},
   "outputs": [],
   "source": [
    "\n",
    "for i in range(2:estimated_pages+1):\n",
    "    params = {\n",
    "        'authenticityToken': '7314a8c003dbd5121334ec2b97b2541e5eb912aa',\n",
    "        'q': 'abbott',\n",
    "        'limit': '12',\n",
    "        'offset': str(i),\n",
    "    }"
   ]
  },
  {
   "cell_type": "code",
   "execution_count": 81,
   "id": "06a3ea44",
   "metadata": {},
   "outputs": [],
   "source": [
    "response = requests.get('https://e-katalog.lkpp.go.id/id/search-produk', params=params, cookies=cookies, headers=headers)"
   ]
  },
  {
   "cell_type": "code",
   "execution_count": 37,
   "id": "39c1757c",
   "metadata": {},
   "outputs": [
    {
     "data": {
      "text/plain": [
       "<Response [403]>"
      ]
     },
     "execution_count": 37,
     "metadata": {},
     "output_type": "execute_result"
    }
   ],
   "source": [
    "keyword = 'abbott'\n",
    "cycle = 2\n",
    "params = {\n",
    "    'authenticityToken': '7314a8c003dbd5121334ec2b97b2541e5eb912aa',\n",
    "    'q': keyword,\n",
    "    'prid': '',\n",
    "    'pid': '',\n",
    "    'gt': '',\n",
    "    'lt': '',\n",
    "    'mid': '',\n",
    "    'kbid': '',\n",
    "    'order': 'relevance',\n",
    "    'cat': '',\n",
    "    }\n",
    "response = requests.get('https://e-katalog.lkpp.go.id/id/search-produk', params=params, cookies=meta.cookies, headers=meta.headers)\n",
    "response"
   ]
  },
  {
   "cell_type": "code",
   "execution_count": 21,
   "id": "8d5ee930",
   "metadata": {},
   "outputs": [],
   "source": [
    "import requests\n",
    "def create_search(keyword, cycle):\n",
    "    global meta\n",
    "    params = {\n",
    "    'authenticityToken': '7314a8c003dbd5121334ec2b97b2541e5eb912aa',\n",
    "    'q': keyword,\n",
    "    'prid': '',\n",
    "    'pid': '',\n",
    "    'gt': '',\n",
    "    'lt': '',\n",
    "    'mid': '',\n",
    "    'kbid': '',\n",
    "    'order': 'relevance',\n",
    "    'cat': '',\n",
    "    'limit': '12',\n",
    "    'offset': str(cycle),\n",
    "    }\n",
    "\n",
    "    response = requests.get('https://e-katalog.lkpp.go.id/id/search-produk', params=params, cookies=meta.cookies, headers=meta.headers)\n",
    "    if response.status_code == 200:\n",
    "        return response\n",
    "    else:\n",
    "        if response.status_code == 403:\n",
    "            print(\"Request Denied. Try refreshinng cookies and headers. Press Enter when done\")\n",
    "            input(\"\")\n",
    "            import cookies as meta\n",
    " \n",
    "            response = requests.get('https://e-katalog.lkpp.go.id/id/search-produk', params=params, cookies=meta.cookies, headers=meta.headers)\n",
    "            if response.status_code == 200:\n",
    "                print(\"Cookies and headers refreshed.! Continuing...\")\n",
    "                return response\n",
    "            else:\n",
    "                raise(\"Error. Check manually.\")\n",
    "                    \n"
   ]
  },
  {
   "cell_type": "code",
   "execution_count": 22,
   "id": "c3fac63a",
   "metadata": {},
   "outputs": [
    {
     "name": "stdout",
     "output_type": "stream",
     "text": [
      "Request Denied. Try refreshinng cookies and headers. Press Enter when done\n"
     ]
    },
    {
     "ename": "KeyboardInterrupt",
     "evalue": "Interrupted by user",
     "output_type": "error",
     "traceback": [
      "\u001b[1;31m---------------------------------------------------------------------------\u001b[0m",
      "\u001b[1;31mKeyboardInterrupt\u001b[0m                         Traceback (most recent call last)",
      "Input \u001b[1;32mIn [22]\u001b[0m, in \u001b[0;36m<cell line: 1>\u001b[1;34m()\u001b[0m\n\u001b[1;32m----> 1\u001b[0m \u001b[43mcreate_search\u001b[49m\u001b[43m(\u001b[49m\u001b[38;5;124;43m'\u001b[39;49m\u001b[38;5;124;43mabbott\u001b[39;49m\u001b[38;5;124;43m'\u001b[39;49m\u001b[43m,\u001b[49m\u001b[38;5;241;43m0\u001b[39;49m\u001b[43m)\u001b[49m\n",
      "Input \u001b[1;32mIn [21]\u001b[0m, in \u001b[0;36mcreate_search\u001b[1;34m(keyword, cycle)\u001b[0m\n\u001b[0;32m     23\u001b[0m \u001b[38;5;28;01mif\u001b[39;00m response\u001b[38;5;241m.\u001b[39mstatus_code \u001b[38;5;241m==\u001b[39m \u001b[38;5;241m403\u001b[39m:\n\u001b[0;32m     24\u001b[0m     \u001b[38;5;28mprint\u001b[39m(\u001b[38;5;124m\"\u001b[39m\u001b[38;5;124mRequest Denied. Try refreshinng cookies and headers. Press Enter when done\u001b[39m\u001b[38;5;124m\"\u001b[39m)\n\u001b[1;32m---> 25\u001b[0m     \u001b[38;5;28;43minput\u001b[39;49m\u001b[43m(\u001b[49m\u001b[38;5;124;43m\"\u001b[39;49m\u001b[38;5;124;43m\"\u001b[39;49m\u001b[43m)\u001b[49m\n\u001b[0;32m     26\u001b[0m     \u001b[38;5;28;01mimport\u001b[39;00m \u001b[38;5;21;01mcookies\u001b[39;00m \u001b[38;5;28;01mas\u001b[39;00m \u001b[38;5;21;01mmeta\u001b[39;00m\n\u001b[0;32m     28\u001b[0m     response \u001b[38;5;241m=\u001b[39m requests\u001b[38;5;241m.\u001b[39mget(\u001b[38;5;124m'\u001b[39m\u001b[38;5;124mhttps://e-katalog.lkpp.go.id/id/search-produk\u001b[39m\u001b[38;5;124m'\u001b[39m, params\u001b[38;5;241m=\u001b[39mparams, cookies\u001b[38;5;241m=\u001b[39mmeta\u001b[38;5;241m.\u001b[39mcookies, headers\u001b[38;5;241m=\u001b[39mmeta\u001b[38;5;241m.\u001b[39mheaders)\n",
      "File \u001b[1;32m~\\Anaconda3\\lib\\site-packages\\ipykernel\\kernelbase.py:1075\u001b[0m, in \u001b[0;36mKernel.raw_input\u001b[1;34m(self, prompt)\u001b[0m\n\u001b[0;32m   1071\u001b[0m \u001b[38;5;28;01mif\u001b[39;00m \u001b[38;5;129;01mnot\u001b[39;00m \u001b[38;5;28mself\u001b[39m\u001b[38;5;241m.\u001b[39m_allow_stdin:\n\u001b[0;32m   1072\u001b[0m     \u001b[38;5;28;01mraise\u001b[39;00m StdinNotImplementedError(\n\u001b[0;32m   1073\u001b[0m         \u001b[38;5;124m\"\u001b[39m\u001b[38;5;124mraw_input was called, but this frontend does not support input requests.\u001b[39m\u001b[38;5;124m\"\u001b[39m\n\u001b[0;32m   1074\u001b[0m     )\n\u001b[1;32m-> 1075\u001b[0m \u001b[38;5;28;01mreturn\u001b[39;00m \u001b[38;5;28;43mself\u001b[39;49m\u001b[38;5;241;43m.\u001b[39;49m\u001b[43m_input_request\u001b[49m\u001b[43m(\u001b[49m\n\u001b[0;32m   1076\u001b[0m \u001b[43m    \u001b[49m\u001b[38;5;28;43mstr\u001b[39;49m\u001b[43m(\u001b[49m\u001b[43mprompt\u001b[49m\u001b[43m)\u001b[49m\u001b[43m,\u001b[49m\n\u001b[0;32m   1077\u001b[0m \u001b[43m    \u001b[49m\u001b[38;5;28;43mself\u001b[39;49m\u001b[38;5;241;43m.\u001b[39;49m\u001b[43m_parent_ident\u001b[49m\u001b[43m[\u001b[49m\u001b[38;5;124;43m\"\u001b[39;49m\u001b[38;5;124;43mshell\u001b[39;49m\u001b[38;5;124;43m\"\u001b[39;49m\u001b[43m]\u001b[49m\u001b[43m,\u001b[49m\n\u001b[0;32m   1078\u001b[0m \u001b[43m    \u001b[49m\u001b[38;5;28;43mself\u001b[39;49m\u001b[38;5;241;43m.\u001b[39;49m\u001b[43mget_parent\u001b[49m\u001b[43m(\u001b[49m\u001b[38;5;124;43m\"\u001b[39;49m\u001b[38;5;124;43mshell\u001b[39;49m\u001b[38;5;124;43m\"\u001b[39;49m\u001b[43m)\u001b[49m\u001b[43m,\u001b[49m\n\u001b[0;32m   1079\u001b[0m \u001b[43m    \u001b[49m\u001b[43mpassword\u001b[49m\u001b[38;5;241;43m=\u001b[39;49m\u001b[38;5;28;43;01mFalse\u001b[39;49;00m\u001b[43m,\u001b[49m\n\u001b[0;32m   1080\u001b[0m \u001b[43m\u001b[49m\u001b[43m)\u001b[49m\n",
      "File \u001b[1;32m~\\Anaconda3\\lib\\site-packages\\ipykernel\\kernelbase.py:1120\u001b[0m, in \u001b[0;36mKernel._input_request\u001b[1;34m(self, prompt, ident, parent, password)\u001b[0m\n\u001b[0;32m   1117\u001b[0m             \u001b[38;5;28;01mbreak\u001b[39;00m\n\u001b[0;32m   1118\u001b[0m \u001b[38;5;28;01mexcept\u001b[39;00m \u001b[38;5;167;01mKeyboardInterrupt\u001b[39;00m:\n\u001b[0;32m   1119\u001b[0m     \u001b[38;5;66;03m# re-raise KeyboardInterrupt, to truncate traceback\u001b[39;00m\n\u001b[1;32m-> 1120\u001b[0m     \u001b[38;5;28;01mraise\u001b[39;00m \u001b[38;5;167;01mKeyboardInterrupt\u001b[39;00m(\u001b[38;5;124m\"\u001b[39m\u001b[38;5;124mInterrupted by user\u001b[39m\u001b[38;5;124m\"\u001b[39m) \u001b[38;5;28;01mfrom\u001b[39;00m \u001b[38;5;28mNone\u001b[39m\n\u001b[0;32m   1121\u001b[0m \u001b[38;5;28;01mexcept\u001b[39;00m \u001b[38;5;167;01mException\u001b[39;00m:\n\u001b[0;32m   1122\u001b[0m     \u001b[38;5;28mself\u001b[39m\u001b[38;5;241m.\u001b[39mlog\u001b[38;5;241m.\u001b[39mwarning(\u001b[38;5;124m\"\u001b[39m\u001b[38;5;124mInvalid Message:\u001b[39m\u001b[38;5;124m\"\u001b[39m, exc_info\u001b[38;5;241m=\u001b[39m\u001b[38;5;28;01mTrue\u001b[39;00m)\n",
      "\u001b[1;31mKeyboardInterrupt\u001b[0m: Interrupted by user"
     ]
    }
   ],
   "source": [
    "create_search('abbott',0)"
   ]
  },
  {
   "cell_type": "code",
   "execution_count": 3,
   "id": "dee38864",
   "metadata": {},
   "outputs": [
    {
     "ename": "NameError",
     "evalue": "name 'response' is not defined",
     "output_type": "error",
     "traceback": [
      "\u001b[1;31m---------------------------------------------------------------------------\u001b[0m",
      "\u001b[1;31mNameError\u001b[0m                                 Traceback (most recent call last)",
      "Input \u001b[1;32mIn [3]\u001b[0m, in \u001b[0;36m<cell line: 1>\u001b[1;34m()\u001b[0m\n\u001b[1;32m----> 1\u001b[0m \u001b[43mresponse\u001b[49m\n",
      "\u001b[1;31mNameError\u001b[0m: name 'response' is not defined"
     ]
    }
   ],
   "source": [
    "response"
   ]
  },
  {
   "cell_type": "code",
   "execution_count": 57,
   "id": "3cf8a588",
   "metadata": {
    "scrolled": true
   },
   "outputs": [],
   "source": [
    "from bs4 import BeautifulSoup\n",
    "soup = BeautifulSoup(response.text)"
   ]
  },
  {
   "cell_type": "code",
   "execution_count": 69,
   "id": "0911797c",
   "metadata": {},
   "outputs": [
    {
     "name": "stdout",
     "output_type": "stream",
     "text": [
      "/katalog/produk/detail/1286631?lang=id&type=general ABBOTT ABBOTT m2000rt Instruments and Accessories\n",
      "/katalog/produk/detail/50406570?lang=id&type=regency ABBOTT ABBOTT ALBUMIN BCG 2 3120T\n",
      "/katalog/produk/detail/47617385?lang=id&type=regency Tanpa Merek ABBOTT ALBUMIN BCG 2 1044T.\n",
      "/katalog/produk/detail/74959672?lang=id&type=regency  ABBOTT. ALBUMIN BCG2, ABBOTT\n",
      "/katalog/produk/detail/76755713?lang=id&type=regency  ABBOTT. LACTIC ACID, ABBOTT\n",
      "/katalog/produk/detail/1433810?lang=id&type=general ABBOTT ABBOTT RealTime HBV Amplification Reagent Kit + ABBOTT RealTime HBV Control Kit + ABBOTT RealTime HBV Calibrator Kit + MD2005 Sample Preparation System DNA +  ABBOTT Proteinase K, Recombinant PCR Grade + Consumable ABBOTT m2000sp Instrument and Accesories ( E-Series)\n",
      "/katalog/produk/detail/60000067?lang=id&type=general ABBOTT ABBOTT RealTime HCV Amplification Reagent Kit\n",
      "/katalog/produk/detail/60004447?lang=id&type=general ABBOTT ABBOTT RealTime HBV Amplification Reagent Kit\n",
      "/katalog/produk/detail/76622139?lang=id&type=regency  ABBOTT CONSOLIDATED CHEMISTRY CALIBRATOR, ABBOTT\n",
      "/katalog/produk/detail/1444582?lang=id&type=general ABBOTT ABBOTT RealTime CT/NG Ampification Reagen Kit + ABBOTT RealTime CT/NG Control kit + ABBOTT Cervic-collect Specimen Collection Kit + MD2005 Sample Preparation System DNA + Consumable ABBOTT m2000sp Instrument and Accesories ( E-Series)\n",
      "/katalog/produk/detail/59287069?lang=id&type=general ABBOTT ABBOTT RealTime HIV-1 Amplification Reagent Kit\n",
      "/katalog/produk/detail/59307508?lang=id&type=general ABBOTT ABBOTT REALTIME CT/NG Amplification Reagent Kit\n"
     ]
    }
   ],
   "source": [
    "hrefs = {}\n",
    "results = soup.find_all('div', {'class':'card-item-title'})\n",
    "for result in results:\n",
    "    if result.find('a'):\n",
    "        href = result.find('a')['href']\n",
    "        title = result.find('a')['title']\n",
    "        print(href,title)\n",
    "        hrefs[href] = title\n"
   ]
  },
  {
   "cell_type": "code",
   "execution_count": 68,
   "id": "162e151f",
   "metadata": {},
   "outputs": [
    {
     "data": {
      "text/plain": [
       "<div class=\"card-item-detail\" style=\"height: 100%;\">\n",
       "<div class=\"card-item-title\" style=\"margin-bottom: 2px;height: 22px;background: #cd7c89;border-radius: 50px;padding-top: 2px;\">\n",
       "<span style=\"background-image: url('/public/images/import.gif');background-repeat: no-repeat;background-size: 19px;padding: 12px;background-position: 4px;\" title=\"Import\"></span>\n",
       "<span style=\"background-image: url('/public/images/ukm.gif');background-repeat: no-repeat;background-size: 19px;padding: 12px;background-position: 4px;\" title=\"UMKK\"></span>\n",
       "</div>\n",
       "<div class=\"card-item-title\">\n",
       "<a data-placement=\"bottom\" data-toggle=\"tooltip\" href=\"/katalog/produk/detail/1286631?lang=id&amp;type=general\" title=\"ABBOTT ABBOTT m2000rt Instruments and Accessories\">ABBOTT ABBOTT m2000rt Instruments and Accesso...</a>\n",
       "</div>\n",
       "<div class=\"card-item-description\">\n",
       "<p style=\"white-space: nowrap;overflow:hidden;text-overflow:ellipsis;\">PT Sinergi Utama Sejahtera</p>\n",
       "<p style=\"white-space: nowrap;overflow:hidden;text-overflow:ellipsis;font-weight: bold\">TKDN(%) : n/a</p>\n",
       "<p style=\"white-space: nowrap;overflow:hidden;text-overflow:ellipsis;font-weight: bold\">BMP : n/a</p>\n",
       "<p style=\"white-space: nowrap;overflow:hidden;text-overflow:ellipsis;font-weight: bold\">TKDN + BMP : n/a</p>\n",
       "<p style=\"white-space: nowrap;overflow:hidden;text-overflow:ellipsis;\"> </p>\n",
       "<p style=\"white-space: nowrap;overflow:hidden;text-overflow:ellipsis;\">IDR 3,100,000,000.00</p>\n",
       "</div>\n",
       "<div class=\"text-center\">\n",
       "<hr/>\n",
       "<h5>Bagikan</h5>\n",
       "</div>\n",
       "<div class=\"text-center\">\n",
       "<a class=\"btn btn-info\" href=\"https://web.facebook.com/sharer/sharer.php\" onclick=\"javascript:window.open(this.href+'?u='+'/katalog/produk/detail/1286631?lang=id&amp;type=general',\n",
       "                       '_blank', 'menubar=no,toolbar=no,resizable=no,scrollbars=yes,height=350,width=350');\n",
       "                       return false;\" style=\"width: 20%\">\n",
       "<i aria-hidden=\"true\" class=\"fa fa-facebook\"></i>\n",
       "</a>\n",
       "<a class=\"btn btn-primary\" href=\"https://twitter.com/intent/tweet\" onclick=\"javascript:window.open(this.href+'?url='+'/katalog/produk/detail/1286631?lang=id&amp;type=general',\n",
       "                       '_blank', 'menubar=no,toolbar=no,resizable=no,scrollbars=yes,height=350,width=350');\n",
       "                       return false;\" style=\"width: 20%\">\n",
       "<i aria-hidden=\"true\" class=\"fa fa-twitter\"></i>\n",
       "</a>\n",
       "</div>\n",
       "</div>"
      ]
     },
     "execution_count": 68,
     "metadata": {},
     "output_type": "execute_result"
    }
   ],
   "source": [
    "results[0]"
   ]
  },
  {
   "cell_type": "code",
   "execution_count": 49,
   "id": "ba9087af",
   "metadata": {},
   "outputs": [
    {
     "ename": "AttributeError",
     "evalue": "ResultSet object has no attribute 'find'. You're probably treating a list of elements like a single element. Did you call find_all() when you meant to call find()?",
     "output_type": "error",
     "traceback": [
      "\u001b[1;31m---------------------------------------------------------------------------\u001b[0m",
      "\u001b[1;31mAttributeError\u001b[0m                            Traceback (most recent call last)",
      "Input \u001b[1;32mIn [49]\u001b[0m, in \u001b[0;36m<cell line: 1>\u001b[1;34m()\u001b[0m\n\u001b[1;32m----> 1\u001b[0m href \u001b[38;5;241m=\u001b[39m \u001b[43mresults\u001b[49m\u001b[38;5;241;43m.\u001b[39;49m\u001b[43mfind\u001b[49m(\u001b[38;5;124m'\u001b[39m\u001b[38;5;124mdiv\u001b[39m\u001b[38;5;124m'\u001b[39m, {\u001b[38;5;124m'\u001b[39m\u001b[38;5;124mclass\u001b[39m\u001b[38;5;124m'\u001b[39m:\u001b[38;5;124m'\u001b[39m\u001b[38;5;124mcard-item-title\u001b[39m\u001b[38;5;124m'\u001b[39m})\n\u001b[0;32m      2\u001b[0m href\n",
      "File \u001b[1;32m~\\Anaconda3\\lib\\site-packages\\bs4\\element.py:2289\u001b[0m, in \u001b[0;36mResultSet.__getattr__\u001b[1;34m(self, key)\u001b[0m\n\u001b[0;32m   2287\u001b[0m \u001b[38;5;28;01mdef\u001b[39;00m \u001b[38;5;21m__getattr__\u001b[39m(\u001b[38;5;28mself\u001b[39m, key):\n\u001b[0;32m   2288\u001b[0m     \u001b[38;5;124;03m\"\"\"Raise a helpful exception to explain a common code fix.\"\"\"\u001b[39;00m\n\u001b[1;32m-> 2289\u001b[0m     \u001b[38;5;28;01mraise\u001b[39;00m \u001b[38;5;167;01mAttributeError\u001b[39;00m(\n\u001b[0;32m   2290\u001b[0m         \u001b[38;5;124m\"\u001b[39m\u001b[38;5;124mResultSet object has no attribute \u001b[39m\u001b[38;5;124m'\u001b[39m\u001b[38;5;132;01m%s\u001b[39;00m\u001b[38;5;124m'\u001b[39m\u001b[38;5;124m. You\u001b[39m\u001b[38;5;124m'\u001b[39m\u001b[38;5;124mre probably treating a list of elements like a single element. Did you call find_all() when you meant to call find()?\u001b[39m\u001b[38;5;124m\"\u001b[39m \u001b[38;5;241m%\u001b[39m key\n\u001b[0;32m   2291\u001b[0m     )\n",
      "\u001b[1;31mAttributeError\u001b[0m: ResultSet object has no attribute 'find'. You're probably treating a list of elements like a single element. Did you call find_all() when you meant to call find()?"
     ]
    }
   ],
   "source": []
  },
  {
   "cell_type": "code",
   "execution_count": 61,
   "id": "37bcaeb9",
   "metadata": {},
   "outputs": [
    {
     "data": {
      "text/plain": [
       "12"
      ]
     },
     "execution_count": 61,
     "metadata": {},
     "output_type": "execute_result"
    }
   ],
   "source": [
    "soup = BeautifulSoup(response.text)\n",
    "results = soup.find_all('div', {'class':'card-item-detail'})\n",
    "len(results)"
   ]
  },
  {
   "cell_type": "code",
   "execution_count": 62,
   "id": "5166928e",
   "metadata": {},
   "outputs": [
    {
     "name": "stdout",
     "output_type": "stream",
     "text": [
      "\n",
      "\n",
      "\n",
      "\n",
      "\n",
      "\n",
      "ABBOTT ABBOTT m2000rt Instruments and Accesso...\n",
      "\n",
      "\n",
      "PT Sinergi Utama Sejahtera\n",
      "TKDN(%) : n/a\n",
      "BMP : n/a\n",
      "TKDN + BMP : n/a\n",
      " \n",
      "IDR 3,100,000,000.00\n",
      "\n",
      "\n",
      "\n",
      "Bagikan\n",
      "\n",
      "\n",
      "\n",
      "\n",
      "\n",
      "\n",
      "\n",
      "\n",
      "\n",
      "\n"
     ]
    }
   ],
   "source": [
    "print(results[0].text)"
   ]
  }
 ],
 "metadata": {
  "kernelspec": {
   "display_name": "Python 3 (ipykernel)",
   "language": "python",
   "name": "python3"
  },
  "language_info": {
   "codemirror_mode": {
    "name": "ipython",
    "version": 3
   },
   "file_extension": ".py",
   "mimetype": "text/x-python",
   "name": "python",
   "nbconvert_exporter": "python",
   "pygments_lexer": "ipython3",
   "version": "3.9.12"
  }
 },
 "nbformat": 4,
 "nbformat_minor": 5
}
